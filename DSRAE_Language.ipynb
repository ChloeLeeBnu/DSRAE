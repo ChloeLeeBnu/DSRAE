{
 "cells": [
  {
   "cell_type": "code",
   "execution_count": 1,
   "metadata": {},
   "outputs": [
    {
     "name": "stderr",
     "output_type": "stream",
     "text": [
      "Using TensorFlow backend.\n"
     ]
    },
    {
     "name": "stdout",
     "output_type": "stream",
     "text": [
      "/home/qing/Documents/tfMRI_Language_preproc/784565_3T_tfMRI_LANGUAGE_preproc/tfMRI_LANGUAGE_LR_Atlas_MSMAll.dtseries.nii\n",
      "0\n"
     ]
    },
    {
     "name": "stderr",
     "output_type": "stream",
     "text": [
      "pixdim[1,2,3] should be non-zero; setting 0 dims to 1\n"
     ]
    },
    {
     "name": "stdout",
     "output_type": "stream",
     "text": [
      "(316, 59421)\n",
      "/home/qing/Documents/tfMRI_Language_preproc/196144_3T_tfMRI_LANGUAGE_preproc/tfMRI_LANGUAGE_LR_Atlas_MSMAll.dtseries.nii\n",
      "1\n"
     ]
    },
    {
     "name": "stderr",
     "output_type": "stream",
     "text": [
      "pixdim[1,2,3] should be non-zero; setting 0 dims to 1\n"
     ]
    },
    {
     "name": "stdout",
     "output_type": "stream",
     "text": [
      "(316, 59421)\n",
      "/home/qing/Documents/tfMRI_Language_preproc/178748_3T_tfMRI_LANGUAGE_preproc/tfMRI_LANGUAGE_LR_Atlas_MSMAll.dtseries.nii\n",
      "2\n"
     ]
    },
    {
     "name": "stderr",
     "output_type": "stream",
     "text": [
      "pixdim[1,2,3] should be non-zero; setting 0 dims to 1\n"
     ]
    },
    {
     "name": "stdout",
     "output_type": "stream",
     "text": [
      "(316, 59421)\n",
      "/home/qing/Documents/tfMRI_Language_preproc/181131_3T_tfMRI_LANGUAGE_preproc/tfMRI_LANGUAGE_LR_Atlas_MSMAll.dtseries.nii\n",
      "3\n"
     ]
    },
    {
     "name": "stderr",
     "output_type": "stream",
     "text": [
      "pixdim[1,2,3] should be non-zero; setting 0 dims to 1\n"
     ]
    },
    {
     "name": "stdout",
     "output_type": "stream",
     "text": [
      "(316, 59421)\n",
      "/home/qing/Documents/tfMRI_Language_preproc/937160_3T_tfMRI_LANGUAGE_preproc/tfMRI_LANGUAGE_LR_Atlas_MSMAll.dtseries.nii\n",
      "4\n"
     ]
    },
    {
     "name": "stderr",
     "output_type": "stream",
     "text": [
      "pixdim[1,2,3] should be non-zero; setting 0 dims to 1\n"
     ]
    },
    {
     "name": "stdout",
     "output_type": "stream",
     "text": [
      "(316, 59421)\n",
      "/home/qing/Documents/tfMRI_Language_preproc/203418_3T_tfMRI_LANGUAGE_preproc/tfMRI_LANGUAGE_LR_Atlas_MSMAll.dtseries.nii\n",
      "5\n"
     ]
    },
    {
     "name": "stderr",
     "output_type": "stream",
     "text": [
      "pixdim[1,2,3] should be non-zero; setting 0 dims to 1\n"
     ]
    },
    {
     "name": "stdout",
     "output_type": "stream",
     "text": [
      "(316, 59421)\n",
      "/home/qing/Documents/tfMRI_Language_preproc/221319_3T_tfMRI_LANGUAGE_preproc/tfMRI_LANGUAGE_LR_Atlas_MSMAll.dtseries.nii\n",
      "6\n"
     ]
    },
    {
     "name": "stderr",
     "output_type": "stream",
     "text": [
      "pixdim[1,2,3] should be non-zero; setting 0 dims to 1\n"
     ]
    },
    {
     "name": "stdout",
     "output_type": "stream",
     "text": [
      "(316, 59421)\n",
      "/home/qing/Documents/tfMRI_Language_preproc/217429_3T_tfMRI_LANGUAGE_preproc/tfMRI_LANGUAGE_LR_Atlas_MSMAll.dtseries.nii\n",
      "7\n"
     ]
    },
    {
     "name": "stderr",
     "output_type": "stream",
     "text": [
      "pixdim[1,2,3] should be non-zero; setting 0 dims to 1\n"
     ]
    },
    {
     "name": "stdout",
     "output_type": "stream",
     "text": [
      "(316, 59421)\n",
      "/home/qing/Documents/tfMRI_Language_preproc/952863_3T_tfMRI_LANGUAGE_preproc/tfMRI_LANGUAGE_LR_Atlas_MSMAll.dtseries.nii\n",
      "8\n"
     ]
    },
    {
     "name": "stderr",
     "output_type": "stream",
     "text": [
      "pixdim[1,2,3] should be non-zero; setting 0 dims to 1\n"
     ]
    },
    {
     "name": "stdout",
     "output_type": "stream",
     "text": [
      "(316, 59421)\n",
      "/home/qing/Documents/tfMRI_Language_preproc/123521_3T_tfMRI_LANGUAGE_preproc/tfMRI_LANGUAGE_LR_Atlas_MSMAll.dtseries.nii\n",
      "9\n"
     ]
    },
    {
     "name": "stderr",
     "output_type": "stream",
     "text": [
      "pixdim[1,2,3] should be non-zero; setting 0 dims to 1\n"
     ]
    },
    {
     "name": "stdout",
     "output_type": "stream",
     "text": [
      "(316, 59421)\n",
      "/home/qing/Documents/tfMRI_Language_preproc/151627_3T_tfMRI_LANGUAGE_preproc/tfMRI_LANGUAGE_LR_Atlas_MSMAll.dtseries.nii\n",
      "10\n"
     ]
    },
    {
     "name": "stderr",
     "output_type": "stream",
     "text": [
      "pixdim[1,2,3] should be non-zero; setting 0 dims to 1\n"
     ]
    },
    {
     "name": "stdout",
     "output_type": "stream",
     "text": [
      "(316, 59421)\n",
      "/home/qing/Documents/tfMRI_Language_preproc/500222_3T_tfMRI_LANGUAGE_preproc/tfMRI_LANGUAGE_LR_Atlas_MSMAll.dtseries.nii\n",
      "11\n"
     ]
    },
    {
     "name": "stderr",
     "output_type": "stream",
     "text": [
      "pixdim[1,2,3] should be non-zero; setting 0 dims to 1\n"
     ]
    },
    {
     "name": "stdout",
     "output_type": "stream",
     "text": [
      "(316, 59421)\n",
      "/home/qing/Documents/tfMRI_Language_preproc/214726_3T_tfMRI_LANGUAGE_preproc/tfMRI_LANGUAGE_LR_Atlas_MSMAll.dtseries.nii\n",
      "12\n"
     ]
    },
    {
     "name": "stderr",
     "output_type": "stream",
     "text": [
      "pixdim[1,2,3] should be non-zero; setting 0 dims to 1\n"
     ]
    },
    {
     "name": "stdout",
     "output_type": "stream",
     "text": [
      "(316, 59421)\n",
      "/home/qing/Documents/tfMRI_Language_preproc/204521_3T_tfMRI_LANGUAGE_preproc/tfMRI_LANGUAGE_LR_Atlas_MSMAll.dtseries.nii\n",
      "13\n"
     ]
    },
    {
     "name": "stderr",
     "output_type": "stream",
     "text": [
      "pixdim[1,2,3] should be non-zero; setting 0 dims to 1\n"
     ]
    },
    {
     "name": "stdout",
     "output_type": "stream",
     "text": [
      "(316, 59421)\n",
      "/home/qing/Documents/tfMRI_Language_preproc/209834_3T_tfMRI_LANGUAGE_preproc/tfMRI_LANGUAGE_LR_Atlas_MSMAll.dtseries.nii\n",
      "14\n"
     ]
    },
    {
     "name": "stderr",
     "output_type": "stream",
     "text": [
      "pixdim[1,2,3] should be non-zero; setting 0 dims to 1\n"
     ]
    },
    {
     "name": "stdout",
     "output_type": "stream",
     "text": [
      "(316, 59421)\n",
      "/home/qing/Documents/tfMRI_Language_preproc/843151_3T_tfMRI_LANGUAGE_preproc/tfMRI_LANGUAGE_LR_Atlas_MSMAll.dtseries.nii\n",
      "15\n"
     ]
    },
    {
     "name": "stderr",
     "output_type": "stream",
     "text": [
      "pixdim[1,2,3] should be non-zero; setting 0 dims to 1\n"
     ]
    },
    {
     "name": "stdout",
     "output_type": "stream",
     "text": [
      "(316, 59421)\n",
      "/home/qing/Documents/tfMRI_Language_preproc/245333_3T_tfMRI_LANGUAGE_preproc/tfMRI_LANGUAGE_LR_Atlas_MSMAll.dtseries.nii\n",
      "16\n"
     ]
    },
    {
     "name": "stderr",
     "output_type": "stream",
     "text": [
      "pixdim[1,2,3] should be non-zero; setting 0 dims to 1\n"
     ]
    },
    {
     "name": "stdout",
     "output_type": "stream",
     "text": [
      "(316, 59421)\n",
      "/home/qing/Documents/tfMRI_Language_preproc/724446_3T_tfMRI_LANGUAGE_preproc/tfMRI_LANGUAGE_LR_Atlas_MSMAll.dtseries.nii\n",
      "17\n"
     ]
    },
    {
     "name": "stderr",
     "output_type": "stream",
     "text": [
      "pixdim[1,2,3] should be non-zero; setting 0 dims to 1\n"
     ]
    },
    {
     "name": "stdout",
     "output_type": "stream",
     "text": [
      "(316, 59421)\n",
      "/home/qing/Documents/tfMRI_Language_preproc/616645_3T_tfMRI_LANGUAGE_preproc/tfMRI_LANGUAGE_LR_Atlas_MSMAll.dtseries.nii\n",
      "18\n"
     ]
    },
    {
     "name": "stderr",
     "output_type": "stream",
     "text": [
      "pixdim[1,2,3] should be non-zero; setting 0 dims to 1\n"
     ]
    },
    {
     "name": "stdout",
     "output_type": "stream",
     "text": [
      "(316, 59421)\n",
      "/home/qing/Documents/tfMRI_Language_preproc/882161_3T_tfMRI_LANGUAGE_preproc/tfMRI_LANGUAGE_LR_Atlas_MSMAll.dtseries.nii\n",
      "19\n"
     ]
    },
    {
     "name": "stderr",
     "output_type": "stream",
     "text": [
      "pixdim[1,2,3] should be non-zero; setting 0 dims to 1\n"
     ]
    },
    {
     "name": "stdout",
     "output_type": "stream",
     "text": [
      "(316, 59421)\n",
      "/home/qing/Documents/tfMRI_Language_preproc/212823_3T_tfMRI_LANGUAGE_preproc/tfMRI_LANGUAGE_LR_Atlas_MSMAll.dtseries.nii\n",
      "20\n"
     ]
    },
    {
     "name": "stderr",
     "output_type": "stream",
     "text": [
      "pixdim[1,2,3] should be non-zero; setting 0 dims to 1\n"
     ]
    },
    {
     "name": "stdout",
     "output_type": "stream",
     "text": [
      "(316, 59421)\n",
      "/home/qing/Documents/tfMRI_Language_preproc/310621_3T_tfMRI_LANGUAGE_preproc/tfMRI_LANGUAGE_LR_Atlas_MSMAll.dtseries.nii\n",
      "21\n"
     ]
    },
    {
     "name": "stderr",
     "output_type": "stream",
     "text": [
      "pixdim[1,2,3] should be non-zero; setting 0 dims to 1\n"
     ]
    },
    {
     "name": "stdout",
     "output_type": "stream",
     "text": [
      "(316, 59421)\n",
      "/home/qing/Documents/tfMRI_Language_preproc/355239_3T_tfMRI_LANGUAGE_preproc/tfMRI_LANGUAGE_LR_Atlas_MSMAll.dtseries.nii\n",
      "22\n"
     ]
    },
    {
     "name": "stderr",
     "output_type": "stream",
     "text": [
      "pixdim[1,2,3] should be non-zero; setting 0 dims to 1\n"
     ]
    },
    {
     "name": "stdout",
     "output_type": "stream",
     "text": [
      "(316, 59421)\n",
      "/home/qing/Documents/tfMRI_Language_preproc/586460_3T_tfMRI_LANGUAGE_preproc/tfMRI_LANGUAGE_LR_Atlas_MSMAll.dtseries.nii\n",
      "23\n"
     ]
    },
    {
     "name": "stderr",
     "output_type": "stream",
     "text": [
      "pixdim[1,2,3] should be non-zero; setting 0 dims to 1\n"
     ]
    },
    {
     "name": "stdout",
     "output_type": "stream",
     "text": [
      "(316, 59421)\n",
      "/home/qing/Documents/tfMRI_Language_preproc/588565_3T_tfMRI_LANGUAGE_preproc/tfMRI_LANGUAGE_LR_Atlas_MSMAll.dtseries.nii\n",
      "24\n"
     ]
    },
    {
     "name": "stderr",
     "output_type": "stream",
     "text": [
      "pixdim[1,2,3] should be non-zero; setting 0 dims to 1\n"
     ]
    },
    {
     "name": "stdout",
     "output_type": "stream",
     "text": [
      "(316, 59421)\n",
      "/home/qing/Documents/tfMRI_Language_preproc/108323_3T_tfMRI_LANGUAGE_preproc/tfMRI_LANGUAGE_LR_Atlas_MSMAll.dtseries.nii\n",
      "25\n"
     ]
    },
    {
     "name": "stderr",
     "output_type": "stream",
     "text": [
      "pixdim[1,2,3] should be non-zero; setting 0 dims to 1\n"
     ]
    },
    {
     "name": "stdout",
     "output_type": "stream",
     "text": [
      "(316, 59421)\n",
      "/home/qing/Documents/tfMRI_Language_preproc/479762_3T_tfMRI_LANGUAGE_preproc/tfMRI_LANGUAGE_LR_Atlas_MSMAll.dtseries.nii\n",
      "26\n"
     ]
    },
    {
     "name": "stderr",
     "output_type": "stream",
     "text": [
      "pixdim[1,2,3] should be non-zero; setting 0 dims to 1\n"
     ]
    },
    {
     "name": "stdout",
     "output_type": "stream",
     "text": [
      "(316, 59421)\n",
      "/home/qing/Documents/tfMRI_Language_preproc/158136_3T_tfMRI_LANGUAGE_preproc/tfMRI_LANGUAGE_LR_Atlas_MSMAll.dtseries.nii\n",
      "27\n"
     ]
    },
    {
     "name": "stderr",
     "output_type": "stream",
     "text": [
      "pixdim[1,2,3] should be non-zero; setting 0 dims to 1\n"
     ]
    },
    {
     "name": "stdout",
     "output_type": "stream",
     "text": [
      "(316, 59421)\n",
      "/home/qing/Documents/tfMRI_Language_preproc/614439_3T_tfMRI_LANGUAGE_preproc/tfMRI_LANGUAGE_LR_Atlas_MSMAll.dtseries.nii\n",
      "28\n"
     ]
    },
    {
     "name": "stderr",
     "output_type": "stream",
     "text": [
      "pixdim[1,2,3] should be non-zero; setting 0 dims to 1\n"
     ]
    },
    {
     "name": "stdout",
     "output_type": "stream",
     "text": [
      "(316, 59421)\n",
      "/home/qing/Documents/tfMRI_Language_preproc/198855_3T_tfMRI_LANGUAGE_preproc/tfMRI_LANGUAGE_LR_Atlas_MSMAll.dtseries.nii\n",
      "29\n"
     ]
    },
    {
     "name": "stderr",
     "output_type": "stream",
     "text": [
      "pixdim[1,2,3] should be non-zero; setting 0 dims to 1\n"
     ]
    },
    {
     "name": "stdout",
     "output_type": "stream",
     "text": [
      "(316, 59421)\n",
      "/home/qing/Documents/tfMRI_Language_preproc/151223_3T_tfMRI_LANGUAGE_preproc/tfMRI_LANGUAGE_LR_Atlas_MSMAll.dtseries.nii\n",
      "30\n"
     ]
    },
    {
     "name": "stderr",
     "output_type": "stream",
     "text": [
      "pixdim[1,2,3] should be non-zero; setting 0 dims to 1\n"
     ]
    },
    {
     "name": "stdout",
     "output_type": "stream",
     "text": [
      "(316, 59421)\n",
      "/home/qing/Documents/tfMRI_Language_preproc/113619_3T_tfMRI_LANGUAGE_preproc/tfMRI_LANGUAGE_LR_Atlas_MSMAll.dtseries.nii\n",
      "31\n"
     ]
    },
    {
     "name": "stderr",
     "output_type": "stream",
     "text": [
      "pixdim[1,2,3] should be non-zero; setting 0 dims to 1\n"
     ]
    },
    {
     "name": "stdout",
     "output_type": "stream",
     "text": [
      "(316, 59421)\n",
      "/home/qing/Documents/tfMRI_Language_preproc/122822_3T_tfMRI_LANGUAGE_preproc/tfMRI_LANGUAGE_LR_Atlas_MSMAll.dtseries.nii\n",
      "32\n"
     ]
    },
    {
     "name": "stderr",
     "output_type": "stream",
     "text": [
      "pixdim[1,2,3] should be non-zero; setting 0 dims to 1\n"
     ]
    },
    {
     "name": "stdout",
     "output_type": "stream",
     "text": [
      "(316, 59421)\n",
      "/home/qing/Documents/tfMRI_Language_preproc/700634_3T_tfMRI_LANGUAGE_preproc/tfMRI_LANGUAGE_LR_Atlas_MSMAll.dtseries.nii\n",
      "33\n"
     ]
    },
    {
     "name": "stderr",
     "output_type": "stream",
     "text": [
      "pixdim[1,2,3] should be non-zero; setting 0 dims to 1\n"
     ]
    },
    {
     "name": "stdout",
     "output_type": "stream",
     "text": [
      "(316, 59421)\n",
      "/home/qing/Documents/tfMRI_Language_preproc/111009_3T_tfMRI_LANGUAGE_preproc/tfMRI_LANGUAGE_LR_Atlas_MSMAll.dtseries.nii\n",
      "34\n"
     ]
    },
    {
     "name": "stderr",
     "output_type": "stream",
     "text": [
      "pixdim[1,2,3] should be non-zero; setting 0 dims to 1\n"
     ]
    },
    {
     "name": "stdout",
     "output_type": "stream",
     "text": [
      "(316, 59421)\n",
      "/home/qing/Documents/tfMRI_Language_preproc/529549_3T_tfMRI_LANGUAGE_preproc/tfMRI_LANGUAGE_LR_Atlas_MSMAll.dtseries.nii\n",
      "35\n"
     ]
    },
    {
     "name": "stderr",
     "output_type": "stream",
     "text": [
      "pixdim[1,2,3] should be non-zero; setting 0 dims to 1\n"
     ]
    },
    {
     "name": "stdout",
     "output_type": "stream",
     "text": [
      "(316, 59421)\n",
      "/home/qing/Documents/tfMRI_Language_preproc/228434_3T_tfMRI_LANGUAGE_preproc/tfMRI_LANGUAGE_LR_Atlas_MSMAll.dtseries.nii\n",
      "36\n"
     ]
    },
    {
     "name": "stderr",
     "output_type": "stream",
     "text": [
      "pixdim[1,2,3] should be non-zero; setting 0 dims to 1\n"
     ]
    },
    {
     "name": "stdout",
     "output_type": "stream",
     "text": [
      "(316, 59421)\n",
      "/home/qing/Documents/tfMRI_Language_preproc/647858_3T_tfMRI_LANGUAGE_preproc/tfMRI_LANGUAGE_LR_Atlas_MSMAll.dtseries.nii\n",
      "37\n"
     ]
    },
    {
     "name": "stderr",
     "output_type": "stream",
     "text": [
      "pixdim[1,2,3] should be non-zero; setting 0 dims to 1\n"
     ]
    },
    {
     "name": "stdout",
     "output_type": "stream",
     "text": [
      "(316, 59421)\n",
      "/home/qing/Documents/tfMRI_Language_preproc/283543_3T_tfMRI_LANGUAGE_preproc/tfMRI_LANGUAGE_LR_Atlas_MSMAll.dtseries.nii\n",
      "38\n"
     ]
    },
    {
     "name": "stderr",
     "output_type": "stream",
     "text": [
      "pixdim[1,2,3] should be non-zero; setting 0 dims to 1\n"
     ]
    },
    {
     "name": "stdout",
     "output_type": "stream",
     "text": [
      "(316, 59421)\n",
      "/home/qing/Documents/tfMRI_Language_preproc/110613_3T_tfMRI_LANGUAGE_preproc/tfMRI_LANGUAGE_LR_Atlas_MSMAll.dtseries.nii\n",
      "39\n"
     ]
    },
    {
     "name": "stderr",
     "output_type": "stream",
     "text": [
      "pixdim[1,2,3] should be non-zero; setting 0 dims to 1\n"
     ]
    },
    {
     "name": "stdout",
     "output_type": "stream",
     "text": [
      "(316, 59421)\n",
      "/home/qing/Documents/tfMRI_Language_preproc/852455_3T_tfMRI_LANGUAGE_preproc/tfMRI_LANGUAGE_LR_Atlas_MSMAll.dtseries.nii\n",
      "40\n"
     ]
    },
    {
     "name": "stderr",
     "output_type": "stream",
     "text": [
      "pixdim[1,2,3] should be non-zero; setting 0 dims to 1\n"
     ]
    },
    {
     "name": "stdout",
     "output_type": "stream",
     "text": [
      "(316, 59421)\n",
      "/home/qing/Documents/tfMRI_Language_preproc/199453_3T_tfMRI_LANGUAGE_preproc/tfMRI_LANGUAGE_LR_Atlas_MSMAll.dtseries.nii\n",
      "41\n"
     ]
    },
    {
     "name": "stderr",
     "output_type": "stream",
     "text": [
      "pixdim[1,2,3] should be non-zero; setting 0 dims to 1\n"
     ]
    },
    {
     "name": "stdout",
     "output_type": "stream",
     "text": [
      "(316, 59421)\n",
      "/home/qing/Documents/tfMRI_Language_preproc/124220_3T_tfMRI_LANGUAGE_preproc/tfMRI_LANGUAGE_LR_Atlas_MSMAll.dtseries.nii\n",
      "42\n"
     ]
    },
    {
     "name": "stderr",
     "output_type": "stream",
     "text": [
      "pixdim[1,2,3] should be non-zero; setting 0 dims to 1\n"
     ]
    },
    {
     "name": "stdout",
     "output_type": "stream",
     "text": [
      "(316, 59421)\n",
      "/home/qing/Documents/tfMRI_Language_preproc/149236_3T_tfMRI_LANGUAGE_preproc/tfMRI_LANGUAGE_LR_Atlas_MSMAll.dtseries.nii\n",
      "43\n"
     ]
    },
    {
     "name": "stderr",
     "output_type": "stream",
     "text": [
      "pixdim[1,2,3] should be non-zero; setting 0 dims to 1\n"
     ]
    },
    {
     "name": "stdout",
     "output_type": "stream",
     "text": [
      "(316, 59421)\n",
      "/home/qing/Documents/tfMRI_Language_preproc/124826_3T_tfMRI_LANGUAGE_preproc/tfMRI_LANGUAGE_LR_Atlas_MSMAll.dtseries.nii\n",
      "44\n"
     ]
    },
    {
     "name": "stderr",
     "output_type": "stream",
     "text": [
      "pixdim[1,2,3] should be non-zero; setting 0 dims to 1\n"
     ]
    },
    {
     "name": "stdout",
     "output_type": "stream",
     "text": [
      "(316, 59421)\n",
      "/home/qing/Documents/tfMRI_Language_preproc/139233_3T_tfMRI_LANGUAGE_preproc/tfMRI_LANGUAGE_LR_Atlas_MSMAll.dtseries.nii\n",
      "45\n"
     ]
    },
    {
     "name": "stderr",
     "output_type": "stream",
     "text": [
      "pixdim[1,2,3] should be non-zero; setting 0 dims to 1\n"
     ]
    },
    {
     "name": "stdout",
     "output_type": "stream",
     "text": [
      "(316, 59421)\n",
      "/home/qing/Documents/tfMRI_Language_preproc/572045_3T_tfMRI_LANGUAGE_preproc/tfMRI_LANGUAGE_LR_Atlas_MSMAll.dtseries.nii\n",
      "46\n"
     ]
    },
    {
     "name": "stderr",
     "output_type": "stream",
     "text": [
      "pixdim[1,2,3] should be non-zero; setting 0 dims to 1\n"
     ]
    },
    {
     "name": "stdout",
     "output_type": "stream",
     "text": [
      "(316, 59421)\n",
      "/home/qing/Documents/tfMRI_Language_preproc/131823_3T_tfMRI_LANGUAGE_preproc/tfMRI_LANGUAGE_LR_Atlas_MSMAll.dtseries.nii\n",
      "47\n"
     ]
    },
    {
     "name": "stderr",
     "output_type": "stream",
     "text": [
      "pixdim[1,2,3] should be non-zero; setting 0 dims to 1\n"
     ]
    },
    {
     "name": "stdout",
     "output_type": "stream",
     "text": [
      "(316, 59421)\n",
      "/home/qing/Documents/tfMRI_Language_preproc/307127_3T_tfMRI_LANGUAGE_preproc/tfMRI_LANGUAGE_LR_Atlas_MSMAll.dtseries.nii\n",
      "48\n"
     ]
    },
    {
     "name": "stderr",
     "output_type": "stream",
     "text": [
      "pixdim[1,2,3] should be non-zero; setting 0 dims to 1\n"
     ]
    },
    {
     "name": "stdout",
     "output_type": "stream",
     "text": [
      "(316, 59421)\n",
      "/home/qing/Documents/tfMRI_Language_preproc/877269_3T_tfMRI_LANGUAGE_preproc/tfMRI_LANGUAGE_LR_Atlas_MSMAll.dtseries.nii\n",
      "49\n"
     ]
    },
    {
     "name": "stderr",
     "output_type": "stream",
     "text": [
      "pixdim[1,2,3] should be non-zero; setting 0 dims to 1\n"
     ]
    },
    {
     "name": "stdout",
     "output_type": "stream",
     "text": [
      "(316, 59421)\n",
      "/home/qing/Documents/tfMRI_Language_preproc/135932_3T_tfMRI_LANGUAGE_preproc/tfMRI_LANGUAGE_LR_Atlas_MSMAll.dtseries.nii\n",
      "50\n"
     ]
    },
    {
     "name": "stderr",
     "output_type": "stream",
     "text": [
      "pixdim[1,2,3] should be non-zero; setting 0 dims to 1\n"
     ]
    },
    {
     "name": "stdout",
     "output_type": "stream",
     "text": [
      "(316, 59421)\n",
      "/home/qing/Documents/tfMRI_Language_preproc/148133_3T_tfMRI_LANGUAGE_preproc/tfMRI_LANGUAGE_LR_Atlas_MSMAll.dtseries.nii\n",
      "51\n"
     ]
    },
    {
     "name": "stderr",
     "output_type": "stream",
     "text": [
      "pixdim[1,2,3] should be non-zero; setting 0 dims to 1\n"
     ]
    },
    {
     "name": "stdout",
     "output_type": "stream",
     "text": [
      "(316, 59421)\n",
      "/home/qing/Documents/tfMRI_Language_preproc/173334_3T_tfMRI_LANGUAGE_preproc/tfMRI_LANGUAGE_LR_Atlas_MSMAll.dtseries.nii\n",
      "52\n"
     ]
    },
    {
     "name": "stderr",
     "output_type": "stream",
     "text": [
      "pixdim[1,2,3] should be non-zero; setting 0 dims to 1\n"
     ]
    },
    {
     "name": "stdout",
     "output_type": "stream",
     "text": [
      "(316, 59421)\n",
      "/home/qing/Documents/tfMRI_Language_preproc/397861_3T_tfMRI_LANGUAGE_preproc/tfMRI_LANGUAGE_LR_Atlas_MSMAll.dtseries.nii\n",
      "53\n"
     ]
    },
    {
     "name": "stderr",
     "output_type": "stream",
     "text": [
      "pixdim[1,2,3] should be non-zero; setting 0 dims to 1\n"
     ]
    },
    {
     "name": "stdout",
     "output_type": "stream",
     "text": [
      "(316, 59421)\n",
      "/home/qing/Documents/tfMRI_Language_preproc/965771_3T_tfMRI_LANGUAGE_preproc/tfMRI_LANGUAGE_LR_Atlas_MSMAll.dtseries.nii\n",
      "54\n"
     ]
    },
    {
     "name": "stderr",
     "output_type": "stream",
     "text": [
      "pixdim[1,2,3] should be non-zero; setting 0 dims to 1\n"
     ]
    },
    {
     "name": "stdout",
     "output_type": "stream",
     "text": [
      "(316, 59421)\n",
      "/home/qing/Documents/tfMRI_Language_preproc/615744_3T_tfMRI_LANGUAGE_preproc/tfMRI_LANGUAGE_LR_Atlas_MSMAll.dtseries.nii\n",
      "55\n"
     ]
    },
    {
     "name": "stderr",
     "output_type": "stream",
     "text": [
      "pixdim[1,2,3] should be non-zero; setting 0 dims to 1\n"
     ]
    },
    {
     "name": "stdout",
     "output_type": "stream",
     "text": [
      "(316, 59421)\n",
      "/home/qing/Documents/tfMRI_Language_preproc/680250_3T_tfMRI_LANGUAGE_preproc/tfMRI_LANGUAGE_LR_Atlas_MSMAll.dtseries.nii\n",
      "56\n"
     ]
    },
    {
     "name": "stderr",
     "output_type": "stream",
     "text": [
      "pixdim[1,2,3] should be non-zero; setting 0 dims to 1\n"
     ]
    },
    {
     "name": "stdout",
     "output_type": "stream",
     "text": [
      "(316, 59421)\n",
      "/home/qing/Documents/tfMRI_Language_preproc/224022_3T_tfMRI_LANGUAGE_preproc/tfMRI_LANGUAGE_LR_Atlas_MSMAll.dtseries.nii\n",
      "57\n"
     ]
    },
    {
     "name": "stderr",
     "output_type": "stream",
     "text": [
      "pixdim[1,2,3] should be non-zero; setting 0 dims to 1\n"
     ]
    },
    {
     "name": "stdout",
     "output_type": "stream",
     "text": [
      "(316, 59421)\n",
      "/home/qing/Documents/tfMRI_Language_preproc/109123_3T_tfMRI_LANGUAGE_preproc/tfMRI_LANGUAGE_LR_Atlas_MSMAll.dtseries.nii\n",
      "58\n"
     ]
    },
    {
     "name": "stderr",
     "output_type": "stream",
     "text": [
      "pixdim[1,2,3] should be non-zero; setting 0 dims to 1\n"
     ]
    },
    {
     "name": "stdout",
     "output_type": "stream",
     "text": [
      "(316, 59421)\n",
      "/home/qing/Documents/tfMRI_Language_preproc/770352_3T_tfMRI_LANGUAGE_preproc/tfMRI_LANGUAGE_LR_Atlas_MSMAll.dtseries.nii\n",
      "59\n"
     ]
    },
    {
     "name": "stderr",
     "output_type": "stream",
     "text": [
      "pixdim[1,2,3] should be non-zero; setting 0 dims to 1\n"
     ]
    },
    {
     "name": "stdout",
     "output_type": "stream",
     "text": [
      "(316, 59421)\n",
      "/home/qing/Documents/tfMRI_Language_preproc/679568_3T_tfMRI_LANGUAGE_preproc/tfMRI_LANGUAGE_LR_Atlas_MSMAll.dtseries.nii\n",
      "60\n"
     ]
    },
    {
     "name": "stderr",
     "output_type": "stream",
     "text": [
      "pixdim[1,2,3] should be non-zero; setting 0 dims to 1\n"
     ]
    },
    {
     "name": "stdout",
     "output_type": "stream",
     "text": [
      "(316, 59421)\n",
      "/home/qing/Documents/tfMRI_Language_preproc/116726_3T_tfMRI_LANGUAGE_preproc/tfMRI_LANGUAGE_LR_Atlas_MSMAll.dtseries.nii\n",
      "61\n"
     ]
    },
    {
     "name": "stderr",
     "output_type": "stream",
     "text": [
      "pixdim[1,2,3] should be non-zero; setting 0 dims to 1\n"
     ]
    },
    {
     "name": "stdout",
     "output_type": "stream",
     "text": [
      "(316, 59421)\n",
      "/home/qing/Documents/tfMRI_Language_preproc/748258_3T_tfMRI_LANGUAGE_preproc/tfMRI_LANGUAGE_LR_Atlas_MSMAll.dtseries.nii\n",
      "62\n"
     ]
    },
    {
     "name": "stderr",
     "output_type": "stream",
     "text": [
      "pixdim[1,2,3] should be non-zero; setting 0 dims to 1\n"
     ]
    },
    {
     "name": "stdout",
     "output_type": "stream",
     "text": [
      "(316, 59421)\n",
      "/home/qing/Documents/tfMRI_Language_preproc/160931_3T_tfMRI_LANGUAGE_preproc/tfMRI_LANGUAGE_LR_Atlas_MSMAll.dtseries.nii\n",
      "63\n"
     ]
    },
    {
     "name": "stderr",
     "output_type": "stream",
     "text": [
      "pixdim[1,2,3] should be non-zero; setting 0 dims to 1\n"
     ]
    },
    {
     "name": "stdout",
     "output_type": "stream",
     "text": [
      "(316, 59421)\n",
      "/home/qing/Documents/tfMRI_Language_preproc/197348_3T_tfMRI_LANGUAGE_preproc/tfMRI_LANGUAGE_LR_Atlas_MSMAll.dtseries.nii\n",
      "64\n"
     ]
    },
    {
     "name": "stderr",
     "output_type": "stream",
     "text": [
      "pixdim[1,2,3] should be non-zero; setting 0 dims to 1\n"
     ]
    },
    {
     "name": "stdout",
     "output_type": "stream",
     "text": [
      "(316, 59421)\n",
      "/home/qing/Documents/tfMRI_Language_preproc/101006_3T_tfMRI_LANGUAGE_preproc/tfMRI_LANGUAGE_LR_Atlas_MSMAll.dtseries.nii\n",
      "65\n"
     ]
    },
    {
     "name": "stderr",
     "output_type": "stream",
     "text": [
      "pixdim[1,2,3] should be non-zero; setting 0 dims to 1\n"
     ]
    },
    {
     "name": "stdout",
     "output_type": "stream",
     "text": [
      "(316, 59421)\n",
      "/home/qing/Documents/tfMRI_Language_preproc/814649_3T_tfMRI_LANGUAGE_preproc/tfMRI_LANGUAGE_LR_Atlas_MSMAll.dtseries.nii\n",
      "66\n"
     ]
    },
    {
     "name": "stderr",
     "output_type": "stream",
     "text": [
      "pixdim[1,2,3] should be non-zero; setting 0 dims to 1\n"
     ]
    },
    {
     "name": "stdout",
     "output_type": "stream",
     "text": [
      "(316, 59421)\n",
      "/home/qing/Documents/tfMRI_Language_preproc/149539_3T_tfMRI_LANGUAGE_preproc/tfMRI_LANGUAGE_LR_Atlas_MSMAll.dtseries.nii\n",
      "67\n"
     ]
    },
    {
     "name": "stderr",
     "output_type": "stream",
     "text": [
      "pixdim[1,2,3] should be non-zero; setting 0 dims to 1\n"
     ]
    },
    {
     "name": "stdout",
     "output_type": "stream",
     "text": [
      "(316, 59421)\n",
      "/home/qing/Documents/tfMRI_Language_preproc/167743_3T_tfMRI_LANGUAGE_preproc/tfMRI_LANGUAGE_LR_Atlas_MSMAll.dtseries.nii\n",
      "68\n"
     ]
    },
    {
     "name": "stderr",
     "output_type": "stream",
     "text": [
      "pixdim[1,2,3] should be non-zero; setting 0 dims to 1\n"
     ]
    },
    {
     "name": "stdout",
     "output_type": "stream",
     "text": [
      "(316, 59421)\n",
      "/home/qing/Documents/tfMRI_Language_preproc/177241_3T_tfMRI_LANGUAGE_preproc/tfMRI_LANGUAGE_LR_Atlas_MSMAll.dtseries.nii\n",
      "69\n"
     ]
    },
    {
     "name": "stderr",
     "output_type": "stream",
     "text": [
      "pixdim[1,2,3] should be non-zero; setting 0 dims to 1\n"
     ]
    },
    {
     "name": "stdout",
     "output_type": "stream",
     "text": [
      "(316, 59421)\n",
      "/home/qing/Documents/tfMRI_Language_preproc/101410_3T_tfMRI_LANGUAGE_preproc/tfMRI_LANGUAGE_LR_Atlas_MSMAll.dtseries.nii\n",
      "70\n"
     ]
    },
    {
     "name": "stderr",
     "output_type": "stream",
     "text": [
      "pixdim[1,2,3] should be non-zero; setting 0 dims to 1\n"
     ]
    },
    {
     "name": "stdout",
     "output_type": "stream",
     "text": [
      "(316, 59421)\n",
      "/home/qing/Documents/tfMRI_Language_preproc/284646_3T_tfMRI_LANGUAGE_preproc/tfMRI_LANGUAGE_LR_Atlas_MSMAll.dtseries.nii\n",
      "71\n"
     ]
    },
    {
     "name": "stderr",
     "output_type": "stream",
     "text": [
      "pixdim[1,2,3] should be non-zero; setting 0 dims to 1\n"
     ]
    },
    {
     "name": "stdout",
     "output_type": "stream",
     "text": [
      "(316, 59421)\n",
      "/home/qing/Documents/tfMRI_Language_preproc/467351_3T_tfMRI_LANGUAGE_preproc/tfMRI_LANGUAGE_LR_Atlas_MSMAll.dtseries.nii\n",
      "72\n"
     ]
    },
    {
     "name": "stderr",
     "output_type": "stream",
     "text": [
      "pixdim[1,2,3] should be non-zero; setting 0 dims to 1\n"
     ]
    },
    {
     "name": "stdout",
     "output_type": "stream",
     "text": [
      "(316, 59421)\n",
      "/home/qing/Documents/tfMRI_Language_preproc/128632_3T_tfMRI_LANGUAGE_preproc/tfMRI_LANGUAGE_LR_Atlas_MSMAll.dtseries.nii\n",
      "73\n"
     ]
    },
    {
     "name": "stderr",
     "output_type": "stream",
     "text": [
      "pixdim[1,2,3] should be non-zero; setting 0 dims to 1\n"
     ]
    },
    {
     "name": "stdout",
     "output_type": "stream",
     "text": [
      "(316, 59421)\n",
      "/home/qing/Documents/tfMRI_Language_preproc/123824_3T_tfMRI_LANGUAGE_preproc/tfMRI_LANGUAGE_LR_Atlas_MSMAll.dtseries.nii\n",
      "74\n"
     ]
    },
    {
     "name": "stderr",
     "output_type": "stream",
     "text": [
      "pixdim[1,2,3] should be non-zero; setting 0 dims to 1\n"
     ]
    },
    {
     "name": "stdout",
     "output_type": "stream",
     "text": [
      "(316, 59421)\n",
      "/home/qing/Documents/tfMRI_Language_preproc/555651_3T_tfMRI_LANGUAGE_preproc/tfMRI_LANGUAGE_LR_Atlas_MSMAll.dtseries.nii\n",
      "75\n"
     ]
    },
    {
     "name": "stderr",
     "output_type": "stream",
     "text": [
      "pixdim[1,2,3] should be non-zero; setting 0 dims to 1\n"
     ]
    },
    {
     "name": "stdout",
     "output_type": "stream",
     "text": [
      "(316, 59421)\n",
      "/home/qing/Documents/tfMRI_Language_preproc/196346_3T_tfMRI_LANGUAGE_preproc/tfMRI_LANGUAGE_LR_Atlas_MSMAll.dtseries.nii\n",
      "76\n"
     ]
    },
    {
     "name": "stderr",
     "output_type": "stream",
     "text": [
      "pixdim[1,2,3] should be non-zero; setting 0 dims to 1\n"
     ]
    },
    {
     "name": "stdout",
     "output_type": "stream",
     "text": [
      "(316, 59421)\n",
      "/home/qing/Documents/tfMRI_Language_preproc/117122_3T_tfMRI_LANGUAGE_preproc/tfMRI_LANGUAGE_LR_Atlas_MSMAll.dtseries.nii\n",
      "77\n"
     ]
    },
    {
     "name": "stderr",
     "output_type": "stream",
     "text": [
      "pixdim[1,2,3] should be non-zero; setting 0 dims to 1\n"
     ]
    },
    {
     "name": "stdout",
     "output_type": "stream",
     "text": [
      "(316, 59421)\n",
      "/home/qing/Documents/tfMRI_Language_preproc/214524_3T_tfMRI_LANGUAGE_preproc/tfMRI_LANGUAGE_LR_Atlas_MSMAll.dtseries.nii\n",
      "78\n"
     ]
    },
    {
     "name": "stderr",
     "output_type": "stream",
     "text": [
      "pixdim[1,2,3] should be non-zero; setting 0 dims to 1\n"
     ]
    },
    {
     "name": "stdout",
     "output_type": "stream",
     "text": [
      "(316, 59421)\n",
      "/home/qing/Documents/tfMRI_Language_preproc/108828_3T_tfMRI_LANGUAGE_preproc/tfMRI_LANGUAGE_LR_Atlas_MSMAll.dtseries.nii\n",
      "79\n"
     ]
    },
    {
     "name": "stderr",
     "output_type": "stream",
     "text": [
      "pixdim[1,2,3] should be non-zero; setting 0 dims to 1\n"
     ]
    },
    {
     "name": "stdout",
     "output_type": "stream",
     "text": [
      "(316, 59421)\n",
      "/home/qing/Documents/tfMRI_Language_preproc/531536_3T_tfMRI_LANGUAGE_preproc/tfMRI_LANGUAGE_LR_Atlas_MSMAll.dtseries.nii\n",
      "80\n"
     ]
    },
    {
     "name": "stderr",
     "output_type": "stream",
     "text": [
      "pixdim[1,2,3] should be non-zero; setting 0 dims to 1\n"
     ]
    },
    {
     "name": "stdout",
     "output_type": "stream",
     "text": [
      "(316, 59421)\n",
      "/home/qing/Documents/tfMRI_Language_preproc/164131_3T_tfMRI_LANGUAGE_preproc/tfMRI_LANGUAGE_LR_Atlas_MSMAll.dtseries.nii\n",
      "81\n"
     ]
    },
    {
     "name": "stderr",
     "output_type": "stream",
     "text": [
      "pixdim[1,2,3] should be non-zero; setting 0 dims to 1\n"
     ]
    },
    {
     "name": "stdout",
     "output_type": "stream",
     "text": [
      "(316, 59421)\n",
      "/home/qing/Documents/tfMRI_Language_preproc/142828_3T_tfMRI_LANGUAGE_preproc/tfMRI_LANGUAGE_LR_Atlas_MSMAll.dtseries.nii\n",
      "82\n"
     ]
    },
    {
     "name": "stderr",
     "output_type": "stream",
     "text": [
      "pixdim[1,2,3] should be non-zero; setting 0 dims to 1\n"
     ]
    },
    {
     "name": "stdout",
     "output_type": "stream",
     "text": [
      "(316, 59421)\n",
      "/home/qing/Documents/tfMRI_Language_preproc/867468_3T_tfMRI_LANGUAGE_preproc/tfMRI_LANGUAGE_LR_Atlas_MSMAll.dtseries.nii\n",
      "83\n"
     ]
    },
    {
     "name": "stderr",
     "output_type": "stream",
     "text": [
      "pixdim[1,2,3] should be non-zero; setting 0 dims to 1\n"
     ]
    },
    {
     "name": "stdout",
     "output_type": "stream",
     "text": [
      "(316, 59421)\n",
      "/home/qing/Documents/tfMRI_Language_preproc/767464_3T_tfMRI_LANGUAGE_preproc/tfMRI_LANGUAGE_LR_Atlas_MSMAll.dtseries.nii\n",
      "84\n"
     ]
    },
    {
     "name": "stderr",
     "output_type": "stream",
     "text": [
      "pixdim[1,2,3] should be non-zero; setting 0 dims to 1\n"
     ]
    },
    {
     "name": "stdout",
     "output_type": "stream",
     "text": [
      "(316, 59421)\n",
      "/home/qing/Documents/tfMRI_Language_preproc/131722_3T_tfMRI_LANGUAGE_preproc/tfMRI_LANGUAGE_LR_Atlas_MSMAll.dtseries.nii\n",
      "85\n"
     ]
    },
    {
     "name": "stderr",
     "output_type": "stream",
     "text": [
      "pixdim[1,2,3] should be non-zero; setting 0 dims to 1\n"
     ]
    },
    {
     "name": "stdout",
     "output_type": "stream",
     "text": [
      "(316, 59421)\n",
      "/home/qing/Documents/tfMRI_Language_preproc/727654_3T_tfMRI_LANGUAGE_preproc/tfMRI_LANGUAGE_LR_Atlas_MSMAll.dtseries.nii\n",
      "86\n"
     ]
    },
    {
     "name": "stderr",
     "output_type": "stream",
     "text": [
      "pixdim[1,2,3] should be non-zero; setting 0 dims to 1\n"
     ]
    },
    {
     "name": "stdout",
     "output_type": "stream",
     "text": [
      "(316, 59421)\n",
      "/home/qing/Documents/tfMRI_Language_preproc/917255_3T_tfMRI_LANGUAGE_preproc/tfMRI_LANGUAGE_LR_Atlas_MSMAll.dtseries.nii\n",
      "87\n"
     ]
    },
    {
     "name": "stderr",
     "output_type": "stream",
     "text": [
      "pixdim[1,2,3] should be non-zero; setting 0 dims to 1\n"
     ]
    },
    {
     "name": "stdout",
     "output_type": "stream",
     "text": [
      "(316, 59421)\n",
      "/home/qing/Documents/tfMRI_Language_preproc/110007_3T_tfMRI_LANGUAGE_preproc/tfMRI_LANGUAGE_LR_Atlas_MSMAll.dtseries.nii\n",
      "88\n"
     ]
    },
    {
     "name": "stderr",
     "output_type": "stream",
     "text": [
      "pixdim[1,2,3] should be non-zero; setting 0 dims to 1\n"
     ]
    },
    {
     "name": "stdout",
     "output_type": "stream",
     "text": [
      "(316, 59421)\n",
      "/home/qing/Documents/tfMRI_Language_preproc/246133_3T_tfMRI_LANGUAGE_preproc/tfMRI_LANGUAGE_LR_Atlas_MSMAll.dtseries.nii\n",
      "89\n"
     ]
    },
    {
     "name": "stderr",
     "output_type": "stream",
     "text": [
      "pixdim[1,2,3] should be non-zero; setting 0 dims to 1\n"
     ]
    },
    {
     "name": "stdout",
     "output_type": "stream",
     "text": [
      "(316, 59421)\n",
      "/home/qing/Documents/tfMRI_Language_preproc/248339_3T_tfMRI_LANGUAGE_preproc/tfMRI_LANGUAGE_LR_Atlas_MSMAll.dtseries.nii\n",
      "90\n"
     ]
    },
    {
     "name": "stderr",
     "output_type": "stream",
     "text": [
      "pixdim[1,2,3] should be non-zero; setting 0 dims to 1\n"
     ]
    },
    {
     "name": "stdout",
     "output_type": "stream",
     "text": [
      "(316, 59421)\n",
      "/home/qing/Documents/tfMRI_Language_preproc/536647_3T_tfMRI_LANGUAGE_preproc/tfMRI_LANGUAGE_LR_Atlas_MSMAll.dtseries.nii\n",
      "91\n"
     ]
    },
    {
     "name": "stderr",
     "output_type": "stream",
     "text": [
      "pixdim[1,2,3] should be non-zero; setting 0 dims to 1\n"
     ]
    },
    {
     "name": "stdout",
     "output_type": "stream",
     "text": [
      "(316, 59421)\n",
      "/home/qing/Documents/tfMRI_Language_preproc/154835_3T_tfMRI_LANGUAGE_preproc/tfMRI_LANGUAGE_LR_Atlas_MSMAll.dtseries.nii\n",
      "92\n"
     ]
    },
    {
     "name": "stderr",
     "output_type": "stream",
     "text": [
      "pixdim[1,2,3] should be non-zero; setting 0 dims to 1\n"
     ]
    },
    {
     "name": "stdout",
     "output_type": "stream",
     "text": [
      "(316, 59421)\n",
      "/home/qing/Documents/tfMRI_Language_preproc/481951_3T_tfMRI_LANGUAGE_preproc/tfMRI_LANGUAGE_LR_Atlas_MSMAll.dtseries.nii\n",
      "93\n"
     ]
    },
    {
     "name": "stderr",
     "output_type": "stream",
     "text": [
      "pixdim[1,2,3] should be non-zero; setting 0 dims to 1\n"
     ]
    },
    {
     "name": "stdout",
     "output_type": "stream",
     "text": [
      "(316, 59421)\n",
      "/home/qing/Documents/tfMRI_Language_preproc/164030_3T_tfMRI_LANGUAGE_preproc/tfMRI_LANGUAGE_LR_Atlas_MSMAll.dtseries.nii\n",
      "94\n"
     ]
    },
    {
     "name": "stderr",
     "output_type": "stream",
     "text": [
      "pixdim[1,2,3] should be non-zero; setting 0 dims to 1\n"
     ]
    },
    {
     "name": "stdout",
     "output_type": "stream",
     "text": [
      "(316, 59421)\n",
      "/home/qing/Documents/tfMRI_Language_preproc/191033_3T_tfMRI_LANGUAGE_preproc/tfMRI_LANGUAGE_LR_Atlas_MSMAll.dtseries.nii\n",
      "95\n"
     ]
    },
    {
     "name": "stderr",
     "output_type": "stream",
     "text": [
      "pixdim[1,2,3] should be non-zero; setting 0 dims to 1\n"
     ]
    },
    {
     "name": "stdout",
     "output_type": "stream",
     "text": [
      "(316, 59421)\n",
      "/home/qing/Documents/tfMRI_Language_preproc/695768_3T_tfMRI_LANGUAGE_preproc/tfMRI_LANGUAGE_LR_Atlas_MSMAll.dtseries.nii\n",
      "96\n"
     ]
    },
    {
     "name": "stderr",
     "output_type": "stream",
     "text": [
      "pixdim[1,2,3] should be non-zero; setting 0 dims to 1\n"
     ]
    },
    {
     "name": "stdout",
     "output_type": "stream",
     "text": [
      "(316, 59421)\n",
      "/home/qing/Documents/tfMRI_Language_preproc/311320_3T_tfMRI_LANGUAGE_preproc/tfMRI_LANGUAGE_LR_Atlas_MSMAll.dtseries.nii\n",
      "97\n"
     ]
    },
    {
     "name": "stderr",
     "output_type": "stream",
     "text": [
      "pixdim[1,2,3] should be non-zero; setting 0 dims to 1\n"
     ]
    },
    {
     "name": "stdout",
     "output_type": "stream",
     "text": [
      "(316, 59421)\n",
      "/home/qing/Documents/tfMRI_Language_preproc/849971_3T_tfMRI_LANGUAGE_preproc/tfMRI_LANGUAGE_LR_Atlas_MSMAll.dtseries.nii\n",
      "98\n"
     ]
    },
    {
     "name": "stderr",
     "output_type": "stream",
     "text": [
      "pixdim[1,2,3] should be non-zero; setting 0 dims to 1\n"
     ]
    },
    {
     "name": "stdout",
     "output_type": "stream",
     "text": [
      "(316, 59421)\n",
      "/home/qing/Documents/tfMRI_Language_preproc/449753_3T_tfMRI_LANGUAGE_preproc/tfMRI_LANGUAGE_LR_Atlas_MSMAll.dtseries.nii\n",
      "99\n"
     ]
    },
    {
     "name": "stderr",
     "output_type": "stream",
     "text": [
      "pixdim[1,2,3] should be non-zero; setting 0 dims to 1\n"
     ]
    },
    {
     "name": "stdout",
     "output_type": "stream",
     "text": [
      "(316, 59421)\n",
      "/home/qing/Documents/tfMRI_Language_preproc/135528_3T_tfMRI_LANGUAGE_preproc/tfMRI_LANGUAGE_LR_Atlas_MSMAll.dtseries.nii\n",
      "100\n"
     ]
    },
    {
     "name": "stderr",
     "output_type": "stream",
     "text": [
      "pixdim[1,2,3] should be non-zero; setting 0 dims to 1\n"
     ]
    },
    {
     "name": "stdout",
     "output_type": "stream",
     "text": [
      "(316, 59421)\n",
      "/home/qing/Documents/tfMRI_Language_preproc/134324_3T_tfMRI_LANGUAGE_preproc/tfMRI_LANGUAGE_LR_Atlas_MSMAll.dtseries.nii\n",
      "101\n"
     ]
    },
    {
     "name": "stderr",
     "output_type": "stream",
     "text": [
      "pixdim[1,2,3] should be non-zero; setting 0 dims to 1\n"
     ]
    },
    {
     "name": "stdout",
     "output_type": "stream",
     "text": [
      "(316, 59421)\n",
      "/home/qing/Documents/tfMRI_Language_preproc/573451_3T_tfMRI_LANGUAGE_preproc/tfMRI_LANGUAGE_LR_Atlas_MSMAll.dtseries.nii\n",
      "102\n"
     ]
    },
    {
     "name": "stderr",
     "output_type": "stream",
     "text": [
      "pixdim[1,2,3] should be non-zero; setting 0 dims to 1\n"
     ]
    },
    {
     "name": "stdout",
     "output_type": "stream",
     "text": [
      "(316, 59421)\n",
      "/home/qing/Documents/tfMRI_Language_preproc/105216_3T_tfMRI_LANGUAGE_preproc/tfMRI_LANGUAGE_LR_Atlas_MSMAll.dtseries.nii\n",
      "103\n"
     ]
    },
    {
     "name": "stderr",
     "output_type": "stream",
     "text": [
      "pixdim[1,2,3] should be non-zero; setting 0 dims to 1\n"
     ]
    },
    {
     "name": "stdout",
     "output_type": "stream",
     "text": [
      "(316, 59421)\n",
      "/home/qing/Documents/tfMRI_Language_preproc/148436_3T_tfMRI_LANGUAGE_preproc/tfMRI_LANGUAGE_LR_Atlas_MSMAll.dtseries.nii\n",
      "104\n"
     ]
    },
    {
     "name": "stderr",
     "output_type": "stream",
     "text": [
      "pixdim[1,2,3] should be non-zero; setting 0 dims to 1\n"
     ]
    },
    {
     "name": "stdout",
     "output_type": "stream",
     "text": [
      "(316, 59421)\n",
      "/home/qing/Documents/tfMRI_Language_preproc/561242_3T_tfMRI_LANGUAGE_preproc/tfMRI_LANGUAGE_LR_Atlas_MSMAll.dtseries.nii\n",
      "105\n"
     ]
    },
    {
     "name": "stderr",
     "output_type": "stream",
     "text": [
      "pixdim[1,2,3] should be non-zero; setting 0 dims to 1\n"
     ]
    },
    {
     "name": "stdout",
     "output_type": "stream",
     "text": [
      "(316, 59421)\n",
      "/home/qing/Documents/tfMRI_Language_preproc/633847_3T_tfMRI_LANGUAGE_preproc/tfMRI_LANGUAGE_LR_Atlas_MSMAll.dtseries.nii\n",
      "106\n"
     ]
    },
    {
     "name": "stderr",
     "output_type": "stream",
     "text": [
      "pixdim[1,2,3] should be non-zero; setting 0 dims to 1\n"
     ]
    },
    {
     "name": "stdout",
     "output_type": "stream",
     "text": [
      "(316, 59421)\n",
      "/home/qing/Documents/tfMRI_Language_preproc/135225_3T_tfMRI_LANGUAGE_preproc/tfMRI_LANGUAGE_LR_Atlas_MSMAll.dtseries.nii\n",
      "107\n"
     ]
    },
    {
     "name": "stderr",
     "output_type": "stream",
     "text": [
      "pixdim[1,2,3] should be non-zero; setting 0 dims to 1\n"
     ]
    },
    {
     "name": "stdout",
     "output_type": "stream",
     "text": [
      "(316, 59421)\n",
      "/home/qing/Documents/tfMRI_Language_preproc/480141_3T_tfMRI_LANGUAGE_preproc/tfMRI_LANGUAGE_LR_Atlas_MSMAll.dtseries.nii\n",
      "108\n"
     ]
    },
    {
     "name": "stderr",
     "output_type": "stream",
     "text": [
      "pixdim[1,2,3] should be non-zero; setting 0 dims to 1\n"
     ]
    },
    {
     "name": "stdout",
     "output_type": "stream",
     "text": [
      "(316, 59421)\n",
      "/home/qing/Documents/tfMRI_Language_preproc/298051_3T_tfMRI_LANGUAGE_preproc/tfMRI_LANGUAGE_LR_Atlas_MSMAll.dtseries.nii\n",
      "109\n"
     ]
    },
    {
     "name": "stderr",
     "output_type": "stream",
     "text": [
      "pixdim[1,2,3] should be non-zero; setting 0 dims to 1\n"
     ]
    },
    {
     "name": "stdout",
     "output_type": "stream",
     "text": [
      "(316, 59421)\n",
      "/home/qing/Documents/tfMRI_Language_preproc/120212_3T_tfMRI_LANGUAGE_preproc/tfMRI_LANGUAGE_LR_Atlas_MSMAll.dtseries.nii\n",
      "110\n"
     ]
    },
    {
     "name": "stderr",
     "output_type": "stream",
     "text": [
      "pixdim[1,2,3] should be non-zero; setting 0 dims to 1\n"
     ]
    },
    {
     "name": "stdout",
     "output_type": "stream",
     "text": [
      "(316, 59421)\n",
      "/home/qing/Documents/tfMRI_Language_preproc/192136_3T_tfMRI_LANGUAGE_preproc/tfMRI_LANGUAGE_LR_Atlas_MSMAll.dtseries.nii\n",
      "111\n"
     ]
    },
    {
     "name": "stderr",
     "output_type": "stream",
     "text": [
      "pixdim[1,2,3] should be non-zero; setting 0 dims to 1\n"
     ]
    },
    {
     "name": "stdout",
     "output_type": "stream",
     "text": [
      "(316, 59421)\n",
      "/home/qing/Documents/tfMRI_Language_preproc/211720_3T_tfMRI_LANGUAGE_preproc/tfMRI_LANGUAGE_LR_Atlas_MSMAll.dtseries.nii\n",
      "112\n"
     ]
    },
    {
     "name": "stderr",
     "output_type": "stream",
     "text": [
      "pixdim[1,2,3] should be non-zero; setting 0 dims to 1\n"
     ]
    },
    {
     "name": "stdout",
     "output_type": "stream",
     "text": [
      "(316, 59421)\n",
      "/home/qing/Documents/tfMRI_Language_preproc/129129_3T_tfMRI_LANGUAGE_preproc/tfMRI_LANGUAGE_LR_Atlas_MSMAll.dtseries.nii\n",
      "113\n"
     ]
    },
    {
     "name": "stderr",
     "output_type": "stream",
     "text": [
      "pixdim[1,2,3] should be non-zero; setting 0 dims to 1\n"
     ]
    },
    {
     "name": "stdout",
     "output_type": "stream",
     "text": [
      "(316, 59421)\n",
      "/home/qing/Documents/tfMRI_Language_preproc/199150_3T_tfMRI_LANGUAGE_preproc/tfMRI_LANGUAGE_LR_Atlas_MSMAll.dtseries.nii\n",
      "114\n"
     ]
    },
    {
     "name": "stderr",
     "output_type": "stream",
     "text": [
      "pixdim[1,2,3] should be non-zero; setting 0 dims to 1\n"
     ]
    },
    {
     "name": "stdout",
     "output_type": "stream",
     "text": [
      "(316, 59421)\n",
      "/home/qing/Documents/tfMRI_Language_preproc/161630_3T_tfMRI_LANGUAGE_preproc/tfMRI_LANGUAGE_LR_Atlas_MSMAll.dtseries.nii\n",
      "115\n"
     ]
    },
    {
     "name": "stderr",
     "output_type": "stream",
     "text": [
      "pixdim[1,2,3] should be non-zero; setting 0 dims to 1\n"
     ]
    },
    {
     "name": "stdout",
     "output_type": "stream",
     "text": [
      "(316, 59421)\n",
      "/home/qing/Documents/tfMRI_Language_preproc/859671_3T_tfMRI_LANGUAGE_preproc/tfMRI_LANGUAGE_LR_Atlas_MSMAll.dtseries.nii\n",
      "116\n"
     ]
    },
    {
     "name": "stderr",
     "output_type": "stream",
     "text": [
      "pixdim[1,2,3] should be non-zero; setting 0 dims to 1\n"
     ]
    },
    {
     "name": "stdout",
     "output_type": "stream",
     "text": [
      "(316, 59421)\n",
      "/home/qing/Documents/tfMRI_Language_preproc/130922_3T_tfMRI_LANGUAGE_preproc/tfMRI_LANGUAGE_LR_Atlas_MSMAll.dtseries.nii\n",
      "117\n"
     ]
    },
    {
     "name": "stderr",
     "output_type": "stream",
     "text": [
      "pixdim[1,2,3] should be non-zero; setting 0 dims to 1\n"
     ]
    },
    {
     "name": "stdout",
     "output_type": "stream",
     "text": [
      "(316, 59421)\n",
      "/home/qing/Documents/tfMRI_Language_preproc/765056_3T_tfMRI_LANGUAGE_preproc/tfMRI_LANGUAGE_LR_Atlas_MSMAll.dtseries.nii\n",
      "118\n"
     ]
    },
    {
     "name": "stderr",
     "output_type": "stream",
     "text": [
      "pixdim[1,2,3] should be non-zero; setting 0 dims to 1\n"
     ]
    },
    {
     "name": "stdout",
     "output_type": "stream",
     "text": [
      "(316, 59421)\n",
      "/home/qing/Documents/tfMRI_Language_preproc/198653_3T_tfMRI_LANGUAGE_preproc/tfMRI_LANGUAGE_LR_Atlas_MSMAll.dtseries.nii\n",
      "119\n"
     ]
    },
    {
     "name": "stderr",
     "output_type": "stream",
     "text": [
      "pixdim[1,2,3] should be non-zero; setting 0 dims to 1\n"
     ]
    },
    {
     "name": "stdout",
     "output_type": "stream",
     "text": [
      "(316, 59421)\n",
      "/home/qing/Documents/tfMRI_Language_preproc/129331_3T_tfMRI_LANGUAGE_preproc/tfMRI_LANGUAGE_LR_Atlas_MSMAll.dtseries.nii\n",
      "120\n"
     ]
    },
    {
     "name": "stderr",
     "output_type": "stream",
     "text": [
      "pixdim[1,2,3] should be non-zero; setting 0 dims to 1\n"
     ]
    },
    {
     "name": "stdout",
     "output_type": "stream",
     "text": [
      "(316, 59421)\n",
      "/home/qing/Documents/tfMRI_Language_preproc/611938_3T_tfMRI_LANGUAGE_preproc/tfMRI_LANGUAGE_LR_Atlas_MSMAll.dtseries.nii\n",
      "121\n"
     ]
    },
    {
     "name": "stderr",
     "output_type": "stream",
     "text": [
      "pixdim[1,2,3] should be non-zero; setting 0 dims to 1\n"
     ]
    },
    {
     "name": "stdout",
     "output_type": "stream",
     "text": [
      "(316, 59421)\n",
      "/home/qing/Documents/tfMRI_Language_preproc/601127_3T_tfMRI_LANGUAGE_preproc/tfMRI_LANGUAGE_LR_Atlas_MSMAll.dtseries.nii\n",
      "122\n"
     ]
    },
    {
     "name": "stderr",
     "output_type": "stream",
     "text": [
      "pixdim[1,2,3] should be non-zero; setting 0 dims to 1\n"
     ]
    },
    {
     "name": "stdout",
     "output_type": "stream",
     "text": [
      "(316, 59421)\n",
      "/home/qing/Documents/tfMRI_Language_preproc/525541_3T_tfMRI_LANGUAGE_preproc/tfMRI_LANGUAGE_LR_Atlas_MSMAll.dtseries.nii\n",
      "123\n"
     ]
    },
    {
     "name": "stderr",
     "output_type": "stream",
     "text": [
      "pixdim[1,2,3] should be non-zero; setting 0 dims to 1\n"
     ]
    },
    {
     "name": "stdout",
     "output_type": "stream",
     "text": [
      "(316, 59421)\n",
      "/home/qing/Documents/tfMRI_Language_preproc/792766_3T_tfMRI_LANGUAGE_preproc/tfMRI_LANGUAGE_LR_Atlas_MSMAll.dtseries.nii\n",
      "124\n"
     ]
    },
    {
     "name": "stderr",
     "output_type": "stream",
     "text": [
      "pixdim[1,2,3] should be non-zero; setting 0 dims to 1\n"
     ]
    },
    {
     "name": "stdout",
     "output_type": "stream",
     "text": [
      "(316, 59421)\n",
      "/home/qing/Documents/tfMRI_Language_preproc/731140_3T_tfMRI_LANGUAGE_preproc/tfMRI_LANGUAGE_LR_Atlas_MSMAll.dtseries.nii\n",
      "125\n"
     ]
    },
    {
     "name": "stderr",
     "output_type": "stream",
     "text": [
      "pixdim[1,2,3] should be non-zero; setting 0 dims to 1\n"
     ]
    },
    {
     "name": "stdout",
     "output_type": "stream",
     "text": [
      "(316, 59421)\n",
      "/home/qing/Documents/tfMRI_Language_preproc/656253_3T_tfMRI_LANGUAGE_preproc/tfMRI_LANGUAGE_LR_Atlas_MSMAll.dtseries.nii\n",
      "126\n"
     ]
    },
    {
     "name": "stderr",
     "output_type": "stream",
     "text": [
      "pixdim[1,2,3] should be non-zero; setting 0 dims to 1\n"
     ]
    },
    {
     "name": "stdout",
     "output_type": "stream",
     "text": [
      "(316, 59421)\n",
      "/home/qing/Documents/tfMRI_Language_preproc/979984_3T_tfMRI_LANGUAGE_preproc/tfMRI_LANGUAGE_LR_Atlas_MSMAll.dtseries.nii\n",
      "127\n"
     ]
    },
    {
     "name": "stderr",
     "output_type": "stream",
     "text": [
      "pixdim[1,2,3] should be non-zero; setting 0 dims to 1\n"
     ]
    },
    {
     "name": "stdout",
     "output_type": "stream",
     "text": [
      "(316, 59421)\n",
      "/home/qing/Documents/tfMRI_Language_preproc/604537_3T_tfMRI_LANGUAGE_preproc/tfMRI_LANGUAGE_LR_Atlas_MSMAll.dtseries.nii\n",
      "128\n"
     ]
    },
    {
     "name": "stderr",
     "output_type": "stream",
     "text": [
      "pixdim[1,2,3] should be non-zero; setting 0 dims to 1\n"
     ]
    },
    {
     "name": "stdout",
     "output_type": "stream",
     "text": [
      "(316, 59421)\n",
      "/home/qing/Documents/tfMRI_Language_preproc/972566_3T_tfMRI_LANGUAGE_preproc/tfMRI_LANGUAGE_LR_Atlas_MSMAll.dtseries.nii\n",
      "129\n"
     ]
    },
    {
     "name": "stderr",
     "output_type": "stream",
     "text": [
      "pixdim[1,2,3] should be non-zero; setting 0 dims to 1\n"
     ]
    },
    {
     "name": "stdout",
     "output_type": "stream",
     "text": [
      "(316, 59421)\n",
      "/home/qing/Documents/tfMRI_Language_preproc/157942_3T_tfMRI_LANGUAGE_preproc/tfMRI_LANGUAGE_LR_Atlas_MSMAll.dtseries.nii\n",
      "130\n"
     ]
    },
    {
     "name": "stderr",
     "output_type": "stream",
     "text": [
      "pixdim[1,2,3] should be non-zero; setting 0 dims to 1\n"
     ]
    },
    {
     "name": "stdout",
     "output_type": "stream",
     "text": [
      "(316, 59421)\n",
      "/home/qing/Documents/tfMRI_Language_preproc/115219_3T_tfMRI_LANGUAGE_preproc/tfMRI_LANGUAGE_LR_Atlas_MSMAll.dtseries.nii\n",
      "131\n"
     ]
    },
    {
     "name": "stderr",
     "output_type": "stream",
     "text": [
      "pixdim[1,2,3] should be non-zero; setting 0 dims to 1\n"
     ]
    },
    {
     "name": "stdout",
     "output_type": "stream",
     "text": [
      "(316, 59421)\n",
      "/home/qing/Documents/tfMRI_Language_preproc/707749_3T_tfMRI_LANGUAGE_preproc/tfMRI_LANGUAGE_LR_Atlas_MSMAll.dtseries.nii\n",
      "132\n"
     ]
    },
    {
     "name": "stderr",
     "output_type": "stream",
     "text": [
      "pixdim[1,2,3] should be non-zero; setting 0 dims to 1\n"
     ]
    },
    {
     "name": "stdout",
     "output_type": "stream",
     "text": [
      "(316, 59421)\n",
      "/home/qing/Documents/tfMRI_Language_preproc/705341_3T_tfMRI_LANGUAGE_preproc/tfMRI_LANGUAGE_LR_Atlas_MSMAll.dtseries.nii\n",
      "133\n"
     ]
    },
    {
     "name": "stderr",
     "output_type": "stream",
     "text": [
      "pixdim[1,2,3] should be non-zero; setting 0 dims to 1\n"
     ]
    },
    {
     "name": "stdout",
     "output_type": "stream",
     "text": [
      "(316, 59421)\n",
      "/home/qing/Documents/tfMRI_Language_preproc/894774_3T_tfMRI_LANGUAGE_preproc/tfMRI_LANGUAGE_LR_Atlas_MSMAll.dtseries.nii\n",
      "134\n"
     ]
    },
    {
     "name": "stderr",
     "output_type": "stream",
     "text": [
      "pixdim[1,2,3] should be non-zero; setting 0 dims to 1\n"
     ]
    },
    {
     "name": "stdout",
     "output_type": "stream",
     "text": [
      "(316, 59421)\n",
      "/home/qing/Documents/tfMRI_Language_preproc/932554_3T_tfMRI_LANGUAGE_preproc/tfMRI_LANGUAGE_LR_Atlas_MSMAll.dtseries.nii\n",
      "135\n"
     ]
    },
    {
     "name": "stderr",
     "output_type": "stream",
     "text": [
      "pixdim[1,2,3] should be non-zero; setting 0 dims to 1\n"
     ]
    },
    {
     "name": "stdout",
     "output_type": "stream",
     "text": [
      "(316, 59421)\n",
      "/home/qing/Documents/tfMRI_Language_preproc/397154_3T_tfMRI_LANGUAGE_preproc/tfMRI_LANGUAGE_LR_Atlas_MSMAll.dtseries.nii\n",
      "136\n"
     ]
    },
    {
     "name": "stderr",
     "output_type": "stream",
     "text": [
      "pixdim[1,2,3] should be non-zero; setting 0 dims to 1\n"
     ]
    },
    {
     "name": "stdout",
     "output_type": "stream",
     "text": [
      "(316, 59421)\n",
      "/home/qing/Documents/tfMRI_Language_preproc/115320_3T_tfMRI_LANGUAGE_preproc/tfMRI_LANGUAGE_LR_Atlas_MSMAll.dtseries.nii\n",
      "137\n"
     ]
    },
    {
     "name": "stderr",
     "output_type": "stream",
     "text": [
      "pixdim[1,2,3] should be non-zero; setting 0 dims to 1\n"
     ]
    },
    {
     "name": "stdout",
     "output_type": "stream",
     "text": [
      "(316, 59421)\n",
      "/home/qing/Documents/tfMRI_Language_preproc/111312_3T_tfMRI_LANGUAGE_preproc/tfMRI_LANGUAGE_LR_Atlas_MSMAll.dtseries.nii\n",
      "138\n"
     ]
    },
    {
     "name": "stderr",
     "output_type": "stream",
     "text": [
      "pixdim[1,2,3] should be non-zero; setting 0 dims to 1\n"
     ]
    },
    {
     "name": "stdout",
     "output_type": "stream",
     "text": [
      "(316, 59421)\n",
      "/home/qing/Documents/tfMRI_Language_preproc/580044_3T_tfMRI_LANGUAGE_preproc/tfMRI_LANGUAGE_LR_Atlas_MSMAll.dtseries.nii\n",
      "139\n"
     ]
    },
    {
     "name": "stderr",
     "output_type": "stream",
     "text": [
      "pixdim[1,2,3] should be non-zero; setting 0 dims to 1\n"
     ]
    },
    {
     "name": "stdout",
     "output_type": "stream",
     "text": [
      "(316, 59421)\n",
      "/home/qing/Documents/tfMRI_Language_preproc/200614_3T_tfMRI_LANGUAGE_preproc/tfMRI_LANGUAGE_LR_Atlas_MSMAll.dtseries.nii\n",
      "140\n"
     ]
    },
    {
     "name": "stderr",
     "output_type": "stream",
     "text": [
      "pixdim[1,2,3] should be non-zero; setting 0 dims to 1\n"
     ]
    },
    {
     "name": "stdout",
     "output_type": "stream",
     "text": [
      "(316, 59421)\n",
      "/home/qing/Documents/tfMRI_Language_preproc/131924_3T_tfMRI_LANGUAGE_preproc/tfMRI_LANGUAGE_LR_Atlas_MSMAll.dtseries.nii\n",
      "141\n"
     ]
    },
    {
     "name": "stderr",
     "output_type": "stream",
     "text": [
      "pixdim[1,2,3] should be non-zero; setting 0 dims to 1\n"
     ]
    },
    {
     "name": "stdout",
     "output_type": "stream",
     "text": [
      "(316, 59421)\n",
      "/home/qing/Documents/tfMRI_Language_preproc/926862_3T_tfMRI_LANGUAGE_preproc/tfMRI_LANGUAGE_LR_Atlas_MSMAll.dtseries.nii\n",
      "142\n"
     ]
    },
    {
     "name": "stderr",
     "output_type": "stream",
     "text": [
      "pixdim[1,2,3] should be non-zero; setting 0 dims to 1\n"
     ]
    },
    {
     "name": "stdout",
     "output_type": "stream",
     "text": [
      "(316, 59421)\n",
      "/home/qing/Documents/tfMRI_Language_preproc/220721_3T_tfMRI_LANGUAGE_preproc/tfMRI_LANGUAGE_LR_Atlas_MSMAll.dtseries.nii\n",
      "143\n"
     ]
    },
    {
     "name": "stderr",
     "output_type": "stream",
     "text": [
      "pixdim[1,2,3] should be non-zero; setting 0 dims to 1\n"
     ]
    },
    {
     "name": "stdout",
     "output_type": "stream",
     "text": [
      "(316, 59421)\n",
      "/home/qing/Documents/tfMRI_Language_preproc/121618_3T_tfMRI_LANGUAGE_preproc/tfMRI_LANGUAGE_LR_Atlas_MSMAll.dtseries.nii\n",
      "144\n"
     ]
    },
    {
     "name": "stderr",
     "output_type": "stream",
     "text": [
      "pixdim[1,2,3] should be non-zero; setting 0 dims to 1\n"
     ]
    },
    {
     "name": "stdout",
     "output_type": "stream",
     "text": [
      "(316, 59421)\n",
      "/home/qing/Documents/tfMRI_Language_preproc/645450_3T_tfMRI_LANGUAGE_preproc/tfMRI_LANGUAGE_LR_Atlas_MSMAll.dtseries.nii\n",
      "145\n"
     ]
    },
    {
     "name": "stderr",
     "output_type": "stream",
     "text": [
      "pixdim[1,2,3] should be non-zero; setting 0 dims to 1\n"
     ]
    },
    {
     "name": "stdout",
     "output_type": "stream",
     "text": [
      "(316, 59421)\n",
      "/home/qing/Documents/tfMRI_Language_preproc/587664_3T_tfMRI_LANGUAGE_preproc/tfMRI_LANGUAGE_LR_Atlas_MSMAll.dtseries.nii\n",
      "146\n"
     ]
    },
    {
     "name": "stderr",
     "output_type": "stream",
     "text": [
      "pixdim[1,2,3] should be non-zero; setting 0 dims to 1\n"
     ]
    },
    {
     "name": "stdout",
     "output_type": "stream",
     "text": [
      "(316, 59421)\n",
      "/home/qing/Documents/tfMRI_Language_preproc/173839_3T_tfMRI_LANGUAGE_preproc/tfMRI_LANGUAGE_LR_Atlas_MSMAll.dtseries.nii\n",
      "147\n"
     ]
    },
    {
     "name": "stderr",
     "output_type": "stream",
     "text": [
      "pixdim[1,2,3] should be non-zero; setting 0 dims to 1\n"
     ]
    },
    {
     "name": "stdout",
     "output_type": "stream",
     "text": [
      "(316, 59421)\n",
      "/home/qing/Documents/tfMRI_Language_preproc/163432_3T_tfMRI_LANGUAGE_preproc/tfMRI_LANGUAGE_LR_Atlas_MSMAll.dtseries.nii\n",
      "148\n"
     ]
    },
    {
     "name": "stderr",
     "output_type": "stream",
     "text": [
      "pixdim[1,2,3] should be non-zero; setting 0 dims to 1\n"
     ]
    },
    {
     "name": "stdout",
     "output_type": "stream",
     "text": [
      "(316, 59421)\n",
      "/home/qing/Documents/tfMRI_Language_preproc/143325_3T_tfMRI_LANGUAGE_preproc/tfMRI_LANGUAGE_LR_Atlas_MSMAll.dtseries.nii\n",
      "149\n"
     ]
    },
    {
     "name": "stderr",
     "output_type": "stream",
     "text": [
      "pixdim[1,2,3] should be non-zero; setting 0 dims to 1\n"
     ]
    },
    {
     "name": "stdout",
     "output_type": "stream",
     "text": [
      "(316, 59421)\n",
      "/home/qing/Documents/tfMRI_Language_preproc/159239_3T_tfMRI_LANGUAGE_preproc/tfMRI_LANGUAGE_LR_Atlas_MSMAll.dtseries.nii\n",
      "150\n"
     ]
    },
    {
     "name": "stderr",
     "output_type": "stream",
     "text": [
      "pixdim[1,2,3] should be non-zero; setting 0 dims to 1\n"
     ]
    },
    {
     "name": "stdout",
     "output_type": "stream",
     "text": [
      "(316, 59421)\n",
      "/home/qing/Documents/tfMRI_Language_preproc/773257_3T_tfMRI_LANGUAGE_preproc/tfMRI_LANGUAGE_LR_Atlas_MSMAll.dtseries.nii\n",
      "151\n"
     ]
    },
    {
     "name": "stderr",
     "output_type": "stream",
     "text": [
      "pixdim[1,2,3] should be non-zero; setting 0 dims to 1\n"
     ]
    },
    {
     "name": "stdout",
     "output_type": "stream",
     "text": [
      "(316, 59421)\n",
      "/home/qing/Documents/tfMRI_Language_preproc/127630_3T_tfMRI_LANGUAGE_preproc/tfMRI_LANGUAGE_LR_Atlas_MSMAll.dtseries.nii\n",
      "152\n"
     ]
    },
    {
     "name": "stderr",
     "output_type": "stream",
     "text": [
      "pixdim[1,2,3] should be non-zero; setting 0 dims to 1\n"
     ]
    },
    {
     "name": "stdout",
     "output_type": "stream",
     "text": [
      "(316, 59421)\n",
      "/home/qing/Documents/tfMRI_Language_preproc/189450_3T_tfMRI_LANGUAGE_preproc/tfMRI_LANGUAGE_LR_Atlas_MSMAll.dtseries.nii\n",
      "153\n"
     ]
    },
    {
     "name": "stderr",
     "output_type": "stream",
     "text": [
      "pixdim[1,2,3] should be non-zero; setting 0 dims to 1\n"
     ]
    },
    {
     "name": "stdout",
     "output_type": "stream",
     "text": [
      "(316, 59421)\n",
      "/home/qing/Documents/tfMRI_Language_preproc/792867_3T_tfMRI_LANGUAGE_preproc/tfMRI_LANGUAGE_LR_Atlas_MSMAll.dtseries.nii\n",
      "154\n"
     ]
    },
    {
     "name": "stderr",
     "output_type": "stream",
     "text": [
      "pixdim[1,2,3] should be non-zero; setting 0 dims to 1\n"
     ]
    },
    {
     "name": "stdout",
     "output_type": "stream",
     "text": [
      "(316, 59421)\n",
      "/home/qing/Documents/tfMRI_Language_preproc/495255_3T_tfMRI_LANGUAGE_preproc/tfMRI_LANGUAGE_LR_Atlas_MSMAll.dtseries.nii\n",
      "155\n"
     ]
    },
    {
     "name": "stderr",
     "output_type": "stream",
     "text": [
      "pixdim[1,2,3] should be non-zero; setting 0 dims to 1\n"
     ]
    },
    {
     "name": "stdout",
     "output_type": "stream",
     "text": [
      "(316, 59421)\n",
      "/home/qing/Documents/tfMRI_Language_preproc/103414_3T_tfMRI_LANGUAGE_preproc/tfMRI_LANGUAGE_LR_Atlas_MSMAll.dtseries.nii\n",
      "156\n"
     ]
    },
    {
     "name": "stderr",
     "output_type": "stream",
     "text": [
      "pixdim[1,2,3] should be non-zero; setting 0 dims to 1\n"
     ]
    },
    {
     "name": "stdout",
     "output_type": "stream",
     "text": [
      "(316, 59421)\n",
      "/home/qing/Documents/tfMRI_Language_preproc/436845_3T_tfMRI_LANGUAGE_preproc/tfMRI_LANGUAGE_LR_Atlas_MSMAll.dtseries.nii\n",
      "157\n"
     ]
    },
    {
     "name": "stderr",
     "output_type": "stream",
     "text": [
      "pixdim[1,2,3] should be non-zero; setting 0 dims to 1\n"
     ]
    },
    {
     "name": "stdout",
     "output_type": "stream",
     "text": [
      "(316, 59421)\n",
      "/home/qing/Documents/tfMRI_Language_preproc/137633_3T_tfMRI_LANGUAGE_preproc/tfMRI_LANGUAGE_LR_Atlas_MSMAll.dtseries.nii\n",
      "158\n"
     ]
    },
    {
     "name": "stderr",
     "output_type": "stream",
     "text": [
      "pixdim[1,2,3] should be non-zero; setting 0 dims to 1\n"
     ]
    },
    {
     "name": "stdout",
     "output_type": "stream",
     "text": [
      "(316, 59421)\n",
      "/home/qing/Documents/tfMRI_Language_preproc/130316_3T_tfMRI_LANGUAGE_preproc/tfMRI_LANGUAGE_LR_Atlas_MSMAll.dtseries.nii\n",
      "159\n"
     ]
    },
    {
     "name": "stderr",
     "output_type": "stream",
     "text": [
      "pixdim[1,2,3] should be non-zero; setting 0 dims to 1\n"
     ]
    },
    {
     "name": "stdout",
     "output_type": "stream",
     "text": [
      "(316, 59421)\n",
      "/home/qing/Documents/tfMRI_Language_preproc/833249_3T_tfMRI_LANGUAGE_preproc/tfMRI_LANGUAGE_LR_Atlas_MSMAll.dtseries.nii\n",
      "160\n"
     ]
    },
    {
     "name": "stderr",
     "output_type": "stream",
     "text": [
      "pixdim[1,2,3] should be non-zero; setting 0 dims to 1\n"
     ]
    },
    {
     "name": "stdout",
     "output_type": "stream",
     "text": [
      "(316, 59421)\n",
      "/home/qing/Documents/tfMRI_Language_preproc/251833_3T_tfMRI_LANGUAGE_preproc/tfMRI_LANGUAGE_LR_Atlas_MSMAll.dtseries.nii\n",
      "161\n"
     ]
    },
    {
     "name": "stderr",
     "output_type": "stream",
     "text": [
      "pixdim[1,2,3] should be non-zero; setting 0 dims to 1\n"
     ]
    },
    {
     "name": "stdout",
     "output_type": "stream",
     "text": [
      "(316, 59421)\n",
      "/home/qing/Documents/tfMRI_Language_preproc/872764_3T_tfMRI_LANGUAGE_preproc/tfMRI_LANGUAGE_LR_Atlas_MSMAll.dtseries.nii\n",
      "162\n"
     ]
    },
    {
     "name": "stderr",
     "output_type": "stream",
     "text": [
      "pixdim[1,2,3] should be non-zero; setting 0 dims to 1\n"
     ]
    },
    {
     "name": "stdout",
     "output_type": "stream",
     "text": [
      "(316, 59421)\n",
      "/home/qing/Documents/tfMRI_Language_preproc/181232_3T_tfMRI_LANGUAGE_preproc/tfMRI_LANGUAGE_LR_Atlas_MSMAll.dtseries.nii\n",
      "163\n"
     ]
    },
    {
     "name": "stderr",
     "output_type": "stream",
     "text": [
      "pixdim[1,2,3] should be non-zero; setting 0 dims to 1\n"
     ]
    },
    {
     "name": "stdout",
     "output_type": "stream",
     "text": [
      "(316, 59421)\n",
      "/home/qing/Documents/tfMRI_Language_preproc/579665_3T_tfMRI_LANGUAGE_preproc/tfMRI_LANGUAGE_LR_Atlas_MSMAll.dtseries.nii\n",
      "164\n"
     ]
    },
    {
     "name": "stderr",
     "output_type": "stream",
     "text": [
      "pixdim[1,2,3] should be non-zero; setting 0 dims to 1\n"
     ]
    },
    {
     "name": "stdout",
     "output_type": "stream",
     "text": [
      "(316, 59421)\n",
      "/home/qing/Documents/tfMRI_Language_preproc/782561_3T_tfMRI_LANGUAGE_preproc/tfMRI_LANGUAGE_LR_Atlas_MSMAll.dtseries.nii\n",
      "165\n"
     ]
    },
    {
     "name": "stderr",
     "output_type": "stream",
     "text": [
      "pixdim[1,2,3] should be non-zero; setting 0 dims to 1\n"
     ]
    },
    {
     "name": "stdout",
     "output_type": "stream",
     "text": [
      "(316, 59421)\n",
      "/home/qing/Documents/tfMRI_Language_preproc/871964_3T_tfMRI_LANGUAGE_preproc/tfMRI_LANGUAGE_LR_Atlas_MSMAll.dtseries.nii\n",
      "166\n"
     ]
    },
    {
     "name": "stderr",
     "output_type": "stream",
     "text": [
      "pixdim[1,2,3] should be non-zero; setting 0 dims to 1\n"
     ]
    },
    {
     "name": "stdout",
     "output_type": "stream",
     "text": [
      "(316, 59421)\n",
      "/home/qing/Documents/tfMRI_Language_preproc/756055_3T_tfMRI_LANGUAGE_preproc/tfMRI_LANGUAGE_LR_Atlas_MSMAll.dtseries.nii\n",
      "167\n"
     ]
    },
    {
     "name": "stderr",
     "output_type": "stream",
     "text": [
      "pixdim[1,2,3] should be non-zero; setting 0 dims to 1\n"
     ]
    },
    {
     "name": "stdout",
     "output_type": "stream",
     "text": [
      "(316, 59421)\n",
      "/home/qing/Documents/tfMRI_Language_preproc/141826_3T_tfMRI_LANGUAGE_preproc/tfMRI_LANGUAGE_LR_Atlas_MSMAll.dtseries.nii\n",
      "168\n"
     ]
    },
    {
     "name": "stderr",
     "output_type": "stream",
     "text": [
      "pixdim[1,2,3] should be non-zero; setting 0 dims to 1\n"
     ]
    },
    {
     "name": "stdout",
     "output_type": "stream",
     "text": [
      "(316, 59421)\n",
      "/home/qing/Documents/tfMRI_Language_preproc/585256_3T_tfMRI_LANGUAGE_preproc/tfMRI_LANGUAGE_LR_Atlas_MSMAll.dtseries.nii\n",
      "169\n"
     ]
    },
    {
     "name": "stderr",
     "output_type": "stream",
     "text": [
      "pixdim[1,2,3] should be non-zero; setting 0 dims to 1\n"
     ]
    },
    {
     "name": "stdout",
     "output_type": "stream",
     "text": [
      "(316, 59421)\n",
      "/home/qing/Documents/tfMRI_Language_preproc/118023_3T_tfMRI_LANGUAGE_preproc/tfMRI_LANGUAGE_LR_Atlas_MSMAll.dtseries.nii\n",
      "170\n"
     ]
    },
    {
     "name": "stderr",
     "output_type": "stream",
     "text": [
      "pixdim[1,2,3] should be non-zero; setting 0 dims to 1\n"
     ]
    },
    {
     "name": "stdout",
     "output_type": "stream",
     "text": [
      "(316, 59421)\n",
      "/home/qing/Documents/tfMRI_Language_preproc/144731_3T_tfMRI_LANGUAGE_preproc/tfMRI_LANGUAGE_LR_Atlas_MSMAll.dtseries.nii\n",
      "171\n"
     ]
    },
    {
     "name": "stderr",
     "output_type": "stream",
     "text": [
      "pixdim[1,2,3] should be non-zero; setting 0 dims to 1\n"
     ]
    },
    {
     "name": "stdout",
     "output_type": "stream",
     "text": [
      "(316, 59421)\n",
      "/home/qing/Documents/tfMRI_Language_preproc/158843_3T_tfMRI_LANGUAGE_preproc/tfMRI_LANGUAGE_LR_Atlas_MSMAll.dtseries.nii\n",
      "172\n"
     ]
    },
    {
     "name": "stderr",
     "output_type": "stream",
     "text": [
      "pixdim[1,2,3] should be non-zero; setting 0 dims to 1\n"
     ]
    },
    {
     "name": "stdout",
     "output_type": "stream",
     "text": [
      "(316, 59421)\n",
      "/home/qing/Documents/tfMRI_Language_preproc/672756_3T_tfMRI_LANGUAGE_preproc/tfMRI_LANGUAGE_LR_Atlas_MSMAll.dtseries.nii\n",
      "173\n"
     ]
    },
    {
     "name": "stderr",
     "output_type": "stream",
     "text": [
      "pixdim[1,2,3] should be non-zero; setting 0 dims to 1\n"
     ]
    },
    {
     "name": "stdout",
     "output_type": "stream",
     "text": [
      "(316, 59421)\n",
      "/home/qing/Documents/tfMRI_Language_preproc/904044_3T_tfMRI_LANGUAGE_preproc/tfMRI_LANGUAGE_LR_Atlas_MSMAll.dtseries.nii\n",
      "174\n"
     ]
    },
    {
     "name": "stderr",
     "output_type": "stream",
     "text": [
      "pixdim[1,2,3] should be non-zero; setting 0 dims to 1\n"
     ]
    },
    {
     "name": "stdout",
     "output_type": "stream",
     "text": [
      "(316, 59421)\n",
      "/home/qing/Documents/tfMRI_Language_preproc/211114_3T_tfMRI_LANGUAGE_preproc/tfMRI_LANGUAGE_LR_Atlas_MSMAll.dtseries.nii\n",
      "175\n"
     ]
    },
    {
     "name": "stderr",
     "output_type": "stream",
     "text": [
      "pixdim[1,2,3] should be non-zero; setting 0 dims to 1\n"
     ]
    },
    {
     "name": "stdout",
     "output_type": "stream",
     "text": [
      "(316, 59421)\n",
      "/home/qing/Documents/tfMRI_Language_preproc/330324_3T_tfMRI_LANGUAGE_preproc/tfMRI_LANGUAGE_LR_Atlas_MSMAll.dtseries.nii\n",
      "176\n"
     ]
    },
    {
     "name": "stderr",
     "output_type": "stream",
     "text": [
      "pixdim[1,2,3] should be non-zero; setting 0 dims to 1\n"
     ]
    },
    {
     "name": "stdout",
     "output_type": "stream",
     "text": [
      "(316, 59421)\n",
      "/home/qing/Documents/tfMRI_Language_preproc/131419_3T_tfMRI_LANGUAGE_preproc/tfMRI_LANGUAGE_LR_Atlas_MSMAll.dtseries.nii\n",
      "177\n"
     ]
    },
    {
     "name": "stderr",
     "output_type": "stream",
     "text": [
      "pixdim[1,2,3] should be non-zero; setting 0 dims to 1\n"
     ]
    },
    {
     "name": "stdout",
     "output_type": "stream",
     "text": [
      "(316, 59421)\n",
      "/home/qing/Documents/tfMRI_Language_preproc/192843_3T_tfMRI_LANGUAGE_preproc/tfMRI_LANGUAGE_LR_Atlas_MSMAll.dtseries.nii\n",
      "178\n"
     ]
    },
    {
     "name": "stderr",
     "output_type": "stream",
     "text": [
      "pixdim[1,2,3] should be non-zero; setting 0 dims to 1\n"
     ]
    },
    {
     "name": "stdout",
     "output_type": "stream",
     "text": [
      "(316, 59421)\n",
      "/home/qing/Documents/tfMRI_Language_preproc/529953_3T_tfMRI_LANGUAGE_preproc/tfMRI_LANGUAGE_LR_Atlas_MSMAll.dtseries.nii\n",
      "179\n"
     ]
    },
    {
     "name": "stderr",
     "output_type": "stream",
     "text": [
      "pixdim[1,2,3] should be non-zero; setting 0 dims to 1\n"
     ]
    },
    {
     "name": "stdout",
     "output_type": "stream",
     "text": [
      "(316, 59421)\n",
      "/home/qing/Documents/tfMRI_Language_preproc/552544_3T_tfMRI_LANGUAGE_preproc/tfMRI_LANGUAGE_LR_Atlas_MSMAll.dtseries.nii\n",
      "180\n"
     ]
    },
    {
     "name": "stderr",
     "output_type": "stream",
     "text": [
      "pixdim[1,2,3] should be non-zero; setting 0 dims to 1\n"
     ]
    },
    {
     "name": "stdout",
     "output_type": "stream",
     "text": [
      "(316, 59421)\n",
      "/home/qing/Documents/tfMRI_Language_preproc/749361_3T_tfMRI_LANGUAGE_preproc/tfMRI_LANGUAGE_LR_Atlas_MSMAll.dtseries.nii\n",
      "181\n"
     ]
    },
    {
     "name": "stderr",
     "output_type": "stream",
     "text": [
      "pixdim[1,2,3] should be non-zero; setting 0 dims to 1\n"
     ]
    },
    {
     "name": "stdout",
     "output_type": "stream",
     "text": [
      "(316, 59421)\n",
      "/home/qing/Documents/tfMRI_Language_preproc/336841_3T_tfMRI_LANGUAGE_preproc/tfMRI_LANGUAGE_LR_Atlas_MSMAll.dtseries.nii\n",
      "182\n"
     ]
    },
    {
     "name": "stderr",
     "output_type": "stream",
     "text": [
      "pixdim[1,2,3] should be non-zero; setting 0 dims to 1\n"
     ]
    },
    {
     "name": "stdout",
     "output_type": "stream",
     "text": [
      "(316, 59421)\n",
      "/home/qing/Documents/tfMRI_Language_preproc/178243_3T_tfMRI_LANGUAGE_preproc/tfMRI_LANGUAGE_LR_Atlas_MSMAll.dtseries.nii\n",
      "183\n"
     ]
    },
    {
     "name": "stderr",
     "output_type": "stream",
     "text": [
      "pixdim[1,2,3] should be non-zero; setting 0 dims to 1\n"
     ]
    },
    {
     "name": "stdout",
     "output_type": "stream",
     "text": [
      "(316, 59421)\n",
      "/home/qing/Documents/tfMRI_Language_preproc/965367_3T_tfMRI_LANGUAGE_preproc/tfMRI_LANGUAGE_LR_Atlas_MSMAll.dtseries.nii\n",
      "184\n"
     ]
    },
    {
     "name": "stderr",
     "output_type": "stream",
     "text": [
      "pixdim[1,2,3] should be non-zero; setting 0 dims to 1\n"
     ]
    },
    {
     "name": "stdout",
     "output_type": "stream",
     "text": [
      "(316, 59421)\n",
      "/home/qing/Documents/tfMRI_Language_preproc/156031_3T_tfMRI_LANGUAGE_preproc/tfMRI_LANGUAGE_LR_Atlas_MSMAll.dtseries.nii\n",
      "185\n"
     ]
    },
    {
     "name": "stderr",
     "output_type": "stream",
     "text": [
      "pixdim[1,2,3] should be non-zero; setting 0 dims to 1\n"
     ]
    },
    {
     "name": "stdout",
     "output_type": "stream",
     "text": [
      "(316, 59421)\n",
      "/home/qing/Documents/tfMRI_Language_preproc/163331_3T_tfMRI_LANGUAGE_preproc/tfMRI_LANGUAGE_LR_Atlas_MSMAll.dtseries.nii\n",
      "186\n"
     ]
    },
    {
     "name": "stderr",
     "output_type": "stream",
     "text": [
      "pixdim[1,2,3] should be non-zero; setting 0 dims to 1\n"
     ]
    },
    {
     "name": "stdout",
     "output_type": "stream",
     "text": [
      "(316, 59421)\n",
      "/home/qing/Documents/tfMRI_Language_preproc/175237_3T_tfMRI_LANGUAGE_preproc/tfMRI_LANGUAGE_LR_Atlas_MSMAll.dtseries.nii\n",
      "187\n"
     ]
    },
    {
     "name": "stderr",
     "output_type": "stream",
     "text": [
      "pixdim[1,2,3] should be non-zero; setting 0 dims to 1\n"
     ]
    },
    {
     "name": "stdout",
     "output_type": "stream",
     "text": [
      "(316, 59421)\n",
      "/home/qing/Documents/tfMRI_Language_preproc/810843_3T_tfMRI_LANGUAGE_preproc/tfMRI_LANGUAGE_LR_Atlas_MSMAll.dtseries.nii\n",
      "188\n"
     ]
    },
    {
     "name": "stderr",
     "output_type": "stream",
     "text": [
      "pixdim[1,2,3] should be non-zero; setting 0 dims to 1\n"
     ]
    },
    {
     "name": "stdout",
     "output_type": "stream",
     "text": [
      "(316, 59421)\n",
      "/home/qing/Documents/tfMRI_Language_preproc/155231_3T_tfMRI_LANGUAGE_preproc/tfMRI_LANGUAGE_LR_Atlas_MSMAll.dtseries.nii\n",
      "189\n"
     ]
    },
    {
     "name": "stderr",
     "output_type": "stream",
     "text": [
      "pixdim[1,2,3] should be non-zero; setting 0 dims to 1\n"
     ]
    },
    {
     "name": "stdout",
     "output_type": "stream",
     "text": [
      "(316, 59421)\n",
      "/home/qing/Documents/tfMRI_Language_preproc/114621_3T_tfMRI_LANGUAGE_preproc/tfMRI_LANGUAGE_LR_Atlas_MSMAll.dtseries.nii\n",
      "190\n"
     ]
    },
    {
     "name": "stderr",
     "output_type": "stream",
     "text": [
      "pixdim[1,2,3] should be non-zero; setting 0 dims to 1\n"
     ]
    },
    {
     "name": "stdout",
     "output_type": "stream",
     "text": [
      "(316, 59421)\n",
      "/home/qing/Documents/tfMRI_Language_preproc/194746_3T_tfMRI_LANGUAGE_preproc/tfMRI_LANGUAGE_LR_Atlas_MSMAll.dtseries.nii\n",
      "191\n"
     ]
    },
    {
     "name": "stderr",
     "output_type": "stream",
     "text": [
      "pixdim[1,2,3] should be non-zero; setting 0 dims to 1\n"
     ]
    },
    {
     "name": "stdout",
     "output_type": "stream",
     "text": [
      "(316, 59421)\n",
      "/home/qing/Documents/tfMRI_Language_preproc/299154_3T_tfMRI_LANGUAGE_preproc/tfMRI_LANGUAGE_LR_Atlas_MSMAll.dtseries.nii\n",
      "192\n"
     ]
    },
    {
     "name": "stderr",
     "output_type": "stream",
     "text": [
      "pixdim[1,2,3] should be non-zero; setting 0 dims to 1\n"
     ]
    },
    {
     "name": "stdout",
     "output_type": "stream",
     "text": [
      "(316, 59421)\n",
      "/home/qing/Documents/tfMRI_Language_preproc/599065_3T_tfMRI_LANGUAGE_preproc/tfMRI_LANGUAGE_LR_Atlas_MSMAll.dtseries.nii\n",
      "193\n"
     ]
    },
    {
     "name": "stderr",
     "output_type": "stream",
     "text": [
      "pixdim[1,2,3] should be non-zero; setting 0 dims to 1\n"
     ]
    },
    {
     "name": "stdout",
     "output_type": "stream",
     "text": [
      "(316, 59421)\n",
      "/home/qing/Documents/tfMRI_Language_preproc/561444_3T_tfMRI_LANGUAGE_preproc/tfMRI_LANGUAGE_LR_Atlas_MSMAll.dtseries.nii\n",
      "194\n"
     ]
    },
    {
     "name": "stderr",
     "output_type": "stream",
     "text": [
      "pixdim[1,2,3] should be non-zero; setting 0 dims to 1\n"
     ]
    },
    {
     "name": "stdout",
     "output_type": "stream",
     "text": [
      "(316, 59421)\n",
      "/home/qing/Documents/tfMRI_Language_preproc/702133_3T_tfMRI_LANGUAGE_preproc/tfMRI_LANGUAGE_LR_Atlas_MSMAll.dtseries.nii\n",
      "195\n"
     ]
    },
    {
     "name": "stderr",
     "output_type": "stream",
     "text": [
      "pixdim[1,2,3] should be non-zero; setting 0 dims to 1\n"
     ]
    },
    {
     "name": "stdout",
     "output_type": "stream",
     "text": [
      "(316, 59421)\n",
      "/home/qing/Documents/tfMRI_Language_preproc/912447_3T_tfMRI_LANGUAGE_preproc/tfMRI_LANGUAGE_LR_Atlas_MSMAll.dtseries.nii\n",
      "196\n"
     ]
    },
    {
     "name": "stderr",
     "output_type": "stream",
     "text": [
      "pixdim[1,2,3] should be non-zero; setting 0 dims to 1\n"
     ]
    },
    {
     "name": "stdout",
     "output_type": "stream",
     "text": [
      "(316, 59421)\n",
      "/home/qing/Documents/tfMRI_Language_preproc/547046_3T_tfMRI_LANGUAGE_preproc/tfMRI_LANGUAGE_LR_Atlas_MSMAll.dtseries.nii\n",
      "197\n"
     ]
    },
    {
     "name": "stderr",
     "output_type": "stream",
     "text": [
      "pixdim[1,2,3] should be non-zero; setting 0 dims to 1\n"
     ]
    },
    {
     "name": "stdout",
     "output_type": "stream",
     "text": [
      "(316, 59421)\n",
      "/home/qing/Documents/tfMRI_Language_preproc/153631_3T_tfMRI_LANGUAGE_preproc/tfMRI_LANGUAGE_LR_Atlas_MSMAll.dtseries.nii\n",
      "198\n"
     ]
    },
    {
     "name": "stderr",
     "output_type": "stream",
     "text": [
      "pixdim[1,2,3] should be non-zero; setting 0 dims to 1\n"
     ]
    },
    {
     "name": "stdout",
     "output_type": "stream",
     "text": [
      "(316, 59421)\n",
      "/home/qing/Documents/tfMRI_Language_preproc/910241_3T_tfMRI_LANGUAGE_preproc/tfMRI_LANGUAGE_LR_Atlas_MSMAll.dtseries.nii\n",
      "199\n"
     ]
    },
    {
     "name": "stderr",
     "output_type": "stream",
     "text": [
      "pixdim[1,2,3] should be non-zero; setting 0 dims to 1\n"
     ]
    },
    {
     "name": "stdout",
     "output_type": "stream",
     "text": [
      "(316, 59421)\n",
      "/home/qing/Documents/tfMRI_Language_preproc/348545_3T_tfMRI_LANGUAGE_preproc/tfMRI_LANGUAGE_LR_Atlas_MSMAll.dtseries.nii\n",
      "200\n"
     ]
    },
    {
     "name": "stderr",
     "output_type": "stream",
     "text": [
      "pixdim[1,2,3] should be non-zero; setting 0 dims to 1\n"
     ]
    },
    {
     "name": "stdout",
     "output_type": "stream",
     "text": [
      "(316, 59421)\n",
      "/home/qing/Documents/tfMRI_Language_preproc/917558_3T_tfMRI_LANGUAGE_preproc/tfMRI_LANGUAGE_LR_Atlas_MSMAll.dtseries.nii\n",
      "201\n"
     ]
    },
    {
     "name": "stderr",
     "output_type": "stream",
     "text": [
      "pixdim[1,2,3] should be non-zero; setting 0 dims to 1\n"
     ]
    },
    {
     "name": "stdout",
     "output_type": "stream",
     "text": [
      "(316, 59421)\n",
      "/home/qing/Documents/tfMRI_Language_preproc/983773_3T_tfMRI_LANGUAGE_preproc/tfMRI_LANGUAGE_LR_Atlas_MSMAll.dtseries.nii\n",
      "202\n"
     ]
    },
    {
     "name": "stderr",
     "output_type": "stream",
     "text": [
      "pixdim[1,2,3] should be non-zero; setting 0 dims to 1\n"
     ]
    },
    {
     "name": "stdout",
     "output_type": "stream",
     "text": [
      "(316, 59421)\n",
      "/home/qing/Documents/tfMRI_Language_preproc/390645_3T_tfMRI_LANGUAGE_preproc/tfMRI_LANGUAGE_LR_Atlas_MSMAll.dtseries.nii\n",
      "203\n"
     ]
    },
    {
     "name": "stderr",
     "output_type": "stream",
     "text": [
      "pixdim[1,2,3] should be non-zero; setting 0 dims to 1\n"
     ]
    },
    {
     "name": "stdout",
     "output_type": "stream",
     "text": [
      "(316, 59421)\n",
      "/home/qing/Documents/tfMRI_Language_preproc/172029_3T_tfMRI_LANGUAGE_preproc/tfMRI_LANGUAGE_LR_Atlas_MSMAll.dtseries.nii\n",
      "204\n"
     ]
    },
    {
     "name": "stderr",
     "output_type": "stream",
     "text": [
      "pixdim[1,2,3] should be non-zero; setting 0 dims to 1\n"
     ]
    },
    {
     "name": "stdout",
     "output_type": "stream",
     "text": [
      "(316, 59421)\n",
      "/home/qing/Documents/tfMRI_Language_preproc/137027_3T_tfMRI_LANGUAGE_preproc/tfMRI_LANGUAGE_LR_Atlas_MSMAll.dtseries.nii\n",
      "205\n"
     ]
    },
    {
     "name": "stderr",
     "output_type": "stream",
     "text": [
      "pixdim[1,2,3] should be non-zero; setting 0 dims to 1\n"
     ]
    },
    {
     "name": "stdout",
     "output_type": "stream",
     "text": [
      "(316, 59421)\n",
      "/home/qing/Documents/tfMRI_Language_preproc/751348_3T_tfMRI_LANGUAGE_preproc/tfMRI_LANGUAGE_LR_Atlas_MSMAll.dtseries.nii\n",
      "206\n"
     ]
    },
    {
     "name": "stderr",
     "output_type": "stream",
     "text": [
      "pixdim[1,2,3] should be non-zero; setting 0 dims to 1\n"
     ]
    },
    {
     "name": "stdout",
     "output_type": "stream",
     "text": [
      "(316, 59421)\n",
      "/home/qing/Documents/tfMRI_Language_preproc/320826_3T_tfMRI_LANGUAGE_preproc/tfMRI_LANGUAGE_LR_Atlas_MSMAll.dtseries.nii\n",
      "207\n"
     ]
    },
    {
     "name": "stderr",
     "output_type": "stream",
     "text": [
      "pixdim[1,2,3] should be non-zero; setting 0 dims to 1\n"
     ]
    },
    {
     "name": "stdout",
     "output_type": "stream",
     "text": [
      "(316, 59421)\n",
      "/home/qing/Documents/tfMRI_Language_preproc/166438_3T_tfMRI_LANGUAGE_preproc/tfMRI_LANGUAGE_LR_Atlas_MSMAll.dtseries.nii\n",
      "208\n"
     ]
    },
    {
     "name": "stderr",
     "output_type": "stream",
     "text": [
      "pixdim[1,2,3] should be non-zero; setting 0 dims to 1\n"
     ]
    },
    {
     "name": "stdout",
     "output_type": "stream",
     "text": [
      "(316, 59421)\n",
      "/home/qing/Documents/tfMRI_Language_preproc/131217_3T_tfMRI_LANGUAGE_preproc/tfMRI_LANGUAGE_LR_Atlas_MSMAll.dtseries.nii\n",
      "209\n"
     ]
    },
    {
     "name": "stderr",
     "output_type": "stream",
     "text": [
      "pixdim[1,2,3] should be non-zero; setting 0 dims to 1\n"
     ]
    },
    {
     "name": "stdout",
     "output_type": "stream",
     "text": [
      "(316, 59421)\n",
      "/home/qing/Documents/tfMRI_Language_preproc/395251_3T_tfMRI_LANGUAGE_preproc/tfMRI_LANGUAGE_LR_Atlas_MSMAll.dtseries.nii\n",
      "210\n"
     ]
    },
    {
     "name": "stderr",
     "output_type": "stream",
     "text": [
      "pixdim[1,2,3] should be non-zero; setting 0 dims to 1\n"
     ]
    },
    {
     "name": "stdout",
     "output_type": "stream",
     "text": [
      "(316, 59421)\n",
      "/home/qing/Documents/tfMRI_Language_preproc/597869_3T_tfMRI_LANGUAGE_preproc/tfMRI_LANGUAGE_LR_Atlas_MSMAll.dtseries.nii\n",
      "211\n"
     ]
    },
    {
     "name": "stderr",
     "output_type": "stream",
     "text": [
      "pixdim[1,2,3] should be non-zero; setting 0 dims to 1\n"
     ]
    },
    {
     "name": "stdout",
     "output_type": "stream",
     "text": [
      "(316, 59421)\n",
      "/home/qing/Documents/tfMRI_Language_preproc/899885_3T_tfMRI_LANGUAGE_preproc/tfMRI_LANGUAGE_LR_Atlas_MSMAll.dtseries.nii\n",
      "212\n"
     ]
    },
    {
     "name": "stderr",
     "output_type": "stream",
     "text": [
      "pixdim[1,2,3] should be non-zero; setting 0 dims to 1\n"
     ]
    },
    {
     "name": "stdout",
     "output_type": "stream",
     "text": [
      "(316, 59421)\n",
      "/home/qing/Documents/tfMRI_Language_preproc/583858_3T_tfMRI_LANGUAGE_preproc/tfMRI_LANGUAGE_LR_Atlas_MSMAll.dtseries.nii\n",
      "213\n"
     ]
    },
    {
     "name": "stderr",
     "output_type": "stream",
     "text": [
      "pixdim[1,2,3] should be non-zero; setting 0 dims to 1\n"
     ]
    },
    {
     "name": "stdout",
     "output_type": "stream",
     "text": [
      "(316, 59421)\n",
      "/home/qing/Documents/tfMRI_Language_preproc/308331_3T_tfMRI_LANGUAGE_preproc/tfMRI_LANGUAGE_LR_Atlas_MSMAll.dtseries.nii\n",
      "214\n"
     ]
    },
    {
     "name": "stderr",
     "output_type": "stream",
     "text": [
      "pixdim[1,2,3] should be non-zero; setting 0 dims to 1\n"
     ]
    },
    {
     "name": "stdout",
     "output_type": "stream",
     "text": [
      "(316, 59421)\n",
      "/home/qing/Documents/tfMRI_Language_preproc/545345_3T_tfMRI_LANGUAGE_preproc/tfMRI_LANGUAGE_LR_Atlas_MSMAll.dtseries.nii\n",
      "215\n"
     ]
    },
    {
     "name": "stderr",
     "output_type": "stream",
     "text": [
      "pixdim[1,2,3] should be non-zero; setting 0 dims to 1\n"
     ]
    },
    {
     "name": "stdout",
     "output_type": "stream",
     "text": [
      "(316, 59421)\n",
      "/home/qing/Documents/tfMRI_Language_preproc/110411_3T_tfMRI_LANGUAGE_preproc/tfMRI_LANGUAGE_LR_Atlas_MSMAll.dtseries.nii\n",
      "216\n"
     ]
    },
    {
     "name": "stderr",
     "output_type": "stream",
     "text": [
      "pixdim[1,2,3] should be non-zero; setting 0 dims to 1\n"
     ]
    },
    {
     "name": "stdout",
     "output_type": "stream",
     "text": [
      "(316, 59421)\n",
      "/home/qing/Documents/tfMRI_Language_preproc/270332_3T_tfMRI_LANGUAGE_preproc/tfMRI_LANGUAGE_LR_Atlas_MSMAll.dtseries.nii\n",
      "217\n"
     ]
    },
    {
     "name": "stderr",
     "output_type": "stream",
     "text": [
      "pixdim[1,2,3] should be non-zero; setting 0 dims to 1\n"
     ]
    },
    {
     "name": "stdout",
     "output_type": "stream",
     "text": [
      "(316, 59421)\n",
      "/home/qing/Documents/tfMRI_Language_preproc/894673_3T_tfMRI_LANGUAGE_preproc/tfMRI_LANGUAGE_LR_Atlas_MSMAll.dtseries.nii\n",
      "218\n"
     ]
    },
    {
     "name": "stderr",
     "output_type": "stream",
     "text": [
      "pixdim[1,2,3] should be non-zero; setting 0 dims to 1\n"
     ]
    },
    {
     "name": "stdout",
     "output_type": "stream",
     "text": [
      "(316, 59421)\n",
      "/home/qing/Documents/tfMRI_Language_preproc/984472_3T_tfMRI_LANGUAGE_preproc/tfMRI_LANGUAGE_LR_Atlas_MSMAll.dtseries.nii\n",
      "219\n"
     ]
    },
    {
     "name": "stderr",
     "output_type": "stream",
     "text": [
      "pixdim[1,2,3] should be non-zero; setting 0 dims to 1\n"
     ]
    },
    {
     "name": "stdout",
     "output_type": "stream",
     "text": [
      "(316, 59421)\n",
      "/home/qing/Documents/tfMRI_Language_preproc/130417_3T_tfMRI_LANGUAGE_preproc/tfMRI_LANGUAGE_LR_Atlas_MSMAll.dtseries.nii\n",
      "220\n"
     ]
    },
    {
     "name": "stderr",
     "output_type": "stream",
     "text": [
      "pixdim[1,2,3] should be non-zero; setting 0 dims to 1\n"
     ]
    },
    {
     "name": "stdout",
     "output_type": "stream",
     "text": [
      "(316, 59421)\n",
      "/home/qing/Documents/tfMRI_Language_preproc/209127_3T_tfMRI_LANGUAGE_preproc/tfMRI_LANGUAGE_LR_Atlas_MSMAll.dtseries.nii\n",
      "221\n"
     ]
    },
    {
     "name": "stderr",
     "output_type": "stream",
     "text": [
      "pixdim[1,2,3] should be non-zero; setting 0 dims to 1\n"
     ]
    },
    {
     "name": "stdout",
     "output_type": "stream",
     "text": [
      "(316, 59421)\n",
      "/home/qing/Documents/tfMRI_Language_preproc/187547_3T_tfMRI_LANGUAGE_preproc/tfMRI_LANGUAGE_LR_Atlas_MSMAll.dtseries.nii\n",
      "222\n"
     ]
    },
    {
     "name": "stderr",
     "output_type": "stream",
     "text": [
      "pixdim[1,2,3] should be non-zero; setting 0 dims to 1\n"
     ]
    },
    {
     "name": "stdout",
     "output_type": "stream",
     "text": [
      "(316, 59421)\n",
      "/home/qing/Documents/tfMRI_Language_preproc/211316_3T_tfMRI_LANGUAGE_preproc/tfMRI_LANGUAGE_LR_Atlas_MSMAll.dtseries.nii\n",
      "223\n"
     ]
    },
    {
     "name": "stderr",
     "output_type": "stream",
     "text": [
      "pixdim[1,2,3] should be non-zero; setting 0 dims to 1\n"
     ]
    },
    {
     "name": "stdout",
     "output_type": "stream",
     "text": [
      "(316, 59421)\n",
      "/home/qing/Documents/tfMRI_Language_preproc/300618_3T_tfMRI_LANGUAGE_preproc/tfMRI_LANGUAGE_LR_Atlas_MSMAll.dtseries.nii\n",
      "224\n"
     ]
    },
    {
     "name": "stderr",
     "output_type": "stream",
     "text": [
      "pixdim[1,2,3] should be non-zero; setting 0 dims to 1\n"
     ]
    },
    {
     "name": "stdout",
     "output_type": "stream",
     "text": [
      "(316, 59421)\n",
      "/home/qing/Documents/tfMRI_Language_preproc/118932_3T_tfMRI_LANGUAGE_preproc/tfMRI_LANGUAGE_LR_Atlas_MSMAll.dtseries.nii\n",
      "225\n"
     ]
    },
    {
     "name": "stderr",
     "output_type": "stream",
     "text": [
      "pixdim[1,2,3] should be non-zero; setting 0 dims to 1\n"
     ]
    },
    {
     "name": "stdout",
     "output_type": "stream",
     "text": [
      "(316, 59421)\n",
      "/home/qing/Documents/tfMRI_Language_preproc/154936_3T_tfMRI_LANGUAGE_preproc/tfMRI_LANGUAGE_LR_Atlas_MSMAll.dtseries.nii\n",
      "226\n"
     ]
    },
    {
     "name": "stderr",
     "output_type": "stream",
     "text": [
      "pixdim[1,2,3] should be non-zero; setting 0 dims to 1\n"
     ]
    },
    {
     "name": "stdout",
     "output_type": "stream",
     "text": [
      "(316, 59421)\n",
      "/home/qing/Documents/tfMRI_Language_preproc/792564_3T_tfMRI_LANGUAGE_preproc/tfMRI_LANGUAGE_LR_Atlas_MSMAll.dtseries.nii\n",
      "227\n"
     ]
    },
    {
     "name": "stderr",
     "output_type": "stream",
     "text": [
      "pixdim[1,2,3] should be non-zero; setting 0 dims to 1\n"
     ]
    },
    {
     "name": "stdout",
     "output_type": "stream",
     "text": [
      "(316, 59421)\n",
      "/home/qing/Documents/tfMRI_Language_preproc/173536_3T_tfMRI_LANGUAGE_preproc/tfMRI_LANGUAGE_LR_Atlas_MSMAll.dtseries.nii\n",
      "228\n"
     ]
    },
    {
     "name": "stderr",
     "output_type": "stream",
     "text": [
      "pixdim[1,2,3] should be non-zero; setting 0 dims to 1\n"
     ]
    },
    {
     "name": "stdout",
     "output_type": "stream",
     "text": [
      "(316, 59421)\n",
      "/home/qing/Documents/tfMRI_Language_preproc/205119_3T_tfMRI_LANGUAGE_preproc/tfMRI_LANGUAGE_LR_Atlas_MSMAll.dtseries.nii\n",
      "229\n"
     ]
    },
    {
     "name": "stderr",
     "output_type": "stream",
     "text": [
      "pixdim[1,2,3] should be non-zero; setting 0 dims to 1\n"
     ]
    },
    {
     "name": "stdout",
     "output_type": "stream",
     "text": [
      "(316, 59421)\n",
      "/home/qing/Documents/tfMRI_Language_preproc/195849_3T_tfMRI_LANGUAGE_preproc/tfMRI_LANGUAGE_LR_Atlas_MSMAll.dtseries.nii\n",
      "230\n"
     ]
    },
    {
     "name": "stderr",
     "output_type": "stream",
     "text": [
      "pixdim[1,2,3] should be non-zero; setting 0 dims to 1\n"
     ]
    },
    {
     "name": "stdout",
     "output_type": "stream",
     "text": [
      "(316, 59421)\n",
      "/home/qing/Documents/tfMRI_Language_preproc/157336_3T_tfMRI_LANGUAGE_preproc/tfMRI_LANGUAGE_LR_Atlas_MSMAll.dtseries.nii\n",
      "231\n"
     ]
    },
    {
     "name": "stderr",
     "output_type": "stream",
     "text": [
      "pixdim[1,2,3] should be non-zero; setting 0 dims to 1\n"
     ]
    },
    {
     "name": "stdout",
     "output_type": "stream",
     "text": [
      "(316, 59421)\n",
      "/home/qing/Documents/tfMRI_Language_preproc/872158_3T_tfMRI_LANGUAGE_preproc/tfMRI_LANGUAGE_LR_Atlas_MSMAll.dtseries.nii\n",
      "232\n"
     ]
    },
    {
     "name": "stderr",
     "output_type": "stream",
     "text": [
      "pixdim[1,2,3] should be non-zero; setting 0 dims to 1\n"
     ]
    },
    {
     "name": "stdout",
     "output_type": "stream",
     "text": [
      "(316, 59421)\n",
      "/home/qing/Documents/tfMRI_Language_preproc/316835_3T_tfMRI_LANGUAGE_preproc/tfMRI_LANGUAGE_LR_Atlas_MSMAll.dtseries.nii\n",
      "233\n"
     ]
    },
    {
     "name": "stderr",
     "output_type": "stream",
     "text": [
      "pixdim[1,2,3] should be non-zero; setting 0 dims to 1\n"
     ]
    },
    {
     "name": "stdout",
     "output_type": "stream",
     "text": [
      "(316, 59421)\n",
      "/home/qing/Documents/tfMRI_Language_preproc/942658_3T_tfMRI_LANGUAGE_preproc/tfMRI_LANGUAGE_LR_Atlas_MSMAll.dtseries.nii\n",
      "234\n"
     ]
    },
    {
     "name": "stderr",
     "output_type": "stream",
     "text": [
      "pixdim[1,2,3] should be non-zero; setting 0 dims to 1\n"
     ]
    },
    {
     "name": "stdout",
     "output_type": "stream",
     "text": [
      "(316, 59421)\n",
      "/home/qing/Documents/tfMRI_Language_preproc/298455_3T_tfMRI_LANGUAGE_preproc/tfMRI_LANGUAGE_LR_Atlas_MSMAll.dtseries.nii\n",
      "235\n"
     ]
    },
    {
     "name": "stderr",
     "output_type": "stream",
     "text": [
      "pixdim[1,2,3] should be non-zero; setting 0 dims to 1\n"
     ]
    },
    {
     "name": "stdout",
     "output_type": "stream",
     "text": [
      "(316, 59421)\n",
      "/home/qing/Documents/tfMRI_Language_preproc/201414_3T_tfMRI_LANGUAGE_preproc/tfMRI_LANGUAGE_LR_Atlas_MSMAll.dtseries.nii\n",
      "236\n"
     ]
    },
    {
     "name": "stderr",
     "output_type": "stream",
     "text": [
      "pixdim[1,2,3] should be non-zero; setting 0 dims to 1\n"
     ]
    },
    {
     "name": "stdout",
     "output_type": "stream",
     "text": [
      "(316, 59421)\n",
      "/home/qing/Documents/tfMRI_Language_preproc/580751_3T_tfMRI_LANGUAGE_preproc/tfMRI_LANGUAGE_LR_Atlas_MSMAll.dtseries.nii\n",
      "237\n"
     ]
    },
    {
     "name": "stderr",
     "output_type": "stream",
     "text": [
      "pixdim[1,2,3] should be non-zero; setting 0 dims to 1\n"
     ]
    },
    {
     "name": "stdout",
     "output_type": "stream",
     "text": [
      "(316, 59421)\n",
      "/home/qing/Documents/tfMRI_Language_preproc/473952_3T_tfMRI_LANGUAGE_preproc/tfMRI_LANGUAGE_LR_Atlas_MSMAll.dtseries.nii\n",
      "238\n"
     ]
    },
    {
     "name": "stderr",
     "output_type": "stream",
     "text": [
      "pixdim[1,2,3] should be non-zero; setting 0 dims to 1\n"
     ]
    },
    {
     "name": "stdout",
     "output_type": "stream",
     "text": [
      "(316, 59421)\n",
      "/home/qing/Documents/tfMRI_Language_preproc/422632_3T_tfMRI_LANGUAGE_preproc/tfMRI_LANGUAGE_LR_Atlas_MSMAll.dtseries.nii\n",
      "239\n"
     ]
    },
    {
     "name": "stderr",
     "output_type": "stream",
     "text": [
      "pixdim[1,2,3] should be non-zero; setting 0 dims to 1\n"
     ]
    },
    {
     "name": "stdout",
     "output_type": "stream",
     "text": [
      "(316, 59421)\n",
      "/home/qing/Documents/tfMRI_Language_preproc/841349_3T_tfMRI_LANGUAGE_preproc/tfMRI_LANGUAGE_LR_Atlas_MSMAll.dtseries.nii\n",
      "240\n"
     ]
    },
    {
     "name": "stderr",
     "output_type": "stream",
     "text": [
      "pixdim[1,2,3] should be non-zero; setting 0 dims to 1\n"
     ]
    },
    {
     "name": "stdout",
     "output_type": "stream",
     "text": [
      "(316, 59421)\n",
      "/home/qing/Documents/tfMRI_Language_preproc/196750_3T_tfMRI_LANGUAGE_preproc/tfMRI_LANGUAGE_LR_Atlas_MSMAll.dtseries.nii\n",
      "241\n"
     ]
    },
    {
     "name": "stderr",
     "output_type": "stream",
     "text": [
      "pixdim[1,2,3] should be non-zero; setting 0 dims to 1\n"
     ]
    },
    {
     "name": "stdout",
     "output_type": "stream",
     "text": [
      "(316, 59421)\n",
      "/home/qing/Documents/tfMRI_Language_preproc/161327_3T_tfMRI_LANGUAGE_preproc/tfMRI_LANGUAGE_LR_Atlas_MSMAll.dtseries.nii\n",
      "242\n"
     ]
    },
    {
     "name": "stderr",
     "output_type": "stream",
     "text": [
      "pixdim[1,2,3] should be non-zero; setting 0 dims to 1\n"
     ]
    },
    {
     "name": "stdout",
     "output_type": "stream",
     "text": [
      "(316, 59421)\n",
      "/home/qing/Documents/tfMRI_Language_preproc/179346_3T_tfMRI_LANGUAGE_preproc/tfMRI_LANGUAGE_LR_Atlas_MSMAll.dtseries.nii\n",
      "243\n"
     ]
    },
    {
     "name": "stderr",
     "output_type": "stream",
     "text": [
      "pixdim[1,2,3] should be non-zero; setting 0 dims to 1\n"
     ]
    },
    {
     "name": "stdout",
     "output_type": "stream",
     "text": [
      "(316, 59421)\n",
      "/home/qing/Documents/tfMRI_Language_preproc/171330_3T_tfMRI_LANGUAGE_preproc/tfMRI_LANGUAGE_LR_Atlas_MSMAll.dtseries.nii\n",
      "244\n"
     ]
    },
    {
     "name": "stderr",
     "output_type": "stream",
     "text": [
      "pixdim[1,2,3] should be non-zero; setting 0 dims to 1\n"
     ]
    },
    {
     "name": "stdout",
     "output_type": "stream",
     "text": [
      "(316, 59421)\n",
      "/home/qing/Documents/tfMRI_Language_preproc/120111_3T_tfMRI_LANGUAGE_preproc/tfMRI_LANGUAGE_LR_Atlas_MSMAll.dtseries.nii\n",
      "245\n"
     ]
    },
    {
     "name": "stderr",
     "output_type": "stream",
     "text": [
      "pixdim[1,2,3] should be non-zero; setting 0 dims to 1\n"
     ]
    },
    {
     "name": "stdout",
     "output_type": "stream",
     "text": [
      "(316, 59421)\n",
      "/home/qing/Documents/tfMRI_Language_preproc/124624_3T_tfMRI_LANGUAGE_preproc/tfMRI_LANGUAGE_LR_Atlas_MSMAll.dtseries.nii\n",
      "246\n"
     ]
    },
    {
     "name": "stderr",
     "output_type": "stream",
     "text": [
      "pixdim[1,2,3] should be non-zero; setting 0 dims to 1\n"
     ]
    },
    {
     "name": "stdout",
     "output_type": "stream",
     "text": [
      "(316, 59421)\n",
      "/home/qing/Documents/tfMRI_Language_preproc/144832_3T_tfMRI_LANGUAGE_preproc/tfMRI_LANGUAGE_LR_Atlas_MSMAll.dtseries.nii\n",
      "247\n"
     ]
    },
    {
     "name": "stderr",
     "output_type": "stream",
     "text": [
      "pixdim[1,2,3] should be non-zero; setting 0 dims to 1\n"
     ]
    },
    {
     "name": "stdout",
     "output_type": "stream",
     "text": [
      "(316, 59421)\n",
      "/home/qing/Documents/tfMRI_Language_preproc/188549_3T_tfMRI_LANGUAGE_preproc/tfMRI_LANGUAGE_LR_Atlas_MSMAll.dtseries.nii\n",
      "248\n"
     ]
    },
    {
     "name": "stderr",
     "output_type": "stream",
     "text": [
      "pixdim[1,2,3] should be non-zero; setting 0 dims to 1\n"
     ]
    },
    {
     "name": "stdout",
     "output_type": "stream",
     "text": [
      "(316, 59421)\n",
      "/home/qing/Documents/tfMRI_Language_preproc/381543_3T_tfMRI_LANGUAGE_preproc/tfMRI_LANGUAGE_LR_Atlas_MSMAll.dtseries.nii\n",
      "249\n"
     ]
    },
    {
     "name": "stderr",
     "output_type": "stream",
     "text": [
      "pixdim[1,2,3] should be non-zero; setting 0 dims to 1\n"
     ]
    },
    {
     "name": "stdout",
     "output_type": "stream",
     "text": [
      "(316, 59421)\n",
      "/home/qing/Documents/tfMRI_Language_preproc/613538_3T_tfMRI_LANGUAGE_preproc/tfMRI_LANGUAGE_LR_Atlas_MSMAll.dtseries.nii\n",
      "250\n"
     ]
    },
    {
     "name": "stderr",
     "output_type": "stream",
     "text": [
      "pixdim[1,2,3] should be non-zero; setting 0 dims to 1\n"
     ]
    },
    {
     "name": "stdout",
     "output_type": "stream",
     "text": [
      "(316, 59421)\n",
      "/home/qing/Documents/tfMRI_Language_preproc/140824_3T_tfMRI_LANGUAGE_preproc/tfMRI_LANGUAGE_LR_Atlas_MSMAll.dtseries.nii\n",
      "251\n"
     ]
    },
    {
     "name": "stderr",
     "output_type": "stream",
     "text": [
      "pixdim[1,2,3] should be non-zero; setting 0 dims to 1\n"
     ]
    },
    {
     "name": "stdout",
     "output_type": "stream",
     "text": [
      "(316, 59421)\n",
      "/home/qing/Documents/tfMRI_Language_preproc/638049_3T_tfMRI_LANGUAGE_preproc/tfMRI_LANGUAGE_LR_Atlas_MSMAll.dtseries.nii\n",
      "252\n"
     ]
    },
    {
     "name": "stderr",
     "output_type": "stream",
     "text": [
      "pixdim[1,2,3] should be non-zero; setting 0 dims to 1\n"
     ]
    },
    {
     "name": "stdout",
     "output_type": "stream",
     "text": [
      "(316, 59421)\n",
      "/home/qing/Documents/tfMRI_Language_preproc/432332_3T_tfMRI_LANGUAGE_preproc/tfMRI_LANGUAGE_LR_Atlas_MSMAll.dtseries.nii\n",
      "253\n"
     ]
    },
    {
     "name": "stderr",
     "output_type": "stream",
     "text": [
      "pixdim[1,2,3] should be non-zero; setting 0 dims to 1\n"
     ]
    },
    {
     "name": "stdout",
     "output_type": "stream",
     "text": [
      "(316, 59421)\n",
      "/home/qing/Documents/tfMRI_Language_preproc/293748_3T_tfMRI_LANGUAGE_preproc/tfMRI_LANGUAGE_LR_Atlas_MSMAll.dtseries.nii\n",
      "254\n"
     ]
    },
    {
     "name": "stderr",
     "output_type": "stream",
     "text": [
      "pixdim[1,2,3] should be non-zero; setting 0 dims to 1\n"
     ]
    },
    {
     "name": "stdout",
     "output_type": "stream",
     "text": [
      "(316, 59421)\n",
      "/home/qing/Documents/tfMRI_Language_preproc/598568_3T_tfMRI_LANGUAGE_preproc/tfMRI_LANGUAGE_LR_Atlas_MSMAll.dtseries.nii\n",
      "255\n"
     ]
    },
    {
     "name": "stderr",
     "output_type": "stream",
     "text": [
      "pixdim[1,2,3] should be non-zero; setting 0 dims to 1\n"
     ]
    },
    {
     "name": "stdout",
     "output_type": "stream",
     "text": [
      "(316, 59421)\n",
      "/home/qing/Documents/tfMRI_Language_preproc/715647_3T_tfMRI_LANGUAGE_preproc/tfMRI_LANGUAGE_LR_Atlas_MSMAll.dtseries.nii\n",
      "256\n"
     ]
    },
    {
     "name": "stderr",
     "output_type": "stream",
     "text": [
      "pixdim[1,2,3] should be non-zero; setting 0 dims to 1\n"
     ]
    },
    {
     "name": "stdout",
     "output_type": "stream",
     "text": [
      "(316, 59421)\n",
      "/home/qing/Documents/tfMRI_Language_preproc/257542_3T_tfMRI_LANGUAGE_preproc/tfMRI_LANGUAGE_LR_Atlas_MSMAll.dtseries.nii\n",
      "257\n"
     ]
    },
    {
     "name": "stderr",
     "output_type": "stream",
     "text": [
      "pixdim[1,2,3] should be non-zero; setting 0 dims to 1\n"
     ]
    },
    {
     "name": "stdout",
     "output_type": "stream",
     "text": [
      "(316, 59421)\n",
      "/home/qing/Documents/tfMRI_Language_preproc/579867_3T_tfMRI_LANGUAGE_preproc/tfMRI_LANGUAGE_LR_Atlas_MSMAll.dtseries.nii\n",
      "258\n"
     ]
    },
    {
     "name": "stderr",
     "output_type": "stream",
     "text": [
      "pixdim[1,2,3] should be non-zero; setting 0 dims to 1\n"
     ]
    },
    {
     "name": "stdout",
     "output_type": "stream",
     "text": [
      "(316, 59421)\n",
      "/home/qing/Documents/tfMRI_Language_preproc/353740_3T_tfMRI_LANGUAGE_preproc/tfMRI_LANGUAGE_LR_Atlas_MSMAll.dtseries.nii\n",
      "259\n"
     ]
    },
    {
     "name": "stderr",
     "output_type": "stream",
     "text": [
      "pixdim[1,2,3] should be non-zero; setting 0 dims to 1\n"
     ]
    },
    {
     "name": "stdout",
     "output_type": "stream",
     "text": [
      "(316, 59421)\n",
      "/home/qing/Documents/tfMRI_Language_preproc/201818_3T_tfMRI_LANGUAGE_preproc/tfMRI_LANGUAGE_LR_Atlas_MSMAll.dtseries.nii\n",
      "260\n"
     ]
    },
    {
     "name": "stderr",
     "output_type": "stream",
     "text": [
      "pixdim[1,2,3] should be non-zero; setting 0 dims to 1\n"
     ]
    },
    {
     "name": "stdout",
     "output_type": "stream",
     "text": [
      "(316, 59421)\n",
      "/home/qing/Documents/tfMRI_Language_preproc/181636_3T_tfMRI_LANGUAGE_preproc/tfMRI_LANGUAGE_LR_Atlas_MSMAll.dtseries.nii\n",
      "261\n"
     ]
    },
    {
     "name": "stderr",
     "output_type": "stream",
     "text": [
      "pixdim[1,2,3] should be non-zero; setting 0 dims to 1\n"
     ]
    },
    {
     "name": "stdout",
     "output_type": "stream",
     "text": [
      "(316, 59421)\n",
      "/home/qing/Documents/tfMRI_Language_preproc/290136_3T_tfMRI_LANGUAGE_preproc/tfMRI_LANGUAGE_LR_Atlas_MSMAll.dtseries.nii\n",
      "262\n"
     ]
    },
    {
     "name": "stderr",
     "output_type": "stream",
     "text": [
      "pixdim[1,2,3] should be non-zero; setting 0 dims to 1\n"
     ]
    },
    {
     "name": "stdout",
     "output_type": "stream",
     "text": [
      "(316, 59421)\n",
      "/home/qing/Documents/tfMRI_Language_preproc/201515_3T_tfMRI_LANGUAGE_preproc/tfMRI_LANGUAGE_LR_Atlas_MSMAll.dtseries.nii\n",
      "263\n"
     ]
    },
    {
     "name": "stderr",
     "output_type": "stream",
     "text": [
      "pixdim[1,2,3] should be non-zero; setting 0 dims to 1\n"
     ]
    },
    {
     "name": "stdout",
     "output_type": "stream",
     "text": [
      "(316, 59421)\n",
      "/home/qing/Documents/tfMRI_Language_preproc/114924_3T_tfMRI_LANGUAGE_preproc/tfMRI_LANGUAGE_LR_Atlas_MSMAll.dtseries.nii\n",
      "264\n"
     ]
    },
    {
     "name": "stderr",
     "output_type": "stream",
     "text": [
      "pixdim[1,2,3] should be non-zero; setting 0 dims to 1\n"
     ]
    },
    {
     "name": "stdout",
     "output_type": "stream",
     "text": [
      "(316, 59421)\n",
      "/home/qing/Documents/tfMRI_Language_preproc/130013_3T_tfMRI_LANGUAGE_preproc/tfMRI_LANGUAGE_LR_Atlas_MSMAll.dtseries.nii\n",
      "265\n"
     ]
    },
    {
     "name": "stderr",
     "output_type": "stream",
     "text": [
      "pixdim[1,2,3] should be non-zero; setting 0 dims to 1\n"
     ]
    },
    {
     "name": "stdout",
     "output_type": "stream",
     "text": [
      "(316, 59421)\n",
      "/home/qing/Documents/tfMRI_Language_preproc/116524_3T_tfMRI_LANGUAGE_preproc/tfMRI_LANGUAGE_LR_Atlas_MSMAll.dtseries.nii\n",
      "266\n"
     ]
    },
    {
     "name": "stderr",
     "output_type": "stream",
     "text": [
      "pixdim[1,2,3] should be non-zero; setting 0 dims to 1\n"
     ]
    },
    {
     "name": "stdout",
     "output_type": "stream",
     "text": [
      "(316, 59421)\n",
      "/home/qing/Documents/tfMRI_Language_preproc/393247_3T_tfMRI_LANGUAGE_preproc/tfMRI_LANGUAGE_LR_Atlas_MSMAll.dtseries.nii\n",
      "267\n"
     ]
    },
    {
     "name": "stderr",
     "output_type": "stream",
     "text": [
      "pixdim[1,2,3] should be non-zero; setting 0 dims to 1\n"
     ]
    },
    {
     "name": "stdout",
     "output_type": "stream",
     "text": [
      "(316, 59421)\n",
      "/home/qing/Documents/tfMRI_Language_preproc/957974_3T_tfMRI_LANGUAGE_preproc/tfMRI_LANGUAGE_LR_Atlas_MSMAll.dtseries.nii\n",
      "268\n"
     ]
    },
    {
     "name": "stderr",
     "output_type": "stream",
     "text": [
      "pixdim[1,2,3] should be non-zero; setting 0 dims to 1\n"
     ]
    },
    {
     "name": "stdout",
     "output_type": "stream",
     "text": [
      "(316, 59421)\n",
      "/home/qing/Documents/tfMRI_Language_preproc/209329_3T_tfMRI_LANGUAGE_preproc/tfMRI_LANGUAGE_LR_Atlas_MSMAll.dtseries.nii\n",
      "269\n"
     ]
    },
    {
     "name": "stderr",
     "output_type": "stream",
     "text": [
      "pixdim[1,2,3] should be non-zero; setting 0 dims to 1\n"
     ]
    },
    {
     "name": "stdout",
     "output_type": "stream",
     "text": [
      "(316, 59421)\n",
      "/home/qing/Documents/tfMRI_Language_preproc/690152_3T_tfMRI_LANGUAGE_preproc/tfMRI_LANGUAGE_LR_Atlas_MSMAll.dtseries.nii\n",
      "270\n"
     ]
    },
    {
     "name": "stderr",
     "output_type": "stream",
     "text": [
      "pixdim[1,2,3] should be non-zero; setting 0 dims to 1\n"
     ]
    },
    {
     "name": "stdout",
     "output_type": "stream",
     "text": [
      "(316, 59421)\n",
      "/home/qing/Documents/tfMRI_Language_preproc/433839_3T_tfMRI_LANGUAGE_preproc/tfMRI_LANGUAGE_LR_Atlas_MSMAll.dtseries.nii\n",
      "271\n"
     ]
    },
    {
     "name": "stderr",
     "output_type": "stream",
     "text": [
      "pixdim[1,2,3] should be non-zero; setting 0 dims to 1\n"
     ]
    },
    {
     "name": "stdout",
     "output_type": "stream",
     "text": [
      "(316, 59421)\n",
      "/home/qing/Documents/tfMRI_Language_preproc/663755_3T_tfMRI_LANGUAGE_preproc/tfMRI_LANGUAGE_LR_Atlas_MSMAll.dtseries.nii\n",
      "272\n"
     ]
    },
    {
     "name": "stderr",
     "output_type": "stream",
     "text": [
      "pixdim[1,2,3] should be non-zero; setting 0 dims to 1\n"
     ]
    },
    {
     "name": "stdout",
     "output_type": "stream",
     "text": [
      "(316, 59421)\n",
      "/home/qing/Documents/tfMRI_Language_preproc/159441_3T_tfMRI_LANGUAGE_preproc/tfMRI_LANGUAGE_LR_Atlas_MSMAll.dtseries.nii\n",
      "273\n"
     ]
    },
    {
     "name": "stderr",
     "output_type": "stream",
     "text": [
      "pixdim[1,2,3] should be non-zero; setting 0 dims to 1\n"
     ]
    },
    {
     "name": "stdout",
     "output_type": "stream",
     "text": [
      "(316, 59421)\n",
      "/home/qing/Documents/tfMRI_Language_preproc/907656_3T_tfMRI_LANGUAGE_preproc/tfMRI_LANGUAGE_LR_Atlas_MSMAll.dtseries.nii\n",
      "274\n"
     ]
    },
    {
     "name": "stderr",
     "output_type": "stream",
     "text": [
      "pixdim[1,2,3] should be non-zero; setting 0 dims to 1\n"
     ]
    },
    {
     "name": "stdout",
     "output_type": "stream",
     "text": [
      "(316, 59421)\n",
      "/home/qing/Documents/tfMRI_Language_preproc/200917_3T_tfMRI_LANGUAGE_preproc/tfMRI_LANGUAGE_LR_Atlas_MSMAll.dtseries.nii\n",
      "275\n"
     ]
    },
    {
     "name": "stderr",
     "output_type": "stream",
     "text": [
      "pixdim[1,2,3] should be non-zero; setting 0 dims to 1\n"
     ]
    },
    {
     "name": "stdout",
     "output_type": "stream",
     "text": [
      "(316, 59421)\n",
      "/home/qing/Documents/tfMRI_Language_preproc/303119_3T_tfMRI_LANGUAGE_preproc/tfMRI_LANGUAGE_LR_Atlas_MSMAll.dtseries.nii\n",
      "276\n"
     ]
    },
    {
     "name": "stderr",
     "output_type": "stream",
     "text": [
      "pixdim[1,2,3] should be non-zero; setting 0 dims to 1\n"
     ]
    },
    {
     "name": "stdout",
     "output_type": "stream",
     "text": [
      "(316, 59421)\n",
      "/home/qing/Documents/tfMRI_Language_preproc/622236_3T_tfMRI_LANGUAGE_preproc/tfMRI_LANGUAGE_LR_Atlas_MSMAll.dtseries.nii\n",
      "277\n"
     ]
    },
    {
     "name": "stderr",
     "output_type": "stream",
     "text": [
      "pixdim[1,2,3] should be non-zero; setting 0 dims to 1\n"
     ]
    },
    {
     "name": "stdout",
     "output_type": "stream",
     "text": [
      "(316, 59421)\n",
      "/home/qing/Documents/tfMRI_Language_preproc/171532_3T_tfMRI_LANGUAGE_preproc/tfMRI_LANGUAGE_LR_Atlas_MSMAll.dtseries.nii\n",
      "278\n"
     ]
    },
    {
     "name": "stderr",
     "output_type": "stream",
     "text": [
      "pixdim[1,2,3] should be non-zero; setting 0 dims to 1\n"
     ]
    },
    {
     "name": "stdout",
     "output_type": "stream",
     "text": [
      "(316, 59421)\n",
      "/home/qing/Documents/tfMRI_Language_preproc/137128_3T_tfMRI_LANGUAGE_preproc/tfMRI_LANGUAGE_LR_Atlas_MSMAll.dtseries.nii\n",
      "279\n"
     ]
    },
    {
     "name": "stderr",
     "output_type": "stream",
     "text": [
      "pixdim[1,2,3] should be non-zero; setting 0 dims to 1\n"
     ]
    },
    {
     "name": "stdout",
     "output_type": "stream",
     "text": [
      "(316, 59421)\n",
      "/home/qing/Documents/tfMRI_Language_preproc/818859_3T_tfMRI_LANGUAGE_preproc/tfMRI_LANGUAGE_LR_Atlas_MSMAll.dtseries.nii\n",
      "280\n"
     ]
    },
    {
     "name": "stderr",
     "output_type": "stream",
     "text": [
      "pixdim[1,2,3] should be non-zero; setting 0 dims to 1\n"
     ]
    },
    {
     "name": "stdout",
     "output_type": "stream",
     "text": [
      "(316, 59421)\n",
      "/home/qing/Documents/tfMRI_Language_preproc/395958_3T_tfMRI_LANGUAGE_preproc/tfMRI_LANGUAGE_LR_Atlas_MSMAll.dtseries.nii\n",
      "281\n"
     ]
    },
    {
     "name": "stderr",
     "output_type": "stream",
     "text": [
      "pixdim[1,2,3] should be non-zero; setting 0 dims to 1\n"
     ]
    },
    {
     "name": "stdout",
     "output_type": "stream",
     "text": [
      "(316, 59421)\n",
      "/home/qing/Documents/tfMRI_Language_preproc/192035_3T_tfMRI_LANGUAGE_preproc/tfMRI_LANGUAGE_LR_Atlas_MSMAll.dtseries.nii\n",
      "282\n"
     ]
    },
    {
     "name": "stderr",
     "output_type": "stream",
     "text": [
      "pixdim[1,2,3] should be non-zero; setting 0 dims to 1\n"
     ]
    },
    {
     "name": "stdout",
     "output_type": "stream",
     "text": [
      "(316, 59421)\n",
      "/home/qing/Documents/tfMRI_Language_preproc/268850_3T_tfMRI_LANGUAGE_preproc/tfMRI_LANGUAGE_LR_Atlas_MSMAll.dtseries.nii\n",
      "283\n"
     ]
    },
    {
     "name": "stderr",
     "output_type": "stream",
     "text": [
      "pixdim[1,2,3] should be non-zero; setting 0 dims to 1\n"
     ]
    },
    {
     "name": "stdout",
     "output_type": "stream",
     "text": [
      "(316, 59421)\n",
      "/home/qing/Documents/tfMRI_Language_preproc/192540_3T_tfMRI_LANGUAGE_preproc/tfMRI_LANGUAGE_LR_Atlas_MSMAll.dtseries.nii\n",
      "284\n"
     ]
    },
    {
     "name": "stderr",
     "output_type": "stream",
     "text": [
      "pixdim[1,2,3] should be non-zero; setting 0 dims to 1\n"
     ]
    },
    {
     "name": "stdout",
     "output_type": "stream",
     "text": [
      "(316, 59421)\n",
      "/home/qing/Documents/tfMRI_Language_preproc/162935_3T_tfMRI_LANGUAGE_preproc/tfMRI_LANGUAGE_LR_Atlas_MSMAll.dtseries.nii\n",
      "285\n"
     ]
    },
    {
     "name": "stderr",
     "output_type": "stream",
     "text": [
      "pixdim[1,2,3] should be non-zero; setting 0 dims to 1\n"
     ]
    },
    {
     "name": "stdout",
     "output_type": "stream",
     "text": [
      "(316, 59421)\n",
      "/home/qing/Documents/tfMRI_Language_preproc/568963_3T_tfMRI_LANGUAGE_preproc/tfMRI_LANGUAGE_LR_Atlas_MSMAll.dtseries.nii\n",
      "286\n"
     ]
    },
    {
     "name": "stderr",
     "output_type": "stream",
     "text": [
      "pixdim[1,2,3] should be non-zero; setting 0 dims to 1\n"
     ]
    },
    {
     "name": "stdout",
     "output_type": "stream",
     "text": [
      "(316, 59421)\n",
      "/home/qing/Documents/tfMRI_Language_preproc/308129_3T_tfMRI_LANGUAGE_preproc/tfMRI_LANGUAGE_LR_Atlas_MSMAll.dtseries.nii\n",
      "287\n"
     ]
    },
    {
     "name": "stderr",
     "output_type": "stream",
     "text": [
      "pixdim[1,2,3] should be non-zero; setting 0 dims to 1\n"
     ]
    },
    {
     "name": "stdout",
     "output_type": "stream",
     "text": [
      "(316, 59421)\n",
      "/home/qing/Documents/tfMRI_Language_preproc/197550_3T_tfMRI_LANGUAGE_preproc/tfMRI_LANGUAGE_LR_Atlas_MSMAll.dtseries.nii\n",
      "288\n"
     ]
    },
    {
     "name": "stderr",
     "output_type": "stream",
     "text": [
      "pixdim[1,2,3] should be non-zero; setting 0 dims to 1\n"
     ]
    },
    {
     "name": "stdout",
     "output_type": "stream",
     "text": [
      "(316, 59421)\n",
      "/home/qing/Documents/tfMRI_Language_preproc/856463_3T_tfMRI_LANGUAGE_preproc/tfMRI_LANGUAGE_LR_Atlas_MSMAll.dtseries.nii\n",
      "289\n"
     ]
    },
    {
     "name": "stderr",
     "output_type": "stream",
     "text": [
      "pixdim[1,2,3] should be non-zero; setting 0 dims to 1\n"
     ]
    },
    {
     "name": "stdout",
     "output_type": "stream",
     "text": [
      "(316, 59421)\n",
      "/home/qing/Documents/tfMRI_Language_preproc/769064_3T_tfMRI_LANGUAGE_preproc/tfMRI_LANGUAGE_LR_Atlas_MSMAll.dtseries.nii\n",
      "290\n"
     ]
    },
    {
     "name": "stderr",
     "output_type": "stream",
     "text": [
      "pixdim[1,2,3] should be non-zero; setting 0 dims to 1\n"
     ]
    },
    {
     "name": "stdout",
     "output_type": "stream",
     "text": [
      "(316, 59421)\n",
      "/home/qing/Documents/tfMRI_Language_preproc/158035_3T_tfMRI_LANGUAGE_preproc/tfMRI_LANGUAGE_LR_Atlas_MSMAll.dtseries.nii\n",
      "291\n"
     ]
    },
    {
     "name": "stderr",
     "output_type": "stream",
     "text": [
      "pixdim[1,2,3] should be non-zero; setting 0 dims to 1\n"
     ]
    },
    {
     "name": "stdout",
     "output_type": "stream",
     "text": [
      "(316, 59421)\n",
      "/home/qing/Documents/tfMRI_Language_preproc/138837_3T_tfMRI_LANGUAGE_preproc/tfMRI_LANGUAGE_LR_Atlas_MSMAll.dtseries.nii\n",
      "292\n"
     ]
    },
    {
     "name": "stderr",
     "output_type": "stream",
     "text": [
      "pixdim[1,2,3] should be non-zero; setting 0 dims to 1\n"
     ]
    },
    {
     "name": "stdout",
     "output_type": "stream",
     "text": [
      "(316, 59421)\n",
      "/home/qing/Documents/tfMRI_Language_preproc/126628_3T_tfMRI_LANGUAGE_preproc/tfMRI_LANGUAGE_LR_Atlas_MSMAll.dtseries.nii\n",
      "293\n"
     ]
    },
    {
     "name": "stderr",
     "output_type": "stream",
     "text": [
      "pixdim[1,2,3] should be non-zero; setting 0 dims to 1\n"
     ]
    },
    {
     "name": "stdout",
     "output_type": "stream",
     "text": [
      "(316, 59421)\n",
      "/home/qing/Documents/tfMRI_Language_preproc/519950_3T_tfMRI_LANGUAGE_preproc/tfMRI_LANGUAGE_LR_Atlas_MSMAll.dtseries.nii\n",
      "294\n"
     ]
    },
    {
     "name": "stderr",
     "output_type": "stream",
     "text": [
      "pixdim[1,2,3] should be non-zero; setting 0 dims to 1\n"
     ]
    },
    {
     "name": "stdout",
     "output_type": "stream",
     "text": [
      "(316, 59421)\n",
      "/home/qing/Documents/tfMRI_Language_preproc/441939_3T_tfMRI_LANGUAGE_preproc/tfMRI_LANGUAGE_LR_Atlas_MSMAll.dtseries.nii\n",
      "295\n"
     ]
    },
    {
     "name": "stderr",
     "output_type": "stream",
     "text": [
      "pixdim[1,2,3] should be non-zero; setting 0 dims to 1\n"
     ]
    },
    {
     "name": "stdout",
     "output_type": "stream",
     "text": [
      "(316, 59421)\n",
      "/home/qing/Documents/tfMRI_Language_preproc/135730_3T_tfMRI_LANGUAGE_preproc/tfMRI_LANGUAGE_LR_Atlas_MSMAll.dtseries.nii\n",
      "296\n"
     ]
    },
    {
     "name": "stderr",
     "output_type": "stream",
     "text": [
      "pixdim[1,2,3] should be non-zero; setting 0 dims to 1\n"
     ]
    },
    {
     "name": "stdout",
     "output_type": "stream",
     "text": [
      "(316, 59421)\n",
      "/home/qing/Documents/tfMRI_Language_preproc/145127_3T_tfMRI_LANGUAGE_preproc/tfMRI_LANGUAGE_LR_Atlas_MSMAll.dtseries.nii\n",
      "297\n"
     ]
    },
    {
     "name": "stderr",
     "output_type": "stream",
     "text": [
      "pixdim[1,2,3] should be non-zero; setting 0 dims to 1\n"
     ]
    },
    {
     "name": "stdout",
     "output_type": "stream",
     "text": [
      "(316, 59421)\n",
      "/home/qing/Documents/tfMRI_Language_preproc/205826_3T_tfMRI_LANGUAGE_preproc/tfMRI_LANGUAGE_LR_Atlas_MSMAll.dtseries.nii\n",
      "298\n"
     ]
    },
    {
     "name": "stderr",
     "output_type": "stream",
     "text": [
      "pixdim[1,2,3] should be non-zero; setting 0 dims to 1\n"
     ]
    },
    {
     "name": "stdout",
     "output_type": "stream",
     "text": [
      "(316, 59421)\n",
      "/home/qing/Documents/tfMRI_Language_preproc/148840_3T_tfMRI_LANGUAGE_preproc/tfMRI_LANGUAGE_LR_Atlas_MSMAll.dtseries.nii\n",
      "299\n"
     ]
    },
    {
     "name": "stderr",
     "output_type": "stream",
     "text": [
      "pixdim[1,2,3] should be non-zero; setting 0 dims to 1\n"
     ]
    },
    {
     "name": "stdout",
     "output_type": "stream",
     "text": [
      "(316, 59421)\n",
      "/home/qing/Documents/tfMRI_Language_preproc/202113_3T_tfMRI_LANGUAGE_preproc/tfMRI_LANGUAGE_LR_Atlas_MSMAll.dtseries.nii\n",
      "300\n"
     ]
    },
    {
     "name": "stderr",
     "output_type": "stream",
     "text": [
      "pixdim[1,2,3] should be non-zero; setting 0 dims to 1\n"
     ]
    },
    {
     "name": "stdout",
     "output_type": "stream",
     "text": [
      "(316, 59421)\n",
      "/home/qing/Documents/tfMRI_Language_preproc/910443_3T_tfMRI_LANGUAGE_preproc/tfMRI_LANGUAGE_LR_Atlas_MSMAll.dtseries.nii\n",
      "301\n"
     ]
    },
    {
     "name": "stderr",
     "output_type": "stream",
     "text": [
      "pixdim[1,2,3] should be non-zero; setting 0 dims to 1\n"
     ]
    },
    {
     "name": "stdout",
     "output_type": "stream",
     "text": [
      "(316, 59421)\n",
      "/home/qing/Documents/tfMRI_Language_preproc/275645_3T_tfMRI_LANGUAGE_preproc/tfMRI_LANGUAGE_LR_Atlas_MSMAll.dtseries.nii\n",
      "302\n"
     ]
    },
    {
     "name": "stderr",
     "output_type": "stream",
     "text": [
      "pixdim[1,2,3] should be non-zero; setting 0 dims to 1\n"
     ]
    },
    {
     "name": "stdout",
     "output_type": "stream",
     "text": [
      "(316, 59421)\n",
      "/home/qing/Documents/tfMRI_Language_preproc/173940_3T_tfMRI_LANGUAGE_preproc/tfMRI_LANGUAGE_LR_Atlas_MSMAll.dtseries.nii\n",
      "303\n"
     ]
    },
    {
     "name": "stderr",
     "output_type": "stream",
     "text": [
      "pixdim[1,2,3] should be non-zero; setting 0 dims to 1\n"
     ]
    },
    {
     "name": "stdout",
     "output_type": "stream",
     "text": [
      "(316, 59421)\n",
      "/home/qing/Documents/tfMRI_Language_preproc/285446_3T_tfMRI_LANGUAGE_preproc/tfMRI_LANGUAGE_LR_Atlas_MSMAll.dtseries.nii\n",
      "304\n"
     ]
    },
    {
     "name": "stderr",
     "output_type": "stream",
     "text": [
      "pixdim[1,2,3] should be non-zero; setting 0 dims to 1\n"
     ]
    },
    {
     "name": "stdout",
     "output_type": "stream",
     "text": [
      "(316, 59421)\n",
      "/home/qing/Documents/tfMRI_Language_preproc/664757_3T_tfMRI_LANGUAGE_preproc/tfMRI_LANGUAGE_LR_Atlas_MSMAll.dtseries.nii\n",
      "305\n"
     ]
    },
    {
     "name": "stderr",
     "output_type": "stream",
     "text": [
      "pixdim[1,2,3] should be non-zero; setting 0 dims to 1\n"
     ]
    },
    {
     "name": "stdout",
     "output_type": "stream",
     "text": [
      "(316, 59421)\n",
      "/home/qing/Documents/tfMRI_Language_preproc/365343_3T_tfMRI_LANGUAGE_preproc/tfMRI_LANGUAGE_LR_Atlas_MSMAll.dtseries.nii\n",
      "306\n"
     ]
    },
    {
     "name": "stderr",
     "output_type": "stream",
     "text": [
      "pixdim[1,2,3] should be non-zero; setting 0 dims to 1\n"
     ]
    },
    {
     "name": "stdout",
     "output_type": "stream",
     "text": [
      "(316, 59421)\n",
      "/home/qing/Documents/tfMRI_Language_preproc/100206_3T_tfMRI_LANGUAGE_preproc/tfMRI_LANGUAGE_LR_Atlas_MSMAll.dtseries.nii\n",
      "307\n"
     ]
    },
    {
     "name": "stderr",
     "output_type": "stream",
     "text": [
      "pixdim[1,2,3] should be non-zero; setting 0 dims to 1\n"
     ]
    },
    {
     "name": "stdout",
     "output_type": "stream",
     "text": [
      "(316, 59421)\n",
      "/home/qing/Documents/tfMRI_Language_preproc/211417_3T_tfMRI_LANGUAGE_preproc/tfMRI_LANGUAGE_LR_Atlas_MSMAll.dtseries.nii\n",
      "308\n"
     ]
    },
    {
     "name": "stderr",
     "output_type": "stream",
     "text": [
      "pixdim[1,2,3] should be non-zero; setting 0 dims to 1\n"
     ]
    },
    {
     "name": "stdout",
     "output_type": "stream",
     "text": [
      "(316, 59421)\n",
      "/home/qing/Documents/tfMRI_Language_preproc/250932_3T_tfMRI_LANGUAGE_preproc/tfMRI_LANGUAGE_LR_Atlas_MSMAll.dtseries.nii\n",
      "309\n"
     ]
    },
    {
     "name": "stderr",
     "output_type": "stream",
     "text": [
      "pixdim[1,2,3] should be non-zero; setting 0 dims to 1\n"
     ]
    },
    {
     "name": "stdout",
     "output_type": "stream",
     "text": [
      "(316, 59421)\n",
      "/home/qing/Documents/tfMRI_Language_preproc/151728_3T_tfMRI_LANGUAGE_preproc/tfMRI_LANGUAGE_LR_Atlas_MSMAll.dtseries.nii\n",
      "310\n"
     ]
    },
    {
     "name": "stderr",
     "output_type": "stream",
     "text": [
      "pixdim[1,2,3] should be non-zero; setting 0 dims to 1\n"
     ]
    },
    {
     "name": "stdout",
     "output_type": "stream",
     "text": [
      "(316, 59421)\n",
      "/home/qing/Documents/tfMRI_Language_preproc/176037_3T_tfMRI_LANGUAGE_preproc/tfMRI_LANGUAGE_LR_Atlas_MSMAll.dtseries.nii\n",
      "311\n"
     ]
    },
    {
     "name": "stderr",
     "output_type": "stream",
     "text": [
      "pixdim[1,2,3] should be non-zero; setting 0 dims to 1\n"
     ]
    },
    {
     "name": "stdout",
     "output_type": "stream",
     "text": [
      "(316, 59421)\n",
      "/home/qing/Documents/tfMRI_Language_preproc/898176_3T_tfMRI_LANGUAGE_preproc/tfMRI_LANGUAGE_LR_Atlas_MSMAll.dtseries.nii\n",
      "312\n"
     ]
    },
    {
     "name": "stderr",
     "output_type": "stream",
     "text": [
      "pixdim[1,2,3] should be non-zero; setting 0 dims to 1\n"
     ]
    },
    {
     "name": "stdout",
     "output_type": "stream",
     "text": [
      "(316, 59421)\n",
      "/home/qing/Documents/tfMRI_Language_preproc/146432_3T_tfMRI_LANGUAGE_preproc/tfMRI_LANGUAGE_LR_Atlas_MSMAll.dtseries.nii\n",
      "313\n"
     ]
    },
    {
     "name": "stderr",
     "output_type": "stream",
     "text": [
      "pixdim[1,2,3] should be non-zero; setting 0 dims to 1\n"
     ]
    },
    {
     "name": "stdout",
     "output_type": "stream",
     "text": [
      "(316, 59421)\n",
      "/home/qing/Documents/tfMRI_Language_preproc/212318_3T_tfMRI_LANGUAGE_preproc/tfMRI_LANGUAGE_LR_Atlas_MSMAll.dtseries.nii\n",
      "314\n"
     ]
    },
    {
     "name": "stderr",
     "output_type": "stream",
     "text": [
      "pixdim[1,2,3] should be non-zero; setting 0 dims to 1\n"
     ]
    },
    {
     "name": "stdout",
     "output_type": "stream",
     "text": [
      "(316, 59421)\n",
      "/home/qing/Documents/tfMRI_Language_preproc/923755_3T_tfMRI_LANGUAGE_preproc/tfMRI_LANGUAGE_LR_Atlas_MSMAll.dtseries.nii\n",
      "315\n"
     ]
    },
    {
     "name": "stderr",
     "output_type": "stream",
     "text": [
      "pixdim[1,2,3] should be non-zero; setting 0 dims to 1\n"
     ]
    },
    {
     "name": "stdout",
     "output_type": "stream",
     "text": [
      "(316, 59421)\n",
      "/home/qing/Documents/tfMRI_Language_preproc/644044_3T_tfMRI_LANGUAGE_preproc/tfMRI_LANGUAGE_LR_Atlas_MSMAll.dtseries.nii\n",
      "316\n"
     ]
    },
    {
     "name": "stderr",
     "output_type": "stream",
     "text": [
      "pixdim[1,2,3] should be non-zero; setting 0 dims to 1\n"
     ]
    },
    {
     "name": "stdout",
     "output_type": "stream",
     "text": [
      "(316, 59421)\n",
      "/home/qing/Documents/tfMRI_Language_preproc/147737_3T_tfMRI_LANGUAGE_preproc/tfMRI_LANGUAGE_LR_Atlas_MSMAll.dtseries.nii\n",
      "317\n"
     ]
    },
    {
     "name": "stderr",
     "output_type": "stream",
     "text": [
      "pixdim[1,2,3] should be non-zero; setting 0 dims to 1\n"
     ]
    },
    {
     "name": "stdout",
     "output_type": "stream",
     "text": [
      "(316, 59421)\n",
      "/home/qing/Documents/tfMRI_Language_preproc/729557_3T_tfMRI_LANGUAGE_preproc/tfMRI_LANGUAGE_LR_Atlas_MSMAll.dtseries.nii\n",
      "318\n"
     ]
    },
    {
     "name": "stderr",
     "output_type": "stream",
     "text": [
      "pixdim[1,2,3] should be non-zero; setting 0 dims to 1\n"
     ]
    },
    {
     "name": "stdout",
     "output_type": "stream",
     "text": [
      "(316, 59421)\n",
      "/home/qing/Documents/tfMRI_Language_preproc/212419_3T_tfMRI_LANGUAGE_preproc/tfMRI_LANGUAGE_LR_Atlas_MSMAll.dtseries.nii\n",
      "319\n"
     ]
    },
    {
     "name": "stderr",
     "output_type": "stream",
     "text": [
      "pixdim[1,2,3] should be non-zero; setting 0 dims to 1\n"
     ]
    },
    {
     "name": "stdout",
     "output_type": "stream",
     "text": [
      "(316, 59421)\n",
      "/home/qing/Documents/tfMRI_Language_preproc/289555_3T_tfMRI_LANGUAGE_preproc/tfMRI_LANGUAGE_LR_Atlas_MSMAll.dtseries.nii\n",
      "320\n"
     ]
    },
    {
     "name": "stderr",
     "output_type": "stream",
     "text": [
      "pixdim[1,2,3] should be non-zero; setting 0 dims to 1\n"
     ]
    },
    {
     "name": "stdout",
     "output_type": "stream",
     "text": [
      "(316, 59421)\n",
      "/home/qing/Documents/tfMRI_Language_preproc/198249_3T_tfMRI_LANGUAGE_preproc/tfMRI_LANGUAGE_LR_Atlas_MSMAll.dtseries.nii\n",
      "321\n"
     ]
    },
    {
     "name": "stderr",
     "output_type": "stream",
     "text": [
      "pixdim[1,2,3] should be non-zero; setting 0 dims to 1\n"
     ]
    },
    {
     "name": "stdout",
     "output_type": "stream",
     "text": [
      "(316, 59421)\n",
      "/home/qing/Documents/tfMRI_Language_preproc/627852_3T_tfMRI_LANGUAGE_preproc/tfMRI_LANGUAGE_LR_Atlas_MSMAll.dtseries.nii\n",
      "322\n"
     ]
    },
    {
     "name": "stderr",
     "output_type": "stream",
     "text": [
      "pixdim[1,2,3] should be non-zero; setting 0 dims to 1\n"
     ]
    },
    {
     "name": "stdout",
     "output_type": "stream",
     "text": [
      "(316, 59421)\n",
      "/home/qing/Documents/tfMRI_Language_preproc/121416_3T_tfMRI_LANGUAGE_preproc/tfMRI_LANGUAGE_LR_Atlas_MSMAll.dtseries.nii\n",
      "323\n"
     ]
    },
    {
     "name": "stderr",
     "output_type": "stream",
     "text": [
      "pixdim[1,2,3] should be non-zero; setting 0 dims to 1\n"
     ]
    },
    {
     "name": "stdout",
     "output_type": "stream",
     "text": [
      "(316, 59421)\n",
      "/home/qing/Documents/tfMRI_Language_preproc/580650_3T_tfMRI_LANGUAGE_preproc/tfMRI_LANGUAGE_LR_Atlas_MSMAll.dtseries.nii\n",
      "324\n"
     ]
    },
    {
     "name": "stderr",
     "output_type": "stream",
     "text": [
      "pixdim[1,2,3] should be non-zero; setting 0 dims to 1\n"
     ]
    },
    {
     "name": "stdout",
     "output_type": "stream",
     "text": [
      "(316, 59421)\n",
      "/home/qing/Documents/tfMRI_Language_preproc/567961_3T_tfMRI_LANGUAGE_preproc/tfMRI_LANGUAGE_LR_Atlas_MSMAll.dtseries.nii\n",
      "325\n"
     ]
    },
    {
     "name": "stderr",
     "output_type": "stream",
     "text": [
      "pixdim[1,2,3] should be non-zero; setting 0 dims to 1\n"
     ]
    },
    {
     "name": "stdout",
     "output_type": "stream",
     "text": [
      "(316, 59421)\n",
      "/home/qing/Documents/tfMRI_Language_preproc/930449_3T_tfMRI_LANGUAGE_preproc/tfMRI_LANGUAGE_LR_Atlas_MSMAll.dtseries.nii\n",
      "326\n"
     ]
    },
    {
     "name": "stderr",
     "output_type": "stream",
     "text": [
      "pixdim[1,2,3] should be non-zero; setting 0 dims to 1\n"
     ]
    },
    {
     "name": "stdout",
     "output_type": "stream",
     "text": [
      "(316, 59421)\n",
      "/home/qing/Documents/tfMRI_Language_preproc/170934_3T_tfMRI_LANGUAGE_preproc/tfMRI_LANGUAGE_LR_Atlas_MSMAll.dtseries.nii\n",
      "327\n"
     ]
    },
    {
     "name": "stderr",
     "output_type": "stream",
     "text": [
      "pixdim[1,2,3] should be non-zero; setting 0 dims to 1\n"
     ]
    },
    {
     "name": "stdout",
     "output_type": "stream",
     "text": [
      "(316, 59421)\n",
      "/home/qing/Documents/tfMRI_Language_preproc/878776_3T_tfMRI_LANGUAGE_preproc/tfMRI_LANGUAGE_LR_Atlas_MSMAll.dtseries.nii\n",
      "328\n"
     ]
    },
    {
     "name": "stderr",
     "output_type": "stream",
     "text": [
      "pixdim[1,2,3] should be non-zero; setting 0 dims to 1\n"
     ]
    },
    {
     "name": "stdout",
     "output_type": "stream",
     "text": [
      "(316, 59421)\n",
      "/home/qing/Documents/tfMRI_Language_preproc/599671_3T_tfMRI_LANGUAGE_preproc/tfMRI_LANGUAGE_LR_Atlas_MSMAll.dtseries.nii\n",
      "329\n"
     ]
    },
    {
     "name": "stderr",
     "output_type": "stream",
     "text": [
      "pixdim[1,2,3] should be non-zero; setting 0 dims to 1\n"
     ]
    },
    {
     "name": "stdout",
     "output_type": "stream",
     "text": [
      "(316, 59421)\n",
      "/home/qing/Documents/tfMRI_Language_preproc/136732_3T_tfMRI_LANGUAGE_preproc/tfMRI_LANGUAGE_LR_Atlas_MSMAll.dtseries.nii\n",
      "330\n"
     ]
    },
    {
     "name": "stderr",
     "output_type": "stream",
     "text": [
      "pixdim[1,2,3] should be non-zero; setting 0 dims to 1\n"
     ]
    },
    {
     "name": "stdout",
     "output_type": "stream",
     "text": [
      "(316, 59421)\n",
      "/home/qing/Documents/tfMRI_Language_preproc/154229_3T_tfMRI_LANGUAGE_preproc/tfMRI_LANGUAGE_LR_Atlas_MSMAll.dtseries.nii\n",
      "331\n"
     ]
    },
    {
     "name": "stderr",
     "output_type": "stream",
     "text": [
      "pixdim[1,2,3] should be non-zero; setting 0 dims to 1\n"
     ]
    },
    {
     "name": "stdout",
     "output_type": "stream",
     "text": [
      "(316, 59421)\n",
      "/home/qing/Documents/tfMRI_Language_preproc/128127_3T_tfMRI_LANGUAGE_preproc/tfMRI_LANGUAGE_LR_Atlas_MSMAll.dtseries.nii\n",
      "332\n"
     ]
    },
    {
     "name": "stderr",
     "output_type": "stream",
     "text": [
      "pixdim[1,2,3] should be non-zero; setting 0 dims to 1\n"
     ]
    },
    {
     "name": "stdout",
     "output_type": "stream",
     "text": [
      "(316, 59421)\n",
      "/home/qing/Documents/tfMRI_Language_preproc/237334_3T_tfMRI_LANGUAGE_preproc/tfMRI_LANGUAGE_LR_Atlas_MSMAll.dtseries.nii\n",
      "333\n"
     ]
    },
    {
     "name": "stderr",
     "output_type": "stream",
     "text": [
      "pixdim[1,2,3] should be non-zero; setting 0 dims to 1\n"
     ]
    },
    {
     "name": "stdout",
     "output_type": "stream",
     "text": [
      "(316, 59421)\n",
      "/home/qing/Documents/tfMRI_Language_preproc/358144_3T_tfMRI_LANGUAGE_preproc/tfMRI_LANGUAGE_LR_Atlas_MSMAll.dtseries.nii\n",
      "334\n"
     ]
    },
    {
     "name": "stderr",
     "output_type": "stream",
     "text": [
      "pixdim[1,2,3] should be non-zero; setting 0 dims to 1\n"
     ]
    },
    {
     "name": "stdout",
     "output_type": "stream",
     "text": [
      "(316, 59421)\n",
      "/home/qing/Documents/tfMRI_Language_preproc/123117_3T_tfMRI_LANGUAGE_preproc/tfMRI_LANGUAGE_LR_Atlas_MSMAll.dtseries.nii\n",
      "335\n"
     ]
    },
    {
     "name": "stderr",
     "output_type": "stream",
     "text": [
      "pixdim[1,2,3] should be non-zero; setting 0 dims to 1\n"
     ]
    },
    {
     "name": "stdout",
     "output_type": "stream",
     "text": [
      "(316, 59421)\n",
      "/home/qing/Documents/tfMRI_Language_preproc/188448_3T_tfMRI_LANGUAGE_preproc/tfMRI_LANGUAGE_LR_Atlas_MSMAll.dtseries.nii\n",
      "336\n"
     ]
    },
    {
     "name": "stderr",
     "output_type": "stream",
     "text": [
      "pixdim[1,2,3] should be non-zero; setting 0 dims to 1\n"
     ]
    },
    {
     "name": "stdout",
     "output_type": "stream",
     "text": [
      "(316, 59421)\n",
      "/home/qing/Documents/tfMRI_Language_preproc/656657_3T_tfMRI_LANGUAGE_preproc/tfMRI_LANGUAGE_LR_Atlas_MSMAll.dtseries.nii\n",
      "337\n"
     ]
    },
    {
     "name": "stderr",
     "output_type": "stream",
     "text": [
      "pixdim[1,2,3] should be non-zero; setting 0 dims to 1\n"
     ]
    },
    {
     "name": "stdout",
     "output_type": "stream",
     "text": [
      "(316, 59421)\n",
      "/home/qing/Documents/tfMRI_Language_preproc/148032_3T_tfMRI_LANGUAGE_preproc/tfMRI_LANGUAGE_LR_Atlas_MSMAll.dtseries.nii\n",
      "338\n"
     ]
    },
    {
     "name": "stderr",
     "output_type": "stream",
     "text": [
      "pixdim[1,2,3] should be non-zero; setting 0 dims to 1\n"
     ]
    },
    {
     "name": "stdout",
     "output_type": "stream",
     "text": [
      "(316, 59421)\n",
      "/home/qing/Documents/tfMRI_Language_preproc/137936_3T_tfMRI_LANGUAGE_preproc/tfMRI_LANGUAGE_LR_Atlas_MSMAll.dtseries.nii\n",
      "339\n"
     ]
    },
    {
     "name": "stderr",
     "output_type": "stream",
     "text": [
      "pixdim[1,2,3] should be non-zero; setting 0 dims to 1\n"
     ]
    },
    {
     "name": "stdout",
     "output_type": "stream",
     "text": [
      "(316, 59421)\n",
      "/home/qing/Documents/tfMRI_Language_preproc/183337_3T_tfMRI_LANGUAGE_preproc/tfMRI_LANGUAGE_LR_Atlas_MSMAll.dtseries.nii\n",
      "340\n"
     ]
    },
    {
     "name": "stderr",
     "output_type": "stream",
     "text": [
      "pixdim[1,2,3] should be non-zero; setting 0 dims to 1\n"
     ]
    },
    {
     "name": "stdout",
     "output_type": "stream",
     "text": [
      "(316, 59421)\n",
      "/home/qing/Documents/tfMRI_Language_preproc/927359_3T_tfMRI_LANGUAGE_preproc/tfMRI_LANGUAGE_LR_Atlas_MSMAll.dtseries.nii\n",
      "341\n"
     ]
    },
    {
     "name": "stderr",
     "output_type": "stream",
     "text": [
      "pixdim[1,2,3] should be non-zero; setting 0 dims to 1\n"
     ]
    },
    {
     "name": "stdout",
     "output_type": "stream",
     "text": [
      "(316, 59421)\n",
      "/home/qing/Documents/tfMRI_Language_preproc/744553_3T_tfMRI_LANGUAGE_preproc/tfMRI_LANGUAGE_LR_Atlas_MSMAll.dtseries.nii\n",
      "342\n"
     ]
    },
    {
     "name": "stderr",
     "output_type": "stream",
     "text": [
      "pixdim[1,2,3] should be non-zero; setting 0 dims to 1\n"
     ]
    },
    {
     "name": "stdout",
     "output_type": "stream",
     "text": [
      "(316, 59421)\n",
      "/home/qing/Documents/tfMRI_Language_preproc/113215_3T_tfMRI_LANGUAGE_preproc/tfMRI_LANGUAGE_LR_Atlas_MSMAll.dtseries.nii\n",
      "343\n"
     ]
    },
    {
     "name": "stderr",
     "output_type": "stream",
     "text": [
      "pixdim[1,2,3] should be non-zero; setting 0 dims to 1\n"
     ]
    },
    {
     "name": "stdout",
     "output_type": "stream",
     "text": [
      "(316, 59421)\n",
      "/home/qing/Documents/tfMRI_Language_preproc/891667_3T_tfMRI_LANGUAGE_preproc/tfMRI_LANGUAGE_LR_Atlas_MSMAll.dtseries.nii\n",
      "344\n"
     ]
    },
    {
     "name": "stderr",
     "output_type": "stream",
     "text": [
      "pixdim[1,2,3] should be non-zero; setting 0 dims to 1\n"
     ]
    },
    {
     "name": "stdout",
     "output_type": "stream",
     "text": [
      "(316, 59421)\n",
      "/home/qing/Documents/tfMRI_Language_preproc/150726_3T_tfMRI_LANGUAGE_preproc/tfMRI_LANGUAGE_LR_Atlas_MSMAll.dtseries.nii\n",
      "345\n"
     ]
    },
    {
     "name": "stderr",
     "output_type": "stream",
     "text": [
      "pixdim[1,2,3] should be non-zero; setting 0 dims to 1\n"
     ]
    },
    {
     "name": "stdout",
     "output_type": "stream",
     "text": [
      "(316, 59421)\n",
      "/home/qing/Documents/tfMRI_Language_preproc/379657_3T_tfMRI_LANGUAGE_preproc/tfMRI_LANGUAGE_LR_Atlas_MSMAll.dtseries.nii\n",
      "346\n"
     ]
    },
    {
     "name": "stderr",
     "output_type": "stream",
     "text": [
      "pixdim[1,2,3] should be non-zero; setting 0 dims to 1\n"
     ]
    },
    {
     "name": "stdout",
     "output_type": "stream",
     "text": [
      "(316, 59421)\n",
      "/home/qing/Documents/tfMRI_Language_preproc/167238_3T_tfMRI_LANGUAGE_preproc/tfMRI_LANGUAGE_LR_Atlas_MSMAll.dtseries.nii\n",
      "347\n"
     ]
    },
    {
     "name": "stderr",
     "output_type": "stream",
     "text": [
      "pixdim[1,2,3] should be non-zero; setting 0 dims to 1\n"
     ]
    },
    {
     "name": "stdout",
     "output_type": "stream",
     "text": [
      "(316, 59421)\n",
      "/home/qing/Documents/tfMRI_Language_preproc/835657_3T_tfMRI_LANGUAGE_preproc/tfMRI_LANGUAGE_LR_Atlas_MSMAll.dtseries.nii\n",
      "348\n"
     ]
    },
    {
     "name": "stderr",
     "output_type": "stream",
     "text": [
      "pixdim[1,2,3] should be non-zero; setting 0 dims to 1\n"
     ]
    },
    {
     "name": "stdout",
     "output_type": "stream",
     "text": [
      "(316, 59421)\n",
      "/home/qing/Documents/tfMRI_Language_preproc/153833_3T_tfMRI_LANGUAGE_preproc/tfMRI_LANGUAGE_LR_Atlas_MSMAll.dtseries.nii\n",
      "349\n"
     ]
    },
    {
     "name": "stderr",
     "output_type": "stream",
     "text": [
      "pixdim[1,2,3] should be non-zero; setting 0 dims to 1\n"
     ]
    },
    {
     "name": "stdout",
     "output_type": "stream",
     "text": [
      "(316, 59421)\n",
      "/home/qing/Documents/tfMRI_Language_preproc/465852_3T_tfMRI_LANGUAGE_preproc/tfMRI_LANGUAGE_LR_Atlas_MSMAll.dtseries.nii\n",
      "350\n"
     ]
    },
    {
     "name": "stderr",
     "output_type": "stream",
     "text": [
      "pixdim[1,2,3] should be non-zero; setting 0 dims to 1\n"
     ]
    },
    {
     "name": "stdout",
     "output_type": "stream",
     "text": [
      "(316, 59421)\n",
      "/home/qing/Documents/tfMRI_Language_preproc/210415_3T_tfMRI_LANGUAGE_preproc/tfMRI_LANGUAGE_LR_Atlas_MSMAll.dtseries.nii\n",
      "351\n"
     ]
    },
    {
     "name": "stderr",
     "output_type": "stream",
     "text": [
      "pixdim[1,2,3] should be non-zero; setting 0 dims to 1\n"
     ]
    },
    {
     "name": "stdout",
     "output_type": "stream",
     "text": [
      "(316, 59421)\n",
      "/home/qing/Documents/tfMRI_Language_preproc/106319_3T_tfMRI_LANGUAGE_preproc/tfMRI_LANGUAGE_LR_Atlas_MSMAll.dtseries.nii\n",
      "352\n"
     ]
    },
    {
     "name": "stderr",
     "output_type": "stream",
     "text": [
      "pixdim[1,2,3] should be non-zero; setting 0 dims to 1\n"
     ]
    },
    {
     "name": "stdout",
     "output_type": "stream",
     "text": [
      "(316, 59421)\n",
      "/home/qing/Documents/tfMRI_Language_preproc/182436_3T_tfMRI_LANGUAGE_preproc/tfMRI_LANGUAGE_LR_Atlas_MSMAll.dtseries.nii\n",
      "353\n"
     ]
    },
    {
     "name": "stderr",
     "output_type": "stream",
     "text": [
      "pixdim[1,2,3] should be non-zero; setting 0 dims to 1\n"
     ]
    },
    {
     "name": "stdout",
     "output_type": "stream",
     "text": [
      "(316, 59421)\n",
      "/home/qing/Documents/tfMRI_Language_preproc/456346_3T_tfMRI_LANGUAGE_preproc/tfMRI_LANGUAGE_LR_Atlas_MSMAll.dtseries.nii\n",
      "354\n"
     ]
    },
    {
     "name": "stderr",
     "output_type": "stream",
     "text": [
      "pixdim[1,2,3] should be non-zero; setting 0 dims to 1\n"
     ]
    },
    {
     "name": "stdout",
     "output_type": "stream",
     "text": [
      "(316, 59421)\n",
      "/home/qing/Documents/tfMRI_Language_preproc/947668_3T_tfMRI_LANGUAGE_preproc/tfMRI_LANGUAGE_LR_Atlas_MSMAll.dtseries.nii\n",
      "355\n"
     ]
    },
    {
     "name": "stderr",
     "output_type": "stream",
     "text": [
      "pixdim[1,2,3] should be non-zero; setting 0 dims to 1\n"
     ]
    },
    {
     "name": "stdout",
     "output_type": "stream",
     "text": [
      "(316, 59421)\n",
      "/home/qing/Documents/tfMRI_Language_preproc/113922_3T_tfMRI_LANGUAGE_preproc/tfMRI_LANGUAGE_LR_Atlas_MSMAll.dtseries.nii\n",
      "356\n"
     ]
    },
    {
     "name": "stderr",
     "output_type": "stream",
     "text": [
      "pixdim[1,2,3] should be non-zero; setting 0 dims to 1\n"
     ]
    },
    {
     "name": "stdout",
     "output_type": "stream",
     "text": [
      "(316, 59421)\n",
      "/home/qing/Documents/tfMRI_Language_preproc/210011_3T_tfMRI_LANGUAGE_preproc/tfMRI_LANGUAGE_LR_Atlas_MSMAll.dtseries.nii\n",
      "357\n"
     ]
    },
    {
     "name": "stderr",
     "output_type": "stream",
     "text": [
      "pixdim[1,2,3] should be non-zero; setting 0 dims to 1\n"
     ]
    },
    {
     "name": "stdout",
     "output_type": "stream",
     "text": [
      "(316, 59421)\n",
      "/home/qing/Documents/tfMRI_Language_preproc/339847_3T_tfMRI_LANGUAGE_preproc/tfMRI_LANGUAGE_LR_Atlas_MSMAll.dtseries.nii\n",
      "358\n"
     ]
    },
    {
     "name": "stderr",
     "output_type": "stream",
     "text": [
      "pixdim[1,2,3] should be non-zero; setting 0 dims to 1\n"
     ]
    },
    {
     "name": "stdout",
     "output_type": "stream",
     "text": [
      "(316, 59421)\n",
      "/home/qing/Documents/tfMRI_Language_preproc/151526_3T_tfMRI_LANGUAGE_preproc/tfMRI_LANGUAGE_LR_Atlas_MSMAll.dtseries.nii\n",
      "359\n"
     ]
    },
    {
     "name": "stderr",
     "output_type": "stream",
     "text": [
      "pixdim[1,2,3] should be non-zero; setting 0 dims to 1\n"
     ]
    },
    {
     "name": "stdout",
     "output_type": "stream",
     "text": [
      "(316, 59421)\n",
      "/home/qing/Documents/tfMRI_Language_preproc/192439_3T_tfMRI_LANGUAGE_preproc/tfMRI_LANGUAGE_LR_Atlas_MSMAll.dtseries.nii\n",
      "360\n"
     ]
    },
    {
     "name": "stderr",
     "output_type": "stream",
     "text": [
      "pixdim[1,2,3] should be non-zero; setting 0 dims to 1\n"
     ]
    },
    {
     "name": "stdout",
     "output_type": "stream",
     "text": [
      "(316, 59421)\n",
      "/home/qing/Documents/tfMRI_Language_preproc/317332_3T_tfMRI_LANGUAGE_preproc/tfMRI_LANGUAGE_LR_Atlas_MSMAll.dtseries.nii\n",
      "361\n"
     ]
    },
    {
     "name": "stderr",
     "output_type": "stream",
     "text": [
      "pixdim[1,2,3] should be non-zero; setting 0 dims to 1\n"
     ]
    },
    {
     "name": "stdout",
     "output_type": "stream",
     "text": [
      "(316, 59421)\n",
      "/home/qing/Documents/tfMRI_Language_preproc/169949_3T_tfMRI_LANGUAGE_preproc/tfMRI_LANGUAGE_LR_Atlas_MSMAll.dtseries.nii\n",
      "362\n"
     ]
    },
    {
     "name": "stderr",
     "output_type": "stream",
     "text": [
      "pixdim[1,2,3] should be non-zero; setting 0 dims to 1\n"
     ]
    },
    {
     "name": "stdout",
     "output_type": "stream",
     "text": [
      "(316, 59421)\n",
      "/home/qing/Documents/tfMRI_Language_preproc/168341_3T_tfMRI_LANGUAGE_preproc/tfMRI_LANGUAGE_LR_Atlas_MSMAll.dtseries.nii\n",
      "363\n"
     ]
    },
    {
     "name": "stderr",
     "output_type": "stream",
     "text": [
      "pixdim[1,2,3] should be non-zero; setting 0 dims to 1\n"
     ]
    },
    {
     "name": "stdout",
     "output_type": "stream",
     "text": [
      "(316, 59421)\n",
      "/home/qing/Documents/tfMRI_Language_preproc/812746_3T_tfMRI_LANGUAGE_preproc/tfMRI_LANGUAGE_LR_Atlas_MSMAll.dtseries.nii\n",
      "364\n"
     ]
    },
    {
     "name": "stderr",
     "output_type": "stream",
     "text": [
      "pixdim[1,2,3] should be non-zero; setting 0 dims to 1\n"
     ]
    },
    {
     "name": "stdout",
     "output_type": "stream",
     "text": [
      "(316, 59421)\n",
      "/home/qing/Documents/tfMRI_Language_preproc/172130_3T_tfMRI_LANGUAGE_preproc/tfMRI_LANGUAGE_LR_Atlas_MSMAll.dtseries.nii\n",
      "365\n"
     ]
    },
    {
     "name": "stderr",
     "output_type": "stream",
     "text": [
      "pixdim[1,2,3] should be non-zero; setting 0 dims to 1\n"
     ]
    },
    {
     "name": "stdout",
     "output_type": "stream",
     "text": [
      "(316, 59421)\n",
      "/home/qing/Documents/tfMRI_Language_preproc/645551_3T_tfMRI_LANGUAGE_preproc/tfMRI_LANGUAGE_LR_Atlas_MSMAll.dtseries.nii\n",
      "366\n"
     ]
    },
    {
     "name": "stderr",
     "output_type": "stream",
     "text": [
      "pixdim[1,2,3] should be non-zero; setting 0 dims to 1\n"
     ]
    },
    {
     "name": "stdout",
     "output_type": "stream",
     "text": [
      "(316, 59421)\n",
      "/home/qing/Documents/tfMRI_Language_preproc/896778_3T_tfMRI_LANGUAGE_preproc/tfMRI_LANGUAGE_LR_Atlas_MSMAll.dtseries.nii\n",
      "367\n"
     ]
    },
    {
     "name": "stderr",
     "output_type": "stream",
     "text": [
      "pixdim[1,2,3] should be non-zero; setting 0 dims to 1\n"
     ]
    },
    {
     "name": "stdout",
     "output_type": "stream",
     "text": [
      "(316, 59421)\n",
      "/home/qing/Documents/tfMRI_Language_preproc/189349_3T_tfMRI_LANGUAGE_preproc/tfMRI_LANGUAGE_LR_Atlas_MSMAll.dtseries.nii\n",
      "368\n"
     ]
    },
    {
     "name": "stderr",
     "output_type": "stream",
     "text": [
      "pixdim[1,2,3] should be non-zero; setting 0 dims to 1\n"
     ]
    },
    {
     "name": "stdout",
     "output_type": "stream",
     "text": [
      "(316, 59421)\n",
      "/home/qing/Documents/tfMRI_Language_preproc/788876_3T_tfMRI_LANGUAGE_preproc/tfMRI_LANGUAGE_LR_Atlas_MSMAll.dtseries.nii\n",
      "369\n"
     ]
    },
    {
     "name": "stderr",
     "output_type": "stream",
     "text": [
      "pixdim[1,2,3] should be non-zero; setting 0 dims to 1\n"
     ]
    },
    {
     "name": "stdout",
     "output_type": "stream",
     "text": [
      "(316, 59421)\n",
      "/home/qing/Documents/tfMRI_Language_preproc/187345_3T_tfMRI_LANGUAGE_preproc/tfMRI_LANGUAGE_LR_Atlas_MSMAll.dtseries.nii\n",
      "370\n"
     ]
    },
    {
     "name": "stderr",
     "output_type": "stream",
     "text": [
      "pixdim[1,2,3] should be non-zero; setting 0 dims to 1\n"
     ]
    },
    {
     "name": "stdout",
     "output_type": "stream",
     "text": [
      "(316, 59421)\n",
      "/home/qing/Documents/tfMRI_Language_preproc/346945_3T_tfMRI_LANGUAGE_preproc/tfMRI_LANGUAGE_LR_Atlas_MSMAll.dtseries.nii\n",
      "371\n"
     ]
    },
    {
     "name": "stderr",
     "output_type": "stream",
     "text": [
      "pixdim[1,2,3] should be non-zero; setting 0 dims to 1\n"
     ]
    },
    {
     "name": "stdout",
     "output_type": "stream",
     "text": [
      "(316, 59421)\n",
      "/home/qing/Documents/tfMRI_Language_preproc/111716_3T_tfMRI_LANGUAGE_preproc/tfMRI_LANGUAGE_LR_Atlas_MSMAll.dtseries.nii\n",
      "372\n"
     ]
    },
    {
     "name": "stderr",
     "output_type": "stream",
     "text": [
      "pixdim[1,2,3] should be non-zero; setting 0 dims to 1\n"
     ]
    },
    {
     "name": "stdout",
     "output_type": "stream",
     "text": [
      "(316, 59421)\n",
      "/home/qing/Documents/tfMRI_Language_preproc/475855_3T_tfMRI_LANGUAGE_preproc/tfMRI_LANGUAGE_LR_Atlas_MSMAll.dtseries.nii\n",
      "373\n"
     ]
    },
    {
     "name": "stderr",
     "output_type": "stream",
     "text": [
      "pixdim[1,2,3] should be non-zero; setting 0 dims to 1\n"
     ]
    },
    {
     "name": "stdout",
     "output_type": "stream",
     "text": [
      "(316, 59421)\n",
      "/home/qing/Documents/tfMRI_Language_preproc/150625_3T_tfMRI_LANGUAGE_preproc/tfMRI_LANGUAGE_LR_Atlas_MSMAll.dtseries.nii\n",
      "374\n"
     ]
    },
    {
     "name": "stderr",
     "output_type": "stream",
     "text": [
      "pixdim[1,2,3] should be non-zero; setting 0 dims to 1\n"
     ]
    },
    {
     "name": "stdout",
     "output_type": "stream",
     "text": [
      "(316, 59421)\n",
      "/home/qing/Documents/tfMRI_Language_preproc/214019_3T_tfMRI_LANGUAGE_preproc/tfMRI_LANGUAGE_LR_Atlas_MSMAll.dtseries.nii\n",
      "375\n"
     ]
    },
    {
     "name": "stderr",
     "output_type": "stream",
     "text": [
      "pixdim[1,2,3] should be non-zero; setting 0 dims to 1\n"
     ]
    },
    {
     "name": "stdout",
     "output_type": "stream",
     "text": [
      "(316, 59421)\n",
      "/home/qing/Documents/tfMRI_Language_preproc/194140_3T_tfMRI_LANGUAGE_preproc/tfMRI_LANGUAGE_LR_Atlas_MSMAll.dtseries.nii\n",
      "376\n"
     ]
    },
    {
     "name": "stderr",
     "output_type": "stream",
     "text": [
      "pixdim[1,2,3] should be non-zero; setting 0 dims to 1\n"
     ]
    },
    {
     "name": "stdout",
     "output_type": "stream",
     "text": [
      "(316, 59421)\n",
      "/home/qing/Documents/tfMRI_Language_preproc/212217_3T_tfMRI_LANGUAGE_preproc/tfMRI_LANGUAGE_LR_Atlas_MSMAll.dtseries.nii\n",
      "377\n"
     ]
    },
    {
     "name": "stderr",
     "output_type": "stream",
     "text": [
      "pixdim[1,2,3] should be non-zero; setting 0 dims to 1\n"
     ]
    },
    {
     "name": "stdout",
     "output_type": "stream",
     "text": [
      "(316, 59421)\n",
      "/home/qing/Documents/tfMRI_Language_preproc/677968_3T_tfMRI_LANGUAGE_preproc/tfMRI_LANGUAGE_LR_Atlas_MSMAll.dtseries.nii\n",
      "378\n"
     ]
    },
    {
     "name": "stderr",
     "output_type": "stream",
     "text": [
      "pixdim[1,2,3] should be non-zero; setting 0 dims to 1\n"
     ]
    },
    {
     "name": "stdout",
     "output_type": "stream",
     "text": [
      "(316, 59421)\n",
      "/home/qing/Documents/tfMRI_Language_preproc/321323_3T_tfMRI_LANGUAGE_preproc/tfMRI_LANGUAGE_LR_Atlas_MSMAll.dtseries.nii\n",
      "379\n"
     ]
    },
    {
     "name": "stderr",
     "output_type": "stream",
     "text": [
      "pixdim[1,2,3] should be non-zero; setting 0 dims to 1\n"
     ]
    },
    {
     "name": "stdout",
     "output_type": "stream",
     "text": [
      "(316, 59421)\n",
      "/home/qing/Documents/tfMRI_Language_preproc/179245_3T_tfMRI_LANGUAGE_preproc/tfMRI_LANGUAGE_LR_Atlas_MSMAll.dtseries.nii\n",
      "380\n"
     ]
    },
    {
     "name": "stderr",
     "output_type": "stream",
     "text": [
      "pixdim[1,2,3] should be non-zero; setting 0 dims to 1\n"
     ]
    },
    {
     "name": "stdout",
     "output_type": "stream",
     "text": [
      "(316, 59421)\n",
      "/home/qing/Documents/tfMRI_Language_preproc/122620_3T_tfMRI_LANGUAGE_preproc/tfMRI_LANGUAGE_LR_Atlas_MSMAll.dtseries.nii\n",
      "381\n"
     ]
    },
    {
     "name": "stderr",
     "output_type": "stream",
     "text": [
      "pixdim[1,2,3] should be non-zero; setting 0 dims to 1\n"
     ]
    },
    {
     "name": "stdout",
     "output_type": "stream",
     "text": [
      "(316, 59421)\n",
      "/home/qing/Documents/tfMRI_Language_preproc/175439_3T_tfMRI_LANGUAGE_preproc/tfMRI_LANGUAGE_LR_Atlas_MSMAll.dtseries.nii\n",
      "382\n"
     ]
    },
    {
     "name": "stderr",
     "output_type": "stream",
     "text": [
      "pixdim[1,2,3] should be non-zero; setting 0 dims to 1\n"
     ]
    },
    {
     "name": "stdout",
     "output_type": "stream",
     "text": [
      "(316, 59421)\n",
      "/home/qing/Documents/tfMRI_Language_preproc/570243_3T_tfMRI_LANGUAGE_preproc/tfMRI_LANGUAGE_LR_Atlas_MSMAll.dtseries.nii\n",
      "383\n"
     ]
    },
    {
     "name": "stderr",
     "output_type": "stream",
     "text": [
      "pixdim[1,2,3] should be non-zero; setting 0 dims to 1\n"
     ]
    },
    {
     "name": "stdout",
     "output_type": "stream",
     "text": [
      "(316, 59421)\n",
      "/home/qing/Documents/tfMRI_Language_preproc/732243_3T_tfMRI_LANGUAGE_preproc/tfMRI_LANGUAGE_LR_Atlas_MSMAll.dtseries.nii\n",
      "384\n"
     ]
    },
    {
     "name": "stderr",
     "output_type": "stream",
     "text": [
      "pixdim[1,2,3] should be non-zero; setting 0 dims to 1\n"
     ]
    },
    {
     "name": "stdout",
     "output_type": "stream",
     "text": [
      "(316, 59421)\n",
      "/home/qing/Documents/tfMRI_Language_preproc/771354_3T_tfMRI_LANGUAGE_preproc/tfMRI_LANGUAGE_LR_Atlas_MSMAll.dtseries.nii\n",
      "385\n"
     ]
    },
    {
     "name": "stderr",
     "output_type": "stream",
     "text": [
      "pixdim[1,2,3] should be non-zero; setting 0 dims to 1\n"
     ]
    },
    {
     "name": "stdout",
     "output_type": "stream",
     "text": [
      "(316, 59421)\n",
      "/home/qing/Documents/tfMRI_Language_preproc/195445_3T_tfMRI_LANGUAGE_preproc/tfMRI_LANGUAGE_LR_Atlas_MSMAll.dtseries.nii\n",
      "386\n"
     ]
    },
    {
     "name": "stderr",
     "output_type": "stream",
     "text": [
      "pixdim[1,2,3] should be non-zero; setting 0 dims to 1\n"
     ]
    },
    {
     "name": "stdout",
     "output_type": "stream",
     "text": [
      "(316, 59421)\n",
      "/home/qing/Documents/tfMRI_Language_preproc/125525_3T_tfMRI_LANGUAGE_preproc/tfMRI_LANGUAGE_LR_Atlas_MSMAll.dtseries.nii\n",
      "387\n"
     ]
    },
    {
     "name": "stderr",
     "output_type": "stream",
     "text": [
      "pixdim[1,2,3] should be non-zero; setting 0 dims to 1\n"
     ]
    },
    {
     "name": "stdout",
     "output_type": "stream",
     "text": [
      "(316, 59421)\n",
      "/home/qing/Documents/tfMRI_Language_preproc/492754_3T_tfMRI_LANGUAGE_preproc/tfMRI_LANGUAGE_LR_Atlas_MSMAll.dtseries.nii\n",
      "388\n"
     ]
    },
    {
     "name": "stderr",
     "output_type": "stream",
     "text": [
      "pixdim[1,2,3] should be non-zero; setting 0 dims to 1\n"
     ]
    },
    {
     "name": "stdout",
     "output_type": "stream",
     "text": [
      "(316, 59421)\n",
      "/home/qing/Documents/tfMRI_Language_preproc/108525_3T_tfMRI_LANGUAGE_preproc/tfMRI_LANGUAGE_LR_Atlas_MSMAll.dtseries.nii\n",
      "389\n"
     ]
    },
    {
     "name": "stderr",
     "output_type": "stream",
     "text": [
      "pixdim[1,2,3] should be non-zero; setting 0 dims to 1\n"
     ]
    },
    {
     "name": "stdout",
     "output_type": "stream",
     "text": [
      "(316, 59421)\n",
      "/home/qing/Documents/tfMRI_Language_preproc/704238_3T_tfMRI_LANGUAGE_preproc/tfMRI_LANGUAGE_LR_Atlas_MSMAll.dtseries.nii\n",
      "390\n"
     ]
    },
    {
     "name": "stderr",
     "output_type": "stream",
     "text": [
      "pixdim[1,2,3] should be non-zero; setting 0 dims to 1\n"
     ]
    },
    {
     "name": "stdout",
     "output_type": "stream",
     "text": [
      "(316, 59421)\n",
      "/home/qing/Documents/tfMRI_Language_preproc/749058_3T_tfMRI_LANGUAGE_preproc/tfMRI_LANGUAGE_LR_Atlas_MSMAll.dtseries.nii\n",
      "391\n"
     ]
    },
    {
     "name": "stderr",
     "output_type": "stream",
     "text": [
      "pixdim[1,2,3] should be non-zero; setting 0 dims to 1\n"
     ]
    },
    {
     "name": "stdout",
     "output_type": "stream",
     "text": [
      "(316, 59421)\n",
      "/home/qing/Documents/tfMRI_Language_preproc/102008_3T_tfMRI_LANGUAGE_preproc/tfMRI_LANGUAGE_LR_Atlas_MSMAll.dtseries.nii\n",
      "392\n"
     ]
    },
    {
     "name": "stderr",
     "output_type": "stream",
     "text": [
      "pixdim[1,2,3] should be non-zero; setting 0 dims to 1\n"
     ]
    },
    {
     "name": "stdout",
     "output_type": "stream",
     "text": [
      "(316, 59421)\n",
      "/home/qing/Documents/tfMRI_Language_preproc/208125_3T_tfMRI_LANGUAGE_preproc/tfMRI_LANGUAGE_LR_Atlas_MSMAll.dtseries.nii\n",
      "393\n"
     ]
    },
    {
     "name": "stderr",
     "output_type": "stream",
     "text": [
      "pixdim[1,2,3] should be non-zero; setting 0 dims to 1\n"
     ]
    },
    {
     "name": "stdout",
     "output_type": "stream",
     "text": [
      "(316, 59421)\n",
      "/home/qing/Documents/tfMRI_Language_preproc/620434_3T_tfMRI_LANGUAGE_preproc/tfMRI_LANGUAGE_LR_Atlas_MSMAll.dtseries.nii\n",
      "394\n"
     ]
    },
    {
     "name": "stderr",
     "output_type": "stream",
     "text": [
      "pixdim[1,2,3] should be non-zero; setting 0 dims to 1\n"
     ]
    },
    {
     "name": "stdout",
     "output_type": "stream",
     "text": [
      "(316, 59421)\n",
      "/home/qing/Documents/tfMRI_Language_preproc/837964_3T_tfMRI_LANGUAGE_preproc/tfMRI_LANGUAGE_LR_Atlas_MSMAll.dtseries.nii\n",
      "395\n"
     ]
    },
    {
     "name": "stderr",
     "output_type": "stream",
     "text": [
      "pixdim[1,2,3] should be non-zero; setting 0 dims to 1\n"
     ]
    },
    {
     "name": "stdout",
     "output_type": "stream",
     "text": [
      "(316, 59421)\n",
      "/home/qing/Documents/tfMRI_Language_preproc/149741_3T_tfMRI_LANGUAGE_preproc/tfMRI_LANGUAGE_LR_Atlas_MSMAll.dtseries.nii\n",
      "396\n"
     ]
    },
    {
     "name": "stderr",
     "output_type": "stream",
     "text": [
      "pixdim[1,2,3] should be non-zero; setting 0 dims to 1\n"
     ]
    },
    {
     "name": "stdout",
     "output_type": "stream",
     "text": [
      "(316, 59421)\n",
      "/home/qing/Documents/tfMRI_Language_preproc/585862_3T_tfMRI_LANGUAGE_preproc/tfMRI_LANGUAGE_LR_Atlas_MSMAll.dtseries.nii\n",
      "397\n"
     ]
    },
    {
     "name": "stderr",
     "output_type": "stream",
     "text": [
      "pixdim[1,2,3] should be non-zero; setting 0 dims to 1\n"
     ]
    },
    {
     "name": "stdout",
     "output_type": "stream",
     "text": [
      "(316, 59421)\n",
      "/home/qing/Documents/tfMRI_Language_preproc/779370_3T_tfMRI_LANGUAGE_preproc/tfMRI_LANGUAGE_LR_Atlas_MSMAll.dtseries.nii\n",
      "398\n"
     ]
    },
    {
     "name": "stderr",
     "output_type": "stream",
     "text": [
      "pixdim[1,2,3] should be non-zero; setting 0 dims to 1\n"
     ]
    },
    {
     "name": "stdout",
     "output_type": "stream",
     "text": [
      "(316, 59421)\n",
      "/home/qing/Documents/tfMRI_Language_preproc/820745_3T_tfMRI_LANGUAGE_preproc/tfMRI_LANGUAGE_LR_Atlas_MSMAll.dtseries.nii\n",
      "399\n"
     ]
    },
    {
     "name": "stderr",
     "output_type": "stream",
     "text": [
      "pixdim[1,2,3] should be non-zero; setting 0 dims to 1\n"
     ]
    },
    {
     "name": "stdout",
     "output_type": "stream",
     "text": [
      "(316, 59421)\n",
      "/home/qing/Documents/tfMRI_Language_preproc/143426_3T_tfMRI_LANGUAGE_preproc/tfMRI_LANGUAGE_LR_Atlas_MSMAll.dtseries.nii\n",
      "400\n"
     ]
    },
    {
     "name": "stderr",
     "output_type": "stream",
     "text": [
      "pixdim[1,2,3] should be non-zero; setting 0 dims to 1\n"
     ]
    },
    {
     "name": "stdout",
     "output_type": "stream",
     "text": [
      "(316, 59421)\n",
      "/home/qing/Documents/tfMRI_Language_preproc/151829_3T_tfMRI_LANGUAGE_preproc/tfMRI_LANGUAGE_LR_Atlas_MSMAll.dtseries.nii\n",
      "401\n"
     ]
    },
    {
     "name": "stderr",
     "output_type": "stream",
     "text": [
      "pixdim[1,2,3] should be non-zero; setting 0 dims to 1\n"
     ]
    },
    {
     "name": "stdout",
     "output_type": "stream",
     "text": [
      "(316, 59421)\n",
      "/home/qing/Documents/tfMRI_Language_preproc/993675_3T_tfMRI_LANGUAGE_preproc/tfMRI_LANGUAGE_LR_Atlas_MSMAll.dtseries.nii\n",
      "402\n"
     ]
    },
    {
     "name": "stderr",
     "output_type": "stream",
     "text": [
      "pixdim[1,2,3] should be non-zero; setting 0 dims to 1\n"
     ]
    },
    {
     "name": "stdout",
     "output_type": "stream",
     "text": [
      "(316, 59421)\n",
      "/home/qing/Documents/tfMRI_Language_preproc/657659_3T_tfMRI_LANGUAGE_preproc/tfMRI_LANGUAGE_LR_Atlas_MSMAll.dtseries.nii\n",
      "403\n"
     ]
    },
    {
     "name": "stderr",
     "output_type": "stream",
     "text": [
      "pixdim[1,2,3] should be non-zero; setting 0 dims to 1\n"
     ]
    },
    {
     "name": "stdout",
     "output_type": "stream",
     "text": [
      "(316, 59421)\n",
      "/home/qing/Documents/tfMRI_Language_preproc/130821_3T_tfMRI_LANGUAGE_preproc/tfMRI_LANGUAGE_LR_Atlas_MSMAll.dtseries.nii\n",
      "404\n"
     ]
    },
    {
     "name": "stderr",
     "output_type": "stream",
     "text": [
      "pixdim[1,2,3] should be non-zero; setting 0 dims to 1\n"
     ]
    },
    {
     "name": "stdout",
     "output_type": "stream",
     "text": [
      "(316, 59421)\n",
      "/home/qing/Documents/tfMRI_Language_preproc/155938_3T_tfMRI_LANGUAGE_preproc/tfMRI_LANGUAGE_LR_Atlas_MSMAll.dtseries.nii\n",
      "405\n"
     ]
    },
    {
     "name": "stderr",
     "output_type": "stream",
     "text": [
      "pixdim[1,2,3] should be non-zero; setting 0 dims to 1\n"
     ]
    },
    {
     "name": "stdout",
     "output_type": "stream",
     "text": [
      "(316, 59421)\n",
      "/home/qing/Documents/tfMRI_Language_preproc/171633_3T_tfMRI_LANGUAGE_preproc/tfMRI_LANGUAGE_LR_Atlas_MSMAll.dtseries.nii\n",
      "406\n"
     ]
    },
    {
     "name": "stderr",
     "output_type": "stream",
     "text": [
      "pixdim[1,2,3] should be non-zero; setting 0 dims to 1\n"
     ]
    },
    {
     "name": "stdout",
     "output_type": "stream",
     "text": [
      "(316, 59421)\n",
      "/home/qing/Documents/tfMRI_Language_preproc/168139_3T_tfMRI_LANGUAGE_preproc/tfMRI_LANGUAGE_LR_Atlas_MSMAll.dtseries.nii\n",
      "407\n"
     ]
    },
    {
     "name": "stderr",
     "output_type": "stream",
     "text": [
      "pixdim[1,2,3] should be non-zero; setting 0 dims to 1\n"
     ]
    },
    {
     "name": "stdout",
     "output_type": "stream",
     "text": [
      "(316, 59421)\n",
      "/home/qing/Documents/tfMRI_Language_preproc/185846_3T_tfMRI_LANGUAGE_preproc/tfMRI_LANGUAGE_LR_Atlas_MSMAll.dtseries.nii\n",
      "408\n"
     ]
    },
    {
     "name": "stderr",
     "output_type": "stream",
     "text": [
      "pixdim[1,2,3] should be non-zero; setting 0 dims to 1\n"
     ]
    },
    {
     "name": "stdout",
     "output_type": "stream",
     "text": [
      "(316, 59421)\n",
      "/home/qing/Documents/tfMRI_Language_preproc/654350_3T_tfMRI_LANGUAGE_preproc/tfMRI_LANGUAGE_LR_Atlas_MSMAll.dtseries.nii\n",
      "409\n"
     ]
    },
    {
     "name": "stderr",
     "output_type": "stream",
     "text": [
      "pixdim[1,2,3] should be non-zero; setting 0 dims to 1\n"
     ]
    },
    {
     "name": "stdout",
     "output_type": "stream",
     "text": [
      "(316, 59421)\n",
      "/home/qing/Documents/tfMRI_Language_preproc/844961_3T_tfMRI_LANGUAGE_preproc/tfMRI_LANGUAGE_LR_Atlas_MSMAll.dtseries.nii\n",
      "410\n"
     ]
    },
    {
     "name": "stderr",
     "output_type": "stream",
     "text": [
      "pixdim[1,2,3] should be non-zero; setting 0 dims to 1\n"
     ]
    },
    {
     "name": "stdout",
     "output_type": "stream",
     "text": [
      "(316, 59421)\n",
      "/home/qing/Documents/tfMRI_Language_preproc/180937_3T_tfMRI_LANGUAGE_preproc/tfMRI_LANGUAGE_LR_Atlas_MSMAll.dtseries.nii\n",
      "411\n"
     ]
    },
    {
     "name": "stderr",
     "output_type": "stream",
     "text": [
      "pixdim[1,2,3] should be non-zero; setting 0 dims to 1\n"
     ]
    },
    {
     "name": "stdout",
     "output_type": "stream",
     "text": [
      "(316, 59421)\n",
      "/home/qing/Documents/tfMRI_Language_preproc/200210_3T_tfMRI_LANGUAGE_preproc/tfMRI_LANGUAGE_LR_Atlas_MSMAll.dtseries.nii\n",
      "412\n"
     ]
    },
    {
     "name": "stderr",
     "output_type": "stream",
     "text": [
      "pixdim[1,2,3] should be non-zero; setting 0 dims to 1\n"
     ]
    },
    {
     "name": "stdout",
     "output_type": "stream",
     "text": [
      "(316, 59421)\n",
      "/home/qing/Documents/tfMRI_Language_preproc/159340_3T_tfMRI_LANGUAGE_preproc/tfMRI_LANGUAGE_LR_Atlas_MSMAll.dtseries.nii\n",
      "413\n"
     ]
    },
    {
     "name": "stderr",
     "output_type": "stream",
     "text": [
      "pixdim[1,2,3] should be non-zero; setting 0 dims to 1\n"
     ]
    },
    {
     "name": "stdout",
     "output_type": "stream",
     "text": [
      "(316, 59421)\n",
      "/home/qing/Documents/tfMRI_Language_preproc/120717_3T_tfMRI_LANGUAGE_preproc/tfMRI_LANGUAGE_LR_Atlas_MSMAll.dtseries.nii\n",
      "414\n"
     ]
    },
    {
     "name": "stderr",
     "output_type": "stream",
     "text": [
      "pixdim[1,2,3] should be non-zero; setting 0 dims to 1\n"
     ]
    },
    {
     "name": "stdout",
     "output_type": "stream",
     "text": [
      "(316, 59421)\n",
      "/home/qing/Documents/tfMRI_Language_preproc/185341_3T_tfMRI_LANGUAGE_preproc/tfMRI_LANGUAGE_LR_Atlas_MSMAll.dtseries.nii\n",
      "415\n"
     ]
    },
    {
     "name": "stderr",
     "output_type": "stream",
     "text": [
      "pixdim[1,2,3] should be non-zero; setting 0 dims to 1\n"
     ]
    },
    {
     "name": "stdout",
     "output_type": "stream",
     "text": [
      "(316, 59421)\n",
      "/home/qing/Documents/tfMRI_Language_preproc/951457_3T_tfMRI_LANGUAGE_preproc/tfMRI_LANGUAGE_LR_Atlas_MSMAll.dtseries.nii\n",
      "416\n"
     ]
    },
    {
     "name": "stderr",
     "output_type": "stream",
     "text": [
      "pixdim[1,2,3] should be non-zero; setting 0 dims to 1\n"
     ]
    },
    {
     "name": "stdout",
     "output_type": "stream",
     "text": [
      "(316, 59421)\n",
      "/home/qing/Documents/tfMRI_Language_preproc/497865_3T_tfMRI_LANGUAGE_preproc/tfMRI_LANGUAGE_LR_Atlas_MSMAll.dtseries.nii\n",
      "417\n"
     ]
    },
    {
     "name": "stderr",
     "output_type": "stream",
     "text": [
      "pixdim[1,2,3] should be non-zero; setting 0 dims to 1\n"
     ]
    },
    {
     "name": "stdout",
     "output_type": "stream",
     "text": [
      "(316, 59421)\n",
      "/home/qing/Documents/tfMRI_Language_preproc/346137_3T_tfMRI_LANGUAGE_preproc/tfMRI_LANGUAGE_LR_Atlas_MSMAll.dtseries.nii\n",
      "418\n"
     ]
    },
    {
     "name": "stderr",
     "output_type": "stream",
     "text": [
      "pixdim[1,2,3] should be non-zero; setting 0 dims to 1\n"
     ]
    },
    {
     "name": "stdout",
     "output_type": "stream",
     "text": [
      "(316, 59421)\n",
      "/home/qing/Documents/tfMRI_Language_preproc/149842_3T_tfMRI_LANGUAGE_preproc/tfMRI_LANGUAGE_LR_Atlas_MSMAll.dtseries.nii\n",
      "419\n"
     ]
    },
    {
     "name": "stderr",
     "output_type": "stream",
     "text": [
      "pixdim[1,2,3] should be non-zero; setting 0 dims to 1\n"
     ]
    },
    {
     "name": "stdout",
     "output_type": "stream",
     "text": [
      "(316, 59421)\n",
      "/home/qing/Documents/tfMRI_Language_preproc/160729_3T_tfMRI_LANGUAGE_preproc/tfMRI_LANGUAGE_LR_Atlas_MSMAll.dtseries.nii\n",
      "420\n"
     ]
    },
    {
     "name": "stderr",
     "output_type": "stream",
     "text": [
      "pixdim[1,2,3] should be non-zero; setting 0 dims to 1\n"
     ]
    },
    {
     "name": "stdout",
     "output_type": "stream",
     "text": [
      "(316, 59421)\n",
      "/home/qing/Documents/tfMRI_Language_preproc/318637_3T_tfMRI_LANGUAGE_preproc/tfMRI_LANGUAGE_LR_Atlas_MSMAll.dtseries.nii\n",
      "421\n"
     ]
    },
    {
     "name": "stderr",
     "output_type": "stream",
     "text": [
      "pixdim[1,2,3] should be non-zero; setting 0 dims to 1\n"
     ]
    },
    {
     "name": "stdout",
     "output_type": "stream",
     "text": [
      "(316, 59421)\n",
      "/home/qing/Documents/tfMRI_Language_preproc/117324_3T_tfMRI_LANGUAGE_preproc/tfMRI_LANGUAGE_LR_Atlas_MSMAll.dtseries.nii\n",
      "422\n"
     ]
    },
    {
     "name": "stderr",
     "output_type": "stream",
     "text": [
      "pixdim[1,2,3] should be non-zero; setting 0 dims to 1\n"
     ]
    },
    {
     "name": "stdout",
     "output_type": "stream",
     "text": [
      "(316, 59421)\n",
      "/home/qing/Documents/tfMRI_Language_preproc/412528_3T_tfMRI_LANGUAGE_preproc/tfMRI_LANGUAGE_LR_Atlas_MSMAll.dtseries.nii\n",
      "423\n"
     ]
    },
    {
     "name": "stderr",
     "output_type": "stream",
     "text": [
      "pixdim[1,2,3] should be non-zero; setting 0 dims to 1\n"
     ]
    },
    {
     "name": "stdout",
     "output_type": "stream",
     "text": [
      "(316, 59421)\n",
      "/home/qing/Documents/tfMRI_Language_preproc/856968_3T_tfMRI_LANGUAGE_preproc/tfMRI_LANGUAGE_LR_Atlas_MSMAll.dtseries.nii\n",
      "424\n"
     ]
    },
    {
     "name": "stderr",
     "output_type": "stream",
     "text": [
      "pixdim[1,2,3] should be non-zero; setting 0 dims to 1\n"
     ]
    },
    {
     "name": "stdout",
     "output_type": "stream",
     "text": [
      "(316, 59421)\n",
      "/home/qing/Documents/tfMRI_Language_preproc/148941_3T_tfMRI_LANGUAGE_preproc/tfMRI_LANGUAGE_LR_Atlas_MSMAll.dtseries.nii\n",
      "425\n"
     ]
    },
    {
     "name": "stderr",
     "output_type": "stream",
     "text": [
      "pixdim[1,2,3] should be non-zero; setting 0 dims to 1\n"
     ]
    },
    {
     "name": "stdout",
     "output_type": "stream",
     "text": [
      "(316, 59421)\n",
      "/home/qing/Documents/tfMRI_Language_preproc/162026_3T_tfMRI_LANGUAGE_preproc/tfMRI_LANGUAGE_LR_Atlas_MSMAll.dtseries.nii\n",
      "426\n"
     ]
    },
    {
     "name": "stderr",
     "output_type": "stream",
     "text": [
      "pixdim[1,2,3] should be non-zero; setting 0 dims to 1\n"
     ]
    },
    {
     "name": "stdout",
     "output_type": "stream",
     "text": [
      "(316, 59421)\n",
      "/home/qing/Documents/tfMRI_Language_preproc/522434_3T_tfMRI_LANGUAGE_preproc/tfMRI_LANGUAGE_LR_Atlas_MSMAll.dtseries.nii\n",
      "427\n"
     ]
    },
    {
     "name": "stderr",
     "output_type": "stream",
     "text": [
      "pixdim[1,2,3] should be non-zero; setting 0 dims to 1\n"
     ]
    },
    {
     "name": "stdout",
     "output_type": "stream",
     "text": [
      "(316, 59421)\n",
      "/home/qing/Documents/tfMRI_Language_preproc/524135_3T_tfMRI_LANGUAGE_preproc/tfMRI_LANGUAGE_LR_Atlas_MSMAll.dtseries.nii\n",
      "428\n"
     ]
    },
    {
     "name": "stderr",
     "output_type": "stream",
     "text": [
      "pixdim[1,2,3] should be non-zero; setting 0 dims to 1\n"
     ]
    },
    {
     "name": "stdout",
     "output_type": "stream",
     "text": [
      "(316, 59421)\n",
      "/home/qing/Documents/tfMRI_Language_preproc/268749_3T_tfMRI_LANGUAGE_preproc/tfMRI_LANGUAGE_LR_Atlas_MSMAll.dtseries.nii\n",
      "429\n"
     ]
    },
    {
     "name": "stderr",
     "output_type": "stream",
     "text": [
      "pixdim[1,2,3] should be non-zero; setting 0 dims to 1\n"
     ]
    },
    {
     "name": "stdout",
     "output_type": "stream",
     "text": [
      "(316, 59421)\n",
      "/home/qing/Documents/tfMRI_Language_preproc/759869_3T_tfMRI_LANGUAGE_preproc/tfMRI_LANGUAGE_LR_Atlas_MSMAll.dtseries.nii\n",
      "430\n"
     ]
    },
    {
     "name": "stderr",
     "output_type": "stream",
     "text": [
      "pixdim[1,2,3] should be non-zero; setting 0 dims to 1\n"
     ]
    },
    {
     "name": "stdout",
     "output_type": "stream",
     "text": [
      "(316, 59421)\n",
      "/home/qing/Documents/tfMRI_Language_preproc/134021_3T_tfMRI_LANGUAGE_preproc/tfMRI_LANGUAGE_LR_Atlas_MSMAll.dtseries.nii\n",
      "431\n"
     ]
    },
    {
     "name": "stderr",
     "output_type": "stream",
     "text": [
      "pixdim[1,2,3] should be non-zero; setting 0 dims to 1\n"
     ]
    },
    {
     "name": "stdout",
     "output_type": "stream",
     "text": [
      "(316, 59421)\n",
      "/home/qing/Documents/tfMRI_Language_preproc/134829_3T_tfMRI_LANGUAGE_preproc/tfMRI_LANGUAGE_LR_Atlas_MSMAll.dtseries.nii\n",
      "432\n"
     ]
    },
    {
     "name": "stderr",
     "output_type": "stream",
     "text": [
      "pixdim[1,2,3] should be non-zero; setting 0 dims to 1\n"
     ]
    },
    {
     "name": "stdout",
     "output_type": "stream",
     "text": [
      "(316, 59421)\n",
      "/home/qing/Documents/tfMRI_Language_preproc/165032_3T_tfMRI_LANGUAGE_preproc/tfMRI_LANGUAGE_LR_Atlas_MSMAll.dtseries.nii\n",
      "433\n"
     ]
    },
    {
     "name": "stderr",
     "output_type": "stream",
     "text": [
      "pixdim[1,2,3] should be non-zero; setting 0 dims to 1\n"
     ]
    },
    {
     "name": "stdout",
     "output_type": "stream",
     "text": [
      "(316, 59421)\n",
      "/home/qing/Documents/tfMRI_Language_preproc/720337_3T_tfMRI_LANGUAGE_preproc/tfMRI_LANGUAGE_LR_Atlas_MSMAll.dtseries.nii\n",
      "434\n"
     ]
    },
    {
     "name": "stderr",
     "output_type": "stream",
     "text": [
      "pixdim[1,2,3] should be non-zero; setting 0 dims to 1\n"
     ]
    },
    {
     "name": "stdout",
     "output_type": "stream",
     "text": [
      "(316, 59421)\n",
      "/home/qing/Documents/tfMRI_Language_preproc/195041_3T_tfMRI_LANGUAGE_preproc/tfMRI_LANGUAGE_LR_Atlas_MSMAll.dtseries.nii\n",
      "435\n"
     ]
    },
    {
     "name": "stderr",
     "output_type": "stream",
     "text": [
      "pixdim[1,2,3] should be non-zero; setting 0 dims to 1\n"
     ]
    },
    {
     "name": "stdout",
     "output_type": "stream",
     "text": [
      "(316, 59421)\n",
      "/home/qing/Documents/tfMRI_Language_preproc/106521_3T_tfMRI_LANGUAGE_preproc/tfMRI_LANGUAGE_LR_Atlas_MSMAll.dtseries.nii\n",
      "436\n"
     ]
    },
    {
     "name": "stderr",
     "output_type": "stream",
     "text": [
      "pixdim[1,2,3] should be non-zero; setting 0 dims to 1\n"
     ]
    },
    {
     "name": "stdout",
     "output_type": "stream",
     "text": [
      "(316, 59421)\n",
      "/home/qing/Documents/tfMRI_Language_preproc/149337_3T_tfMRI_LANGUAGE_preproc/tfMRI_LANGUAGE_LR_Atlas_MSMAll.dtseries.nii\n",
      "437\n"
     ]
    },
    {
     "name": "stderr",
     "output_type": "stream",
     "text": [
      "pixdim[1,2,3] should be non-zero; setting 0 dims to 1\n"
     ]
    },
    {
     "name": "stdout",
     "output_type": "stream",
     "text": [
      "(316, 59421)\n",
      "/home/qing/Documents/tfMRI_Language_preproc/280739_3T_tfMRI_LANGUAGE_preproc/tfMRI_LANGUAGE_LR_Atlas_MSMAll.dtseries.nii\n",
      "438\n"
     ]
    },
    {
     "name": "stderr",
     "output_type": "stream",
     "text": [
      "pixdim[1,2,3] should be non-zero; setting 0 dims to 1\n"
     ]
    },
    {
     "name": "stdout",
     "output_type": "stream",
     "text": [
      "(316, 59421)\n",
      "/home/qing/Documents/tfMRI_Language_preproc/618952_3T_tfMRI_LANGUAGE_preproc/tfMRI_LANGUAGE_LR_Atlas_MSMAll.dtseries.nii\n",
      "439\n"
     ]
    },
    {
     "name": "stderr",
     "output_type": "stream",
     "text": [
      "pixdim[1,2,3] should be non-zero; setting 0 dims to 1\n"
     ]
    },
    {
     "name": "stdout",
     "output_type": "stream",
     "text": [
      "(316, 59421)\n",
      "/home/qing/Documents/tfMRI_Language_preproc/200008_3T_tfMRI_LANGUAGE_preproc/tfMRI_LANGUAGE_LR_Atlas_MSMAll.dtseries.nii\n",
      "440\n"
     ]
    },
    {
     "name": "stderr",
     "output_type": "stream",
     "text": [
      "pixdim[1,2,3] should be non-zero; setting 0 dims to 1\n"
     ]
    },
    {
     "name": "stdout",
     "output_type": "stream",
     "text": [
      "(316, 59421)\n",
      "/home/qing/Documents/tfMRI_Language_preproc/187850_3T_tfMRI_LANGUAGE_preproc/tfMRI_LANGUAGE_LR_Atlas_MSMAll.dtseries.nii\n",
      "441\n"
     ]
    },
    {
     "name": "stderr",
     "output_type": "stream",
     "text": [
      "pixdim[1,2,3] should be non-zero; setting 0 dims to 1\n"
     ]
    },
    {
     "name": "stdout",
     "output_type": "stream",
     "text": [
      "(316, 59421)\n",
      "/home/qing/Documents/tfMRI_Language_preproc/164939_3T_tfMRI_LANGUAGE_preproc/tfMRI_LANGUAGE_LR_Atlas_MSMAll.dtseries.nii\n",
      "442\n"
     ]
    },
    {
     "name": "stderr",
     "output_type": "stream",
     "text": [
      "pixdim[1,2,3] should be non-zero; setting 0 dims to 1\n"
     ]
    },
    {
     "name": "stdout",
     "output_type": "stream",
     "text": [
      "(316, 59421)\n",
      "/home/qing/Documents/tfMRI_Language_preproc/826454_3T_tfMRI_LANGUAGE_preproc/tfMRI_LANGUAGE_LR_Atlas_MSMAll.dtseries.nii\n",
      "443\n"
     ]
    },
    {
     "name": "stderr",
     "output_type": "stream",
     "text": [
      "pixdim[1,2,3] should be non-zero; setting 0 dims to 1\n"
     ]
    },
    {
     "name": "stdout",
     "output_type": "stream",
     "text": [
      "(316, 59421)\n",
      "/home/qing/Documents/tfMRI_Language_preproc/150423_3T_tfMRI_LANGUAGE_preproc/tfMRI_LANGUAGE_LR_Atlas_MSMAll.dtseries.nii\n",
      "444\n"
     ]
    },
    {
     "name": "stderr",
     "output_type": "stream",
     "text": [
      "pixdim[1,2,3] should be non-zero; setting 0 dims to 1\n"
     ]
    },
    {
     "name": "stdout",
     "output_type": "stream",
     "text": [
      "(316, 59421)\n",
      "/home/qing/Documents/tfMRI_Language_preproc/167036_3T_tfMRI_LANGUAGE_preproc/tfMRI_LANGUAGE_LR_Atlas_MSMAll.dtseries.nii\n",
      "445\n"
     ]
    },
    {
     "name": "stderr",
     "output_type": "stream",
     "text": [
      "pixdim[1,2,3] should be non-zero; setting 0 dims to 1\n"
     ]
    },
    {
     "name": "stdout",
     "output_type": "stream",
     "text": [
      "(316, 59421)\n",
      "/home/qing/Documents/tfMRI_Language_preproc/172332_3T_tfMRI_LANGUAGE_preproc/tfMRI_LANGUAGE_LR_Atlas_MSMAll.dtseries.nii\n",
      "446\n"
     ]
    },
    {
     "name": "stderr",
     "output_type": "stream",
     "text": [
      "pixdim[1,2,3] should be non-zero; setting 0 dims to 1\n"
     ]
    },
    {
     "name": "stdout",
     "output_type": "stream",
     "text": [
      "(316, 59421)\n",
      "/home/qing/Documents/tfMRI_Language_preproc/990366_3T_tfMRI_LANGUAGE_preproc/tfMRI_LANGUAGE_LR_Atlas_MSMAll.dtseries.nii\n",
      "447\n"
     ]
    },
    {
     "name": "stderr",
     "output_type": "stream",
     "text": [
      "pixdim[1,2,3] should be non-zero; setting 0 dims to 1\n"
     ]
    },
    {
     "name": "stdout",
     "output_type": "stream",
     "text": [
      "(316, 59421)\n",
      "/home/qing/Documents/tfMRI_Language_preproc/199655_3T_tfMRI_LANGUAGE_preproc/tfMRI_LANGUAGE_LR_Atlas_MSMAll.dtseries.nii\n",
      "448\n"
     ]
    },
    {
     "name": "stderr",
     "output_type": "stream",
     "text": [
      "pixdim[1,2,3] should be non-zero; setting 0 dims to 1\n"
     ]
    },
    {
     "name": "stdout",
     "output_type": "stream",
     "text": [
      "(316, 59421)\n",
      "/home/qing/Documents/tfMRI_Language_preproc/191841_3T_tfMRI_LANGUAGE_preproc/tfMRI_LANGUAGE_LR_Atlas_MSMAll.dtseries.nii\n",
      "449\n"
     ]
    },
    {
     "name": "stderr",
     "output_type": "stream",
     "text": [
      "pixdim[1,2,3] should be non-zero; setting 0 dims to 1\n"
     ]
    },
    {
     "name": "stdout",
     "output_type": "stream",
     "text": [
      "(316, 59421)\n",
      "/home/qing/Documents/tfMRI_Language_preproc/816653_3T_tfMRI_LANGUAGE_preproc/tfMRI_LANGUAGE_LR_Atlas_MSMAll.dtseries.nii\n",
      "450\n"
     ]
    },
    {
     "name": "stderr",
     "output_type": "stream",
     "text": [
      "pixdim[1,2,3] should be non-zero; setting 0 dims to 1\n"
     ]
    },
    {
     "name": "stdout",
     "output_type": "stream",
     "text": [
      "(316, 59421)\n",
      "/home/qing/Documents/tfMRI_Language_preproc/485757_3T_tfMRI_LANGUAGE_preproc/tfMRI_LANGUAGE_LR_Atlas_MSMAll.dtseries.nii\n",
      "451\n"
     ]
    },
    {
     "name": "stderr",
     "output_type": "stream",
     "text": [
      "pixdim[1,2,3] should be non-zero; setting 0 dims to 1\n"
     ]
    },
    {
     "name": "stdout",
     "output_type": "stream",
     "text": [
      "(316, 59421)\n",
      "/home/qing/Documents/tfMRI_Language_preproc/180432_3T_tfMRI_LANGUAGE_preproc/tfMRI_LANGUAGE_LR_Atlas_MSMAll.dtseries.nii\n",
      "452\n"
     ]
    },
    {
     "name": "stderr",
     "output_type": "stream",
     "text": [
      "pixdim[1,2,3] should be non-zero; setting 0 dims to 1\n"
     ]
    },
    {
     "name": "stdout",
     "output_type": "stream",
     "text": [
      "(316, 59421)\n",
      "/home/qing/Documents/tfMRI_Language_preproc/121921_3T_tfMRI_LANGUAGE_preproc/tfMRI_LANGUAGE_LR_Atlas_MSMAll.dtseries.nii\n",
      "453\n"
     ]
    },
    {
     "name": "stderr",
     "output_type": "stream",
     "text": [
      "pixdim[1,2,3] should be non-zero; setting 0 dims to 1\n"
     ]
    },
    {
     "name": "stdout",
     "output_type": "stream",
     "text": [
      "(316, 59421)\n",
      "/home/qing/Documents/tfMRI_Language_preproc/894067_3T_tfMRI_LANGUAGE_preproc/tfMRI_LANGUAGE_LR_Atlas_MSMAll.dtseries.nii\n",
      "454\n"
     ]
    },
    {
     "name": "stderr",
     "output_type": "stream",
     "text": [
      "pixdim[1,2,3] should be non-zero; setting 0 dims to 1\n"
     ]
    },
    {
     "name": "stdout",
     "output_type": "stream",
     "text": [
      "(316, 59421)\n",
      "/home/qing/Documents/tfMRI_Language_preproc/870861_3T_tfMRI_LANGUAGE_preproc/tfMRI_LANGUAGE_LR_Atlas_MSMAll.dtseries.nii\n",
      "455\n"
     ]
    },
    {
     "name": "stderr",
     "output_type": "stream",
     "text": [
      "pixdim[1,2,3] should be non-zero; setting 0 dims to 1\n"
     ]
    },
    {
     "name": "stdout",
     "output_type": "stream",
     "text": [
      "(316, 59421)\n",
      "/home/qing/Documents/tfMRI_Language_preproc/165638_3T_tfMRI_LANGUAGE_preproc/tfMRI_LANGUAGE_LR_Atlas_MSMAll.dtseries.nii\n",
      "456\n"
     ]
    },
    {
     "name": "stderr",
     "output_type": "stream",
     "text": [
      "pixdim[1,2,3] should be non-zero; setting 0 dims to 1\n"
     ]
    },
    {
     "name": "stdout",
     "output_type": "stream",
     "text": [
      "(316, 59421)\n",
      "/home/qing/Documents/tfMRI_Language_preproc/448347_3T_tfMRI_LANGUAGE_preproc/tfMRI_LANGUAGE_LR_Atlas_MSMAll.dtseries.nii\n",
      "457\n"
     ]
    },
    {
     "name": "stderr",
     "output_type": "stream",
     "text": [
      "pixdim[1,2,3] should be non-zero; setting 0 dims to 1\n"
     ]
    },
    {
     "name": "stdout",
     "output_type": "stream",
     "text": [
      "(316, 59421)\n",
      "/home/qing/Documents/tfMRI_Language_preproc/217126_3T_tfMRI_LANGUAGE_preproc/tfMRI_LANGUAGE_LR_Atlas_MSMAll.dtseries.nii\n",
      "458\n"
     ]
    },
    {
     "name": "stderr",
     "output_type": "stream",
     "text": [
      "pixdim[1,2,3] should be non-zero; setting 0 dims to 1\n"
     ]
    },
    {
     "name": "stdout",
     "output_type": "stream",
     "text": [
      "(316, 59421)\n",
      "/home/qing/Documents/tfMRI_Language_preproc/239944_3T_tfMRI_LANGUAGE_preproc/tfMRI_LANGUAGE_LR_Atlas_MSMAll.dtseries.nii\n",
      "459\n"
     ]
    },
    {
     "name": "stderr",
     "output_type": "stream",
     "text": [
      "pixdim[1,2,3] should be non-zero; setting 0 dims to 1\n"
     ]
    },
    {
     "name": "stdout",
     "output_type": "stream",
     "text": [
      "(316, 59421)\n",
      "/home/qing/Documents/tfMRI_Language_preproc/204420_3T_tfMRI_LANGUAGE_preproc/tfMRI_LANGUAGE_LR_Atlas_MSMAll.dtseries.nii\n",
      "460\n"
     ]
    },
    {
     "name": "stderr",
     "output_type": "stream",
     "text": [
      "pixdim[1,2,3] should be non-zero; setting 0 dims to 1\n"
     ]
    },
    {
     "name": "stdout",
     "output_type": "stream",
     "text": [
      "(316, 59421)\n",
      "/home/qing/Documents/tfMRI_Language_preproc/391748_3T_tfMRI_LANGUAGE_preproc/tfMRI_LANGUAGE_LR_Atlas_MSMAll.dtseries.nii\n",
      "461\n"
     ]
    },
    {
     "name": "stderr",
     "output_type": "stream",
     "text": [
      "pixdim[1,2,3] should be non-zero; setting 0 dims to 1\n"
     ]
    },
    {
     "name": "stdout",
     "output_type": "stream",
     "text": [
      "(316, 59421)\n",
      "/home/qing/Documents/tfMRI_Language_preproc/513736_3T_tfMRI_LANGUAGE_preproc/tfMRI_LANGUAGE_LR_Atlas_MSMAll.dtseries.nii\n",
      "462\n"
     ]
    },
    {
     "name": "stderr",
     "output_type": "stream",
     "text": [
      "pixdim[1,2,3] should be non-zero; setting 0 dims to 1\n"
     ]
    },
    {
     "name": "stdout",
     "output_type": "stream",
     "text": [
      "(316, 59421)\n",
      "/home/qing/Documents/tfMRI_Language_preproc/199958_3T_tfMRI_LANGUAGE_preproc/tfMRI_LANGUAGE_LR_Atlas_MSMAll.dtseries.nii\n",
      "463\n"
     ]
    },
    {
     "name": "stderr",
     "output_type": "stream",
     "text": [
      "pixdim[1,2,3] should be non-zero; setting 0 dims to 1\n"
     ]
    },
    {
     "name": "stdout",
     "output_type": "stream",
     "text": [
      "(316, 59421)\n",
      "/home/qing/Documents/tfMRI_Language_preproc/175338_3T_tfMRI_LANGUAGE_preproc/tfMRI_LANGUAGE_LR_Atlas_MSMAll.dtseries.nii\n",
      "464\n"
     ]
    },
    {
     "name": "stderr",
     "output_type": "stream",
     "text": [
      "pixdim[1,2,3] should be non-zero; setting 0 dims to 1\n"
     ]
    },
    {
     "name": "stdout",
     "output_type": "stream",
     "text": [
      "(316, 59421)\n",
      "/home/qing/Documents/tfMRI_Language_preproc/163836_3T_tfMRI_LANGUAGE_preproc/tfMRI_LANGUAGE_LR_Atlas_MSMAll.dtseries.nii\n",
      "465\n"
     ]
    },
    {
     "name": "stderr",
     "output_type": "stream",
     "text": [
      "pixdim[1,2,3] should be non-zero; setting 0 dims to 1\n"
     ]
    },
    {
     "name": "stdout",
     "output_type": "stream",
     "text": [
      "(316, 59421)\n",
      "/home/qing/Documents/tfMRI_Language_preproc/786569_3T_tfMRI_LANGUAGE_preproc/tfMRI_LANGUAGE_LR_Atlas_MSMAll.dtseries.nii\n",
      "466\n"
     ]
    },
    {
     "name": "stderr",
     "output_type": "stream",
     "text": [
      "pixdim[1,2,3] should be non-zero; setting 0 dims to 1\n"
     ]
    },
    {
     "name": "stdout",
     "output_type": "stream",
     "text": [
      "(316, 59421)\n",
      "/home/qing/Documents/tfMRI_Language_preproc/415837_3T_tfMRI_LANGUAGE_preproc/tfMRI_LANGUAGE_LR_Atlas_MSMAll.dtseries.nii\n",
      "467\n"
     ]
    },
    {
     "name": "stderr",
     "output_type": "stream",
     "text": [
      "pixdim[1,2,3] should be non-zero; setting 0 dims to 1\n"
     ]
    },
    {
     "name": "stdout",
     "output_type": "stream",
     "text": [
      "(316, 59421)\n",
      "/home/qing/Documents/tfMRI_Language_preproc/204622_3T_tfMRI_LANGUAGE_preproc/tfMRI_LANGUAGE_LR_Atlas_MSMAll.dtseries.nii\n",
      "468\n"
     ]
    },
    {
     "name": "stderr",
     "output_type": "stream",
     "text": [
      "pixdim[1,2,3] should be non-zero; setting 0 dims to 1\n"
     ]
    },
    {
     "name": "stdout",
     "output_type": "stream",
     "text": [
      "(316, 59421)\n",
      "/home/qing/Documents/tfMRI_Language_preproc/753150_3T_tfMRI_LANGUAGE_preproc/tfMRI_LANGUAGE_LR_Atlas_MSMAll.dtseries.nii\n",
      "469\n"
     ]
    },
    {
     "name": "stderr",
     "output_type": "stream",
     "text": [
      "pixdim[1,2,3] should be non-zero; setting 0 dims to 1\n"
     ]
    },
    {
     "name": "stdout",
     "output_type": "stream",
     "text": [
      "(316, 59421)\n",
      "/home/qing/Documents/tfMRI_Language_preproc/162329_3T_tfMRI_LANGUAGE_preproc/tfMRI_LANGUAGE_LR_Atlas_MSMAll.dtseries.nii\n",
      "470\n"
     ]
    },
    {
     "name": "stderr",
     "output_type": "stream",
     "text": [
      "pixdim[1,2,3] should be non-zero; setting 0 dims to 1\n"
     ]
    },
    {
     "name": "stdout",
     "output_type": "stream",
     "text": [
      "(316, 59421)\n",
      "/home/qing/Documents/tfMRI_Language_preproc/156536_3T_tfMRI_LANGUAGE_preproc/tfMRI_LANGUAGE_LR_Atlas_MSMAll.dtseries.nii\n",
      "471\n"
     ]
    },
    {
     "name": "stderr",
     "output_type": "stream",
     "text": [
      "pixdim[1,2,3] should be non-zero; setting 0 dims to 1\n"
     ]
    },
    {
     "name": "stdout",
     "output_type": "stream",
     "text": [
      "(316, 59421)\n",
      "/home/qing/Documents/tfMRI_Language_preproc/555348_3T_tfMRI_LANGUAGE_preproc/tfMRI_LANGUAGE_LR_Atlas_MSMAll.dtseries.nii\n",
      "472\n"
     ]
    },
    {
     "name": "stderr",
     "output_type": "stream",
     "text": [
      "pixdim[1,2,3] should be non-zero; setting 0 dims to 1\n"
     ]
    },
    {
     "name": "stdout",
     "output_type": "stream",
     "text": [
      "(316, 59421)\n",
      "/home/qing/Documents/tfMRI_Language_preproc/734045_3T_tfMRI_LANGUAGE_preproc/tfMRI_LANGUAGE_LR_Atlas_MSMAll.dtseries.nii\n",
      "473\n"
     ]
    },
    {
     "name": "stderr",
     "output_type": "stream",
     "text": [
      "pixdim[1,2,3] should be non-zero; setting 0 dims to 1\n"
     ]
    },
    {
     "name": "stdout",
     "output_type": "stream",
     "text": [
      "(316, 59421)\n",
      "/home/qing/Documents/tfMRI_Language_preproc/114419_3T_tfMRI_LANGUAGE_preproc/tfMRI_LANGUAGE_LR_Atlas_MSMAll.dtseries.nii\n",
      "474\n"
     ]
    },
    {
     "name": "stderr",
     "output_type": "stream",
     "text": [
      "pixdim[1,2,3] should be non-zero; setting 0 dims to 1\n"
     ]
    },
    {
     "name": "stdout",
     "output_type": "stream",
     "text": [
      "(316, 59421)\n",
      "/home/qing/Documents/tfMRI_Language_preproc/727553_3T_tfMRI_LANGUAGE_preproc/tfMRI_LANGUAGE_LR_Atlas_MSMAll.dtseries.nii\n",
      "475\n"
     ]
    },
    {
     "name": "stderr",
     "output_type": "stream",
     "text": [
      "pixdim[1,2,3] should be non-zero; setting 0 dims to 1\n"
     ]
    },
    {
     "name": "stdout",
     "output_type": "stream",
     "text": [
      "(316, 59421)\n",
      "/home/qing/Documents/tfMRI_Language_preproc/117930_3T_tfMRI_LANGUAGE_preproc/tfMRI_LANGUAGE_LR_Atlas_MSMAll.dtseries.nii\n",
      "476\n"
     ]
    },
    {
     "name": "stderr",
     "output_type": "stream",
     "text": [
      "pixdim[1,2,3] should be non-zero; setting 0 dims to 1\n"
     ]
    },
    {
     "name": "stdout",
     "output_type": "stream",
     "text": [
      "(316, 59421)\n",
      "/home/qing/Documents/tfMRI_Language_preproc/594156_3T_tfMRI_LANGUAGE_preproc/tfMRI_LANGUAGE_LR_Atlas_MSMAll.dtseries.nii\n",
      "477\n"
     ]
    },
    {
     "name": "stderr",
     "output_type": "stream",
     "text": [
      "pixdim[1,2,3] should be non-zero; setting 0 dims to 1\n"
     ]
    },
    {
     "name": "stdout",
     "output_type": "stream",
     "text": [
      "(316, 59421)\n",
      "/home/qing/Documents/tfMRI_Language_preproc/205725_3T_tfMRI_LANGUAGE_preproc/tfMRI_LANGUAGE_LR_Atlas_MSMAll.dtseries.nii\n",
      "478\n"
     ]
    },
    {
     "name": "stderr",
     "output_type": "stream",
     "text": [
      "pixdim[1,2,3] should be non-zero; setting 0 dims to 1\n"
     ]
    },
    {
     "name": "stdout",
     "output_type": "stream",
     "text": [
      "(316, 59421)\n",
      "/home/qing/Documents/tfMRI_Language_preproc/955465_3T_tfMRI_LANGUAGE_preproc/tfMRI_LANGUAGE_LR_Atlas_MSMAll.dtseries.nii\n",
      "479\n"
     ]
    },
    {
     "name": "stderr",
     "output_type": "stream",
     "text": [
      "pixdim[1,2,3] should be non-zero; setting 0 dims to 1\n"
     ]
    },
    {
     "name": "stdout",
     "output_type": "stream",
     "text": [
      "(316, 59421)\n",
      "/home/qing/Documents/tfMRI_Language_preproc/159946_3T_tfMRI_LANGUAGE_preproc/tfMRI_LANGUAGE_LR_Atlas_MSMAll.dtseries.nii\n",
      "480\n"
     ]
    },
    {
     "name": "stderr",
     "output_type": "stream",
     "text": [
      "pixdim[1,2,3] should be non-zero; setting 0 dims to 1\n"
     ]
    },
    {
     "name": "stdout",
     "output_type": "stream",
     "text": [
      "(316, 59421)\n",
      "/home/qing/Documents/tfMRI_Language_preproc/154532_3T_tfMRI_LANGUAGE_preproc/tfMRI_LANGUAGE_LR_Atlas_MSMAll.dtseries.nii\n",
      "481\n"
     ]
    },
    {
     "name": "stderr",
     "output_type": "stream",
     "text": [
      "pixdim[1,2,3] should be non-zero; setting 0 dims to 1\n"
     ]
    },
    {
     "name": "stdout",
     "output_type": "stream",
     "text": [
      "(316, 59421)\n",
      "/home/qing/Documents/tfMRI_Language_preproc/919966_3T_tfMRI_LANGUAGE_preproc/tfMRI_LANGUAGE_LR_Atlas_MSMAll.dtseries.nii\n",
      "482\n"
     ]
    },
    {
     "name": "stderr",
     "output_type": "stream",
     "text": [
      "pixdim[1,2,3] should be non-zero; setting 0 dims to 1\n"
     ]
    },
    {
     "name": "stdout",
     "output_type": "stream",
     "text": [
      "(316, 59421)\n",
      "/home/qing/Documents/tfMRI_Language_preproc/118225_3T_tfMRI_LANGUAGE_preproc/tfMRI_LANGUAGE_LR_Atlas_MSMAll.dtseries.nii\n",
      "483\n"
     ]
    },
    {
     "name": "stderr",
     "output_type": "stream",
     "text": [
      "pixdim[1,2,3] should be non-zero; setting 0 dims to 1\n"
     ]
    },
    {
     "name": "stdout",
     "output_type": "stream",
     "text": [
      "(316, 59421)\n",
      "/home/qing/Documents/tfMRI_Language_preproc/227432_3T_tfMRI_LANGUAGE_preproc/tfMRI_LANGUAGE_LR_Atlas_MSMAll.dtseries.nii\n",
      "484\n"
     ]
    },
    {
     "name": "stderr",
     "output_type": "stream",
     "text": [
      "pixdim[1,2,3] should be non-zero; setting 0 dims to 1\n"
     ]
    },
    {
     "name": "stdout",
     "output_type": "stream",
     "text": [
      "(316, 59421)\n",
      "/home/qing/Documents/tfMRI_Language_preproc/208226_3T_tfMRI_LANGUAGE_preproc/tfMRI_LANGUAGE_LR_Atlas_MSMAll.dtseries.nii\n",
      "485\n"
     ]
    },
    {
     "name": "stderr",
     "output_type": "stream",
     "text": [
      "pixdim[1,2,3] should be non-zero; setting 0 dims to 1\n"
     ]
    },
    {
     "name": "stdout",
     "output_type": "stream",
     "text": [
      "(316, 59421)\n",
      "/home/qing/Documents/tfMRI_Language_preproc/506234_3T_tfMRI_LANGUAGE_preproc/tfMRI_LANGUAGE_LR_Atlas_MSMAll.dtseries.nii\n",
      "486\n"
     ]
    },
    {
     "name": "stderr",
     "output_type": "stream",
     "text": [
      "pixdim[1,2,3] should be non-zero; setting 0 dims to 1\n"
     ]
    },
    {
     "name": "stdout",
     "output_type": "stream",
     "text": [
      "(316, 59421)\n",
      "/home/qing/Documents/tfMRI_Language_preproc/209935_3T_tfMRI_LANGUAGE_preproc/tfMRI_LANGUAGE_LR_Atlas_MSMAll.dtseries.nii\n",
      "487\n"
     ]
    },
    {
     "name": "stderr",
     "output_type": "stream",
     "text": [
      "pixdim[1,2,3] should be non-zero; setting 0 dims to 1\n"
     ]
    },
    {
     "name": "stdout",
     "output_type": "stream",
     "text": [
      "(316, 59421)\n",
      "/home/qing/Documents/tfMRI_Language_preproc/168745_3T_tfMRI_LANGUAGE_preproc/tfMRI_LANGUAGE_LR_Atlas_MSMAll.dtseries.nii\n",
      "488\n"
     ]
    },
    {
     "name": "stderr",
     "output_type": "stream",
     "text": [
      "pixdim[1,2,3] should be non-zero; setting 0 dims to 1\n"
     ]
    },
    {
     "name": "stdout",
     "output_type": "stream",
     "text": [
      "(316, 59421)\n",
      "/home/qing/Documents/tfMRI_Language_preproc/800941_3T_tfMRI_LANGUAGE_preproc/tfMRI_LANGUAGE_LR_Atlas_MSMAll.dtseries.nii\n",
      "489\n"
     ]
    },
    {
     "name": "stderr",
     "output_type": "stream",
     "text": [
      "pixdim[1,2,3] should be non-zero; setting 0 dims to 1\n"
     ]
    },
    {
     "name": "stdout",
     "output_type": "stream",
     "text": [
      "(316, 59421)\n",
      "/home/qing/Documents/tfMRI_Language_preproc/180129_3T_tfMRI_LANGUAGE_preproc/tfMRI_LANGUAGE_LR_Atlas_MSMAll.dtseries.nii\n",
      "490\n"
     ]
    },
    {
     "name": "stderr",
     "output_type": "stream",
     "text": [
      "pixdim[1,2,3] should be non-zero; setting 0 dims to 1\n"
     ]
    },
    {
     "name": "stdout",
     "output_type": "stream",
     "text": [
      "(316, 59421)\n",
      "/home/qing/Documents/tfMRI_Language_preproc/107321_3T_tfMRI_LANGUAGE_preproc/tfMRI_LANGUAGE_LR_Atlas_MSMAll.dtseries.nii\n",
      "491\n"
     ]
    },
    {
     "name": "stderr",
     "output_type": "stream",
     "text": [
      "pixdim[1,2,3] should be non-zero; setting 0 dims to 1\n"
     ]
    },
    {
     "name": "stdout",
     "output_type": "stream",
     "text": [
      "(316, 59421)\n",
      "/home/qing/Documents/tfMRI_Language_preproc/180836_3T_tfMRI_LANGUAGE_preproc/tfMRI_LANGUAGE_LR_Atlas_MSMAll.dtseries.nii\n",
      "492\n"
     ]
    },
    {
     "name": "stderr",
     "output_type": "stream",
     "text": [
      "pixdim[1,2,3] should be non-zero; setting 0 dims to 1\n"
     ]
    },
    {
     "name": "stdout",
     "output_type": "stream",
     "text": [
      "(316, 59421)\n",
      "/home/qing/Documents/tfMRI_Language_preproc/386250_3T_tfMRI_LANGUAGE_preproc/tfMRI_LANGUAGE_LR_Atlas_MSMAll.dtseries.nii\n",
      "493\n"
     ]
    },
    {
     "name": "stderr",
     "output_type": "stream",
     "text": [
      "pixdim[1,2,3] should be non-zero; setting 0 dims to 1\n"
     ]
    },
    {
     "name": "stdout",
     "output_type": "stream",
     "text": [
      "(316, 59421)\n",
      "/home/qing/Documents/tfMRI_Language_preproc/158338_3T_tfMRI_LANGUAGE_preproc/tfMRI_LANGUAGE_LR_Atlas_MSMAll.dtseries.nii\n",
      "494\n"
     ]
    },
    {
     "name": "stderr",
     "output_type": "stream",
     "text": [
      "pixdim[1,2,3] should be non-zero; setting 0 dims to 1\n"
     ]
    },
    {
     "name": "stdout",
     "output_type": "stream",
     "text": [
      "(316, 59421)\n",
      "/home/qing/Documents/tfMRI_Language_preproc/837560_3T_tfMRI_LANGUAGE_preproc/tfMRI_LANGUAGE_LR_Atlas_MSMAll.dtseries.nii\n",
      "495\n"
     ]
    },
    {
     "name": "stderr",
     "output_type": "stream",
     "text": [
      "pixdim[1,2,3] should be non-zero; setting 0 dims to 1\n"
     ]
    },
    {
     "name": "stdout",
     "output_type": "stream",
     "text": [
      "(316, 59421)\n",
      "/home/qing/Documents/tfMRI_Language_preproc/571144_3T_tfMRI_LANGUAGE_preproc/tfMRI_LANGUAGE_LR_Atlas_MSMAll.dtseries.nii\n",
      "496\n"
     ]
    },
    {
     "name": "stderr",
     "output_type": "stream",
     "text": [
      "pixdim[1,2,3] should be non-zero; setting 0 dims to 1\n"
     ]
    },
    {
     "name": "stdout",
     "output_type": "stream",
     "text": [
      "(316, 59421)\n",
      "/home/qing/Documents/tfMRI_Language_preproc/211215_3T_tfMRI_LANGUAGE_preproc/tfMRI_LANGUAGE_LR_Atlas_MSMAll.dtseries.nii\n",
      "497\n"
     ]
    },
    {
     "name": "stderr",
     "output_type": "stream",
     "text": [
      "pixdim[1,2,3] should be non-zero; setting 0 dims to 1\n"
     ]
    },
    {
     "name": "stdout",
     "output_type": "stream",
     "text": [
      "(316, 59421)\n",
      "/home/qing/Documents/tfMRI_Language_preproc/102311_3T_tfMRI_LANGUAGE_preproc/tfMRI_LANGUAGE_LR_Atlas_MSMAll.dtseries.nii\n",
      "498\n"
     ]
    },
    {
     "name": "stderr",
     "output_type": "stream",
     "text": [
      "pixdim[1,2,3] should be non-zero; setting 0 dims to 1\n"
     ]
    },
    {
     "name": "stdout",
     "output_type": "stream",
     "text": [
      "(316, 59421)\n",
      "/home/qing/Documents/tfMRI_Language_preproc/257845_3T_tfMRI_LANGUAGE_preproc/tfMRI_LANGUAGE_LR_Atlas_MSMAll.dtseries.nii\n",
      "499\n"
     ]
    },
    {
     "name": "stderr",
     "output_type": "stream",
     "text": [
      "pixdim[1,2,3] should be non-zero; setting 0 dims to 1\n"
     ]
    },
    {
     "name": "stdout",
     "output_type": "stream",
     "text": [
      "(316, 59421)\n",
      "/home/qing/Documents/tfMRI_Language_preproc/100408_3T_tfMRI_LANGUAGE_preproc/tfMRI_LANGUAGE_LR_Atlas_MSMAll.dtseries.nii\n",
      "500\n"
     ]
    },
    {
     "name": "stderr",
     "output_type": "stream",
     "text": [
      "pixdim[1,2,3] should be non-zero; setting 0 dims to 1\n"
     ]
    },
    {
     "name": "stdout",
     "output_type": "stream",
     "text": [
      "(316, 59421)\n",
      "/home/qing/Documents/tfMRI_Language_preproc/753251_3T_tfMRI_LANGUAGE_preproc/tfMRI_LANGUAGE_LR_Atlas_MSMAll.dtseries.nii\n",
      "501\n"
     ]
    },
    {
     "name": "stderr",
     "output_type": "stream",
     "text": [
      "pixdim[1,2,3] should be non-zero; setting 0 dims to 1\n"
     ]
    },
    {
     "name": "stdout",
     "output_type": "stream",
     "text": [
      "(316, 59421)\n",
      "/home/qing/Documents/tfMRI_Language_preproc/102513_3T_tfMRI_LANGUAGE_preproc/tfMRI_LANGUAGE_LR_Atlas_MSMAll.dtseries.nii\n",
      "502\n"
     ]
    },
    {
     "name": "stderr",
     "output_type": "stream",
     "text": [
      "pixdim[1,2,3] should be non-zero; setting 0 dims to 1\n"
     ]
    },
    {
     "name": "stdout",
     "output_type": "stream",
     "text": [
      "(316, 59421)\n",
      "/home/qing/Documents/tfMRI_Language_preproc/158540_3T_tfMRI_LANGUAGE_preproc/tfMRI_LANGUAGE_LR_Atlas_MSMAll.dtseries.nii\n",
      "503\n"
     ]
    },
    {
     "name": "stderr",
     "output_type": "stream",
     "text": [
      "pixdim[1,2,3] should be non-zero; setting 0 dims to 1\n"
     ]
    },
    {
     "name": "stdout",
     "output_type": "stream",
     "text": [
      "(316, 59421)\n",
      "/home/qing/Documents/tfMRI_Language_preproc/101309_3T_tfMRI_LANGUAGE_preproc/tfMRI_LANGUAGE_LR_Atlas_MSMAll.dtseries.nii\n",
      "504\n"
     ]
    },
    {
     "name": "stderr",
     "output_type": "stream",
     "text": [
      "pixdim[1,2,3] should be non-zero; setting 0 dims to 1\n"
     ]
    },
    {
     "name": "stdout",
     "output_type": "stream",
     "text": [
      "(316, 59421)\n",
      "/home/qing/Documents/tfMRI_Language_preproc/159138_3T_tfMRI_LANGUAGE_preproc/tfMRI_LANGUAGE_LR_Atlas_MSMAll.dtseries.nii\n",
      "505\n"
     ]
    },
    {
     "name": "stderr",
     "output_type": "stream",
     "text": [
      "pixdim[1,2,3] should be non-zero; setting 0 dims to 1\n"
     ]
    },
    {
     "name": "stdout",
     "output_type": "stream",
     "text": [
      "(316, 59421)\n",
      "/home/qing/Documents/tfMRI_Language_preproc/872562_3T_tfMRI_LANGUAGE_preproc/tfMRI_LANGUAGE_LR_Atlas_MSMAll.dtseries.nii\n",
      "506\n"
     ]
    },
    {
     "name": "stderr",
     "output_type": "stream",
     "text": [
      "pixdim[1,2,3] should be non-zero; setting 0 dims to 1\n"
     ]
    },
    {
     "name": "stdout",
     "output_type": "stream",
     "text": [
      "(316, 59421)\n",
      "/home/qing/Documents/tfMRI_Language_preproc/322224_3T_tfMRI_LANGUAGE_preproc/tfMRI_LANGUAGE_LR_Atlas_MSMAll.dtseries.nii\n",
      "507\n"
     ]
    },
    {
     "name": "stderr",
     "output_type": "stream",
     "text": [
      "pixdim[1,2,3] should be non-zero; setting 0 dims to 1\n"
     ]
    },
    {
     "name": "stdout",
     "output_type": "stream",
     "text": [
      "(316, 59421)\n",
      "/home/qing/Documents/tfMRI_Language_preproc/174841_3T_tfMRI_LANGUAGE_preproc/tfMRI_LANGUAGE_LR_Atlas_MSMAll.dtseries.nii\n",
      "508\n"
     ]
    },
    {
     "name": "stderr",
     "output_type": "stream",
     "text": [
      "pixdim[1,2,3] should be non-zero; setting 0 dims to 1\n"
     ]
    },
    {
     "name": "stdout",
     "output_type": "stream",
     "text": [
      "(316, 59421)\n",
      "/home/qing/Documents/tfMRI_Language_preproc/424939_3T_tfMRI_LANGUAGE_preproc/tfMRI_LANGUAGE_LR_Atlas_MSMAll.dtseries.nii\n",
      "509\n"
     ]
    },
    {
     "name": "stderr",
     "output_type": "stream",
     "text": [
      "pixdim[1,2,3] should be non-zero; setting 0 dims to 1\n"
     ]
    },
    {
     "name": "stdout",
     "output_type": "stream",
     "text": [
      "(316, 59421)\n",
      "/home/qing/Documents/tfMRI_Language_preproc/445543_3T_tfMRI_LANGUAGE_preproc/tfMRI_LANGUAGE_LR_Atlas_MSMAll.dtseries.nii\n",
      "510\n"
     ]
    },
    {
     "name": "stderr",
     "output_type": "stream",
     "text": [
      "pixdim[1,2,3] should be non-zero; setting 0 dims to 1\n"
     ]
    },
    {
     "name": "stdout",
     "output_type": "stream",
     "text": [
      "(316, 59421)\n",
      "/home/qing/Documents/tfMRI_Language_preproc/112920_3T_tfMRI_LANGUAGE_preproc/tfMRI_LANGUAGE_LR_Atlas_MSMAll.dtseries.nii\n",
      "511\n"
     ]
    },
    {
     "name": "stderr",
     "output_type": "stream",
     "text": [
      "pixdim[1,2,3] should be non-zero; setting 0 dims to 1\n"
     ]
    },
    {
     "name": "stdout",
     "output_type": "stream",
     "text": [
      "(316, 59421)\n",
      "/home/qing/Documents/tfMRI_Language_preproc/145834_3T_tfMRI_LANGUAGE_preproc/tfMRI_LANGUAGE_LR_Atlas_MSMAll.dtseries.nii\n",
      "512\n"
     ]
    },
    {
     "name": "stderr",
     "output_type": "stream",
     "text": [
      "pixdim[1,2,3] should be non-zero; setting 0 dims to 1\n"
     ]
    },
    {
     "name": "stdout",
     "output_type": "stream",
     "text": [
      "(316, 59421)\n",
      "/home/qing/Documents/tfMRI_Language_preproc/185947_3T_tfMRI_LANGUAGE_preproc/tfMRI_LANGUAGE_LR_Atlas_MSMAll.dtseries.nii\n",
      "513\n"
     ]
    },
    {
     "name": "stderr",
     "output_type": "stream",
     "text": [
      "pixdim[1,2,3] should be non-zero; setting 0 dims to 1\n"
     ]
    },
    {
     "name": "stdout",
     "output_type": "stream",
     "text": [
      "(316, 59421)\n",
      "/home/qing/Documents/tfMRI_Language_preproc/160123_3T_tfMRI_LANGUAGE_preproc/tfMRI_LANGUAGE_LR_Atlas_MSMAll.dtseries.nii\n",
      "514\n"
     ]
    },
    {
     "name": "stderr",
     "output_type": "stream",
     "text": [
      "pixdim[1,2,3] should be non-zero; setting 0 dims to 1\n"
     ]
    },
    {
     "name": "stdout",
     "output_type": "stream",
     "text": [
      "(316, 59421)\n",
      "/home/qing/Documents/tfMRI_Language_preproc/147030_3T_tfMRI_LANGUAGE_preproc/tfMRI_LANGUAGE_LR_Atlas_MSMAll.dtseries.nii\n",
      "515\n"
     ]
    },
    {
     "name": "stderr",
     "output_type": "stream",
     "text": [
      "pixdim[1,2,3] should be non-zero; setting 0 dims to 1\n"
     ]
    },
    {
     "name": "stdout",
     "output_type": "stream",
     "text": [
      "(316, 59421)\n",
      "/home/qing/Documents/tfMRI_Language_preproc/285345_3T_tfMRI_LANGUAGE_preproc/tfMRI_LANGUAGE_LR_Atlas_MSMAll.dtseries.nii\n",
      "516\n"
     ]
    },
    {
     "name": "stderr",
     "output_type": "stream",
     "text": [
      "pixdim[1,2,3] should be non-zero; setting 0 dims to 1\n"
     ]
    },
    {
     "name": "stdout",
     "output_type": "stream",
     "text": [
      "(316, 59421)\n",
      "/home/qing/Documents/tfMRI_Language_preproc/107725_3T_tfMRI_LANGUAGE_preproc/tfMRI_LANGUAGE_LR_Atlas_MSMAll.dtseries.nii\n",
      "517\n"
     ]
    },
    {
     "name": "stderr",
     "output_type": "stream",
     "text": [
      "pixdim[1,2,3] should be non-zero; setting 0 dims to 1\n"
     ]
    },
    {
     "name": "stdout",
     "output_type": "stream",
     "text": [
      "(316, 59421)\n",
      "/home/qing/Documents/tfMRI_Language_preproc/414229_3T_tfMRI_LANGUAGE_preproc/tfMRI_LANGUAGE_LR_Atlas_MSMAll.dtseries.nii\n",
      "518\n"
     ]
    },
    {
     "name": "stderr",
     "output_type": "stream",
     "text": [
      "pixdim[1,2,3] should be non-zero; setting 0 dims to 1\n"
     ]
    },
    {
     "name": "stdout",
     "output_type": "stream",
     "text": [
      "(316, 59421)\n",
      "/home/qing/Documents/tfMRI_Language_preproc/381038_3T_tfMRI_LANGUAGE_preproc/tfMRI_LANGUAGE_LR_Atlas_MSMAll.dtseries.nii\n",
      "519\n"
     ]
    },
    {
     "name": "stderr",
     "output_type": "stream",
     "text": [
      "pixdim[1,2,3] should be non-zero; setting 0 dims to 1\n"
     ]
    },
    {
     "name": "stdout",
     "output_type": "stream",
     "text": [
      "(316, 59421)\n",
      "/home/qing/Documents/tfMRI_Language_preproc/153227_3T_tfMRI_LANGUAGE_preproc/tfMRI_LANGUAGE_LR_Atlas_MSMAll.dtseries.nii\n",
      "520\n"
     ]
    },
    {
     "name": "stderr",
     "output_type": "stream",
     "text": [
      "pixdim[1,2,3] should be non-zero; setting 0 dims to 1\n"
     ]
    },
    {
     "name": "stdout",
     "output_type": "stream",
     "text": [
      "(316, 59421)\n",
      "/home/qing/Documents/tfMRI_Language_preproc/406836_3T_tfMRI_LANGUAGE_preproc/tfMRI_LANGUAGE_LR_Atlas_MSMAll.dtseries.nii\n",
      "521\n"
     ]
    },
    {
     "name": "stderr",
     "output_type": "stream",
     "text": [
      "pixdim[1,2,3] should be non-zero; setting 0 dims to 1\n"
     ]
    },
    {
     "name": "stdout",
     "output_type": "stream",
     "text": [
      "(316, 59421)\n",
      "/home/qing/Documents/tfMRI_Language_preproc/861456_3T_tfMRI_LANGUAGE_preproc/tfMRI_LANGUAGE_LR_Atlas_MSMAll.dtseries.nii\n",
      "522\n"
     ]
    },
    {
     "name": "stderr",
     "output_type": "stream",
     "text": [
      "pixdim[1,2,3] should be non-zero; setting 0 dims to 1\n"
     ]
    },
    {
     "name": "stdout",
     "output_type": "stream",
     "text": [
      "(316, 59421)\n",
      "/home/qing/Documents/tfMRI_Language_preproc/517239_3T_tfMRI_LANGUAGE_preproc/tfMRI_LANGUAGE_LR_Atlas_MSMAll.dtseries.nii\n",
      "523\n"
     ]
    },
    {
     "name": "stderr",
     "output_type": "stream",
     "text": [
      "pixdim[1,2,3] should be non-zero; setting 0 dims to 1\n"
     ]
    },
    {
     "name": "stdout",
     "output_type": "stream",
     "text": [
      "(316, 59421)\n",
      "/home/qing/Documents/tfMRI_Language_preproc/510326_3T_tfMRI_LANGUAGE_preproc/tfMRI_LANGUAGE_LR_Atlas_MSMAll.dtseries.nii\n",
      "524\n"
     ]
    },
    {
     "name": "stderr",
     "output_type": "stream",
     "text": [
      "pixdim[1,2,3] should be non-zero; setting 0 dims to 1\n"
     ]
    },
    {
     "name": "stdout",
     "output_type": "stream",
     "text": [
      "(316, 59421)\n",
      "/home/qing/Documents/tfMRI_Language_preproc/959574_3T_tfMRI_LANGUAGE_preproc/tfMRI_LANGUAGE_LR_Atlas_MSMAll.dtseries.nii\n",
      "525\n"
     ]
    },
    {
     "name": "stderr",
     "output_type": "stream",
     "text": [
      "pixdim[1,2,3] should be non-zero; setting 0 dims to 1\n"
     ]
    },
    {
     "name": "stdout",
     "output_type": "stream",
     "text": [
      "(316, 59421)\n",
      "/home/qing/Documents/tfMRI_Language_preproc/371843_3T_tfMRI_LANGUAGE_preproc/tfMRI_LANGUAGE_LR_Atlas_MSMAll.dtseries.nii\n",
      "526\n"
     ]
    },
    {
     "name": "stderr",
     "output_type": "stream",
     "text": [
      "pixdim[1,2,3] should be non-zero; setting 0 dims to 1\n"
     ]
    },
    {
     "name": "stdout",
     "output_type": "stream",
     "text": [
      "(316, 59421)\n",
      "/home/qing/Documents/tfMRI_Language_preproc/856766_3T_tfMRI_LANGUAGE_preproc/tfMRI_LANGUAGE_LR_Atlas_MSMAll.dtseries.nii\n",
      "527\n"
     ]
    },
    {
     "name": "stderr",
     "output_type": "stream",
     "text": [
      "pixdim[1,2,3] should be non-zero; setting 0 dims to 1\n"
     ]
    },
    {
     "name": "stdout",
     "output_type": "stream",
     "text": [
      "(316, 59421)\n",
      "/home/qing/Documents/tfMRI_Language_preproc/286650_3T_tfMRI_LANGUAGE_preproc/tfMRI_LANGUAGE_LR_Atlas_MSMAll.dtseries.nii\n",
      "528\n"
     ]
    },
    {
     "name": "stderr",
     "output_type": "stream",
     "text": [
      "pixdim[1,2,3] should be non-zero; setting 0 dims to 1\n"
     ]
    },
    {
     "name": "stdout",
     "output_type": "stream",
     "text": [
      "(316, 59421)\n",
      "/home/qing/Documents/tfMRI_Language_preproc/172534_3T_tfMRI_LANGUAGE_preproc/tfMRI_LANGUAGE_LR_Atlas_MSMAll.dtseries.nii\n",
      "529\n"
     ]
    },
    {
     "name": "stderr",
     "output_type": "stream",
     "text": [
      "pixdim[1,2,3] should be non-zero; setting 0 dims to 1\n"
     ]
    },
    {
     "name": "stdout",
     "output_type": "stream",
     "text": [
      "(316, 59421)\n",
      "/home/qing/Documents/tfMRI_Language_preproc/887373_3T_tfMRI_LANGUAGE_preproc/tfMRI_LANGUAGE_LR_Atlas_MSMAll.dtseries.nii\n",
      "530\n"
     ]
    },
    {
     "name": "stderr",
     "output_type": "stream",
     "text": [
      "pixdim[1,2,3] should be non-zero; setting 0 dims to 1\n"
     ]
    },
    {
     "name": "stdout",
     "output_type": "stream",
     "text": [
      "(316, 59421)\n",
      "/home/qing/Documents/tfMRI_Language_preproc/309636_3T_tfMRI_LANGUAGE_preproc/tfMRI_LANGUAGE_LR_Atlas_MSMAll.dtseries.nii\n",
      "531\n"
     ]
    },
    {
     "name": "stderr",
     "output_type": "stream",
     "text": [
      "pixdim[1,2,3] should be non-zero; setting 0 dims to 1\n"
     ]
    },
    {
     "name": "stdout",
     "output_type": "stream",
     "text": [
      "(316, 59421)\n",
      "/home/qing/Documents/tfMRI_Language_preproc/361234_3T_tfMRI_LANGUAGE_preproc/tfMRI_LANGUAGE_LR_Atlas_MSMAll.dtseries.nii\n",
      "532\n"
     ]
    },
    {
     "name": "stderr",
     "output_type": "stream",
     "text": [
      "pixdim[1,2,3] should be non-zero; setting 0 dims to 1\n"
     ]
    },
    {
     "name": "stdout",
     "output_type": "stream",
     "text": [
      "(316, 59421)\n",
      "/home/qing/Documents/tfMRI_Language_preproc/112314_3T_tfMRI_LANGUAGE_preproc/tfMRI_LANGUAGE_LR_Atlas_MSMAll.dtseries.nii\n",
      "533\n"
     ]
    },
    {
     "name": "stderr",
     "output_type": "stream",
     "text": [
      "pixdim[1,2,3] should be non-zero; setting 0 dims to 1\n"
     ]
    },
    {
     "name": "stdout",
     "output_type": "stream",
     "text": [
      "(316, 59421)\n",
      "/home/qing/Documents/tfMRI_Language_preproc/341834_3T_tfMRI_LANGUAGE_preproc/tfMRI_LANGUAGE_LR_Atlas_MSMAll.dtseries.nii\n",
      "534\n"
     ]
    },
    {
     "name": "stderr",
     "output_type": "stream",
     "text": [
      "pixdim[1,2,3] should be non-zero; setting 0 dims to 1\n"
     ]
    },
    {
     "name": "stdout",
     "output_type": "stream",
     "text": [
      "(316, 59421)\n",
      "/home/qing/Documents/tfMRI_Language_preproc/263436_3T_tfMRI_LANGUAGE_preproc/tfMRI_LANGUAGE_LR_Atlas_MSMAll.dtseries.nii\n",
      "535\n"
     ]
    },
    {
     "name": "stderr",
     "output_type": "stream",
     "text": [
      "pixdim[1,2,3] should be non-zero; setting 0 dims to 1\n"
     ]
    },
    {
     "name": "stdout",
     "output_type": "stream",
     "text": [
      "(316, 59421)\n",
      "/home/qing/Documents/tfMRI_Language_preproc/107422_3T_tfMRI_LANGUAGE_preproc/tfMRI_LANGUAGE_LR_Atlas_MSMAll.dtseries.nii\n",
      "536\n"
     ]
    },
    {
     "name": "stderr",
     "output_type": "stream",
     "text": [
      "pixdim[1,2,3] should be non-zero; setting 0 dims to 1\n"
     ]
    },
    {
     "name": "stdout",
     "output_type": "stream",
     "text": [
      "(316, 59421)\n",
      "/home/qing/Documents/tfMRI_Language_preproc/194645_3T_tfMRI_LANGUAGE_preproc/tfMRI_LANGUAGE_LR_Atlas_MSMAll.dtseries.nii\n",
      "537\n"
     ]
    },
    {
     "name": "stderr",
     "output_type": "stream",
     "text": [
      "pixdim[1,2,3] should be non-zero; setting 0 dims to 1\n"
     ]
    },
    {
     "name": "stdout",
     "output_type": "stream",
     "text": [
      "(316, 59421)\n",
      "/home/qing/Documents/tfMRI_Language_preproc/922854_3T_tfMRI_LANGUAGE_preproc/tfMRI_LANGUAGE_LR_Atlas_MSMAll.dtseries.nii\n",
      "538\n"
     ]
    },
    {
     "name": "stderr",
     "output_type": "stream",
     "text": [
      "pixdim[1,2,3] should be non-zero; setting 0 dims to 1\n"
     ]
    },
    {
     "name": "stdout",
     "output_type": "stream",
     "text": [
      "(316, 59421)\n",
      "/home/qing/Documents/tfMRI_Language_preproc/162733_3T_tfMRI_LANGUAGE_preproc/tfMRI_LANGUAGE_LR_Atlas_MSMAll.dtseries.nii\n",
      "539\n"
     ]
    },
    {
     "name": "stderr",
     "output_type": "stream",
     "text": [
      "pixdim[1,2,3] should be non-zero; setting 0 dims to 1\n"
     ]
    },
    {
     "name": "stdout",
     "output_type": "stream",
     "text": [
      "(316, 59421)\n",
      "/home/qing/Documents/tfMRI_Language_preproc/141119_3T_tfMRI_LANGUAGE_preproc/tfMRI_LANGUAGE_LR_Atlas_MSMAll.dtseries.nii\n",
      "540\n"
     ]
    },
    {
     "name": "stderr",
     "output_type": "stream",
     "text": [
      "pixdim[1,2,3] should be non-zero; setting 0 dims to 1\n"
     ]
    },
    {
     "name": "stdout",
     "output_type": "stream",
     "text": [
      "(316, 59421)\n",
      "/home/qing/Documents/tfMRI_Language_preproc/185442_3T_tfMRI_LANGUAGE_preproc/tfMRI_LANGUAGE_LR_Atlas_MSMAll.dtseries.nii\n",
      "541\n"
     ]
    },
    {
     "name": "stderr",
     "output_type": "stream",
     "text": [
      "pixdim[1,2,3] should be non-zero; setting 0 dims to 1\n"
     ]
    },
    {
     "name": "stdout",
     "output_type": "stream",
     "text": [
      "(316, 59421)\n",
      "/home/qing/Documents/tfMRI_Language_preproc/565452_3T_tfMRI_LANGUAGE_preproc/tfMRI_LANGUAGE_LR_Atlas_MSMAll.dtseries.nii\n",
      "542\n"
     ]
    },
    {
     "name": "stderr",
     "output_type": "stream",
     "text": [
      "pixdim[1,2,3] should be non-zero; setting 0 dims to 1\n"
     ]
    },
    {
     "name": "stdout",
     "output_type": "stream",
     "text": [
      "(316, 59421)\n",
      "/home/qing/Documents/tfMRI_Language_preproc/316633_3T_tfMRI_LANGUAGE_preproc/tfMRI_LANGUAGE_LR_Atlas_MSMAll.dtseries.nii\n",
      "543\n"
     ]
    },
    {
     "name": "stderr",
     "output_type": "stream",
     "text": [
      "pixdim[1,2,3] should be non-zero; setting 0 dims to 1\n"
     ]
    },
    {
     "name": "stdout",
     "output_type": "stream",
     "text": [
      "(316, 59421)\n",
      "/home/qing/Documents/tfMRI_Language_preproc/303624_3T_tfMRI_LANGUAGE_preproc/tfMRI_LANGUAGE_LR_Atlas_MSMAll.dtseries.nii\n",
      "544\n"
     ]
    },
    {
     "name": "stderr",
     "output_type": "stream",
     "text": [
      "pixdim[1,2,3] should be non-zero; setting 0 dims to 1\n"
     ]
    },
    {
     "name": "stdout",
     "output_type": "stream",
     "text": [
      "(316, 59421)\n",
      "/home/qing/Documents/tfMRI_Language_preproc/459453_3T_tfMRI_LANGUAGE_preproc/tfMRI_LANGUAGE_LR_Atlas_MSMAll.dtseries.nii\n",
      "545\n"
     ]
    },
    {
     "name": "stderr",
     "output_type": "stream",
     "text": [
      "pixdim[1,2,3] should be non-zero; setting 0 dims to 1\n"
     ]
    },
    {
     "name": "stdout",
     "output_type": "stream",
     "text": [
      "(316, 59421)\n",
      "/home/qing/Documents/tfMRI_Language_preproc/115017_3T_tfMRI_LANGUAGE_preproc/tfMRI_LANGUAGE_LR_Atlas_MSMAll.dtseries.nii\n",
      "546\n"
     ]
    },
    {
     "name": "stderr",
     "output_type": "stream",
     "text": [
      "pixdim[1,2,3] should be non-zero; setting 0 dims to 1\n"
     ]
    },
    {
     "name": "stdout",
     "output_type": "stream",
     "text": [
      "(316, 59421)\n",
      "/home/qing/Documents/tfMRI_Language_preproc/133625_3T_tfMRI_LANGUAGE_preproc/tfMRI_LANGUAGE_LR_Atlas_MSMAll.dtseries.nii\n",
      "547\n"
     ]
    },
    {
     "name": "stderr",
     "output_type": "stream",
     "text": [
      "pixdim[1,2,3] should be non-zero; setting 0 dims to 1\n"
     ]
    },
    {
     "name": "stdout",
     "output_type": "stream",
     "text": [
      "(316, 59421)\n",
      "/home/qing/Documents/tfMRI_Language_preproc/223929_3T_tfMRI_LANGUAGE_preproc/tfMRI_LANGUAGE_LR_Atlas_MSMAll.dtseries.nii\n",
      "548\n"
     ]
    },
    {
     "name": "stderr",
     "output_type": "stream",
     "text": [
      "pixdim[1,2,3] should be non-zero; setting 0 dims to 1\n"
     ]
    },
    {
     "name": "stdout",
     "output_type": "stream",
     "text": [
      "(316, 59421)\n",
      "/home/qing/Documents/tfMRI_Language_preproc/123420_3T_tfMRI_LANGUAGE_preproc/tfMRI_LANGUAGE_LR_Atlas_MSMAll.dtseries.nii\n",
      "549\n"
     ]
    },
    {
     "name": "stderr",
     "output_type": "stream",
     "text": [
      "pixdim[1,2,3] should be non-zero; setting 0 dims to 1\n"
     ]
    },
    {
     "name": "stdout",
     "output_type": "stream",
     "text": [
      "(316, 59421)\n",
      "/home/qing/Documents/tfMRI_Language_preproc/177645_3T_tfMRI_LANGUAGE_preproc/tfMRI_LANGUAGE_LR_Atlas_MSMAll.dtseries.nii\n",
      "550\n"
     ]
    },
    {
     "name": "stderr",
     "output_type": "stream",
     "text": [
      "pixdim[1,2,3] should be non-zero; setting 0 dims to 1\n"
     ]
    },
    {
     "name": "stdout",
     "output_type": "stream",
     "text": [
      "(316, 59421)\n",
      "/home/qing/Documents/tfMRI_Language_preproc/436239_3T_tfMRI_LANGUAGE_preproc/tfMRI_LANGUAGE_LR_Atlas_MSMAll.dtseries.nii\n",
      "551\n"
     ]
    },
    {
     "name": "stderr",
     "output_type": "stream",
     "text": [
      "pixdim[1,2,3] should be non-zero; setting 0 dims to 1\n"
     ]
    },
    {
     "name": "stdout",
     "output_type": "stream",
     "text": [
      "(316, 59421)\n",
      "/home/qing/Documents/tfMRI_Language_preproc/180735_3T_tfMRI_LANGUAGE_preproc/tfMRI_LANGUAGE_LR_Atlas_MSMAll.dtseries.nii\n",
      "552\n"
     ]
    },
    {
     "name": "stderr",
     "output_type": "stream",
     "text": [
      "pixdim[1,2,3] should be non-zero; setting 0 dims to 1\n"
     ]
    },
    {
     "name": "stdout",
     "output_type": "stream",
     "text": [
      "(316, 59421)\n",
      "/home/qing/Documents/tfMRI_Language_preproc/119833_3T_tfMRI_LANGUAGE_preproc/tfMRI_LANGUAGE_LR_Atlas_MSMAll.dtseries.nii\n",
      "553\n"
     ]
    },
    {
     "name": "stderr",
     "output_type": "stream",
     "text": [
      "pixdim[1,2,3] should be non-zero; setting 0 dims to 1\n"
     ]
    },
    {
     "name": "stdout",
     "output_type": "stream",
     "text": [
      "(316, 59421)\n",
      "/home/qing/Documents/tfMRI_Language_preproc/382242_3T_tfMRI_LANGUAGE_preproc/tfMRI_LANGUAGE_LR_Atlas_MSMAll.dtseries.nii\n",
      "554\n"
     ]
    },
    {
     "name": "stderr",
     "output_type": "stream",
     "text": [
      "pixdim[1,2,3] should be non-zero; setting 0 dims to 1\n"
     ]
    },
    {
     "name": "stdout",
     "output_type": "stream",
     "text": [
      "(316, 59421)\n",
      "/home/qing/Documents/tfMRI_Language_preproc/154431_3T_tfMRI_LANGUAGE_preproc/tfMRI_LANGUAGE_LR_Atlas_MSMAll.dtseries.nii\n",
      "555\n"
     ]
    },
    {
     "name": "stderr",
     "output_type": "stream",
     "text": [
      "pixdim[1,2,3] should be non-zero; setting 0 dims to 1\n"
     ]
    },
    {
     "name": "stdout",
     "output_type": "stream",
     "text": [
      "(316, 59421)\n",
      "/home/qing/Documents/tfMRI_Language_preproc/120515_3T_tfMRI_LANGUAGE_preproc/tfMRI_LANGUAGE_LR_Atlas_MSMAll.dtseries.nii\n",
      "556\n"
     ]
    },
    {
     "name": "stderr",
     "output_type": "stream",
     "text": [
      "pixdim[1,2,3] should be non-zero; setting 0 dims to 1\n"
     ]
    },
    {
     "name": "stdout",
     "output_type": "stream",
     "text": [
      "(316, 59421)\n",
      "/home/qing/Documents/tfMRI_Language_preproc/172433_3T_tfMRI_LANGUAGE_preproc/tfMRI_LANGUAGE_LR_Atlas_MSMAll.dtseries.nii\n",
      "557\n"
     ]
    },
    {
     "name": "stderr",
     "output_type": "stream",
     "text": [
      "pixdim[1,2,3] should be non-zero; setting 0 dims to 1\n"
     ]
    },
    {
     "name": "stdout",
     "output_type": "stream",
     "text": [
      "(316, 59421)\n",
      "/home/qing/Documents/tfMRI_Language_preproc/896879_3T_tfMRI_LANGUAGE_preproc/tfMRI_LANGUAGE_LR_Atlas_MSMAll.dtseries.nii\n",
      "558\n"
     ]
    },
    {
     "name": "stderr",
     "output_type": "stream",
     "text": [
      "pixdim[1,2,3] should be non-zero; setting 0 dims to 1\n"
     ]
    },
    {
     "name": "stdout",
     "output_type": "stream",
     "text": [
      "(316, 59421)\n",
      "/home/qing/Documents/tfMRI_Language_preproc/155635_3T_tfMRI_LANGUAGE_preproc/tfMRI_LANGUAGE_LR_Atlas_MSMAll.dtseries.nii\n",
      "559\n"
     ]
    },
    {
     "name": "stderr",
     "output_type": "stream",
     "text": [
      "pixdim[1,2,3] should be non-zero; setting 0 dims to 1\n"
     ]
    },
    {
     "name": "stdout",
     "output_type": "stream",
     "text": [
      "(316, 59421)\n",
      "/home/qing/Documents/tfMRI_Language_preproc/901038_3T_tfMRI_LANGUAGE_preproc/tfMRI_LANGUAGE_LR_Atlas_MSMAll.dtseries.nii\n",
      "560\n"
     ]
    },
    {
     "name": "stderr",
     "output_type": "stream",
     "text": [
      "pixdim[1,2,3] should be non-zero; setting 0 dims to 1\n"
     ]
    },
    {
     "name": "stdout",
     "output_type": "stream",
     "text": [
      "(316, 59421)\n",
      "/home/qing/Documents/tfMRI_Language_preproc/429040_3T_tfMRI_LANGUAGE_preproc/tfMRI_LANGUAGE_LR_Atlas_MSMAll.dtseries.nii\n",
      "561\n"
     ]
    },
    {
     "name": "stderr",
     "output_type": "stream",
     "text": [
      "pixdim[1,2,3] should be non-zero; setting 0 dims to 1\n"
     ]
    },
    {
     "name": "stdout",
     "output_type": "stream",
     "text": [
      "(316, 59421)\n",
      "/home/qing/Documents/tfMRI_Language_preproc/105620_3T_tfMRI_LANGUAGE_preproc/tfMRI_LANGUAGE_LR_Atlas_MSMAll.dtseries.nii\n",
      "562\n"
     ]
    },
    {
     "name": "stderr",
     "output_type": "stream",
     "text": [
      "pixdim[1,2,3] should be non-zero; setting 0 dims to 1\n"
     ]
    },
    {
     "name": "stdout",
     "output_type": "stream",
     "text": [
      "(316, 59421)\n",
      "/home/qing/Documents/tfMRI_Language_preproc/144428_3T_tfMRI_LANGUAGE_preproc/tfMRI_LANGUAGE_LR_Atlas_MSMAll.dtseries.nii\n",
      "563\n"
     ]
    },
    {
     "name": "stderr",
     "output_type": "stream",
     "text": [
      "pixdim[1,2,3] should be non-zero; setting 0 dims to 1\n"
     ]
    },
    {
     "name": "stdout",
     "output_type": "stream",
     "text": [
      "(316, 59421)\n",
      "/home/qing/Documents/tfMRI_Language_preproc/166640_3T_tfMRI_LANGUAGE_preproc/tfMRI_LANGUAGE_LR_Atlas_MSMAll.dtseries.nii\n",
      "564\n"
     ]
    },
    {
     "name": "stderr",
     "output_type": "stream",
     "text": [
      "pixdim[1,2,3] should be non-zero; setting 0 dims to 1\n"
     ]
    },
    {
     "name": "stdout",
     "output_type": "stream",
     "text": [
      "(316, 59421)\n",
      "/home/qing/Documents/tfMRI_Language_preproc/668361_3T_tfMRI_LANGUAGE_preproc/tfMRI_LANGUAGE_LR_Atlas_MSMAll.dtseries.nii\n",
      "565\n"
     ]
    },
    {
     "name": "stderr",
     "output_type": "stream",
     "text": [
      "pixdim[1,2,3] should be non-zero; setting 0 dims to 1\n"
     ]
    },
    {
     "name": "stdout",
     "output_type": "stream",
     "text": [
      "(316, 59421)\n",
      "/home/qing/Documents/tfMRI_Language_preproc/991267_3T_tfMRI_LANGUAGE_preproc/tfMRI_LANGUAGE_LR_Atlas_MSMAll.dtseries.nii\n",
      "566\n"
     ]
    },
    {
     "name": "stderr",
     "output_type": "stream",
     "text": [
      "pixdim[1,2,3] should be non-zero; setting 0 dims to 1\n"
     ]
    },
    {
     "name": "stdout",
     "output_type": "stream",
     "text": [
      "(316, 59421)\n",
      "/home/qing/Documents/tfMRI_Language_preproc/173435_3T_tfMRI_LANGUAGE_preproc/tfMRI_LANGUAGE_LR_Atlas_MSMAll.dtseries.nii\n",
      "567\n"
     ]
    },
    {
     "name": "stderr",
     "output_type": "stream",
     "text": [
      "pixdim[1,2,3] should be non-zero; setting 0 dims to 1\n"
     ]
    },
    {
     "name": "stdout",
     "output_type": "stream",
     "text": [
      "(316, 59421)\n",
      "/home/qing/Documents/tfMRI_Language_preproc/397760_3T_tfMRI_LANGUAGE_preproc/tfMRI_LANGUAGE_LR_Atlas_MSMAll.dtseries.nii\n",
      "568\n"
     ]
    },
    {
     "name": "stderr",
     "output_type": "stream",
     "text": [
      "pixdim[1,2,3] should be non-zero; setting 0 dims to 1\n"
     ]
    },
    {
     "name": "stdout",
     "output_type": "stream",
     "text": [
      "(316, 59421)\n",
      "/home/qing/Documents/tfMRI_Language_preproc/304727_3T_tfMRI_LANGUAGE_preproc/tfMRI_LANGUAGE_LR_Atlas_MSMAll.dtseries.nii\n",
      "569\n"
     ]
    },
    {
     "name": "stderr",
     "output_type": "stream",
     "text": [
      "pixdim[1,2,3] should be non-zero; setting 0 dims to 1\n"
     ]
    },
    {
     "name": "stdout",
     "output_type": "stream",
     "text": [
      "(316, 59421)\n",
      "/home/qing/Documents/tfMRI_Language_preproc/673455_3T_tfMRI_LANGUAGE_preproc/tfMRI_LANGUAGE_LR_Atlas_MSMAll.dtseries.nii\n",
      "570\n"
     ]
    },
    {
     "name": "stderr",
     "output_type": "stream",
     "text": [
      "pixdim[1,2,3] should be non-zero; setting 0 dims to 1\n"
     ]
    },
    {
     "name": "stdout",
     "output_type": "stream",
     "text": [
      "(316, 59421)\n",
      "/home/qing/Documents/tfMRI_Language_preproc/857263_3T_tfMRI_LANGUAGE_preproc/tfMRI_LANGUAGE_LR_Atlas_MSMAll.dtseries.nii\n",
      "571\n"
     ]
    },
    {
     "name": "stderr",
     "output_type": "stream",
     "text": [
      "pixdim[1,2,3] should be non-zero; setting 0 dims to 1\n"
     ]
    },
    {
     "name": "stdout",
     "output_type": "stream",
     "text": [
      "(316, 59421)\n",
      "/home/qing/Documents/tfMRI_Language_preproc/334635_3T_tfMRI_LANGUAGE_preproc/tfMRI_LANGUAGE_LR_Atlas_MSMAll.dtseries.nii\n",
      "572\n"
     ]
    },
    {
     "name": "stderr",
     "output_type": "stream",
     "text": [
      "pixdim[1,2,3] should be non-zero; setting 0 dims to 1\n"
     ]
    },
    {
     "name": "stdout",
     "output_type": "stream",
     "text": [
      "(316, 59421)\n",
      "/home/qing/Documents/tfMRI_Language_preproc/566454_3T_tfMRI_LANGUAGE_preproc/tfMRI_LANGUAGE_LR_Atlas_MSMAll.dtseries.nii\n",
      "573\n"
     ]
    },
    {
     "name": "stderr",
     "output_type": "stream",
     "text": [
      "pixdim[1,2,3] should be non-zero; setting 0 dims to 1\n"
     ]
    },
    {
     "name": "stdout",
     "output_type": "stream",
     "text": [
      "(316, 59421)\n",
      "/home/qing/Documents/tfMRI_Language_preproc/129937_3T_tfMRI_LANGUAGE_preproc/tfMRI_LANGUAGE_LR_Atlas_MSMAll.dtseries.nii\n",
      "574\n"
     ]
    },
    {
     "name": "stderr",
     "output_type": "stream",
     "text": [
      "pixdim[1,2,3] should be non-zero; setting 0 dims to 1\n"
     ]
    },
    {
     "name": "stdout",
     "output_type": "stream",
     "text": [
      "(316, 59421)\n",
      "/home/qing/Documents/tfMRI_Language_preproc/165840_3T_tfMRI_LANGUAGE_preproc/tfMRI_LANGUAGE_LR_Atlas_MSMAll.dtseries.nii\n",
      "575\n"
     ]
    },
    {
     "name": "stderr",
     "output_type": "stream",
     "text": [
      "pixdim[1,2,3] should be non-zero; setting 0 dims to 1\n"
     ]
    },
    {
     "name": "stdout",
     "output_type": "stream",
     "text": [
      "(316, 59421)\n",
      "/home/qing/Documents/tfMRI_Language_preproc/123925_3T_tfMRI_LANGUAGE_preproc/tfMRI_LANGUAGE_LR_Atlas_MSMAll.dtseries.nii\n",
      "576\n"
     ]
    },
    {
     "name": "stderr",
     "output_type": "stream",
     "text": [
      "pixdim[1,2,3] should be non-zero; setting 0 dims to 1\n"
     ]
    },
    {
     "name": "stdout",
     "output_type": "stream",
     "text": [
      "(316, 59421)\n",
      "/home/qing/Documents/tfMRI_Language_preproc/178142_3T_tfMRI_LANGUAGE_preproc/tfMRI_LANGUAGE_LR_Atlas_MSMAll.dtseries.nii\n",
      "577\n"
     ]
    },
    {
     "name": "stderr",
     "output_type": "stream",
     "text": [
      "pixdim[1,2,3] should be non-zero; setting 0 dims to 1\n"
     ]
    },
    {
     "name": "stdout",
     "output_type": "stream",
     "text": [
      "(316, 59421)\n",
      "/home/qing/Documents/tfMRI_Language_preproc/255639_3T_tfMRI_LANGUAGE_preproc/tfMRI_LANGUAGE_LR_Atlas_MSMAll.dtseries.nii\n",
      "578\n"
     ]
    },
    {
     "name": "stderr",
     "output_type": "stream",
     "text": [
      "pixdim[1,2,3] should be non-zero; setting 0 dims to 1\n"
     ]
    },
    {
     "name": "stdout",
     "output_type": "stream",
     "text": [
      "(316, 59421)\n",
      "/home/qing/Documents/tfMRI_Language_preproc/994273_3T_tfMRI_LANGUAGE_preproc/tfMRI_LANGUAGE_LR_Atlas_MSMAll.dtseries.nii\n",
      "579\n"
     ]
    },
    {
     "name": "stderr",
     "output_type": "stream",
     "text": [
      "pixdim[1,2,3] should be non-zero; setting 0 dims to 1\n"
     ]
    },
    {
     "name": "stdout",
     "output_type": "stream",
     "text": [
      "(316, 59421)\n",
      "/home/qing/Documents/tfMRI_Language_preproc/163129_3T_tfMRI_LANGUAGE_preproc/tfMRI_LANGUAGE_LR_Atlas_MSMAll.dtseries.nii\n",
      "580\n"
     ]
    },
    {
     "name": "stderr",
     "output_type": "stream",
     "text": [
      "pixdim[1,2,3] should be non-zero; setting 0 dims to 1\n"
     ]
    },
    {
     "name": "stdout",
     "output_type": "stream",
     "text": [
      "(316, 59421)\n",
      "/home/qing/Documents/tfMRI_Language_preproc/393550_3T_tfMRI_LANGUAGE_preproc/tfMRI_LANGUAGE_LR_Atlas_MSMAll.dtseries.nii\n",
      "581\n"
     ]
    },
    {
     "name": "stderr",
     "output_type": "stream",
     "text": [
      "pixdim[1,2,3] should be non-zero; setting 0 dims to 1\n"
     ]
    },
    {
     "name": "stdout",
     "output_type": "stream",
     "text": [
      "(316, 59421)\n",
      "/home/qing/Documents/tfMRI_Language_preproc/162228_3T_tfMRI_LANGUAGE_preproc/tfMRI_LANGUAGE_LR_Atlas_MSMAll.dtseries.nii\n",
      "582\n"
     ]
    },
    {
     "name": "stderr",
     "output_type": "stream",
     "text": [
      "pixdim[1,2,3] should be non-zero; setting 0 dims to 1\n"
     ]
    },
    {
     "name": "stdout",
     "output_type": "stream",
     "text": [
      "(316, 59421)\n",
      "/home/qing/Documents/tfMRI_Language_preproc/129634_3T_tfMRI_LANGUAGE_preproc/tfMRI_LANGUAGE_LR_Atlas_MSMAll.dtseries.nii\n",
      "583\n"
     ]
    },
    {
     "name": "stderr",
     "output_type": "stream",
     "text": [
      "pixdim[1,2,3] should be non-zero; setting 0 dims to 1\n"
     ]
    },
    {
     "name": "stdout",
     "output_type": "stream",
     "text": [
      "(316, 59421)\n",
      "/home/qing/Documents/tfMRI_Language_preproc/144125_3T_tfMRI_LANGUAGE_preproc/tfMRI_LANGUAGE_LR_Atlas_MSMAll.dtseries.nii\n",
      "584\n"
     ]
    },
    {
     "name": "stderr",
     "output_type": "stream",
     "text": [
      "pixdim[1,2,3] should be non-zero; setting 0 dims to 1\n"
     ]
    },
    {
     "name": "stdout",
     "output_type": "stream",
     "text": [
      "(316, 59421)\n",
      "/home/qing/Documents/tfMRI_Language_preproc/789373_3T_tfMRI_LANGUAGE_preproc/tfMRI_LANGUAGE_LR_Atlas_MSMAll.dtseries.nii\n",
      "585\n"
     ]
    },
    {
     "name": "stderr",
     "output_type": "stream",
     "text": [
      "pixdim[1,2,3] should be non-zero; setting 0 dims to 1\n"
     ]
    },
    {
     "name": "stdout",
     "output_type": "stream",
     "text": [
      "(316, 59421)\n",
      "/home/qing/Documents/tfMRI_Language_preproc/737960_3T_tfMRI_LANGUAGE_preproc/tfMRI_LANGUAGE_LR_Atlas_MSMAll.dtseries.nii\n",
      "586\n"
     ]
    },
    {
     "name": "stderr",
     "output_type": "stream",
     "text": [
      "pixdim[1,2,3] should be non-zero; setting 0 dims to 1\n"
     ]
    },
    {
     "name": "stdout",
     "output_type": "stream",
     "text": [
      "(316, 59421)\n",
      "/home/qing/Documents/tfMRI_Language_preproc/138231_3T_tfMRI_LANGUAGE_preproc/tfMRI_LANGUAGE_LR_Atlas_MSMAll.dtseries.nii\n",
      "587\n"
     ]
    },
    {
     "name": "stderr",
     "output_type": "stream",
     "text": [
      "pixdim[1,2,3] should be non-zero; setting 0 dims to 1\n"
     ]
    },
    {
     "name": "stdout",
     "output_type": "stream",
     "text": [
      "(316, 59421)\n",
      "/home/qing/Documents/tfMRI_Language_preproc/153429_3T_tfMRI_LANGUAGE_preproc/tfMRI_LANGUAGE_LR_Atlas_MSMAll.dtseries.nii\n",
      "588\n"
     ]
    },
    {
     "name": "stderr",
     "output_type": "stream",
     "text": [
      "pixdim[1,2,3] should be non-zero; setting 0 dims to 1\n"
     ]
    },
    {
     "name": "stdout",
     "output_type": "stream",
     "text": [
      "(316, 59421)\n",
      "/home/qing/Documents/tfMRI_Language_preproc/183034_3T_tfMRI_LANGUAGE_preproc/tfMRI_LANGUAGE_LR_Atlas_MSMAll.dtseries.nii\n",
      "589\n"
     ]
    },
    {
     "name": "stderr",
     "output_type": "stream",
     "text": [
      "pixdim[1,2,3] should be non-zero; setting 0 dims to 1\n"
     ]
    },
    {
     "name": "stdout",
     "output_type": "stream",
     "text": [
      "(316, 59421)\n",
      "/home/qing/Documents/tfMRI_Language_preproc/176542_3T_tfMRI_LANGUAGE_preproc/tfMRI_LANGUAGE_LR_Atlas_MSMAll.dtseries.nii\n",
      "590\n"
     ]
    },
    {
     "name": "stderr",
     "output_type": "stream",
     "text": [
      "pixdim[1,2,3] should be non-zero; setting 0 dims to 1\n"
     ]
    },
    {
     "name": "stdout",
     "output_type": "stream",
     "text": [
      "(316, 59421)\n",
      "/home/qing/Documents/tfMRI_Language_preproc/865363_3T_tfMRI_LANGUAGE_preproc/tfMRI_LANGUAGE_LR_Atlas_MSMAll.dtseries.nii\n",
      "591\n"
     ]
    },
    {
     "name": "stderr",
     "output_type": "stream",
     "text": [
      "pixdim[1,2,3] should be non-zero; setting 0 dims to 1\n"
     ]
    },
    {
     "name": "stdout",
     "output_type": "stream",
     "text": [
      "(316, 59421)\n",
      "/home/qing/Documents/tfMRI_Language_preproc/680957_3T_tfMRI_LANGUAGE_preproc/tfMRI_LANGUAGE_LR_Atlas_MSMAll.dtseries.nii\n",
      "592\n"
     ]
    },
    {
     "name": "stderr",
     "output_type": "stream",
     "text": [
      "pixdim[1,2,3] should be non-zero; setting 0 dims to 1\n"
     ]
    },
    {
     "name": "stdout",
     "output_type": "stream",
     "text": [
      "(316, 59421)\n",
      "/home/qing/Documents/tfMRI_Language_preproc/148335_3T_tfMRI_LANGUAGE_preproc/tfMRI_LANGUAGE_LR_Atlas_MSMAll.dtseries.nii\n",
      "593\n"
     ]
    },
    {
     "name": "stderr",
     "output_type": "stream",
     "text": [
      "pixdim[1,2,3] should be non-zero; setting 0 dims to 1\n"
     ]
    },
    {
     "name": "stdout",
     "output_type": "stream",
     "text": [
      "(316, 59421)\n",
      "/home/qing/Documents/tfMRI_Language_preproc/178950_3T_tfMRI_LANGUAGE_preproc/tfMRI_LANGUAGE_LR_Atlas_MSMAll.dtseries.nii\n",
      "594\n"
     ]
    },
    {
     "name": "stderr",
     "output_type": "stream",
     "text": [
      "pixdim[1,2,3] should be non-zero; setting 0 dims to 1\n"
     ]
    },
    {
     "name": "stdout",
     "output_type": "stream",
     "text": [
      "(316, 59421)\n",
      "/home/qing/Documents/tfMRI_Language_preproc/366042_3T_tfMRI_LANGUAGE_preproc/tfMRI_LANGUAGE_LR_Atlas_MSMAll.dtseries.nii\n",
      "595\n"
     ]
    },
    {
     "name": "stderr",
     "output_type": "stream",
     "text": [
      "pixdim[1,2,3] should be non-zero; setting 0 dims to 1\n"
     ]
    },
    {
     "name": "stdout",
     "output_type": "stream",
     "text": [
      "(316, 59421)\n",
      "/home/qing/Documents/tfMRI_Language_preproc/530635_3T_tfMRI_LANGUAGE_preproc/tfMRI_LANGUAGE_LR_Atlas_MSMAll.dtseries.nii\n",
      "596\n"
     ]
    },
    {
     "name": "stderr",
     "output_type": "stream",
     "text": [
      "pixdim[1,2,3] should be non-zero; setting 0 dims to 1\n"
     ]
    },
    {
     "name": "stdout",
     "output_type": "stream",
     "text": [
      "(316, 59421)\n",
      "/home/qing/Documents/tfMRI_Language_preproc/581349_3T_tfMRI_LANGUAGE_preproc/tfMRI_LANGUAGE_LR_Atlas_MSMAll.dtseries.nii\n",
      "597\n"
     ]
    },
    {
     "name": "stderr",
     "output_type": "stream",
     "text": [
      "pixdim[1,2,3] should be non-zero; setting 0 dims to 1\n"
     ]
    },
    {
     "name": "stdout",
     "output_type": "stream",
     "text": [
      "(316, 59421)\n",
      "/home/qing/Documents/tfMRI_Language_preproc/175742_3T_tfMRI_LANGUAGE_preproc/tfMRI_LANGUAGE_LR_Atlas_MSMAll.dtseries.nii\n",
      "598\n"
     ]
    },
    {
     "name": "stderr",
     "output_type": "stream",
     "text": [
      "pixdim[1,2,3] should be non-zero; setting 0 dims to 1\n"
     ]
    },
    {
     "name": "stdout",
     "output_type": "stream",
     "text": [
      "(316, 59421)\n",
      "/home/qing/Documents/tfMRI_Language_preproc/214221_3T_tfMRI_LANGUAGE_preproc/tfMRI_LANGUAGE_LR_Atlas_MSMAll.dtseries.nii\n",
      "599\n"
     ]
    },
    {
     "name": "stderr",
     "output_type": "stream",
     "text": [
      "pixdim[1,2,3] should be non-zero; setting 0 dims to 1\n"
     ]
    },
    {
     "name": "stdout",
     "output_type": "stream",
     "text": [
      "(316, 59421)\n",
      "/home/qing/Documents/tfMRI_Language_preproc/136227_3T_tfMRI_LANGUAGE_preproc/tfMRI_LANGUAGE_LR_Atlas_MSMAll.dtseries.nii\n",
      "600\n"
     ]
    },
    {
     "name": "stderr",
     "output_type": "stream",
     "text": [
      "pixdim[1,2,3] should be non-zero; setting 0 dims to 1\n"
     ]
    },
    {
     "name": "stdout",
     "output_type": "stream",
     "text": [
      "(316, 59421)\n",
      "/home/qing/Documents/tfMRI_Language_preproc/172938_3T_tfMRI_LANGUAGE_preproc/tfMRI_LANGUAGE_LR_Atlas_MSMAll.dtseries.nii\n",
      "601\n"
     ]
    },
    {
     "name": "stderr",
     "output_type": "stream",
     "text": [
      "pixdim[1,2,3] should be non-zero; setting 0 dims to 1\n"
     ]
    },
    {
     "name": "stdout",
     "output_type": "stream",
     "text": [
      "(316, 59421)\n",
      "/home/qing/Documents/tfMRI_Language_preproc/164636_3T_tfMRI_LANGUAGE_preproc/tfMRI_LANGUAGE_LR_Atlas_MSMAll.dtseries.nii\n",
      "602\n"
     ]
    },
    {
     "name": "stderr",
     "output_type": "stream",
     "text": [
      "pixdim[1,2,3] should be non-zero; setting 0 dims to 1\n"
     ]
    },
    {
     "name": "stdout",
     "output_type": "stream",
     "text": [
      "(316, 59421)\n",
      "/home/qing/Documents/tfMRI_Language_preproc/499566_3T_tfMRI_LANGUAGE_preproc/tfMRI_LANGUAGE_LR_Atlas_MSMAll.dtseries.nii\n",
      "603\n"
     ]
    },
    {
     "name": "stderr",
     "output_type": "stream",
     "text": [
      "pixdim[1,2,3] should be non-zero; setting 0 dims to 1\n"
     ]
    },
    {
     "name": "stdout",
     "output_type": "stream",
     "text": [
      "(316, 59421)\n",
      "/home/qing/Documents/tfMRI_Language_preproc/106016_3T_tfMRI_LANGUAGE_preproc/tfMRI_LANGUAGE_LR_Atlas_MSMAll.dtseries.nii\n",
      "604\n"
     ]
    },
    {
     "name": "stderr",
     "output_type": "stream",
     "text": [
      "pixdim[1,2,3] should be non-zero; setting 0 dims to 1\n"
     ]
    },
    {
     "name": "stdout",
     "output_type": "stream",
     "text": [
      "(316, 59421)\n",
      "/home/qing/Documents/tfMRI_Language_preproc/191942_3T_tfMRI_LANGUAGE_preproc/tfMRI_LANGUAGE_LR_Atlas_MSMAll.dtseries.nii\n",
      "605\n"
     ]
    },
    {
     "name": "stderr",
     "output_type": "stream",
     "text": [
      "pixdim[1,2,3] should be non-zero; setting 0 dims to 1\n"
     ]
    },
    {
     "name": "stdout",
     "output_type": "stream",
     "text": [
      "(316, 59421)\n",
      "/home/qing/Documents/tfMRI_Language_preproc/686969_3T_tfMRI_LANGUAGE_preproc/tfMRI_LANGUAGE_LR_Atlas_MSMAll.dtseries.nii\n",
      "606\n"
     ]
    },
    {
     "name": "stderr",
     "output_type": "stream",
     "text": [
      "pixdim[1,2,3] should be non-zero; setting 0 dims to 1\n"
     ]
    },
    {
     "name": "stdout",
     "output_type": "stream",
     "text": [
      "(316, 59421)\n",
      "/home/qing/Documents/tfMRI_Language_preproc/548250_3T_tfMRI_LANGUAGE_preproc/tfMRI_LANGUAGE_LR_Atlas_MSMAll.dtseries.nii\n",
      "607\n"
     ]
    },
    {
     "name": "stderr",
     "output_type": "stream",
     "text": [
      "pixdim[1,2,3] should be non-zero; setting 0 dims to 1\n"
     ]
    },
    {
     "name": "stdout",
     "output_type": "stream",
     "text": [
      "(316, 59421)\n",
      "/home/qing/Documents/tfMRI_Language_preproc/103111_3T_tfMRI_LANGUAGE_preproc/tfMRI_LANGUAGE_LR_Atlas_MSMAll.dtseries.nii\n",
      "608\n"
     ]
    },
    {
     "name": "stderr",
     "output_type": "stream",
     "text": [
      "pixdim[1,2,3] should be non-zero; setting 0 dims to 1\n"
     ]
    },
    {
     "name": "stdout",
     "output_type": "stream",
     "text": [
      "(316, 59421)\n",
      "/home/qing/Documents/tfMRI_Language_preproc/204319_3T_tfMRI_LANGUAGE_preproc/tfMRI_LANGUAGE_LR_Atlas_MSMAll.dtseries.nii\n",
      "609\n"
     ]
    },
    {
     "name": "stderr",
     "output_type": "stream",
     "text": [
      "pixdim[1,2,3] should be non-zero; setting 0 dims to 1\n"
     ]
    },
    {
     "name": "stdout",
     "output_type": "stream",
     "text": [
      "(316, 59421)\n",
      "/home/qing/Documents/tfMRI_Language_preproc/256540_3T_tfMRI_LANGUAGE_preproc/tfMRI_LANGUAGE_LR_Atlas_MSMAll.dtseries.nii\n",
      "610\n"
     ]
    },
    {
     "name": "stderr",
     "output_type": "stream",
     "text": [
      "pixdim[1,2,3] should be non-zero; setting 0 dims to 1\n"
     ]
    },
    {
     "name": "stdout",
     "output_type": "stream",
     "text": [
      "(316, 59421)\n",
      "/home/qing/Documents/tfMRI_Language_preproc/112112_3T_tfMRI_LANGUAGE_preproc/tfMRI_LANGUAGE_LR_Atlas_MSMAll.dtseries.nii\n",
      "611\n"
     ]
    },
    {
     "name": "stderr",
     "output_type": "stream",
     "text": [
      "pixdim[1,2,3] should be non-zero; setting 0 dims to 1\n"
     ]
    },
    {
     "name": "stdout",
     "output_type": "stream",
     "text": [
      "(316, 59421)\n",
      "/home/qing/Documents/tfMRI_Language_preproc/395756_3T_tfMRI_LANGUAGE_preproc/tfMRI_LANGUAGE_LR_Atlas_MSMAll.dtseries.nii\n",
      "612\n"
     ]
    },
    {
     "name": "stderr",
     "output_type": "stream",
     "text": [
      "pixdim[1,2,3] should be non-zero; setting 0 dims to 1\n"
     ]
    },
    {
     "name": "stdout",
     "output_type": "stream",
     "text": [
      "(316, 59421)\n",
      "/home/qing/Documents/tfMRI_Language_preproc/186141_3T_tfMRI_LANGUAGE_preproc/tfMRI_LANGUAGE_LR_Atlas_MSMAll.dtseries.nii\n",
      "613\n"
     ]
    },
    {
     "name": "stderr",
     "output_type": "stream",
     "text": [
      "pixdim[1,2,3] should be non-zero; setting 0 dims to 1\n"
     ]
    },
    {
     "name": "stdout",
     "output_type": "stream",
     "text": [
      "(316, 59421)\n",
      "/home/qing/Documents/tfMRI_Language_preproc/540436_3T_tfMRI_LANGUAGE_preproc/tfMRI_LANGUAGE_LR_Atlas_MSMAll.dtseries.nii\n",
      "614\n"
     ]
    },
    {
     "name": "stderr",
     "output_type": "stream",
     "text": [
      "pixdim[1,2,3] should be non-zero; setting 0 dims to 1\n"
     ]
    },
    {
     "name": "stdout",
     "output_type": "stream",
     "text": [
      "(316, 59421)\n",
      "/home/qing/Documents/tfMRI_Language_preproc/802844_3T_tfMRI_LANGUAGE_preproc/tfMRI_LANGUAGE_LR_Atlas_MSMAll.dtseries.nii\n",
      "615\n"
     ]
    },
    {
     "name": "stderr",
     "output_type": "stream",
     "text": [
      "pixdim[1,2,3] should be non-zero; setting 0 dims to 1\n"
     ]
    },
    {
     "name": "stdout",
     "output_type": "stream",
     "text": [
      "(316, 59421)\n",
      "/home/qing/Documents/tfMRI_Language_preproc/209228_3T_tfMRI_LANGUAGE_preproc/tfMRI_LANGUAGE_LR_Atlas_MSMAll.dtseries.nii\n",
      "616\n"
     ]
    },
    {
     "name": "stderr",
     "output_type": "stream",
     "text": [
      "pixdim[1,2,3] should be non-zero; setting 0 dims to 1\n"
     ]
    },
    {
     "name": "stdout",
     "output_type": "stream",
     "text": [
      "(316, 59421)\n",
      "/home/qing/Documents/tfMRI_Language_preproc/592455_3T_tfMRI_LANGUAGE_preproc/tfMRI_LANGUAGE_LR_Atlas_MSMAll.dtseries.nii\n",
      "617\n"
     ]
    },
    {
     "name": "stderr",
     "output_type": "stream",
     "text": [
      "pixdim[1,2,3] should be non-zero; setting 0 dims to 1\n"
     ]
    },
    {
     "name": "stdout",
     "output_type": "stream",
     "text": [
      "(316, 59421)\n",
      "/home/qing/Documents/tfMRI_Language_preproc/378857_3T_tfMRI_LANGUAGE_preproc/tfMRI_LANGUAGE_LR_Atlas_MSMAll.dtseries.nii\n",
      "618\n"
     ]
    },
    {
     "name": "stderr",
     "output_type": "stream",
     "text": [
      "pixdim[1,2,3] should be non-zero; setting 0 dims to 1\n"
     ]
    },
    {
     "name": "stdout",
     "output_type": "stream",
     "text": [
      "(316, 59421)\n",
      "/home/qing/Documents/tfMRI_Language_preproc/169444_3T_tfMRI_LANGUAGE_preproc/tfMRI_LANGUAGE_LR_Atlas_MSMAll.dtseries.nii\n",
      "619\n"
     ]
    },
    {
     "name": "stderr",
     "output_type": "stream",
     "text": [
      "pixdim[1,2,3] should be non-zero; setting 0 dims to 1\n"
     ]
    },
    {
     "name": "stdout",
     "output_type": "stream",
     "text": [
      "(316, 59421)\n",
      "/home/qing/Documents/tfMRI_Language_preproc/103515_3T_tfMRI_LANGUAGE_preproc/tfMRI_LANGUAGE_LR_Atlas_MSMAll.dtseries.nii\n",
      "620\n"
     ]
    },
    {
     "name": "stderr",
     "output_type": "stream",
     "text": [
      "pixdim[1,2,3] should be non-zero; setting 0 dims to 1\n"
     ]
    },
    {
     "name": "stdout",
     "output_type": "stream",
     "text": [
      "(316, 59421)\n",
      "/home/qing/Documents/tfMRI_Language_preproc/250427_3T_tfMRI_LANGUAGE_preproc/tfMRI_LANGUAGE_LR_Atlas_MSMAll.dtseries.nii\n",
      "621\n"
     ]
    },
    {
     "name": "stderr",
     "output_type": "stream",
     "text": [
      "pixdim[1,2,3] should be non-zero; setting 0 dims to 1\n"
     ]
    },
    {
     "name": "stdout",
     "output_type": "stream",
     "text": [
      "(316, 59421)\n",
      "/home/qing/Documents/tfMRI_Language_preproc/170631_3T_tfMRI_LANGUAGE_preproc/tfMRI_LANGUAGE_LR_Atlas_MSMAll.dtseries.nii\n",
      "622\n"
     ]
    },
    {
     "name": "stderr",
     "output_type": "stream",
     "text": [
      "pixdim[1,2,3] should be non-zero; setting 0 dims to 1\n"
     ]
    },
    {
     "name": "stdout",
     "output_type": "stream",
     "text": [
      "(316, 59421)\n",
      "/home/qing/Documents/tfMRI_Language_preproc/885975_3T_tfMRI_LANGUAGE_preproc/tfMRI_LANGUAGE_LR_Atlas_MSMAll.dtseries.nii\n",
      "623\n"
     ]
    },
    {
     "name": "stderr",
     "output_type": "stream",
     "text": [
      "pixdim[1,2,3] should be non-zero; setting 0 dims to 1\n"
     ]
    },
    {
     "name": "stdout",
     "output_type": "stream",
     "text": [
      "(316, 59421)\n",
      "/home/qing/Documents/tfMRI_Language_preproc/352132_3T_tfMRI_LANGUAGE_preproc/tfMRI_LANGUAGE_LR_Atlas_MSMAll.dtseries.nii\n",
      "624\n"
     ]
    },
    {
     "name": "stderr",
     "output_type": "stream",
     "text": [
      "pixdim[1,2,3] should be non-zero; setting 0 dims to 1\n"
     ]
    },
    {
     "name": "stdout",
     "output_type": "stream",
     "text": [
      "(316, 59421)\n",
      "/home/qing/Documents/tfMRI_Language_preproc/567052_3T_tfMRI_LANGUAGE_preproc/tfMRI_LANGUAGE_LR_Atlas_MSMAll.dtseries.nii\n",
      "625\n"
     ]
    },
    {
     "name": "stderr",
     "output_type": "stream",
     "text": [
      "pixdim[1,2,3] should be non-zero; setting 0 dims to 1\n"
     ]
    },
    {
     "name": "stdout",
     "output_type": "stream",
     "text": [
      "(316, 59421)\n",
      "/home/qing/Documents/tfMRI_Language_preproc/520228_3T_tfMRI_LANGUAGE_preproc/tfMRI_LANGUAGE_LR_Atlas_MSMAll.dtseries.nii\n",
      "626\n"
     ]
    },
    {
     "name": "stderr",
     "output_type": "stream",
     "text": [
      "pixdim[1,2,3] should be non-zero; setting 0 dims to 1\n"
     ]
    },
    {
     "name": "stdout",
     "output_type": "stream",
     "text": [
      "(316, 59421)\n",
      "/home/qing/Documents/tfMRI_Language_preproc/102816_3T_tfMRI_LANGUAGE_preproc/tfMRI_LANGUAGE_LR_Atlas_MSMAll.dtseries.nii\n",
      "627\n"
     ]
    },
    {
     "name": "stderr",
     "output_type": "stream",
     "text": [
      "pixdim[1,2,3] should be non-zero; setting 0 dims to 1\n"
     ]
    },
    {
     "name": "stdout",
     "output_type": "stream",
     "text": [
      "(316, 59421)\n",
      "/home/qing/Documents/tfMRI_Language_preproc/880157_3T_tfMRI_LANGUAGE_preproc/tfMRI_LANGUAGE_LR_Atlas_MSMAll.dtseries.nii\n",
      "628\n"
     ]
    },
    {
     "name": "stderr",
     "output_type": "stream",
     "text": [
      "pixdim[1,2,3] should be non-zero; setting 0 dims to 1\n"
     ]
    },
    {
     "name": "stdout",
     "output_type": "stream",
     "text": [
      "(316, 59421)\n",
      "/home/qing/Documents/tfMRI_Language_preproc/100307_3T_tfMRI_LANGUAGE_preproc/tfMRI_LANGUAGE_LR_Atlas_MSMAll.dtseries.nii\n",
      "629\n"
     ]
    },
    {
     "name": "stderr",
     "output_type": "stream",
     "text": [
      "pixdim[1,2,3] should be non-zero; setting 0 dims to 1\n"
     ]
    },
    {
     "name": "stdout",
     "output_type": "stream",
     "text": [
      "(316, 59421)\n",
      "/home/qing/Documents/tfMRI_Language_preproc/195950_3T_tfMRI_LANGUAGE_preproc/tfMRI_LANGUAGE_LR_Atlas_MSMAll.dtseries.nii\n",
      "630\n"
     ]
    },
    {
     "name": "stderr",
     "output_type": "stream",
     "text": [
      "pixdim[1,2,3] should be non-zero; setting 0 dims to 1\n"
     ]
    },
    {
     "name": "stdout",
     "output_type": "stream",
     "text": [
      "(316, 59421)\n",
      "/home/qing/Documents/tfMRI_Language_preproc/735148_3T_tfMRI_LANGUAGE_preproc/tfMRI_LANGUAGE_LR_Atlas_MSMAll.dtseries.nii\n",
      "631\n"
     ]
    },
    {
     "name": "stderr",
     "output_type": "stream",
     "text": [
      "pixdim[1,2,3] should be non-zero; setting 0 dims to 1\n"
     ]
    },
    {
     "name": "stdout",
     "output_type": "stream",
     "text": [
      "(316, 59421)\n",
      "/home/qing/Documents/tfMRI_Language_preproc/207426_3T_tfMRI_LANGUAGE_preproc/tfMRI_LANGUAGE_LR_Atlas_MSMAll.dtseries.nii\n",
      "632\n"
     ]
    },
    {
     "name": "stderr",
     "output_type": "stream",
     "text": [
      "pixdim[1,2,3] should be non-zero; setting 0 dims to 1\n"
     ]
    },
    {
     "name": "stdout",
     "output_type": "stream",
     "text": [
      "(316, 59421)\n",
      "/home/qing/Documents/tfMRI_Language_preproc/966975_3T_tfMRI_LANGUAGE_preproc/tfMRI_LANGUAGE_LR_Atlas_MSMAll.dtseries.nii\n",
      "633\n"
     ]
    },
    {
     "name": "stderr",
     "output_type": "stream",
     "text": [
      "pixdim[1,2,3] should be non-zero; setting 0 dims to 1\n"
     ]
    },
    {
     "name": "stdout",
     "output_type": "stream",
     "text": [
      "(316, 59421)\n",
      "/home/qing/Documents/tfMRI_Language_preproc/136833_3T_tfMRI_LANGUAGE_preproc/tfMRI_LANGUAGE_LR_Atlas_MSMAll.dtseries.nii\n",
      "634\n"
     ]
    },
    {
     "name": "stderr",
     "output_type": "stream",
     "text": [
      "pixdim[1,2,3] should be non-zero; setting 0 dims to 1\n"
     ]
    },
    {
     "name": "stdout",
     "output_type": "stream",
     "text": [
      "(316, 59421)\n",
      "/home/qing/Documents/tfMRI_Language_preproc/108121_3T_tfMRI_LANGUAGE_preproc/tfMRI_LANGUAGE_LR_Atlas_MSMAll.dtseries.nii\n",
      "635\n"
     ]
    },
    {
     "name": "stderr",
     "output_type": "stream",
     "text": [
      "pixdim[1,2,3] should be non-zero; setting 0 dims to 1\n"
     ]
    },
    {
     "name": "stdout",
     "output_type": "stream",
     "text": [
      "(316, 59421)\n",
      "/home/qing/Documents/tfMRI_Language_preproc/146533_3T_tfMRI_LANGUAGE_preproc/tfMRI_LANGUAGE_LR_Atlas_MSMAll.dtseries.nii\n",
      "636\n"
     ]
    },
    {
     "name": "stderr",
     "output_type": "stream",
     "text": [
      "pixdim[1,2,3] should be non-zero; setting 0 dims to 1\n"
     ]
    },
    {
     "name": "stdout",
     "output_type": "stream",
     "text": [
      "(316, 59421)\n",
      "/home/qing/Documents/tfMRI_Language_preproc/573249_3T_tfMRI_LANGUAGE_preproc/tfMRI_LANGUAGE_LR_Atlas_MSMAll.dtseries.nii\n",
      "637\n"
     ]
    },
    {
     "name": "stderr",
     "output_type": "stream",
     "text": [
      "pixdim[1,2,3] should be non-zero; setting 0 dims to 1\n"
     ]
    },
    {
     "name": "stdout",
     "output_type": "stream",
     "text": [
      "(316, 59421)\n",
      "/home/qing/Documents/tfMRI_Language_preproc/168240_3T_tfMRI_LANGUAGE_preproc/tfMRI_LANGUAGE_LR_Atlas_MSMAll.dtseries.nii\n",
      "638\n"
     ]
    },
    {
     "name": "stderr",
     "output_type": "stream",
     "text": [
      "pixdim[1,2,3] should be non-zero; setting 0 dims to 1\n"
     ]
    },
    {
     "name": "stdout",
     "output_type": "stream",
     "text": [
      "(316, 59421)\n",
      "/home/qing/Documents/tfMRI_Language_preproc/249947_3T_tfMRI_LANGUAGE_preproc/tfMRI_LANGUAGE_LR_Atlas_MSMAll.dtseries.nii\n",
      "639\n"
     ]
    },
    {
     "name": "stderr",
     "output_type": "stream",
     "text": [
      "pixdim[1,2,3] should be non-zero; setting 0 dims to 1\n"
     ]
    },
    {
     "name": "stdout",
     "output_type": "stream",
     "text": [
      "(316, 59421)\n",
      "/home/qing/Documents/tfMRI_Language_preproc/152831_3T_tfMRI_LANGUAGE_preproc/tfMRI_LANGUAGE_LR_Atlas_MSMAll.dtseries.nii\n",
      "640\n"
     ]
    },
    {
     "name": "stderr",
     "output_type": "stream",
     "text": [
      "pixdim[1,2,3] should be non-zero; setting 0 dims to 1\n"
     ]
    },
    {
     "name": "stdout",
     "output_type": "stream",
     "text": [
      "(316, 59421)\n",
      "/home/qing/Documents/tfMRI_Language_preproc/139839_3T_tfMRI_LANGUAGE_preproc/tfMRI_LANGUAGE_LR_Atlas_MSMAll.dtseries.nii\n",
      "641\n"
     ]
    },
    {
     "name": "stderr",
     "output_type": "stream",
     "text": [
      "pixdim[1,2,3] should be non-zero; setting 0 dims to 1\n"
     ]
    },
    {
     "name": "stdout",
     "output_type": "stream",
     "text": [
      "(316, 59421)\n",
      "/home/qing/Documents/tfMRI_Language_preproc/486759_3T_tfMRI_LANGUAGE_preproc/tfMRI_LANGUAGE_LR_Atlas_MSMAll.dtseries.nii\n",
      "642\n"
     ]
    },
    {
     "name": "stderr",
     "output_type": "stream",
     "text": [
      "pixdim[1,2,3] should be non-zero; setting 0 dims to 1\n"
     ]
    },
    {
     "name": "stdout",
     "output_type": "stream",
     "text": [
      "(316, 59421)\n",
      "/home/qing/Documents/tfMRI_Language_preproc/873968_3T_tfMRI_LANGUAGE_preproc/tfMRI_LANGUAGE_LR_Atlas_MSMAll.dtseries.nii\n",
      "643\n"
     ]
    },
    {
     "name": "stderr",
     "output_type": "stream",
     "text": [
      "pixdim[1,2,3] should be non-zero; setting 0 dims to 1\n"
     ]
    },
    {
     "name": "stdout",
     "output_type": "stream",
     "text": [
      "(316, 59421)\n",
      "/home/qing/Documents/tfMRI_Language_preproc/133019_3T_tfMRI_LANGUAGE_preproc/tfMRI_LANGUAGE_LR_Atlas_MSMAll.dtseries.nii\n",
      "644\n"
     ]
    },
    {
     "name": "stderr",
     "output_type": "stream",
     "text": [
      "pixdim[1,2,3] should be non-zero; setting 0 dims to 1\n"
     ]
    },
    {
     "name": "stdout",
     "output_type": "stream",
     "text": [
      "(316, 59421)\n",
      "/home/qing/Documents/tfMRI_Language_preproc/385450_3T_tfMRI_LANGUAGE_preproc/tfMRI_LANGUAGE_LR_Atlas_MSMAll.dtseries.nii\n",
      "645\n"
     ]
    },
    {
     "name": "stderr",
     "output_type": "stream",
     "text": [
      "pixdim[1,2,3] should be non-zero; setting 0 dims to 1\n"
     ]
    },
    {
     "name": "stdout",
     "output_type": "stream",
     "text": [
      "(316, 59421)\n",
      "/home/qing/Documents/tfMRI_Language_preproc/687163_3T_tfMRI_LANGUAGE_preproc/tfMRI_LANGUAGE_LR_Atlas_MSMAll.dtseries.nii\n",
      "646\n"
     ]
    },
    {
     "name": "stderr",
     "output_type": "stream",
     "text": [
      "pixdim[1,2,3] should be non-zero; setting 0 dims to 1\n"
     ]
    },
    {
     "name": "stdout",
     "output_type": "stream",
     "text": [
      "(316, 59421)\n",
      "/home/qing/Documents/tfMRI_Language_preproc/182739_3T_tfMRI_LANGUAGE_preproc/tfMRI_LANGUAGE_LR_Atlas_MSMAll.dtseries.nii\n",
      "647\n"
     ]
    },
    {
     "name": "stderr",
     "output_type": "stream",
     "text": [
      "pixdim[1,2,3] should be non-zero; setting 0 dims to 1\n"
     ]
    },
    {
     "name": "stdout",
     "output_type": "stream",
     "text": [
      "(316, 59421)\n",
      "/home/qing/Documents/tfMRI_Language_preproc/803240_3T_tfMRI_LANGUAGE_preproc/tfMRI_LANGUAGE_LR_Atlas_MSMAll.dtseries.nii\n",
      "648\n"
     ]
    },
    {
     "name": "stderr",
     "output_type": "stream",
     "text": [
      "pixdim[1,2,3] should be non-zero; setting 0 dims to 1\n"
     ]
    },
    {
     "name": "stdout",
     "output_type": "stream",
     "text": [
      "(316, 59421)\n",
      "/home/qing/Documents/tfMRI_Language_preproc/118124_3T_tfMRI_LANGUAGE_preproc/tfMRI_LANGUAGE_LR_Atlas_MSMAll.dtseries.nii\n",
      "649\n"
     ]
    },
    {
     "name": "stderr",
     "output_type": "stream",
     "text": [
      "pixdim[1,2,3] should be non-zero; setting 0 dims to 1\n"
     ]
    },
    {
     "name": "stdout",
     "output_type": "stream",
     "text": [
      "(316, 59421)\n",
      "/home/qing/Documents/tfMRI_Language_preproc/118730_3T_tfMRI_LANGUAGE_preproc/tfMRI_LANGUAGE_LR_Atlas_MSMAll.dtseries.nii\n",
      "650\n"
     ]
    },
    {
     "name": "stderr",
     "output_type": "stream",
     "text": [
      "pixdim[1,2,3] should be non-zero; setting 0 dims to 1\n"
     ]
    },
    {
     "name": "stdout",
     "output_type": "stream",
     "text": [
      "(316, 59421)\n",
      "/home/qing/Documents/tfMRI_Language_preproc/178647_3T_tfMRI_LANGUAGE_preproc/tfMRI_LANGUAGE_LR_Atlas_MSMAll.dtseries.nii\n",
      "651\n"
     ]
    },
    {
     "name": "stderr",
     "output_type": "stream",
     "text": [
      "pixdim[1,2,3] should be non-zero; setting 0 dims to 1\n"
     ]
    },
    {
     "name": "stdout",
     "output_type": "stream",
     "text": [
      "(316, 59421)\n",
      "/home/qing/Documents/tfMRI_Language_preproc/671855_3T_tfMRI_LANGUAGE_preproc/tfMRI_LANGUAGE_LR_Atlas_MSMAll.dtseries.nii\n",
      "652\n"
     ]
    },
    {
     "name": "stderr",
     "output_type": "stream",
     "text": [
      "pixdim[1,2,3] should be non-zero; setting 0 dims to 1\n"
     ]
    },
    {
     "name": "stdout",
     "output_type": "stream",
     "text": [
      "(316, 59421)\n",
      "/home/qing/Documents/tfMRI_Language_preproc/138534_3T_tfMRI_LANGUAGE_preproc/tfMRI_LANGUAGE_LR_Atlas_MSMAll.dtseries.nii\n",
      "653\n"
     ]
    },
    {
     "name": "stderr",
     "output_type": "stream",
     "text": [
      "pixdim[1,2,3] should be non-zero; setting 0 dims to 1\n"
     ]
    },
    {
     "name": "stdout",
     "output_type": "stream",
     "text": [
      "(316, 59421)\n",
      "/home/qing/Documents/tfMRI_Language_preproc/175035_3T_tfMRI_LANGUAGE_preproc/tfMRI_LANGUAGE_LR_Atlas_MSMAll.dtseries.nii\n",
      "654\n"
     ]
    },
    {
     "name": "stderr",
     "output_type": "stream",
     "text": [
      "pixdim[1,2,3] should be non-zero; setting 0 dims to 1\n"
     ]
    },
    {
     "name": "stdout",
     "output_type": "stream",
     "text": [
      "(316, 59421)\n",
      "/home/qing/Documents/tfMRI_Language_preproc/709551_3T_tfMRI_LANGUAGE_preproc/tfMRI_LANGUAGE_LR_Atlas_MSMAll.dtseries.nii\n",
      "655\n"
     ]
    },
    {
     "name": "stderr",
     "output_type": "stream",
     "text": [
      "pixdim[1,2,3] should be non-zero; setting 0 dims to 1\n"
     ]
    },
    {
     "name": "stdout",
     "output_type": "stream",
     "text": [
      "(316, 59421)\n",
      "/home/qing/Documents/tfMRI_Language_preproc/406432_3T_tfMRI_LANGUAGE_preproc/tfMRI_LANGUAGE_LR_Atlas_MSMAll.dtseries.nii\n",
      "656\n"
     ]
    },
    {
     "name": "stderr",
     "output_type": "stream",
     "text": [
      "pixdim[1,2,3] should be non-zero; setting 0 dims to 1\n"
     ]
    },
    {
     "name": "stdout",
     "output_type": "stream",
     "text": [
      "(316, 59421)\n",
      "/home/qing/Documents/tfMRI_Language_preproc/140117_3T_tfMRI_LANGUAGE_preproc/tfMRI_LANGUAGE_LR_Atlas_MSMAll.dtseries.nii\n",
      "657\n"
     ]
    },
    {
     "name": "stderr",
     "output_type": "stream",
     "text": [
      "pixdim[1,2,3] should be non-zero; setting 0 dims to 1\n"
     ]
    },
    {
     "name": "stdout",
     "output_type": "stream",
     "text": [
      "(316, 59421)\n",
      "/home/qing/Documents/tfMRI_Language_preproc/208024_3T_tfMRI_LANGUAGE_preproc/tfMRI_LANGUAGE_LR_Atlas_MSMAll.dtseries.nii\n",
      "658\n"
     ]
    },
    {
     "name": "stderr",
     "output_type": "stream",
     "text": [
      "pixdim[1,2,3] should be non-zero; setting 0 dims to 1\n"
     ]
    },
    {
     "name": "stdout",
     "output_type": "stream",
     "text": [
      "(316, 59421)\n",
      "/home/qing/Documents/tfMRI_Language_preproc/178849_3T_tfMRI_LANGUAGE_preproc/tfMRI_LANGUAGE_LR_Atlas_MSMAll.dtseries.nii\n",
      "659\n"
     ]
    },
    {
     "name": "stderr",
     "output_type": "stream",
     "text": [
      "pixdim[1,2,3] should be non-zero; setting 0 dims to 1\n"
     ]
    },
    {
     "name": "stdout",
     "output_type": "stream",
     "text": [
      "(316, 59421)\n",
      "/home/qing/Documents/tfMRI_Language_preproc/193239_3T_tfMRI_LANGUAGE_preproc/tfMRI_LANGUAGE_LR_Atlas_MSMAll.dtseries.nii\n",
      "660\n"
     ]
    },
    {
     "name": "stderr",
     "output_type": "stream",
     "text": [
      "pixdim[1,2,3] should be non-zero; setting 0 dims to 1\n"
     ]
    },
    {
     "name": "stdout",
     "output_type": "stream",
     "text": [
      "(316, 59421)\n",
      "/home/qing/Documents/tfMRI_Language_preproc/901139_3T_tfMRI_LANGUAGE_preproc/tfMRI_LANGUAGE_LR_Atlas_MSMAll.dtseries.nii\n",
      "661\n"
     ]
    },
    {
     "name": "stderr",
     "output_type": "stream",
     "text": [
      "pixdim[1,2,3] should be non-zero; setting 0 dims to 1\n"
     ]
    },
    {
     "name": "stdout",
     "output_type": "stream",
     "text": [
      "(316, 59421)\n",
      "/home/qing/Documents/tfMRI_Language_preproc/617748_3T_tfMRI_LANGUAGE_preproc/tfMRI_LANGUAGE_LR_Atlas_MSMAll.dtseries.nii\n",
      "662\n"
     ]
    },
    {
     "name": "stderr",
     "output_type": "stream",
     "text": [
      "pixdim[1,2,3] should be non-zero; setting 0 dims to 1\n"
     ]
    },
    {
     "name": "stdout",
     "output_type": "stream",
     "text": [
      "(316, 59421)\n",
      "/home/qing/Documents/tfMRI_Language_preproc/205220_3T_tfMRI_LANGUAGE_preproc/tfMRI_LANGUAGE_LR_Atlas_MSMAll.dtseries.nii\n",
      "663\n"
     ]
    },
    {
     "name": "stderr",
     "output_type": "stream",
     "text": [
      "pixdim[1,2,3] should be non-zero; setting 0 dims to 1\n"
     ]
    },
    {
     "name": "stdout",
     "output_type": "stream",
     "text": [
      "(316, 59421)\n",
      "/home/qing/Documents/tfMRI_Language_preproc/665254_3T_tfMRI_LANGUAGE_preproc/tfMRI_LANGUAGE_LR_Atlas_MSMAll.dtseries.nii\n",
      "664\n"
     ]
    },
    {
     "name": "stderr",
     "output_type": "stream",
     "text": [
      "pixdim[1,2,3] should be non-zero; setting 0 dims to 1\n"
     ]
    },
    {
     "name": "stdout",
     "output_type": "stream",
     "text": [
      "(316, 59421)\n",
      "/home/qing/Documents/tfMRI_Language_preproc/387959_3T_tfMRI_LANGUAGE_preproc/tfMRI_LANGUAGE_LR_Atlas_MSMAll.dtseries.nii\n",
      "665\n"
     ]
    },
    {
     "name": "stderr",
     "output_type": "stream",
     "text": [
      "pixdim[1,2,3] should be non-zero; setting 0 dims to 1\n"
     ]
    },
    {
     "name": "stdout",
     "output_type": "stream",
     "text": [
      "(316, 59421)\n",
      "/home/qing/Documents/tfMRI_Language_preproc/366446_3T_tfMRI_LANGUAGE_preproc/tfMRI_LANGUAGE_LR_Atlas_MSMAll.dtseries.nii\n",
      "666\n"
     ]
    },
    {
     "name": "stderr",
     "output_type": "stream",
     "text": [
      "pixdim[1,2,3] should be non-zero; setting 0 dims to 1\n"
     ]
    },
    {
     "name": "stdout",
     "output_type": "stream",
     "text": [
      "(316, 59421)\n",
      "/home/qing/Documents/tfMRI_Language_preproc/715041_3T_tfMRI_LANGUAGE_preproc/tfMRI_LANGUAGE_LR_Atlas_MSMAll.dtseries.nii\n",
      "667\n"
     ]
    },
    {
     "name": "stderr",
     "output_type": "stream",
     "text": [
      "pixdim[1,2,3] should be non-zero; setting 0 dims to 1\n"
     ]
    },
    {
     "name": "stdout",
     "output_type": "stream",
     "text": [
      "(316, 59421)\n",
      "/home/qing/Documents/tfMRI_Language_preproc/833148_3T_tfMRI_LANGUAGE_preproc/tfMRI_LANGUAGE_LR_Atlas_MSMAll.dtseries.nii\n",
      "668\n"
     ]
    },
    {
     "name": "stderr",
     "output_type": "stream",
     "text": [
      "pixdim[1,2,3] should be non-zero; setting 0 dims to 1\n"
     ]
    },
    {
     "name": "stdout",
     "output_type": "stream",
     "text": [
      "(316, 59421)\n",
      "/home/qing/Documents/tfMRI_Language_preproc/140319_3T_tfMRI_LANGUAGE_preproc/tfMRI_LANGUAGE_LR_Atlas_MSMAll.dtseries.nii\n",
      "669\n"
     ]
    },
    {
     "name": "stderr",
     "output_type": "stream",
     "text": [
      "pixdim[1,2,3] should be non-zero; setting 0 dims to 1\n"
     ]
    },
    {
     "name": "stdout",
     "output_type": "stream",
     "text": [
      "(316, 59421)\n",
      "/home/qing/Documents/tfMRI_Language_preproc/233326_3T_tfMRI_LANGUAGE_preproc/tfMRI_LANGUAGE_LR_Atlas_MSMAll.dtseries.nii\n",
      "670\n"
     ]
    },
    {
     "name": "stderr",
     "output_type": "stream",
     "text": [
      "pixdim[1,2,3] should be non-zero; setting 0 dims to 1\n"
     ]
    },
    {
     "name": "stdout",
     "output_type": "stream",
     "text": [
      "(316, 59421)\n",
      "/home/qing/Documents/tfMRI_Language_preproc/361941_3T_tfMRI_LANGUAGE_preproc/tfMRI_LANGUAGE_LR_Atlas_MSMAll.dtseries.nii\n",
      "671\n"
     ]
    },
    {
     "name": "stderr",
     "output_type": "stream",
     "text": [
      "pixdim[1,2,3] should be non-zero; setting 0 dims to 1\n"
     ]
    },
    {
     "name": "stdout",
     "output_type": "stream",
     "text": [
      "(316, 59421)\n",
      "/home/qing/Documents/tfMRI_Language_preproc/112516_3T_tfMRI_LANGUAGE_preproc/tfMRI_LANGUAGE_LR_Atlas_MSMAll.dtseries.nii\n",
      "672\n"
     ]
    },
    {
     "name": "stderr",
     "output_type": "stream",
     "text": [
      "pixdim[1,2,3] should be non-zero; setting 0 dims to 1\n"
     ]
    },
    {
     "name": "stdout",
     "output_type": "stream",
     "text": [
      "(316, 59421)\n",
      "/home/qing/Documents/tfMRI_Language_preproc/174437_3T_tfMRI_LANGUAGE_preproc/tfMRI_LANGUAGE_LR_Atlas_MSMAll.dtseries.nii\n",
      "673\n"
     ]
    },
    {
     "name": "stderr",
     "output_type": "stream",
     "text": [
      "pixdim[1,2,3] should be non-zero; setting 0 dims to 1\n"
     ]
    },
    {
     "name": "stdout",
     "output_type": "stream",
     "text": [
      "(316, 59421)\n",
      "/home/qing/Documents/tfMRI_Language_preproc/122317_3T_tfMRI_LANGUAGE_preproc/tfMRI_LANGUAGE_LR_Atlas_MSMAll.dtseries.nii\n",
      "674\n"
     ]
    },
    {
     "name": "stderr",
     "output_type": "stream",
     "text": [
      "pixdim[1,2,3] should be non-zero; setting 0 dims to 1\n"
     ]
    },
    {
     "name": "stdout",
     "output_type": "stream",
     "text": [
      "(316, 59421)\n",
      "/home/qing/Documents/tfMRI_Language_preproc/187143_3T_tfMRI_LANGUAGE_preproc/tfMRI_LANGUAGE_LR_Atlas_MSMAll.dtseries.nii\n",
      "675\n"
     ]
    },
    {
     "name": "stderr",
     "output_type": "stream",
     "text": [
      "pixdim[1,2,3] should be non-zero; setting 0 dims to 1\n"
     ]
    },
    {
     "name": "stdout",
     "output_type": "stream",
     "text": [
      "(316, 59421)\n",
      "/home/qing/Documents/tfMRI_Language_preproc/901442_3T_tfMRI_LANGUAGE_preproc/tfMRI_LANGUAGE_LR_Atlas_MSMAll.dtseries.nii\n",
      "676\n"
     ]
    },
    {
     "name": "stderr",
     "output_type": "stream",
     "text": [
      "pixdim[1,2,3] should be non-zero; setting 0 dims to 1\n"
     ]
    },
    {
     "name": "stdout",
     "output_type": "stream",
     "text": [
      "(316, 59421)\n",
      "/home/qing/Documents/tfMRI_Language_preproc/119126_3T_tfMRI_LANGUAGE_preproc/tfMRI_LANGUAGE_LR_Atlas_MSMAll.dtseries.nii\n",
      "677\n"
     ]
    },
    {
     "name": "stderr",
     "output_type": "stream",
     "text": [
      "pixdim[1,2,3] should be non-zero; setting 0 dims to 1\n"
     ]
    },
    {
     "name": "stdout",
     "output_type": "stream",
     "text": [
      "(316, 59421)\n",
      "/home/qing/Documents/tfMRI_Language_preproc/103818_3T_tfMRI_LANGUAGE_preproc/tfMRI_LANGUAGE_LR_Atlas_MSMAll.dtseries.nii\n",
      "678\n"
     ]
    },
    {
     "name": "stderr",
     "output_type": "stream",
     "text": [
      "pixdim[1,2,3] should be non-zero; setting 0 dims to 1\n"
     ]
    },
    {
     "name": "stdout",
     "output_type": "stream",
     "text": [
      "(316, 59421)\n",
      "/home/qing/Documents/tfMRI_Language_preproc/132017_3T_tfMRI_LANGUAGE_preproc/tfMRI_LANGUAGE_LR_Atlas_MSMAll.dtseries.nii\n",
      "679\n"
     ]
    },
    {
     "name": "stderr",
     "output_type": "stream",
     "text": [
      "pixdim[1,2,3] should be non-zero; setting 0 dims to 1\n"
     ]
    },
    {
     "name": "stdout",
     "output_type": "stream",
     "text": [
      "(316, 59421)\n",
      "/home/qing/Documents/tfMRI_Language_preproc/523032_3T_tfMRI_LANGUAGE_preproc/tfMRI_LANGUAGE_LR_Atlas_MSMAll.dtseries.nii\n",
      "680\n"
     ]
    },
    {
     "name": "stderr",
     "output_type": "stream",
     "text": [
      "pixdim[1,2,3] should be non-zero; setting 0 dims to 1\n"
     ]
    },
    {
     "name": "stdout",
     "output_type": "stream",
     "text": [
      "(316, 59421)\n",
      "/home/qing/Documents/tfMRI_Language_preproc/190031_3T_tfMRI_LANGUAGE_preproc/tfMRI_LANGUAGE_LR_Atlas_MSMAll.dtseries.nii\n",
      "681\n"
     ]
    },
    {
     "name": "stderr",
     "output_type": "stream",
     "text": [
      "pixdim[1,2,3] should be non-zero; setting 0 dims to 1\n"
     ]
    },
    {
     "name": "stdout",
     "output_type": "stream",
     "text": [
      "(316, 59421)\n",
      "/home/qing/Documents/tfMRI_Language_preproc/978578_3T_tfMRI_LANGUAGE_preproc/tfMRI_LANGUAGE_LR_Atlas_MSMAll.dtseries.nii\n",
      "682\n"
     ]
    },
    {
     "name": "stderr",
     "output_type": "stream",
     "text": [
      "pixdim[1,2,3] should be non-zero; setting 0 dims to 1\n"
     ]
    },
    {
     "name": "stdout",
     "output_type": "stream",
     "text": [
      "(316, 59421)\n",
      "/home/qing/Documents/tfMRI_Language_preproc/553344_3T_tfMRI_LANGUAGE_preproc/tfMRI_LANGUAGE_LR_Atlas_MSMAll.dtseries.nii\n",
      "683\n"
     ]
    },
    {
     "name": "stderr",
     "output_type": "stream",
     "text": [
      "pixdim[1,2,3] should be non-zero; setting 0 dims to 1\n"
     ]
    },
    {
     "name": "stdout",
     "output_type": "stream",
     "text": [
      "(316, 59421)\n",
      "/home/qing/Documents/tfMRI_Language_preproc/211922_3T_tfMRI_LANGUAGE_preproc/tfMRI_LANGUAGE_LR_Atlas_MSMAll.dtseries.nii\n",
      "684\n"
     ]
    },
    {
     "name": "stderr",
     "output_type": "stream",
     "text": [
      "pixdim[1,2,3] should be non-zero; setting 0 dims to 1\n"
     ]
    },
    {
     "name": "stdout",
     "output_type": "stream",
     "text": [
      "(316, 59421)\n",
      "/home/qing/Documents/tfMRI_Language_preproc/849264_3T_tfMRI_LANGUAGE_preproc/tfMRI_LANGUAGE_LR_Atlas_MSMAll.dtseries.nii\n",
      "685\n"
     ]
    },
    {
     "name": "stderr",
     "output_type": "stream",
     "text": [
      "pixdim[1,2,3] should be non-zero; setting 0 dims to 1\n"
     ]
    },
    {
     "name": "stdout",
     "output_type": "stream",
     "text": [
      "(316, 59421)\n",
      "/home/qing/Documents/tfMRI_Language_preproc/992774_3T_tfMRI_LANGUAGE_preproc/tfMRI_LANGUAGE_LR_Atlas_MSMAll.dtseries.nii\n",
      "686\n"
     ]
    },
    {
     "name": "stderr",
     "output_type": "stream",
     "text": [
      "pixdim[1,2,3] should be non-zero; setting 0 dims to 1\n"
     ]
    },
    {
     "name": "stdout",
     "output_type": "stream",
     "text": [
      "(316, 59421)\n",
      "/home/qing/Documents/tfMRI_Language_preproc/169747_3T_tfMRI_LANGUAGE_preproc/tfMRI_LANGUAGE_LR_Atlas_MSMAll.dtseries.nii\n",
      "687\n"
     ]
    },
    {
     "name": "stderr",
     "output_type": "stream",
     "text": [
      "pixdim[1,2,3] should be non-zero; setting 0 dims to 1\n"
     ]
    },
    {
     "name": "stdout",
     "output_type": "stream",
     "text": [
      "(316, 59421)\n",
      "/home/qing/Documents/tfMRI_Language_preproc/208327_3T_tfMRI_LANGUAGE_preproc/tfMRI_LANGUAGE_LR_Atlas_MSMAll.dtseries.nii\n",
      "688\n"
     ]
    },
    {
     "name": "stderr",
     "output_type": "stream",
     "text": [
      "pixdim[1,2,3] should be non-zero; setting 0 dims to 1\n"
     ]
    },
    {
     "name": "stdout",
     "output_type": "stream",
     "text": [
      "(316, 59421)\n",
      "/home/qing/Documents/tfMRI_Language_preproc/150019_3T_tfMRI_LANGUAGE_preproc/tfMRI_LANGUAGE_LR_Atlas_MSMAll.dtseries.nii\n",
      "689\n"
     ]
    },
    {
     "name": "stderr",
     "output_type": "stream",
     "text": [
      "pixdim[1,2,3] should be non-zero; setting 0 dims to 1\n"
     ]
    },
    {
     "name": "stdout",
     "output_type": "stream",
     "text": [
      "(316, 59421)\n",
      "/home/qing/Documents/tfMRI_Language_preproc/191336_3T_tfMRI_LANGUAGE_preproc/tfMRI_LANGUAGE_LR_Atlas_MSMAll.dtseries.nii\n",
      "690\n"
     ]
    },
    {
     "name": "stderr",
     "output_type": "stream",
     "text": [
      "pixdim[1,2,3] should be non-zero; setting 0 dims to 1\n"
     ]
    },
    {
     "name": "stdout",
     "output_type": "stream",
     "text": [
      "(316, 59421)\n",
      "/home/qing/Documents/tfMRI_Language_preproc/958976_3T_tfMRI_LANGUAGE_preproc/tfMRI_LANGUAGE_LR_Atlas_MSMAll.dtseries.nii\n",
      "691\n"
     ]
    },
    {
     "name": "stderr",
     "output_type": "stream",
     "text": [
      "pixdim[1,2,3] should be non-zero; setting 0 dims to 1\n"
     ]
    },
    {
     "name": "stdout",
     "output_type": "stream",
     "text": [
      "(316, 59421)\n",
      "/home/qing/Documents/tfMRI_Language_preproc/173738_3T_tfMRI_LANGUAGE_preproc/tfMRI_LANGUAGE_LR_Atlas_MSMAll.dtseries.nii\n",
      "692\n"
     ]
    },
    {
     "name": "stderr",
     "output_type": "stream",
     "text": [
      "pixdim[1,2,3] should be non-zero; setting 0 dims to 1\n"
     ]
    },
    {
     "name": "stdout",
     "output_type": "stream",
     "text": [
      "(316, 59421)\n",
      "/home/qing/Documents/tfMRI_Language_preproc/667056_3T_tfMRI_LANGUAGE_preproc/tfMRI_LANGUAGE_LR_Atlas_MSMAll.dtseries.nii\n",
      "693\n"
     ]
    },
    {
     "name": "stderr",
     "output_type": "stream",
     "text": [
      "pixdim[1,2,3] should be non-zero; setting 0 dims to 1\n"
     ]
    },
    {
     "name": "stdout",
     "output_type": "stream",
     "text": [
      "(316, 59421)\n",
      "/home/qing/Documents/tfMRI_Language_preproc/761957_3T_tfMRI_LANGUAGE_preproc/tfMRI_LANGUAGE_LR_Atlas_MSMAll.dtseries.nii\n",
      "694\n"
     ]
    },
    {
     "name": "stderr",
     "output_type": "stream",
     "text": [
      "pixdim[1,2,3] should be non-zero; setting 0 dims to 1\n"
     ]
    },
    {
     "name": "stdout",
     "output_type": "stream",
     "text": [
      "(316, 59421)\n",
      "/home/qing/Documents/tfMRI_Language_preproc/109325_3T_tfMRI_LANGUAGE_preproc/tfMRI_LANGUAGE_LR_Atlas_MSMAll.dtseries.nii\n",
      "695\n"
     ]
    },
    {
     "name": "stderr",
     "output_type": "stream",
     "text": [
      "pixdim[1,2,3] should be non-zero; setting 0 dims to 1\n"
     ]
    },
    {
     "name": "stdout",
     "output_type": "stream",
     "text": [
      "(316, 59421)\n",
      "/home/qing/Documents/tfMRI_Language_preproc/996782_3T_tfMRI_LANGUAGE_preproc/tfMRI_LANGUAGE_LR_Atlas_MSMAll.dtseries.nii\n",
      "696\n"
     ]
    },
    {
     "name": "stderr",
     "output_type": "stream",
     "text": [
      "pixdim[1,2,3] should be non-zero; setting 0 dims to 1\n"
     ]
    },
    {
     "name": "stdout",
     "output_type": "stream",
     "text": [
      "(316, 59421)\n",
      "/home/qing/Documents/tfMRI_Language_preproc/100610_3T_tfMRI_LANGUAGE_preproc/tfMRI_LANGUAGE_LR_Atlas_MSMAll.dtseries.nii\n",
      "697\n"
     ]
    },
    {
     "name": "stderr",
     "output_type": "stream",
     "text": [
      "pixdim[1,2,3] should be non-zero; setting 0 dims to 1\n"
     ]
    },
    {
     "name": "stdout",
     "output_type": "stream",
     "text": [
      "(316, 59421)\n",
      "/home/qing/Documents/tfMRI_Language_preproc/389357_3T_tfMRI_LANGUAGE_preproc/tfMRI_LANGUAGE_LR_Atlas_MSMAll.dtseries.nii\n",
      "698\n"
     ]
    },
    {
     "name": "stderr",
     "output_type": "stream",
     "text": [
      "pixdim[1,2,3] should be non-zero; setting 0 dims to 1\n"
     ]
    },
    {
     "name": "stdout",
     "output_type": "stream",
     "text": [
      "(316, 59421)\n",
      "/home/qing/Documents/tfMRI_Language_preproc/793465_3T_tfMRI_LANGUAGE_preproc/tfMRI_LANGUAGE_LR_Atlas_MSMAll.dtseries.nii\n",
      "699\n"
     ]
    },
    {
     "name": "stderr",
     "output_type": "stream",
     "text": [
      "pixdim[1,2,3] should be non-zero; setting 0 dims to 1\n"
     ]
    },
    {
     "name": "stdout",
     "output_type": "stream",
     "text": [
      "(316, 59421)\n",
      "/home/qing/Documents/tfMRI_Language_preproc/104416_3T_tfMRI_LANGUAGE_preproc/tfMRI_LANGUAGE_LR_Atlas_MSMAll.dtseries.nii\n",
      "700\n"
     ]
    },
    {
     "name": "stderr",
     "output_type": "stream",
     "text": [
      "pixdim[1,2,3] should be non-zero; setting 0 dims to 1\n"
     ]
    },
    {
     "name": "stdout",
     "output_type": "stream",
     "text": [
      "(316, 59421)\n",
      "/home/qing/Documents/tfMRI_Language_preproc/654754_3T_tfMRI_LANGUAGE_preproc/tfMRI_LANGUAGE_LR_Atlas_MSMAll.dtseries.nii\n",
      "701\n"
     ]
    },
    {
     "name": "stderr",
     "output_type": "stream",
     "text": [
      "pixdim[1,2,3] should be non-zero; setting 0 dims to 1\n"
     ]
    },
    {
     "name": "stdout",
     "output_type": "stream",
     "text": [
      "(316, 59421)\n",
      "/home/qing/Documents/tfMRI_Language_preproc/134425_3T_tfMRI_LANGUAGE_preproc/tfMRI_LANGUAGE_LR_Atlas_MSMAll.dtseries.nii\n",
      "702\n"
     ]
    },
    {
     "name": "stderr",
     "output_type": "stream",
     "text": [
      "pixdim[1,2,3] should be non-zero; setting 0 dims to 1\n"
     ]
    },
    {
     "name": "stdout",
     "output_type": "stream",
     "text": [
      "(316, 59421)\n",
      "/home/qing/Documents/tfMRI_Language_preproc/101107_3T_tfMRI_LANGUAGE_preproc/tfMRI_LANGUAGE_LR_Atlas_MSMAll.dtseries.nii\n",
      "703\n"
     ]
    },
    {
     "name": "stderr",
     "output_type": "stream",
     "text": [
      "pixdim[1,2,3] should be non-zero; setting 0 dims to 1\n"
     ]
    },
    {
     "name": "stdout",
     "output_type": "stream",
     "text": [
      "(316, 59421)\n",
      "/home/qing/Documents/tfMRI_Language_preproc/139637_3T_tfMRI_LANGUAGE_preproc/tfMRI_LANGUAGE_LR_Atlas_MSMAll.dtseries.nii\n",
      "704\n"
     ]
    },
    {
     "name": "stderr",
     "output_type": "stream",
     "text": [
      "pixdim[1,2,3] should be non-zero; setting 0 dims to 1\n"
     ]
    },
    {
     "name": "stdout",
     "output_type": "stream",
     "text": [
      "(316, 59421)\n",
      "/home/qing/Documents/tfMRI_Language_preproc/236130_3T_tfMRI_LANGUAGE_preproc/tfMRI_LANGUAGE_LR_Atlas_MSMAll.dtseries.nii\n",
      "705\n"
     ]
    },
    {
     "name": "stderr",
     "output_type": "stream",
     "text": [
      "pixdim[1,2,3] should be non-zero; setting 0 dims to 1\n"
     ]
    },
    {
     "name": "stdout",
     "output_type": "stream",
     "text": [
      "(316, 59421)\n",
      "/home/qing/Documents/tfMRI_Language_preproc/200109_3T_tfMRI_LANGUAGE_preproc/tfMRI_LANGUAGE_LR_Atlas_MSMAll.dtseries.nii\n",
      "706\n"
     ]
    },
    {
     "name": "stderr",
     "output_type": "stream",
     "text": [
      "pixdim[1,2,3] should be non-zero; setting 0 dims to 1\n"
     ]
    },
    {
     "name": "stdout",
     "output_type": "stream",
     "text": [
      "(316, 59421)\n",
      "/home/qing/Documents/tfMRI_Language_preproc/453441_3T_tfMRI_LANGUAGE_preproc/tfMRI_LANGUAGE_LR_Atlas_MSMAll.dtseries.nii\n",
      "707\n"
     ]
    },
    {
     "name": "stderr",
     "output_type": "stream",
     "text": [
      "pixdim[1,2,3] should be non-zero; setting 0 dims to 1\n"
     ]
    },
    {
     "name": "stdout",
     "output_type": "stream",
     "text": [
      "(316, 59421)\n",
      "/home/qing/Documents/tfMRI_Language_preproc/356948_3T_tfMRI_LANGUAGE_preproc/tfMRI_LANGUAGE_LR_Atlas_MSMAll.dtseries.nii\n",
      "708\n"
     ]
    },
    {
     "name": "stderr",
     "output_type": "stream",
     "text": [
      "pixdim[1,2,3] should be non-zero; setting 0 dims to 1\n"
     ]
    },
    {
     "name": "stdout",
     "output_type": "stream",
     "text": [
      "(316, 59421)\n",
      "/home/qing/Documents/tfMRI_Language_preproc/212116_3T_tfMRI_LANGUAGE_preproc/tfMRI_LANGUAGE_LR_Atlas_MSMAll.dtseries.nii\n",
      "709\n"
     ]
    },
    {
     "name": "stderr",
     "output_type": "stream",
     "text": [
      "pixdim[1,2,3] should be non-zero; setting 0 dims to 1\n"
     ]
    },
    {
     "name": "stdout",
     "output_type": "stream",
     "text": [
      "(316, 59421)\n",
      "/home/qing/Documents/tfMRI_Language_preproc/599469_3T_tfMRI_LANGUAGE_preproc/tfMRI_LANGUAGE_LR_Atlas_MSMAll.dtseries.nii\n",
      "710\n"
     ]
    },
    {
     "name": "stderr",
     "output_type": "stream",
     "text": [
      "pixdim[1,2,3] should be non-zero; setting 0 dims to 1\n"
     ]
    },
    {
     "name": "stdout",
     "output_type": "stream",
     "text": [
      "(316, 59421)\n",
      "/home/qing/Documents/tfMRI_Language_preproc/628248_3T_tfMRI_LANGUAGE_preproc/tfMRI_LANGUAGE_LR_Atlas_MSMAll.dtseries.nii\n",
      "711\n"
     ]
    },
    {
     "name": "stderr",
     "output_type": "stream",
     "text": [
      "pixdim[1,2,3] should be non-zero; setting 0 dims to 1\n"
     ]
    },
    {
     "name": "stdout",
     "output_type": "stream",
     "text": [
      "(316, 59421)\n",
      "/home/qing/Documents/tfMRI_Language_preproc/130619_3T_tfMRI_LANGUAGE_preproc/tfMRI_LANGUAGE_LR_Atlas_MSMAll.dtseries.nii\n",
      "712\n"
     ]
    },
    {
     "name": "stderr",
     "output_type": "stream",
     "text": [
      "pixdim[1,2,3] should be non-zero; setting 0 dims to 1\n"
     ]
    },
    {
     "name": "stdout",
     "output_type": "stream",
     "text": [
      "(316, 59421)\n",
      "/home/qing/Documents/tfMRI_Language_preproc/194847_3T_tfMRI_LANGUAGE_preproc/tfMRI_LANGUAGE_LR_Atlas_MSMAll.dtseries.nii\n",
      "713\n"
     ]
    },
    {
     "name": "stderr",
     "output_type": "stream",
     "text": [
      "pixdim[1,2,3] should be non-zero; setting 0 dims to 1\n"
     ]
    },
    {
     "name": "stdout",
     "output_type": "stream",
     "text": [
      "(316, 59421)\n",
      "/home/qing/Documents/tfMRI_Language_preproc/128935_3T_tfMRI_LANGUAGE_preproc/tfMRI_LANGUAGE_LR_Atlas_MSMAll.dtseries.nii\n",
      "714\n"
     ]
    },
    {
     "name": "stderr",
     "output_type": "stream",
     "text": [
      "pixdim[1,2,3] should be non-zero; setting 0 dims to 1\n"
     ]
    },
    {
     "name": "stdout",
     "output_type": "stream",
     "text": [
      "(316, 59421)\n",
      "/home/qing/Documents/tfMRI_Language_preproc/150928_3T_tfMRI_LANGUAGE_preproc/tfMRI_LANGUAGE_LR_Atlas_MSMAll.dtseries.nii\n",
      "715\n"
     ]
    },
    {
     "name": "stderr",
     "output_type": "stream",
     "text": [
      "pixdim[1,2,3] should be non-zero; setting 0 dims to 1\n"
     ]
    },
    {
     "name": "stdout",
     "output_type": "stream",
     "text": [
      "(316, 59421)\n",
      "/home/qing/Documents/tfMRI_Language_preproc/161731_3T_tfMRI_LANGUAGE_preproc/tfMRI_LANGUAGE_LR_Atlas_MSMAll.dtseries.nii\n",
      "716\n"
     ]
    },
    {
     "name": "stderr",
     "output_type": "stream",
     "text": [
      "pixdim[1,2,3] should be non-zero; setting 0 dims to 1\n"
     ]
    },
    {
     "name": "stdout",
     "output_type": "stream",
     "text": [
      "(316, 59421)\n",
      "/home/qing/Documents/tfMRI_Language_preproc/304020_3T_tfMRI_LANGUAGE_preproc/tfMRI_LANGUAGE_LR_Atlas_MSMAll.dtseries.nii\n",
      "717\n"
     ]
    },
    {
     "name": "stderr",
     "output_type": "stream",
     "text": [
      "pixdim[1,2,3] should be non-zero; setting 0 dims to 1\n"
     ]
    },
    {
     "name": "stdout",
     "output_type": "stream",
     "text": [
      "(316, 59421)\n",
      "/home/qing/Documents/tfMRI_Language_preproc/109830_3T_tfMRI_LANGUAGE_preproc/tfMRI_LANGUAGE_LR_Atlas_MSMAll.dtseries.nii\n",
      "718\n"
     ]
    },
    {
     "name": "stderr",
     "output_type": "stream",
     "text": [
      "pixdim[1,2,3] should be non-zero; setting 0 dims to 1\n"
     ]
    },
    {
     "name": "stdout",
     "output_type": "stream",
     "text": [
      "(316, 59421)\n",
      "/home/qing/Documents/tfMRI_Language_preproc/111413_3T_tfMRI_LANGUAGE_preproc/tfMRI_LANGUAGE_LR_Atlas_MSMAll.dtseries.nii\n",
      "719\n"
     ]
    },
    {
     "name": "stderr",
     "output_type": "stream",
     "text": [
      "pixdim[1,2,3] should be non-zero; setting 0 dims to 1\n"
     ]
    },
    {
     "name": "stdout",
     "output_type": "stream",
     "text": [
      "(316, 59421)\n",
      "/home/qing/Documents/tfMRI_Language_preproc/231928_3T_tfMRI_LANGUAGE_preproc/tfMRI_LANGUAGE_LR_Atlas_MSMAll.dtseries.nii\n",
      "720\n"
     ]
    },
    {
     "name": "stderr",
     "output_type": "stream",
     "text": [
      "pixdim[1,2,3] should be non-zero; setting 0 dims to 1\n"
     ]
    },
    {
     "name": "stdout",
     "output_type": "stream",
     "text": [
      "(316, 59421)\n",
      "/home/qing/Documents/tfMRI_Language_preproc/156637_3T_tfMRI_LANGUAGE_preproc/tfMRI_LANGUAGE_LR_Atlas_MSMAll.dtseries.nii\n",
      "721\n"
     ]
    },
    {
     "name": "stderr",
     "output_type": "stream",
     "text": [
      "pixdim[1,2,3] should be non-zero; setting 0 dims to 1\n"
     ]
    },
    {
     "name": "stdout",
     "output_type": "stream",
     "text": [
      "(316, 59421)\n",
      "/home/qing/Documents/tfMRI_Language_preproc/992673_3T_tfMRI_LANGUAGE_preproc/tfMRI_LANGUAGE_LR_Atlas_MSMAll.dtseries.nii\n",
      "722\n"
     ]
    },
    {
     "name": "stderr",
     "output_type": "stream",
     "text": [
      "pixdim[1,2,3] should be non-zero; setting 0 dims to 1\n"
     ]
    },
    {
     "name": "stdout",
     "output_type": "stream",
     "text": [
      "(316, 59421)\n",
      "/home/qing/Documents/tfMRI_Language_preproc/134728_3T_tfMRI_LANGUAGE_preproc/tfMRI_LANGUAGE_LR_Atlas_MSMAll.dtseries.nii\n",
      "723\n"
     ]
    },
    {
     "name": "stderr",
     "output_type": "stream",
     "text": [
      "pixdim[1,2,3] should be non-zero; setting 0 dims to 1\n"
     ]
    },
    {
     "name": "stdout",
     "output_type": "stream",
     "text": [
      "(316, 59421)\n",
      "/home/qing/Documents/tfMRI_Language_preproc/133928_3T_tfMRI_LANGUAGE_preproc/tfMRI_LANGUAGE_LR_Atlas_MSMAll.dtseries.nii\n",
      "724\n"
     ]
    },
    {
     "name": "stderr",
     "output_type": "stream",
     "text": [
      "pixdim[1,2,3] should be non-zero; setting 0 dims to 1\n"
     ]
    },
    {
     "name": "stdout",
     "output_type": "stream",
     "text": [
      "(316, 59421)\n",
      "/home/qing/Documents/tfMRI_Language_preproc/107018_3T_tfMRI_LANGUAGE_preproc/tfMRI_LANGUAGE_LR_Atlas_MSMAll.dtseries.nii\n",
      "725\n"
     ]
    },
    {
     "name": "stderr",
     "output_type": "stream",
     "text": [
      "pixdim[1,2,3] should be non-zero; setting 0 dims to 1\n"
     ]
    },
    {
     "name": "stdout",
     "output_type": "stream",
     "text": [
      "(316, 59421)\n",
      "/home/qing/Documents/tfMRI_Language_preproc/128026_3T_tfMRI_LANGUAGE_preproc/tfMRI_LANGUAGE_LR_Atlas_MSMAll.dtseries.nii\n",
      "726\n"
     ]
    },
    {
     "name": "stderr",
     "output_type": "stream",
     "text": [
      "pixdim[1,2,3] should be non-zero; setting 0 dims to 1\n"
     ]
    },
    {
     "name": "stdout",
     "output_type": "stream",
     "text": [
      "(316, 59421)\n",
      "/home/qing/Documents/tfMRI_Language_preproc/329440_3T_tfMRI_LANGUAGE_preproc/tfMRI_LANGUAGE_LR_Atlas_MSMAll.dtseries.nii\n",
      "727\n"
     ]
    },
    {
     "name": "stderr",
     "output_type": "stream",
     "text": [
      "pixdim[1,2,3] should be non-zero; setting 0 dims to 1\n"
     ]
    },
    {
     "name": "stdout",
     "output_type": "stream",
     "text": [
      "(316, 59421)\n",
      "/home/qing/Documents/tfMRI_Language_preproc/559053_3T_tfMRI_LANGUAGE_preproc/tfMRI_LANGUAGE_LR_Atlas_MSMAll.dtseries.nii\n",
      "728\n"
     ]
    },
    {
     "name": "stderr",
     "output_type": "stream",
     "text": [
      "pixdim[1,2,3] should be non-zero; setting 0 dims to 1\n"
     ]
    },
    {
     "name": "stdout",
     "output_type": "stream",
     "text": [
      "(316, 59421)\n",
      "/home/qing/Documents/tfMRI_Language_preproc/101915_3T_tfMRI_LANGUAGE_preproc/tfMRI_LANGUAGE_LR_Atlas_MSMAll.dtseries.nii\n",
      "729\n"
     ]
    },
    {
     "name": "stderr",
     "output_type": "stream",
     "text": [
      "pixdim[1,2,3] should be non-zero; setting 0 dims to 1\n"
     ]
    },
    {
     "name": "stdout",
     "output_type": "stream",
     "text": [
      "(316, 59421)\n",
      "/home/qing/Documents/tfMRI_Language_preproc/333330_3T_tfMRI_LANGUAGE_preproc/tfMRI_LANGUAGE_LR_Atlas_MSMAll.dtseries.nii\n",
      "730\n"
     ]
    },
    {
     "name": "stderr",
     "output_type": "stream",
     "text": [
      "pixdim[1,2,3] should be non-zero; setting 0 dims to 1\n"
     ]
    },
    {
     "name": "stdout",
     "output_type": "stream",
     "text": [
      "(316, 59421)\n",
      "/home/qing/Documents/tfMRI_Language_preproc/188347_3T_tfMRI_LANGUAGE_preproc/tfMRI_LANGUAGE_LR_Atlas_MSMAll.dtseries.nii\n",
      "731\n"
     ]
    },
    {
     "name": "stderr",
     "output_type": "stream",
     "text": [
      "pixdim[1,2,3] should be non-zero; setting 0 dims to 1\n"
     ]
    },
    {
     "name": "stdout",
     "output_type": "stream",
     "text": [
      "(316, 59421)\n",
      "/home/qing/Documents/tfMRI_Language_preproc/871762_3T_tfMRI_LANGUAGE_preproc/tfMRI_LANGUAGE_LR_Atlas_MSMAll.dtseries.nii\n",
      "732\n"
     ]
    },
    {
     "name": "stderr",
     "output_type": "stream",
     "text": [
      "pixdim[1,2,3] should be non-zero; setting 0 dims to 1\n"
     ]
    },
    {
     "name": "stdout",
     "output_type": "stream",
     "text": [
      "(316, 59421)\n",
      "/home/qing/Documents/tfMRI_Language_preproc/134223_3T_tfMRI_LANGUAGE_preproc/tfMRI_LANGUAGE_LR_Atlas_MSMAll.dtseries.nii\n",
      "733\n"
     ]
    },
    {
     "name": "stderr",
     "output_type": "stream",
     "text": [
      "pixdim[1,2,3] should be non-zero; setting 0 dims to 1\n"
     ]
    },
    {
     "name": "stdout",
     "output_type": "stream",
     "text": [
      "(316, 59421)\n",
      "/home/qing/Documents/tfMRI_Language_preproc/541943_3T_tfMRI_LANGUAGE_preproc/tfMRI_LANGUAGE_LR_Atlas_MSMAll.dtseries.nii\n",
      "734\n"
     ]
    },
    {
     "name": "stderr",
     "output_type": "stream",
     "text": [
      "pixdim[1,2,3] should be non-zero; setting 0 dims to 1\n"
     ]
    },
    {
     "name": "stdout",
     "output_type": "stream",
     "text": [
      "(316, 59421)\n",
      "/home/qing/Documents/tfMRI_Language_preproc/173637_3T_tfMRI_LANGUAGE_preproc/tfMRI_LANGUAGE_LR_Atlas_MSMAll.dtseries.nii\n",
      "735\n"
     ]
    },
    {
     "name": "stderr",
     "output_type": "stream",
     "text": [
      "pixdim[1,2,3] should be non-zero; setting 0 dims to 1\n"
     ]
    },
    {
     "name": "stdout",
     "output_type": "stream",
     "text": [
      "(316, 59421)\n",
      "/home/qing/Documents/tfMRI_Language_preproc/108222_3T_tfMRI_LANGUAGE_preproc/tfMRI_LANGUAGE_LR_Atlas_MSMAll.dtseries.nii\n",
      "736\n"
     ]
    },
    {
     "name": "stderr",
     "output_type": "stream",
     "text": [
      "pixdim[1,2,3] should be non-zero; setting 0 dims to 1\n"
     ]
    },
    {
     "name": "stdout",
     "output_type": "stream",
     "text": [
      "(316, 59421)\n",
      "/home/qing/Documents/tfMRI_Language_preproc/581450_3T_tfMRI_LANGUAGE_preproc/tfMRI_LANGUAGE_LR_Atlas_MSMAll.dtseries.nii\n",
      "737\n"
     ]
    },
    {
     "name": "stderr",
     "output_type": "stream",
     "text": [
      "pixdim[1,2,3] should be non-zero; setting 0 dims to 1\n"
     ]
    },
    {
     "name": "stdout",
     "output_type": "stream",
     "text": [
      "(316, 59421)\n",
      "/home/qing/Documents/tfMRI_Language_preproc/683256_3T_tfMRI_LANGUAGE_preproc/tfMRI_LANGUAGE_LR_Atlas_MSMAll.dtseries.nii\n",
      "738\n"
     ]
    },
    {
     "name": "stderr",
     "output_type": "stream",
     "text": [
      "pixdim[1,2,3] should be non-zero; setting 0 dims to 1\n"
     ]
    },
    {
     "name": "stdout",
     "output_type": "stream",
     "text": [
      "(316, 59421)\n",
      "/home/qing/Documents/tfMRI_Language_preproc/623844_3T_tfMRI_LANGUAGE_preproc/tfMRI_LANGUAGE_LR_Atlas_MSMAll.dtseries.nii\n",
      "739\n"
     ]
    },
    {
     "name": "stderr",
     "output_type": "stream",
     "text": [
      "pixdim[1,2,3] should be non-zero; setting 0 dims to 1\n"
     ]
    },
    {
     "name": "stdout",
     "output_type": "stream",
     "text": [
      "(316, 59421)\n",
      "/home/qing/Documents/tfMRI_Language_preproc/679770_3T_tfMRI_LANGUAGE_preproc/tfMRI_LANGUAGE_LR_Atlas_MSMAll.dtseries.nii\n",
      "740\n"
     ]
    },
    {
     "name": "stderr",
     "output_type": "stream",
     "text": [
      "pixdim[1,2,3] should be non-zero; setting 0 dims to 1\n"
     ]
    },
    {
     "name": "stdout",
     "output_type": "stream",
     "text": [
      "(316, 59421)\n",
      "/home/qing/Documents/tfMRI_Language_preproc/159744_3T_tfMRI_LANGUAGE_preproc/tfMRI_LANGUAGE_LR_Atlas_MSMAll.dtseries.nii\n",
      "741\n"
     ]
    },
    {
     "name": "stderr",
     "output_type": "stream",
     "text": [
      "pixdim[1,2,3] should be non-zero; setting 0 dims to 1\n"
     ]
    },
    {
     "name": "stdout",
     "output_type": "stream",
     "text": [
      "(316, 59421)\n",
      "/home/qing/Documents/tfMRI_Language_preproc/826353_3T_tfMRI_LANGUAGE_preproc/tfMRI_LANGUAGE_LR_Atlas_MSMAll.dtseries.nii\n",
      "742\n"
     ]
    },
    {
     "name": "stderr",
     "output_type": "stream",
     "text": [
      "pixdim[1,2,3] should be non-zero; setting 0 dims to 1\n"
     ]
    },
    {
     "name": "stdout",
     "output_type": "stream",
     "text": [
      "(316, 59421)\n",
      "/home/qing/Documents/tfMRI_Language_preproc/214423_3T_tfMRI_LANGUAGE_preproc/tfMRI_LANGUAGE_LR_Atlas_MSMAll.dtseries.nii\n",
      "743\n"
     ]
    },
    {
     "name": "stderr",
     "output_type": "stream",
     "text": [
      "pixdim[1,2,3] should be non-zero; setting 0 dims to 1\n"
     ]
    },
    {
     "name": "stdout",
     "output_type": "stream",
     "text": [
      "(316, 59421)\n",
      "/home/qing/Documents/tfMRI_Language_preproc/742549_3T_tfMRI_LANGUAGE_preproc/tfMRI_LANGUAGE_LR_Atlas_MSMAll.dtseries.nii\n",
      "744\n"
     ]
    },
    {
     "name": "stderr",
     "output_type": "stream",
     "text": [
      "pixdim[1,2,3] should be non-zero; setting 0 dims to 1\n"
     ]
    },
    {
     "name": "stdout",
     "output_type": "stream",
     "text": [
      "(316, 59421)\n",
      "/home/qing/Documents/tfMRI_Language_preproc/677766_3T_tfMRI_LANGUAGE_preproc/tfMRI_LANGUAGE_LR_Atlas_MSMAll.dtseries.nii\n",
      "745\n"
     ]
    },
    {
     "name": "stderr",
     "output_type": "stream",
     "text": [
      "pixdim[1,2,3] should be non-zero; setting 0 dims to 1\n"
     ]
    },
    {
     "name": "stdout",
     "output_type": "stream",
     "text": [
      "(316, 59421)\n",
      "/home/qing/Documents/tfMRI_Language_preproc/140925_3T_tfMRI_LANGUAGE_preproc/tfMRI_LANGUAGE_LR_Atlas_MSMAll.dtseries.nii\n",
      "746\n"
     ]
    },
    {
     "name": "stderr",
     "output_type": "stream",
     "text": [
      "pixdim[1,2,3] should be non-zero; setting 0 dims to 1\n"
     ]
    },
    {
     "name": "stdout",
     "output_type": "stream",
     "text": [
      "(316, 59421)\n",
      "/home/qing/Documents/tfMRI_Language_preproc/105014_3T_tfMRI_LANGUAGE_preproc/tfMRI_LANGUAGE_LR_Atlas_MSMAll.dtseries.nii\n",
      "747\n"
     ]
    },
    {
     "name": "stderr",
     "output_type": "stream",
     "text": [
      "pixdim[1,2,3] should be non-zero; setting 0 dims to 1\n"
     ]
    },
    {
     "name": "stdout",
     "output_type": "stream",
     "text": [
      "(316, 59421)\n",
      "/home/qing/Documents/tfMRI_Language_preproc/627549_3T_tfMRI_LANGUAGE_preproc/tfMRI_LANGUAGE_LR_Atlas_MSMAll.dtseries.nii\n",
      "748\n"
     ]
    },
    {
     "name": "stderr",
     "output_type": "stream",
     "text": [
      "pixdim[1,2,3] should be non-zero; setting 0 dims to 1\n"
     ]
    },
    {
     "name": "stdout",
     "output_type": "stream",
     "text": [
      "(316, 59421)\n",
      "/home/qing/Documents/tfMRI_Language_preproc/352738_3T_tfMRI_LANGUAGE_preproc/tfMRI_LANGUAGE_LR_Atlas_MSMAll.dtseries.nii\n",
      "749\n"
     ]
    },
    {
     "name": "stderr",
     "output_type": "stream",
     "text": [
      "pixdim[1,2,3] should be non-zero; setting 0 dims to 1\n"
     ]
    },
    {
     "name": "stdout",
     "output_type": "stream",
     "text": [
      "(316, 59421)\n",
      "/home/qing/Documents/tfMRI_Language_preproc/124422_3T_tfMRI_LANGUAGE_preproc/tfMRI_LANGUAGE_LR_Atlas_MSMAll.dtseries.nii\n",
      "750\n"
     ]
    },
    {
     "name": "stderr",
     "output_type": "stream",
     "text": [
      "pixdim[1,2,3] should be non-zero; setting 0 dims to 1\n"
     ]
    },
    {
     "name": "stdout",
     "output_type": "stream",
     "text": [
      "(316, 59421)\n",
      "/home/qing/Documents/tfMRI_Language_preproc/104820_3T_tfMRI_LANGUAGE_preproc/tfMRI_LANGUAGE_LR_Atlas_MSMAll.dtseries.nii\n",
      "751\n"
     ]
    },
    {
     "name": "stderr",
     "output_type": "stream",
     "text": [
      "pixdim[1,2,3] should be non-zero; setting 0 dims to 1\n"
     ]
    },
    {
     "name": "stdout",
     "output_type": "stream",
     "text": [
      "(316, 59421)\n",
      "/home/qing/Documents/tfMRI_Language_preproc/201111_3T_tfMRI_LANGUAGE_preproc/tfMRI_LANGUAGE_LR_Atlas_MSMAll.dtseries.nii\n",
      "752\n"
     ]
    },
    {
     "name": "stderr",
     "output_type": "stream",
     "text": [
      "pixdim[1,2,3] should be non-zero; setting 0 dims to 1\n"
     ]
    },
    {
     "name": "stdout",
     "output_type": "stream",
     "text": [
      "(316, 59421)\n",
      "/home/qing/Documents/tfMRI_Language_preproc/137229_3T_tfMRI_LANGUAGE_preproc/tfMRI_LANGUAGE_LR_Atlas_MSMAll.dtseries.nii\n",
      "753\n"
     ]
    },
    {
     "name": "stderr",
     "output_type": "stream",
     "text": [
      "pixdim[1,2,3] should be non-zero; setting 0 dims to 1\n"
     ]
    },
    {
     "name": "stdout",
     "output_type": "stream",
     "text": [
      "(316, 59421)\n",
      "/home/qing/Documents/tfMRI_Language_preproc/118528_3T_tfMRI_LANGUAGE_preproc/tfMRI_LANGUAGE_LR_Atlas_MSMAll.dtseries.nii\n",
      "754\n"
     ]
    },
    {
     "name": "stderr",
     "output_type": "stream",
     "text": [
      "pixdim[1,2,3] should be non-zero; setting 0 dims to 1\n"
     ]
    },
    {
     "name": "stdout",
     "output_type": "stream",
     "text": [
      "(316, 59421)\n",
      "/home/qing/Documents/tfMRI_Language_preproc/176441_3T_tfMRI_LANGUAGE_preproc/tfMRI_LANGUAGE_LR_Atlas_MSMAll.dtseries.nii\n",
      "755\n"
     ]
    },
    {
     "name": "stderr",
     "output_type": "stream",
     "text": [
      "pixdim[1,2,3] should be non-zero; setting 0 dims to 1\n"
     ]
    },
    {
     "name": "stdout",
     "output_type": "stream",
     "text": [
      "(316, 59421)\n",
      "/home/qing/Documents/tfMRI_Language_preproc/160830_3T_tfMRI_LANGUAGE_preproc/tfMRI_LANGUAGE_LR_Atlas_MSMAll.dtseries.nii\n",
      "756\n"
     ]
    },
    {
     "name": "stderr",
     "output_type": "stream",
     "text": [
      "pixdim[1,2,3] should be non-zero; setting 0 dims to 1\n"
     ]
    },
    {
     "name": "stdout",
     "output_type": "stream",
     "text": [
      "(316, 59421)\n",
      "/home/qing/Documents/tfMRI_Language_preproc/295146_3T_tfMRI_LANGUAGE_preproc/tfMRI_LANGUAGE_LR_Atlas_MSMAll.dtseries.nii\n",
      "757\n"
     ]
    },
    {
     "name": "stderr",
     "output_type": "stream",
     "text": [
      "pixdim[1,2,3] should be non-zero; setting 0 dims to 1\n"
     ]
    },
    {
     "name": "stdout",
     "output_type": "stream",
     "text": [
      "(316, 59421)\n",
      "/home/qing/Documents/tfMRI_Language_preproc/126325_3T_tfMRI_LANGUAGE_preproc/tfMRI_LANGUAGE_LR_Atlas_MSMAll.dtseries.nii\n",
      "758\n"
     ]
    },
    {
     "name": "stderr",
     "output_type": "stream",
     "text": [
      "pixdim[1,2,3] should be non-zero; setting 0 dims to 1\n"
     ]
    },
    {
     "name": "stdout",
     "output_type": "stream",
     "text": [
      "(316, 59421)\n",
      "/home/qing/Documents/tfMRI_Language_preproc/297655_3T_tfMRI_LANGUAGE_preproc/tfMRI_LANGUAGE_LR_Atlas_MSMAll.dtseries.nii\n",
      "759\n"
     ]
    },
    {
     "name": "stderr",
     "output_type": "stream",
     "text": [
      "pixdim[1,2,3] should be non-zero; setting 0 dims to 1\n"
     ]
    },
    {
     "name": "stdout",
     "output_type": "stream",
     "text": [
      "(316, 59421)\n",
      "/home/qing/Documents/tfMRI_Language_preproc/685058_3T_tfMRI_LANGUAGE_preproc/tfMRI_LANGUAGE_LR_Atlas_MSMAll.dtseries.nii\n",
      "760\n"
     ]
    },
    {
     "name": "stderr",
     "output_type": "stream",
     "text": [
      "pixdim[1,2,3] should be non-zero; setting 0 dims to 1\n"
     ]
    },
    {
     "name": "stdout",
     "output_type": "stream",
     "text": [
      "(316, 59421)\n",
      "/home/qing/Documents/tfMRI_Language_preproc/157437_3T_tfMRI_LANGUAGE_preproc/tfMRI_LANGUAGE_LR_Atlas_MSMAll.dtseries.nii\n",
      "761\n"
     ]
    },
    {
     "name": "stderr",
     "output_type": "stream",
     "text": [
      "pixdim[1,2,3] should be non-zero; setting 0 dims to 1\n"
     ]
    },
    {
     "name": "stdout",
     "output_type": "stream",
     "text": [
      "(316, 59421)\n",
      "/home/qing/Documents/tfMRI_Language_preproc/987983_3T_tfMRI_LANGUAGE_preproc/tfMRI_LANGUAGE_LR_Atlas_MSMAll.dtseries.nii\n",
      "762\n"
     ]
    },
    {
     "name": "stderr",
     "output_type": "stream",
     "text": [
      "pixdim[1,2,3] should be non-zero; setting 0 dims to 1\n"
     ]
    },
    {
     "name": "stdout",
     "output_type": "stream",
     "text": [
      "(316, 59421)\n",
      "/home/qing/Documents/tfMRI_Language_preproc/186444_3T_tfMRI_LANGUAGE_preproc/tfMRI_LANGUAGE_LR_Atlas_MSMAll.dtseries.nii\n",
      "763\n"
     ]
    },
    {
     "name": "stderr",
     "output_type": "stream",
     "text": [
      "pixdim[1,2,3] should be non-zero; setting 0 dims to 1\n"
     ]
    },
    {
     "name": "stdout",
     "output_type": "stream",
     "text": [
      "(316, 59421)\n",
      "/home/qing/Documents/tfMRI_Language_preproc/150524_3T_tfMRI_LANGUAGE_preproc/tfMRI_LANGUAGE_LR_Atlas_MSMAll.dtseries.nii\n",
      "764\n"
     ]
    },
    {
     "name": "stderr",
     "output_type": "stream",
     "text": [
      "pixdim[1,2,3] should be non-zero; setting 0 dims to 1\n"
     ]
    },
    {
     "name": "stdout",
     "output_type": "stream",
     "text": [
      "(316, 59421)\n",
      "/home/qing/Documents/tfMRI_Language_preproc/153025_3T_tfMRI_LANGUAGE_preproc/tfMRI_LANGUAGE_LR_Atlas_MSMAll.dtseries.nii\n",
      "765\n"
     ]
    },
    {
     "name": "stderr",
     "output_type": "stream",
     "text": [
      "pixdim[1,2,3] should be non-zero; setting 0 dims to 1\n"
     ]
    },
    {
     "name": "stdout",
     "output_type": "stream",
     "text": [
      "(316, 59421)\n",
      "/home/qing/Documents/tfMRI_Language_preproc/380036_3T_tfMRI_LANGUAGE_preproc/tfMRI_LANGUAGE_LR_Atlas_MSMAll.dtseries.nii\n",
      "766\n"
     ]
    },
    {
     "name": "stderr",
     "output_type": "stream",
     "text": [
      "pixdim[1,2,3] should be non-zero; setting 0 dims to 1\n"
     ]
    },
    {
     "name": "stdout",
     "output_type": "stream",
     "text": [
      "(316, 59421)\n",
      "/home/qing/Documents/tfMRI_Language_preproc/129028_3T_tfMRI_LANGUAGE_preproc/tfMRI_LANGUAGE_LR_Atlas_MSMAll.dtseries.nii\n",
      "767\n"
     ]
    },
    {
     "name": "stderr",
     "output_type": "stream",
     "text": [
      "pixdim[1,2,3] should be non-zero; setting 0 dims to 1\n"
     ]
    },
    {
     "name": "stdout",
     "output_type": "stream",
     "text": [
      "(316, 59421)\n",
      "/home/qing/Documents/tfMRI_Language_preproc/114823_3T_tfMRI_LANGUAGE_preproc/tfMRI_LANGUAGE_LR_Atlas_MSMAll.dtseries.nii\n",
      "768\n"
     ]
    },
    {
     "name": "stderr",
     "output_type": "stream",
     "text": [
      "pixdim[1,2,3] should be non-zero; setting 0 dims to 1\n"
     ]
    },
    {
     "name": "stdout",
     "output_type": "stream",
     "text": [
      "(316, 59421)\n",
      "/home/qing/Documents/tfMRI_Language_preproc/146331_3T_tfMRI_LANGUAGE_preproc/tfMRI_LANGUAGE_LR_Atlas_MSMAll.dtseries.nii\n",
      "769\n"
     ]
    },
    {
     "name": "stderr",
     "output_type": "stream",
     "text": [
      "pixdim[1,2,3] should be non-zero; setting 0 dims to 1\n"
     ]
    },
    {
     "name": "stdout",
     "output_type": "stream",
     "text": [
      "(316, 59421)\n",
      "/home/qing/Documents/tfMRI_Language_preproc/198350_3T_tfMRI_LANGUAGE_preproc/tfMRI_LANGUAGE_LR_Atlas_MSMAll.dtseries.nii\n",
      "770\n"
     ]
    },
    {
     "name": "stderr",
     "output_type": "stream",
     "text": [
      "pixdim[1,2,3] should be non-zero; setting 0 dims to 1\n"
     ]
    },
    {
     "name": "stdout",
     "output_type": "stream",
     "text": [
      "(316, 59421)\n",
      "/home/qing/Documents/tfMRI_Language_preproc/626648_3T_tfMRI_LANGUAGE_preproc/tfMRI_LANGUAGE_LR_Atlas_MSMAll.dtseries.nii\n",
      "771\n"
     ]
    },
    {
     "name": "stderr",
     "output_type": "stream",
     "text": [
      "pixdim[1,2,3] should be non-zero; setting 0 dims to 1\n"
     ]
    },
    {
     "name": "stdout",
     "output_type": "stream",
     "text": [
      "(316, 59421)\n",
      "/home/qing/Documents/tfMRI_Language_preproc/377451_3T_tfMRI_LANGUAGE_preproc/tfMRI_LANGUAGE_LR_Atlas_MSMAll.dtseries.nii\n",
      "772\n"
     ]
    },
    {
     "name": "stderr",
     "output_type": "stream",
     "text": [
      "pixdim[1,2,3] should be non-zero; setting 0 dims to 1\n"
     ]
    },
    {
     "name": "stdout",
     "output_type": "stream",
     "text": [
      "(316, 59421)\n",
      "/home/qing/Documents/tfMRI_Language_preproc/127933_3T_tfMRI_LANGUAGE_preproc/tfMRI_LANGUAGE_LR_Atlas_MSMAll.dtseries.nii\n",
      "773\n"
     ]
    },
    {
     "name": "stderr",
     "output_type": "stream",
     "text": [
      "pixdim[1,2,3] should be non-zero; setting 0 dims to 1\n"
     ]
    },
    {
     "name": "stdout",
     "output_type": "stream",
     "text": [
      "(316, 59421)\n",
      "/home/qing/Documents/tfMRI_Language_preproc/206222_3T_tfMRI_LANGUAGE_preproc/tfMRI_LANGUAGE_LR_Atlas_MSMAll.dtseries.nii\n",
      "774\n"
     ]
    },
    {
     "name": "stderr",
     "output_type": "stream",
     "text": [
      "pixdim[1,2,3] should be non-zero; setting 0 dims to 1\n"
     ]
    },
    {
     "name": "stdout",
     "output_type": "stream",
     "text": [
      "(316, 59421)\n",
      "/home/qing/Documents/tfMRI_Language_preproc/116221_3T_tfMRI_LANGUAGE_preproc/tfMRI_LANGUAGE_LR_Atlas_MSMAll.dtseries.nii\n",
      "775\n"
     ]
    },
    {
     "name": "stderr",
     "output_type": "stream",
     "text": [
      "pixdim[1,2,3] should be non-zero; setting 0 dims to 1\n"
     ]
    },
    {
     "name": "stdout",
     "output_type": "stream",
     "text": [
      "(316, 59421)\n",
      "/home/qing/Documents/tfMRI_Language_preproc/576255_3T_tfMRI_LANGUAGE_preproc/tfMRI_LANGUAGE_LR_Atlas_MSMAll.dtseries.nii\n",
      "776\n"
     ]
    },
    {
     "name": "stderr",
     "output_type": "stream",
     "text": [
      "pixdim[1,2,3] should be non-zero; setting 0 dims to 1\n"
     ]
    },
    {
     "name": "stdout",
     "output_type": "stream",
     "text": [
      "(316, 59421)\n",
      "/home/qing/Documents/tfMRI_Language_preproc/173233_3T_tfMRI_LANGUAGE_preproc/tfMRI_LANGUAGE_LR_Atlas_MSMAll.dtseries.nii\n",
      "777\n"
     ]
    },
    {
     "name": "stderr",
     "output_type": "stream",
     "text": [
      "pixdim[1,2,3] should be non-zero; setting 0 dims to 1\n"
     ]
    },
    {
     "name": "stdout",
     "output_type": "stream",
     "text": [
      "(316, 59421)\n",
      "/home/qing/Documents/tfMRI_Language_preproc/889579_3T_tfMRI_LANGUAGE_preproc/tfMRI_LANGUAGE_LR_Atlas_MSMAll.dtseries.nii\n",
      "778\n"
     ]
    },
    {
     "name": "stderr",
     "output_type": "stream",
     "text": [
      "pixdim[1,2,3] should be non-zero; setting 0 dims to 1\n"
     ]
    },
    {
     "name": "stdout",
     "output_type": "stream",
     "text": [
      "(316, 59421)\n",
      "/home/qing/Documents/tfMRI_Language_preproc/105115_3T_tfMRI_LANGUAGE_preproc/tfMRI_LANGUAGE_LR_Atlas_MSMAll.dtseries.nii\n",
      "779\n"
     ]
    },
    {
     "name": "stderr",
     "output_type": "stream",
     "text": [
      "pixdim[1,2,3] should be non-zero; setting 0 dims to 1\n"
     ]
    },
    {
     "name": "stdout",
     "output_type": "stream",
     "text": [
      "(316, 59421)\n",
      "/home/qing/Documents/tfMRI_Language_preproc/562446_3T_tfMRI_LANGUAGE_preproc/tfMRI_LANGUAGE_LR_Atlas_MSMAll.dtseries.nii\n",
      "780\n"
     ]
    },
    {
     "name": "stderr",
     "output_type": "stream",
     "text": [
      "pixdim[1,2,3] should be non-zero; setting 0 dims to 1\n"
     ]
    },
    {
     "name": "stdout",
     "output_type": "stream",
     "text": [
      "(316, 59421)\n",
      "/home/qing/Documents/tfMRI_Language_preproc/562345_3T_tfMRI_LANGUAGE_preproc/tfMRI_LANGUAGE_LR_Atlas_MSMAll.dtseries.nii\n",
      "781\n"
     ]
    },
    {
     "name": "stderr",
     "output_type": "stream",
     "text": [
      "pixdim[1,2,3] should be non-zero; setting 0 dims to 1\n"
     ]
    },
    {
     "name": "stdout",
     "output_type": "stream",
     "text": [
      "(316, 59421)\n",
      "/home/qing/Documents/tfMRI_Language_preproc/141422_3T_tfMRI_LANGUAGE_preproc/tfMRI_LANGUAGE_LR_Atlas_MSMAll.dtseries.nii\n",
      "782\n"
     ]
    },
    {
     "name": "stderr",
     "output_type": "stream",
     "text": [
      "pixdim[1,2,3] should be non-zero; setting 0 dims to 1\n"
     ]
    },
    {
     "name": "stdout",
     "output_type": "stream",
     "text": [
      "(316, 59421)\n",
      "/home/qing/Documents/tfMRI_Language_preproc/725751_3T_tfMRI_LANGUAGE_preproc/tfMRI_LANGUAGE_LR_Atlas_MSMAll.dtseries.nii\n",
      "783\n"
     ]
    },
    {
     "name": "stderr",
     "output_type": "stream",
     "text": [
      "pixdim[1,2,3] should be non-zero; setting 0 dims to 1\n"
     ]
    },
    {
     "name": "stdout",
     "output_type": "stream",
     "text": [
      "(316, 59421)\n",
      "/home/qing/Documents/tfMRI_Language_preproc/114318_3T_tfMRI_LANGUAGE_preproc/tfMRI_LANGUAGE_LR_Atlas_MSMAll.dtseries.nii\n",
      "784\n"
     ]
    },
    {
     "name": "stderr",
     "output_type": "stream",
     "text": [
      "pixdim[1,2,3] should be non-zero; setting 0 dims to 1\n"
     ]
    },
    {
     "name": "stdout",
     "output_type": "stream",
     "text": [
      "(316, 59421)\n",
      "/home/qing/Documents/tfMRI_Language_preproc/185139_3T_tfMRI_LANGUAGE_preproc/tfMRI_LANGUAGE_LR_Atlas_MSMAll.dtseries.nii\n",
      "785\n"
     ]
    },
    {
     "name": "stderr",
     "output_type": "stream",
     "text": [
      "pixdim[1,2,3] should be non-zero; setting 0 dims to 1\n"
     ]
    },
    {
     "name": "stdout",
     "output_type": "stream",
     "text": [
      "(316, 59421)\n",
      "/home/qing/Documents/tfMRI_Language_preproc/845458_3T_tfMRI_LANGUAGE_preproc/tfMRI_LANGUAGE_LR_Atlas_MSMAll.dtseries.nii\n",
      "786\n"
     ]
    },
    {
     "name": "stderr",
     "output_type": "stream",
     "text": [
      "pixdim[1,2,3] should be non-zero; setting 0 dims to 1\n"
     ]
    },
    {
     "name": "stdout",
     "output_type": "stream",
     "text": [
      "(316, 59421)\n",
      "/home/qing/Documents/tfMRI_Language_preproc/176239_3T_tfMRI_LANGUAGE_preproc/tfMRI_LANGUAGE_LR_Atlas_MSMAll.dtseries.nii\n",
      "787\n"
     ]
    },
    {
     "name": "stderr",
     "output_type": "stream",
     "text": [
      "pixdim[1,2,3] should be non-zero; setting 0 dims to 1\n"
     ]
    },
    {
     "name": "stdout",
     "output_type": "stream",
     "text": [
      "(316, 59421)\n",
      "/home/qing/Documents/tfMRI_Language_preproc/210617_3T_tfMRI_LANGUAGE_preproc/tfMRI_LANGUAGE_LR_Atlas_MSMAll.dtseries.nii\n",
      "788\n"
     ]
    },
    {
     "name": "stderr",
     "output_type": "stream",
     "text": [
      "pixdim[1,2,3] should be non-zero; setting 0 dims to 1\n"
     ]
    },
    {
     "name": "stdout",
     "output_type": "stream",
     "text": [
      "(316, 59421)\n",
      "/home/qing/Documents/tfMRI_Language_preproc/609143_3T_tfMRI_LANGUAGE_preproc/tfMRI_LANGUAGE_LR_Atlas_MSMAll.dtseries.nii\n",
      "789\n"
     ]
    },
    {
     "name": "stderr",
     "output_type": "stream",
     "text": [
      "pixdim[1,2,3] should be non-zero; setting 0 dims to 1\n"
     ]
    },
    {
     "name": "stdout",
     "output_type": "stream",
     "text": [
      "(316, 59421)\n",
      "/home/qing/Documents/tfMRI_Language_preproc/204016_3T_tfMRI_LANGUAGE_preproc/tfMRI_LANGUAGE_LR_Atlas_MSMAll.dtseries.nii\n",
      "790\n"
     ]
    },
    {
     "name": "stderr",
     "output_type": "stream",
     "text": [
      "pixdim[1,2,3] should be non-zero; setting 0 dims to 1\n"
     ]
    },
    {
     "name": "stdout",
     "output_type": "stream",
     "text": [
      "(316, 59421)\n",
      "[[10600.57  8053.97  8266.33 ... 11394.83 12280.64 10138.39]\n",
      " [10418.91  8109.84  8395.   ... 11996.51 13168.71 11359.86]\n",
      " [10250.63  8013.37  8242.33 ... 11745.1  13476.72 12098.96]\n",
      " ...\n",
      " [12296.9   8482.55 10322.66 ... 14333.12 14015.26 14145.44]\n",
      " [11882.13  8730.61 10340.38 ... 14009.12 12883.64 14028.92]\n",
      " [12024.56  8531.71 10481.19 ... 13792.25 14375.16 13617.96]]\n"
     ]
    }
   ],
   "source": [
    "#data collection\n",
    "#RAE\n",
    "import keras\n",
    "from keras import backend as K\n",
    "from keras.utils import Sequence\n",
    "from keras.models import Sequential, Model\n",
    "from keras.layers import Input, LSTM, RepeatVector\n",
    "from keras.layers.core import Flatten, Dense, Dropout, Lambda\n",
    "from keras.optimizers import SGD, RMSprop, Adam\n",
    "from keras import objectives\n",
    "from keras import regularizers\n",
    "from sklearn.linear_model import Lasso\n",
    "\n",
    "import numpy as np\n",
    "import scipy.io\n",
    "np.set_printoptions(precision = 2, suppress = True)\n",
    "import os\n",
    "import nibabel as nib\n",
    "import pandas as pd\n",
    "from nibabel import cifti2 as ci\n",
    "from scipy import stats\n",
    "\n",
    "path = \"/home/qing/Documents/tfMRI_Language_preproc/\"\n",
    "dirs = os.listdir(path)\n",
    "\n",
    "a = np.memmap('sub_LANGUAGE.mymemmap', dtype = 'float32', mode='w+', shape=(316*791,59421))\n",
    "del a\n",
    "sub = np.memmap('sub_LANGUAGE.mymemmap', dtype='float32', mode='r+', shape=(316*791,59421))\n",
    "sub_data = np.memmap('sub_LANGUAGE.mymemmap', dtype='float32', mode='r+', shape=(316*791,59421))\n",
    "\n",
    "for num1 in range(0,791):\n",
    "    sub_path =  path + dirs[num1] + \"/tfMRI_LANGUAGE_LR_Atlas_MSMAll.dtseries.nii\"\n",
    "    print(sub_path)\n",
    "    print(num1)\n",
    "    img = nib.load(sub_path)\n",
    "    img = img.get_data()\n",
    "    \n",
    "    img = img[:,0:59421]\n",
    "    print(np.shape(img))\n",
    "    sub[num1*316:(num1+1)*316, ] = img\n",
    "\n",
    "print(sub)\n",
    "\n"
   ]
  },
  {
   "cell_type": "code",
   "execution_count": 3,
   "metadata": {},
   "outputs": [
    {
     "name": "stdout",
     "output_type": "stream",
     "text": [
      "(249956, 59421)\n"
     ]
    }
   ],
   "source": [
    "### zscore y#####\n",
    "import numpy as np\n",
    "sub = np.memmap('sub_LANGUAGE.mymemmap', dtype='float32', mode='r+', shape=(316*791,59421))\n",
    "\n",
    "sub_data = np.memmap('sub_LANGUAGE.mymemmap', dtype='float32', mode='r+', shape=(316*791,59421))\n",
    "import matplotlib.pyplot as plt\n",
    "from scipy import stats\n",
    "from numpy import *\n",
    "print(np.shape(sub))\n",
    "img_step = 315 #volumeLength-1\n",
    "cnt = 0\n",
    "for num2 in range(0,791*(img_step+1)):\n",
    "    cnt += 1\n",
    "    if cnt == (img_step + 1):\n",
    "        cnt = 0\n",
    "        sub_data[num2 - img_step: num2 + 1,:] = stats.zscore(sub[num2 - img_step: num2 + 1,:])\n",
    "        \n"
   ]
  },
  {
   "cell_type": "code",
   "execution_count": 18,
   "metadata": {},
   "outputs": [
    {
     "name": "stderr",
     "output_type": "stream",
     "text": [
      "Using TensorFlow backend.\n"
     ]
    },
    {
     "name": "stdout",
     "output_type": "stream",
     "text": [
      "[[ 0.88231695  0.6698016  -0.95245194 ... -1.4315612  -0.09009206\n",
      "  -1.8357495 ]\n",
      " [-0.20766202  1.5609376   0.6448112  ... -0.39245465  1.3835061\n",
      "  -0.23344395]\n",
      " [-1.2173026   0.0221203  -1.2504523  ... -0.8266538   1.8945978\n",
      "   0.73609275]\n",
      " ...\n",
      " [ 0.34168553 -0.800107   -3.2665782  ... -0.3453094  -0.55901015\n",
      "  -0.3559226 ]\n",
      " [-1.554559    1.1398613  -3.1154225  ... -0.7600698  -1.952227\n",
      "  -0.50591034]\n",
      " [-0.9034221  -0.41569516 -1.914788   ... -1.037681   -0.11592548\n",
      "  -1.0349168 ]]\n",
      "(249956, 59421)\n",
      "_________________________________________________________________\n",
      "Layer (type)                 Output Shape              Param #   \n",
      "=================================================================\n",
      "input_1 (InputLayer)         (None, 316, 59421)        0         \n",
      "_________________________________________________________________\n",
      "dense_1 (Dense)              (None, 316, 128)          7606016   \n",
      "_________________________________________________________________\n",
      "lstm_1 (LSTM)                (None, 316, 64)           49408     \n",
      "_________________________________________________________________\n",
      "lstm_2 (LSTM)                (None, 316, 32)           12416     \n",
      "=================================================================\n",
      "Total params: 7,667,840\n",
      "Trainable params: 7,667,840\n",
      "Non-trainable params: 0\n",
      "_________________________________________________________________\n",
      "_________________________________________________________________\n",
      "Layer (type)                 Output Shape              Param #   \n",
      "=================================================================\n",
      "input_2 (InputLayer)         (None, 316, 32)           0         \n",
      "_________________________________________________________________\n",
      "lstm_3 (LSTM)                (None, 316, 64)           24832     \n",
      "_________________________________________________________________\n",
      "lstm_4 (LSTM)                (None, 316, 128)          98816     \n",
      "_________________________________________________________________\n",
      "dense_2 (Dense)              (None, 316, 59421)        7665309   \n",
      "=================================================================\n",
      "Total params: 7,788,957\n",
      "Trainable params: 7,788,957\n",
      "Non-trainable params: 0\n",
      "_________________________________________________________________\n",
      "_________________________________________________________________\n",
      "Layer (type)                 Output Shape              Param #   \n",
      "=================================================================\n",
      "input_3 (InputLayer)         (None, 316, 59421)        0         \n",
      "_________________________________________________________________\n",
      "model_1 (Model)              (None, 316, 32)           7667840   \n",
      "_________________________________________________________________\n",
      "model_2 (Model)              (None, 316, 59421)        7788957   \n",
      "=================================================================\n",
      "Total params: 15,456,797\n",
      "Trainable params: 15,456,797\n",
      "Non-trainable params: 0\n",
      "_________________________________________________________________\n",
      "Epoch 1/10\n",
      "791/791 [==============================] - 1300s 2s/step - loss: 1.0530\n",
      "Epoch 2/10\n",
      "791/791 [==============================] - 1293s 2s/step - loss: 1.0269\n",
      "Epoch 3/10\n",
      "791/791 [==============================] - 1291s 2s/step - loss: 1.0297\n",
      "Epoch 4/10\n",
      "791/791 [==============================] - 1301s 2s/step - loss: 1.0269\n",
      "Epoch 5/10\n",
      "791/791 [==============================] - 1295s 2s/step - loss: 1.0257\n",
      "Epoch 6/10\n",
      "791/791 [==============================] - 1295s 2s/step - loss: 1.0245\n",
      "Epoch 7/10\n",
      "791/791 [==============================] - 1295s 2s/step - loss: 1.0266\n",
      "Epoch 8/10\n",
      "791/791 [==============================] - 1298s 2s/step - loss: 1.0230\n",
      "Epoch 9/10\n",
      "791/791 [==============================] - 1298s 2s/step - loss: 1.0241\n",
      "Epoch 10/10\n",
      "791/791 [==============================] - 1300s 2s/step - loss: 1.0314\n"
     ]
    },
    {
     "data": {
      "text/plain": [
       "<keras.callbacks.History at 0x7f92e9da0b70>"
      ]
     },
     "execution_count": 18,
     "metadata": {},
     "output_type": "execute_result"
    }
   ],
   "source": [
    "############## many to many ##########\n",
    "#RAE\n",
    "import keras\n",
    "from keras import backend as K\n",
    "from keras.models import Sequential, Model\n",
    "from tensorflow.contrib.keras import layers\n",
    "from keras.layers import Input, LSTM, RepeatVector\n",
    "from keras.layers.core import Flatten, Dense, Dropout, Lambda\n",
    "from keras.optimizers import SGD, RMSprop, Adam\n",
    "from keras import objectives\n",
    "from keras import regularizers\n",
    "from sklearn.linear_model import Lasso\n",
    "# sub_data = np.memmap('sub_LANGUAGE.mymemmap', dtype='float32', mode='r+', shape=(316*400,59421))\n",
    "print(sub_data)\n",
    "sub_data1 = sub_data[0:791*(img_step+1),:]\n",
    "print(np.shape(sub_data1))\n",
    "data = np.expand_dims(sub_data1, axis=1)\n",
    "data = np.reshape(data, (791,316 , 59421))\n",
    "# latent_dim = [320]\n",
    "\n",
    "input_dim = data.shape[-1] # 13\n",
    "timesteps =  data.shape[1]# 3\n",
    "\n",
    "inputs = Input(shape=(timesteps, input_dim,))\n",
    "layer1 = Dense(128, activation='tanh',activity_regularizer=regularizers.l1(1*10e-7), kernel_regularizer=regularizers.l2(1*10e-4))#, activity_regularizer=regularizers.l1(1*10e-7), kernel_regularizer=regularizers.l2(1*10e-4)\n",
    "encoded = layer1(inputs)\n",
    "encoded = LSTM(64,return_sequences=True,activity_regularizer=regularizers.l1(1*10e-7), kernel_regularizer=regularizers.l2(1*10e-4))(encoded)#\n",
    "encoded = LSTM(32,return_sequences=True,activity_regularizer=regularizers.l1(1*10e-7), kernel_regularizer=regularizers.l2(1*10e-4))(encoded)#, activity_regularizer=regularizers.l1(1*10e-7), kernel_regularizer=regularizers.l2(1*10e-4)\n",
    "\n",
    "encoder = Model(inputs, encoded)\n",
    "encoder.summary()\n",
    "\n",
    "inputs = Input(shape=(timesteps, 32,))\n",
    "decoded = LSTM(64, return_sequences=True,activation='tanh')(inputs)\n",
    "decoded = LSTM(128, return_sequences=True,activation='tanh')(decoded)\n",
    "outputs = Dense(input_dim, activation='tanh')(decoded)\n",
    "\n",
    "\n",
    "decoder = Model(inputs, outputs)\n",
    "decoder.summary()\n",
    "# model for RAE\n",
    "inputs = Input(shape=(timesteps, input_dim,))\n",
    "outputs = encoder(inputs)\n",
    "outputs = decoder(outputs)\n",
    "sequence_autoencoder = Model(inputs, outputs)\n",
    "\n",
    "\n",
    "sequence_autoencoder.compile(optimizer='adam', loss='mse')\n",
    "sequence_autoencoder.summary()\n",
    "sequence_autoencoder.fit(data, data, epochs=10, batch_size =1)\n",
    "\n"
   ]
  },
  {
   "cell_type": "code",
   "execution_count": 19,
   "metadata": {},
   "outputs": [
    {
     "name": "stdout",
     "output_type": "stream",
     "text": [
      "[[[ 2.93586496e-03  1.00510672e-03 -2.94810918e-04 ...  1.55720953e-03\n",
      "   -3.07788886e-03 -8.25980911e-04]\n",
      "  [ 2.09793821e-03 -4.92634717e-03  9.56223719e-03 ... -2.80310214e-03\n",
      "   -1.36049250e-02  1.22929644e-02]\n",
      "  [-4.98320628e-03 -7.39084138e-03  1.29772043e-02 ... -4.60119685e-03\n",
      "   -1.70197990e-02  1.97294373e-02]\n",
      "  ...\n",
      "  [-2.88971495e-02  7.72695336e-03 -1.66496169e-02 ...  6.20315084e-03\n",
      "    1.17448149e-02 -1.69984903e-02]\n",
      "  [-1.43313045e-02  9.46556684e-03 -1.99666433e-02 ...  8.36647209e-03\n",
      "    1.34393778e-02 -2.28907540e-02]\n",
      "  [-4.62310761e-03  4.96495701e-03 -1.24082481e-02 ...  5.10328123e-03\n",
      "    6.95340009e-03 -1.56989228e-02]]\n",
      "\n",
      " [[ 1.12871537e-02  3.64173600e-03 -1.00409128e-02 ...  2.41493061e-03\n",
      "    8.27387907e-03 -9.94250737e-03]\n",
      "  [ 3.74997908e-04  1.24304986e-03 -5.51253976e-03 ...  4.21294186e-04\n",
      "    9.53251554e-04 -5.21313772e-03]\n",
      "  [-1.87831055e-02 -2.24742922e-03  1.43722660e-04 ... -2.90366518e-03\n",
      "   -5.42337494e-03  3.00523802e-03]\n",
      "  ...\n",
      "  [ 1.64502882e-04 -2.22050794e-03 -7.83164427e-03 ... -1.98372523e-03\n",
      "    8.63747951e-03 -6.47597900e-03]\n",
      "  [ 8.85573030e-03 -1.70043705e-03 -9.36437026e-03 ... -8.37699976e-04\n",
      "    1.05534783e-02 -9.65175033e-03]\n",
      "  [ 5.45604387e-03 -9.04506887e-04 -1.21655446e-02 ... -2.02156196e-04\n",
      "    1.23162223e-02 -1.33520793e-02]]\n",
      "\n",
      " [[-1.58553279e-03 -1.10390654e-03  2.05736165e-03 ... -7.37699622e-04\n",
      "   -4.24544793e-03  3.19492025e-03]\n",
      "  [-7.04849232e-03 -5.02366340e-03  8.18721857e-03 ... -3.67073691e-03\n",
      "   -1.16532510e-02  1.24016246e-02]\n",
      "  [-1.04553346e-02 -7.80609855e-03  1.20734153e-02 ... -5.61142107e-03\n",
      "   -1.47782201e-02  1.97023861e-02]\n",
      "  ...\n",
      "  [-5.99383265e-02  4.77163447e-03 -6.99984422e-03 ...  3.18976049e-03\n",
      "   -7.67824985e-03 -7.65743526e-03]\n",
      "  [-5.01367114e-02 -1.12844410e-03  2.90107029e-03 ... -8.58092797e-04\n",
      "   -1.29045909e-02  6.39559608e-03]\n",
      "  [-4.51070294e-02 -4.10561683e-03  7.77597679e-03 ... -2.41169357e-03\n",
      "   -1.49226449e-02  1.51316049e-02]]\n",
      "\n",
      " ...\n",
      "\n",
      " [[ 6.25373796e-03  3.63661791e-03 -1.07737575e-02 ...  2.01145932e-03\n",
      "    8.94360896e-03 -1.01178596e-02]\n",
      "  [ 4.58022067e-03  6.05722982e-03 -1.81848351e-02 ...  3.28381942e-03\n",
      "    1.26064382e-02 -1.80928148e-02]\n",
      "  [ 3.25997686e-03  6.94613345e-03 -2.14738715e-02 ...  3.70895746e-03\n",
      "    1.32367499e-02 -2.26986893e-02]\n",
      "  ...\n",
      "  [ 5.71424491e-04  1.21914716e-02 -2.11205967e-02 ...  5.40705351e-03\n",
      "    4.00190335e-03 -2.01853551e-02]\n",
      "  [ 1.48304179e-02  1.14616239e-02 -1.93099491e-02 ...  5.64952474e-03\n",
      "    3.63644748e-03 -2.02263966e-02]\n",
      "  [ 1.69013031e-02  1.05186962e-02 -1.82676837e-02 ...  5.19576203e-03\n",
      "    3.65459803e-03 -1.95205901e-02]]\n",
      "\n",
      " [[ 2.31157970e-02  4.09478927e-03 -8.67808890e-03 ...  3.76089383e-03\n",
      "    6.72227517e-03 -1.00520197e-02]\n",
      "  [ 5.79388626e-02  1.29424396e-03 -3.33255297e-03 ...  3.23903677e-03\n",
      "    2.61858251e-04 -6.24761917e-03]\n",
      "  [ 5.51354028e-02 -5.42376330e-03  7.13005103e-03 ... -1.70842547e-03\n",
      "   -1.18150227e-02  7.35027995e-03]\n",
      "  ...\n",
      "  [ 8.07541888e-03 -6.85667386e-03  2.83416873e-03 ... -2.03372678e-03\n",
      "    2.48638587e-03  3.77311860e-03]\n",
      "  [-3.23820044e-03 -8.77511781e-03  7.16025848e-03 ... -4.04148176e-03\n",
      "   -3.78402183e-03  9.33567528e-03]\n",
      "  [ 1.83641184e-02 -8.99220724e-03  8.43910594e-03 ... -3.80162778e-03\n",
      "   -2.76427623e-03  1.06604602e-02]]\n",
      "\n",
      " [[ 3.29433978e-02  1.51022116e-03 -5.59203280e-03 ...  1.61671848e-03\n",
      "    5.93882659e-03 -5.83570078e-03]\n",
      "  [ 4.68331799e-02 -6.23221509e-04 -3.30046588e-03 ...  6.73748611e-04\n",
      "    7.54459586e-04 -3.26354522e-03]\n",
      "  [ 5.51936589e-02 -2.54875445e-03 -9.44675121e-05 ...  6.67972199e-06\n",
      "   -2.92759365e-03 -3.06418864e-04]\n",
      "  ...\n",
      "  [-1.87759995e-02  2.90532270e-03 -1.16985692e-02 ...  1.77498476e-03\n",
      "    1.10098924e-02 -9.87702422e-03]\n",
      "  [-1.26908738e-02  1.51449721e-03 -1.08629875e-02 ...  5.69933560e-04\n",
      "    1.01898704e-02 -9.80375800e-03]\n",
      "  [-2.12701969e-02 -6.41102451e-05 -8.92724469e-03 ... -9.86718223e-04\n",
      "    7.65708182e-03 -7.71517446e-03]]]\n"
     ]
    }
   ],
   "source": [
    "#### predict hidden layer ###\n",
    "\n",
    "y = np.zeros((791,316,32), dtype=float)\n",
    "for i in range(0,791):\n",
    "    y[i * 1 : (i + 1) * 1]=encoder.predict(data[i * 1 : (i + 1) * 1])\n",
    "    \n",
    "print(y)"
   ]
  },
  {
   "cell_type": "code",
   "execution_count": 20,
   "metadata": {},
   "outputs": [
    {
     "name": "stdout",
     "output_type": "stream",
     "text": [
      "(791, 316, 32)\n"
     ]
    },
    {
     "data": {
      "text/plain": [
       "[<matplotlib.lines.Line2D at 0x7f937da43f98>]"
      ]
     },
     "execution_count": 20,
     "metadata": {},
     "output_type": "execute_result"
    },
    {
     "data": {
      "image/png": "[encoded data removed]",
      "text/plain": [
       "<Figure size 432x288 with 1 Axes>"
      ]
     },
     "metadata": {
      "needs_background": "light"
     },
     "output_type": "display_data"
    }
   ],
   "source": [
    "### zscore y#####\n",
    "import matplotlib.pyplot as plt\n",
    "from scipy import stats\n",
    "from numpy import *\n",
    "print(y.shape)\n",
    "y = np.reshape(y, (791*316, 1, 32))\n",
    "t = range(0, 316)\n",
    "plt.plot(t, y[316*0: 316*1, 0,1])\n",
    "y_norm = np.zeros((316*791, 1,32), dtype=float)\n",
    "img_step = 315\n",
    "cnt = 0\n",
    "for num2 in range(np.shape(y)[0]):\n",
    "    cnt += 1\n",
    "    if cnt == (img_step + 1):\n",
    "        cnt = 0\n",
    "        y_norm[num2 - img_step: num2 + 1,:] = stats.zscore(y[num2 - img_step : num2 + 1,:])\n",
    "        \n",
    "\n",
    "where_are_NaNs = isnan(y_norm)\n",
    "y_norm[where_are_NaNs] = 0\n",
    "plt.plot(t, y_norm[316*0: 316*1, 0,1])"
   ]
  },
  {
   "cell_type": "code",
   "execution_count": 89,
   "metadata": {
    "scrolled": true
   },
   "outputs": [
    {
     "ename": "NameError",
     "evalue": "name 'y_norm' is not defined",
     "output_type": "error",
     "traceback": [
      "\u001b[0;31m---------------------------------------------------------------------------\u001b[0m",
      "\u001b[0;31mNameError\u001b[0m                                 Traceback (most recent call last)",
      "\u001b[0;32m<ipython-input-89-5faab528e058>\u001b[0m in \u001b[0;36m<module>\u001b[0;34m\u001b[0m\n\u001b[1;32m      7\u001b[0m \u001b[0mplt\u001b[0m\u001b[0;34m.\u001b[0m\u001b[0mplot\u001b[0m\u001b[0;34m(\u001b[0m\u001b[0mt\u001b[0m\u001b[0;34m,\u001b[0m\u001b[0mtask_content\u001b[0m\u001b[0;34m[\u001b[0m\u001b[0;34m:\u001b[0m\u001b[0;34m,\u001b[0m\u001b[0;36m0\u001b[0m\u001b[0;34m]\u001b[0m\u001b[0;34m)\u001b[0m\u001b[0;34m\u001b[0m\u001b[0m\n\u001b[1;32m      8\u001b[0m \u001b[0;34m\u001b[0m\u001b[0m\n\u001b[0;32m----> 9\u001b[0;31m \u001b[0mplt\u001b[0m\u001b[0;34m.\u001b[0m\u001b[0mplot\u001b[0m\u001b[0;34m(\u001b[0m\u001b[0mt\u001b[0m\u001b[0;34m,\u001b[0m \u001b[0my_norm\u001b[0m\u001b[0;34m[\u001b[0m\u001b[0;36m316\u001b[0m\u001b[0;34m*\u001b[0m\u001b[0;36m4\u001b[0m\u001b[0;34m:\u001b[0m\u001b[0;36m316\u001b[0m\u001b[0;34m*\u001b[0m\u001b[0;36m5\u001b[0m\u001b[0;34m,\u001b[0m \u001b[0;36m0\u001b[0m\u001b[0;34m,\u001b[0m\u001b[0;36m14\u001b[0m\u001b[0;34m]\u001b[0m\u001b[0;34m)\u001b[0m\u001b[0;31m##0##for new, there is three dimension\u001b[0m\u001b[0;34m\u001b[0m\u001b[0m\n\u001b[0m\u001b[1;32m     10\u001b[0m \u001b[0mmy_y_ticks\u001b[0m \u001b[0;34m=\u001b[0m \u001b[0mnp\u001b[0m\u001b[0;34m.\u001b[0m\u001b[0marange\u001b[0m\u001b[0;34m(\u001b[0m\u001b[0;34m-\u001b[0m\u001b[0;36m2\u001b[0m\u001b[0;34m,\u001b[0m \u001b[0;36m3\u001b[0m\u001b[0;34m,\u001b[0m \u001b[0;36m1\u001b[0m\u001b[0;34m)\u001b[0m\u001b[0;34m\u001b[0m\u001b[0m\n\u001b[1;32m     11\u001b[0m \u001b[0mplt\u001b[0m\u001b[0;34m.\u001b[0m\u001b[0myticks\u001b[0m\u001b[0;34m(\u001b[0m\u001b[0mmy_y_ticks\u001b[0m\u001b[0;34m)\u001b[0m\u001b[0;34m\u001b[0m\u001b[0m\n",
      "\u001b[0;31mNameError\u001b[0m: name 'y_norm' is not defined"
     ]
    },
    {
     "data": {
      "image/png": "[encoded data removed]",
      "text/plain": [
       "<Figure size 432x288 with 1 Axes>"
      ]
     },
     "metadata": {
      "needs_background": "light"
     },
     "output_type": "display_data"
    }
   ],
   "source": [
    "###plot task_cope and y_norm#####\n",
    "import scipy.io as sio\n",
    "t = range(0, 316)\n",
    "task = sio.loadmat('/home/qing/Documents/HCP_Label/LANGUAGE_label.mat')\n",
    "task_content = task['Label']\n",
    "\n",
    "plt.plot(t,task_content[:,0])\n",
    "\n",
    "plt.plot(t, y_norm[316*4:316*5, 0,14])##0##for new, there is three dimension\n",
    "my_y_ticks = np.arange(-2, 3, 1)\n",
    "plt.yticks(my_y_ticks)\n",
    "temp = np.corrcoef(task_content[:,1],y_norm[316*4:316*5,0,14])\n",
    "print('%.3f' % temp[0,1]) "
   ]
  },
  {
   "cell_type": "code",
   "execution_count": 31,
   "metadata": {},
   "outputs": [],
   "source": [
    "import scipy.io as sio\n",
    "sio.savemat('Language_y_norm_20190116.mat', {'y_norm':y_norm})  \n",
    "  "
   ]
  },
  {
   "cell_type": "code",
   "execution_count": 40,
   "metadata": {
    "scrolled": false
   },
   "outputs": [],
   "source": [
    "#### correlation matrix of networks and volumes ###\n",
    "import numpy as np\n",
    "import scipy.io as sio\n",
    "sub_data = np.memmap('sub_LANGUAGE.mymemmap', dtype='float32', mode='r+', shape=(316*791,59421))\n",
    "\n",
    "task = sio.loadmat('/home/qing/PycharmProjects/RAE/components_img_avg_norm.mat')\n",
    "components_img_norm = task['components_img_avg_norm']\n",
    "\n",
    "corr_net = np.zeros((791, 316, 32), dtype=float)\n",
    "for i in range(4, 5):\n",
    "    a = sub_data[i * 316 : (i + 1) * 316, :]\n",
    "    for k in range(0, 316):\n",
    "        c = a[k, :]\n",
    "        for j in range(0, 32):\n",
    "            b = components_img_norm[j, :]\n",
    "            temp=np.corrcoef(c,b)\n",
    "            corr_net[i,k,j] = temp[0,1]#i:subnumber k:timepoint of one sub j:networknumber\n"
   ]
  },
  {
   "cell_type": "code",
   "execution_count": 57,
   "metadata": {},
   "outputs": [
    {
     "name": "stdout",
     "output_type": "stream",
     "text": [
      "(791, 316, 32)\n"
     ]
    }
   ],
   "source": [
    "from scipy import stats\n",
    "from numpy import *\n",
    "print(np.shape(corr_net))\n",
    "corr_net_norm = np.zeros((1,316,32),dtype = float)\n",
    "# for num2 in range(np.shape(corr_net)[0]):\n",
    "corr_net_norm[:,:] = stats.zscore(corr_net[549,:])\n",
    "        \n",
    "\n",
    "\n",
    "where_are_NaNs= isnan(corr_net_norm)\n",
    "corr_net_norm[where_are_NaNs] = 0"
   ]
  },
  {
   "cell_type": "code",
   "execution_count": 74,
   "metadata": {
    "scrolled": true
   },
   "outputs": [
    {
     "data": {
      "text/plain": [
       "<matplotlib.colorbar.Colorbar at 0x7f90e64cf208>"
      ]
     },
     "execution_count": 74,
     "metadata": {},
     "output_type": "execute_result"
    },
    {
     "data": {
      "image/png": "[encoded data removed]",
      "text/plain": [
       "<Figure size 22752x2304 with 2 Axes>"
      ]
     },
     "metadata": {
      "needs_background": "light"
     },
     "output_type": "display_data"
    }
   ],
   "source": [
    "import matplotlib.pyplot as plt\n",
    "\n",
    "fig, ax = plt.subplots(figsize=(316, 32))\n",
    "a = np.transpose(corr_net[349,:,:])\n",
    "im = ax.imshow(a, cmap = 'seismic', interpolation='nearest',origin='upper')\n",
    "fig.colorbar(im, orientation = 'horizontal')"
   ]
  },
  {
   "cell_type": "code",
   "execution_count": 22,
   "metadata": {
    "scrolled": true
   },
   "outputs": [],
   "source": [
    "##### fit networks by ElasticNet ####\n",
    "from sklearn.linear_model import ElasticNet\n",
    "\n",
    "y1 = np.squeeze(y_norm)\n",
    "\n",
    "clf = ElasticNet(alpha=0.7, l1_ratio=0.005)\n",
    "components_img = np.zeros((791,32, 59421), dtype = float)\n",
    "\n",
    "for i in range(0,791):\n",
    "    \n",
    "    a=y1[i * 316 : (i + 1) * 316, :]\n",
    "    b=sub_data[i * 316 : (i + 1) * 316, :]\n",
    "    clf.fit(a, b)\n",
    "    components_img[i,:,:] = np.transpose(clf.coef_)\n",
    "\n"
   ]
  },
  {
   "cell_type": "code",
   "execution_count": 25,
   "metadata": {},
   "outputs": [],
   "source": [
    "components_img_avg = np.zeros((32,59421),dtype = float)\n",
    "for i in range(0,59421):\n",
    "    components_img_avg[:,i] = np.mean(components_img[:,:,i],axis = 0)\n"
   ]
  },
  {
   "cell_type": "code",
   "execution_count": 27,
   "metadata": {},
   "outputs": [],
   "source": [
    "### zscore y#####\n",
    "import matplotlib.pyplot as plt\n",
    "from scipy import stats\n",
    "from numpy import *\n",
    "components_img_avg_norm = np.zeros((32,59421),dtype = float)\n",
    "# print(components_img_GLM.shape)\n",
    "for num2 in range(0,np.shape(components_img_avg)[0]):\n",
    "    components_img_avg_norm[num2,:] = stats.zscore(components_img_avg[num2,:])\n",
    "        \n",
    "\n",
    "\n",
    "where_are_NaNs= isnan(components_img_avg_norm)\n",
    "components_img_avg_norm[where_are_NaNs] = 0\n"
   ]
  },
  {
   "cell_type": "code",
   "execution_count": 28,
   "metadata": {},
   "outputs": [],
   "source": [
    "import scipy.io as sio\n",
    "sio.savemat('components_img_avg_norm2.mat', {'components_img_avg_norm':components_img_avg_norm})  \n",
    "  "
   ]
  },
  {
   "cell_type": "code",
   "execution_count": 32,
   "metadata": {
    "scrolled": true
   },
   "outputs": [
    {
     "name": "stderr",
     "output_type": "stream",
     "text": [
      "pixdim[1,2,3] should be non-zero; setting 0 dims to 1\n"
     ]
    },
    {
     "name": "stdout",
     "output_type": "stream",
     "text": [
      "<nibabel.cifti2.cifti2.Cifti2Header object at 0x7f937b3c8588>\n",
      "(176, 91282)\n",
      "(176, 91282)\n"
     ]
    }
   ],
   "source": [
    "#### save patterns####\n",
    "import nibabel as nib\n",
    "import pandas as pd\n",
    "from nibabel import cifti2 as ci\n",
    "\n",
    "\n",
    "image = nib.load('/home/qing/Documents/tfMRI_Emotion_preproc/100307_3T_tfMRI_EMOTION_preproc/tfMRI_EMOTION_LR_Atlas_MSMAll1.dtseries.nii')\n",
    "header = image.header\n",
    "print(header)  \n",
    "print(np.shape(image.get_data()))\n",
    "#print(image.nifti_header.get_data_shape())\n",
    "#image.update_headers()\n",
    "\n",
    "image_to_write = image.get_data()\n",
    "image_to_write[:, :] = 0\n",
    "image_to_write[:32, :59421] = components_img_avg_norm\n",
    "\n",
    "print(np.shape(image_to_write))\n",
    "#print(image.nifti_header.get_data_shape())\n",
    "#print(header)\n",
    "write_img = ci.Cifti2Image(image_to_write, image.header, image.nifti_header)\n",
    "nib.save(write_img, 'test_Language_791sub_LSTM_316back_norm_avg2.dtseries.nii')"
   ]
  },
  {
   "cell_type": "code",
   "execution_count": 14,
   "metadata": {},
   "outputs": [],
   "source": [
    "from sklearn.linear_model import ElasticNet\n",
    "import scipy.io as sio\n",
    "t = range(0, 316)\n",
    "task = sio.loadmat('/home/qing/Documents/HCP_Label/LANGUAGE_label.mat')\n",
    "task_content = task['Label']\n",
    "\n",
    "clf_GLM = ElasticNet(alpha=0.7, l1_ratio=0.005)\n",
    "components_img_GLM = np.zeros((791,2, 59421), dtype = float)\n",
    "\n",
    "for i in range(0,791):\n",
    "    \n",
    "    a=task_content[:,0:2]\n",
    "    b=sub_data[i * 316 : (i + 1) * 316, :]\n",
    "    clf_GLM.fit(a, b)\n",
    "    components_img_GLM[i,:,:] = np.transpose(clf_GLM.coef_)\n",
    " "
   ]
  },
  {
   "cell_type": "code",
   "execution_count": 15,
   "metadata": {},
   "outputs": [],
   "source": [
    "components_img_GLM_avg = np.zeros((2,59421),dtype = float)\n",
    "for i in range(0,59421):\n",
    "    components_img_GLM_avg[:,i] = np.mean(components_img_GLM[:,:,i],axis = 0)\n",
    "### zscore y#####\n",
    "import matplotlib.pyplot as plt\n",
    "from scipy import stats\n",
    "from numpy import *\n",
    "components_img_GLM_avg_norm = np.zeros((2,59421),dtype = float)\n",
    "# print(components_img_GLM.shape)\n",
    "for num2 in range(0,np.shape(components_img_GLM_avg)[0]):\n",
    "    components_img_GLM_avg_norm[num2,:] = stats.zscore(components_img_GLM_avg[num2,:])\n",
    "\n",
    "where_are_NaNs= isnan(components_img_GLM_avg_norm)\n",
    "components_img_GLM_avg_norm[where_are_NaNs] = 0\n",
    "import scipy.io as sio\n",
    "sio.savemat('Language_components_img_GLM_norm.mat', {'components_img_GLM_avg_norm':components_img_GLM_avg_norm})  \n",
    "  "
   ]
  },
  {
   "cell_type": "code",
   "execution_count": 92,
   "metadata": {},
   "outputs": [
    {
     "name": "stdout",
     "output_type": "stream",
     "text": [
      "[[1.         0.91034937]\n",
      " [0.91034937 1.        ]]\n"
     ]
    }
   ],
   "source": [
    "#calculate the correlation of the GLM with the components\n",
    "dataFile1 = '/home/qing/PycharmProjects/RAE/components_img_avg_norm.mat'\n",
    "Language1 = sio.loadmat(dataFile1)\n",
    "Language1 = Language1['components_img_avg_norm']\n",
    "\n",
    "dataFile2 = '/home/qing/PycharmProjects/RAE/Language_components_img_GLM_norm.mat'\n",
    "Language2 = sio.loadmat(dataFile2)\n",
    "Language2 = Language2['components_img_GLM_avg_norm']\n",
    "\n",
    "corr_map = np.corrcoef(Language1[11,:],Language2[0,:])\n",
    "print(corr_map)"
   ]
  },
  {
   "cell_type": "code",
   "execution_count": 83,
   "metadata": {
    "scrolled": true
   },
   "outputs": [
    {
     "name": "stdout",
     "output_type": "stream",
     "text": [
      "-3.6666666666666665\n",
      "0.902\n"
     ]
    }
   ],
   "source": [
    "####calculate the correlation of two times trials####\n",
    "\n",
    "import scipy.io as scio\n",
    "dataFile1 = '/home/qing/PycharmProjects/RAE/components_img_avg_norm.mat'\n",
    "Language1 = scio.loadmat(dataFile1)\n",
    "Language1 = Language1['components_img_avg_norm']\n",
    "# Language1[Language1>0]=1\n",
    "# Language1[Language1<0]=0\n",
    "dataFile2 = '/home/qing/PycharmProjects/RAE/components_img_avg_norm2.mat'\n",
    "Language2 = scio.loadmat(dataFile2)\n",
    "Language2 = Language2['components_img_avg_norm']\n",
    "# Language2[Language2>0]=1\n",
    "# Language2[Language2<0]=0\n",
    "# Language2[Language1==0]=0\n",
    "\n",
    "# Language2[Language1==1]=1\n",
    "# sum_1 = 59421-sum(Language1[8,:])\n",
    "# sum_2 = 59421-sum(Language2[24,:])\n",
    "sum_1 = sum(Language1[1,:])\n",
    "sum_2 = sum(Language2[28,:])\n",
    "print(sum_2/sum_1)\n",
    "corr_network = np.corrcoef(Language1[11,:],Language2[14:])\n",
    "print('%.3f' % corr_network[0,1])"
   ]
  }
 ],
 "metadata": {
  "kernelspec": {
   "display_name": "Python 3",
   "language": "python",
   "name": "python3"
  },
  "language_info": {
   "codemirror_mode": {
    "name": "ipython",
    "version": 3
   },
   "file_extension": ".py",
   "mimetype": "text/x-python",
   "name": "python",
   "nbconvert_exporter": "python",
   "pygments_lexer": "ipython3",
   "version": "3.5.2"
  }
 },
 "nbformat": 4,
 "nbformat_minor": 2
}
